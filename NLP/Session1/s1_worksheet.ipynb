{
 "cells": [
  {
   "cell_type": "markdown",
   "metadata": {},
   "source": [
    "<img src=\"mioti.png\" style=\"height: 100px\">\n",
    "<center style=\"color:#888\">Módulo Advanced Data Science<br/>Natural Language Processing</center>\n",
    "\n",
    "# S1. Herramientas clásicas de NLP"
   ]
  },
  {
   "cell_type": "code",
   "execution_count": 1,
   "metadata": {
    "ExecuteTime": {
     "end_time": "2021-04-13T12:56:28.780361Z",
     "start_time": "2021-04-13T12:56:09.405729Z"
    }
   },
   "outputs": [],
   "source": [
    "#import sys\n",
    "#!{sys.executable} -m pip install -r ../requirements.txt"
   ]
  },
  {
   "cell_type": "code",
   "execution_count": 2,
   "metadata": {
    "ExecuteTime": {
     "end_time": "2021-04-13T12:56:34.033785Z",
     "start_time": "2021-04-13T12:56:34.030651Z"
    }
   },
   "outputs": [],
   "source": [
    "import nltk\n",
    "import spacy\n",
    "import sklearn"
   ]
  },
  {
   "cell_type": "markdown",
   "metadata": {},
   "source": [
    "En este notebook vamos a repasar herramientas clásicas (sin *deep learning*) que pueden sernos útiles para trabajar con texto, y que nos van a permitir dar solución a muchas de las peculiaridades del lenguaje natural.\n",
    "\n",
    "\n",
    "## Simplificación de los datos\n",
    "\n",
    "Uno de los principales problemas de las representaciones clásicas de texto es la dimensionalidad, ya que nos basamos en un diccionario, que fácilmente puede tener $10-100$ K tokens. Así, surge un problema técnico que nos lleva a intentar reducir la dimensionalidad de los vectores utilizados. \n",
    "\n",
    "Podemos ver un texto como una unidad de comunicación humana bastante compleja. Un documento, hasta el más pequeño, está hecho no sólo de palabras, sino de un sinnúmero de relaciones semánticas que solo pueden ser descodificadas por quienes dominan ciertos códigos. En fin, que son un desastre y un dolor de cabeza para quienes están acostumbrados a la información estructurada (e.g., en tablas o esquemas).\n",
    "\n",
    "Extraer automáticamente información relevante de los textos es una tarea trivial para un ser humano, pero un verdadero reto para una máquina. Muchas veces no nos interesa conocer todos los significados de un texto, sino solamente algunos pertinentes para realizar una tarea. Aunque las computadoras (aún) no entienden el lenguaje natural, son muy competentes leyendo superficialmente grandes cantidades de texto en segundos.\n",
    "\n",
    "Una buena técnica para obtener la información relevante de un texto consiste en eliminar los elementos que puedan ser irrelevantes, y resaltar más lo que de verdad contengan información. Las siguientes herramientas tienen el mismo objetivo, y es el de atacar el problema de la dimensionalidad, intentando simplificar a las máquinas el texto libre que reciben.\n",
    "\n",
    "### tokenización\n",
    "\n",
    "Vamos a eliminar las palabras que tienen poco interés para nosotros. El primer paso es delimitar las palabras del texto, y convertir esas palabras en elementos de una lista, los **tokens**. Este procedimiento es conocido como tokenización. Este proceso también está repleto de ambigüedades:\n",
    "* hispano-romano, astur-leonés\n",
    "* aren't, o'neill\n",
    "* whitespace, white space, \n",
    "\n",
    "\n",
    "Hay diversas librerías que nos facilitan la tokenización, y este proceso se puede hacer usando reglas, o mediante modelos estadísticos. Dos librerías que facilitan esta tarea son `spacy` y `nltk`. O se puede hacer directamente en Python si la regla es sencilla, incluso usando expresiones regulares."
   ]
  },
  {
   "cell_type": "code",
   "execution_count": 39,
   "metadata": {
    "ExecuteTime": {
     "end_time": "2021-04-13T12:51:49.031292Z",
     "start_time": "2021-04-13T12:51:49.028929Z"
    }
   },
   "outputs": [],
   "source": [
    "texto = '''El producto cuesta 3€. Este procedimiento es conocido como tokenización. Vamos a implementar esto en Python. Lo ha hecho la empresa TEST S.A. '''"
   ]
  },
  {
   "cell_type": "code",
   "execution_count": 40,
   "metadata": {
    "ExecuteTime": {
     "end_time": "2021-04-13T12:51:49.040760Z",
     "start_time": "2021-04-13T12:51:49.032575Z"
    }
   },
   "outputs": [
    {
     "data": {
      "text/plain": [
       "['El',\n",
       " 'producto',\n",
       " 'cuesta',\n",
       " '3€.',\n",
       " 'Este',\n",
       " 'procedimiento',\n",
       " 'es',\n",
       " 'conocido',\n",
       " 'como',\n",
       " 'tokenización.',\n",
       " 'Vamos',\n",
       " 'a',\n",
       " 'implementar',\n",
       " 'esto',\n",
       " 'en',\n",
       " 'Python.',\n",
       " 'Lo',\n",
       " 'ha',\n",
       " 'hecho',\n",
       " 'la',\n",
       " 'empresa',\n",
       " 'TEST',\n",
       " 'S.A.']"
      ]
     },
     "execution_count": 40,
     "metadata": {},
     "output_type": "execute_result"
    }
   ],
   "source": [
    "texto.split()"
   ]
  },
  {
   "cell_type": "markdown",
   "metadata": {},
   "source": [
    "La librería `nltk` tiene un amplio rango de [tokenizers](https://www.nltk.org/api/nltk.tokenize.html), tanto para palabras, como para frases y sílabas. Incluso hay uno específico para tweets `nltk.tokenize.TweetTokenizer()`."
   ]
  },
  {
   "cell_type": "code",
   "execution_count": 41,
   "metadata": {
    "ExecuteTime": {
     "end_time": "2021-04-13T12:51:49.047032Z",
     "start_time": "2021-04-13T12:51:49.042759Z"
    }
   },
   "outputs": [
    {
     "data": {
      "text/plain": [
       "['El',\n",
       " 'producto',\n",
       " 'cuesta',\n",
       " '3€',\n",
       " '.',\n",
       " 'Este',\n",
       " 'procedimiento',\n",
       " 'es',\n",
       " 'conocido',\n",
       " 'como',\n",
       " 'tokenización.',\n",
       " 'Vamos',\n",
       " 'a',\n",
       " 'implementar',\n",
       " 'esto',\n",
       " 'en',\n",
       " 'Python.',\n",
       " 'Lo',\n",
       " 'ha',\n",
       " 'hecho',\n",
       " 'la',\n",
       " 'empresa',\n",
       " 'TEST',\n",
       " 'S.A.']"
      ]
     },
     "execution_count": 41,
     "metadata": {},
     "output_type": "execute_result"
    }
   ],
   "source": [
    "tokenizer = nltk.tokenize.ToktokTokenizer()\n",
    "tokenizer.tokenize(texto)"
   ]
  },
  {
   "cell_type": "code",
   "execution_count": 42,
   "metadata": {
    "ExecuteTime": {
     "end_time": "2021-04-13T12:51:49.053006Z",
     "start_time": "2021-04-13T12:51:49.048392Z"
    }
   },
   "outputs": [
    {
     "data": {
      "text/plain": [
       "['El',\n",
       " 'producto',\n",
       " 'cuesta',\n",
       " '3€.',\n",
       " 'Este',\n",
       " 'procedimiento',\n",
       " 'es',\n",
       " 'conocido',\n",
       " 'como',\n",
       " 'tokenización.',\n",
       " 'Vamos',\n",
       " 'a',\n",
       " 'implementar',\n",
       " 'esto',\n",
       " 'en',\n",
       " 'Python.',\n",
       " 'Lo',\n",
       " 'ha',\n",
       " 'hecho',\n",
       " 'la',\n",
       " 'empresa',\n",
       " 'TEST',\n",
       " 'S.A',\n",
       " '.']"
      ]
     },
     "execution_count": 42,
     "metadata": {},
     "output_type": "execute_result"
    }
   ],
   "source": [
    "tokenizer = nltk.tokenize.NLTKWordTokenizer()\n",
    "tokenizer.tokenize(texto)"
   ]
  },
  {
   "cell_type": "markdown",
   "metadata": {},
   "source": [
    "El recomendado por `nltk`, y que permite elegir el idioma, es `nltk.tokenize.word_tokenize()`:"
   ]
  },
  {
   "cell_type": "code",
   "execution_count": 43,
   "metadata": {
    "ExecuteTime": {
     "end_time": "2021-04-13T12:51:49.068695Z",
     "start_time": "2021-04-13T12:51:49.056596Z"
    }
   },
   "outputs": [],
   "source": [
    "try:\n",
    "    nltk.tokenize.word_tokenize('test', language='spanish')\n",
    "except LookupError:\n",
    "    # descarga los archivos necesarios\n",
    "    nltk.download('punkt')"
   ]
  },
  {
   "cell_type": "code",
   "execution_count": 44,
   "metadata": {
    "ExecuteTime": {
     "end_time": "2021-04-13T12:51:49.076290Z",
     "start_time": "2021-04-13T12:51:49.071400Z"
    }
   },
   "outputs": [
    {
     "data": {
      "text/plain": [
       "['El',\n",
       " 'producto',\n",
       " 'cuesta',\n",
       " '3€',\n",
       " '.',\n",
       " 'Este',\n",
       " 'procedimiento',\n",
       " 'es',\n",
       " 'conocido',\n",
       " 'como',\n",
       " 'tokenización',\n",
       " '.',\n",
       " 'Vamos',\n",
       " 'a',\n",
       " 'implementar',\n",
       " 'esto',\n",
       " 'en',\n",
       " 'Python',\n",
       " '.',\n",
       " 'Lo',\n",
       " 'ha',\n",
       " 'hecho',\n",
       " 'la',\n",
       " 'empresa',\n",
       " 'TEST',\n",
       " 'S.A',\n",
       " '.']"
      ]
     },
     "execution_count": 44,
     "metadata": {},
     "output_type": "execute_result"
    }
   ],
   "source": [
    "tokenize = lambda x: nltk.tokenize.word_tokenize(x, language='spanish')\n",
    "tokenize(texto)"
   ]
  },
  {
   "cell_type": "markdown",
   "metadata": {},
   "source": [
    "En `spacy`, además de la librería, debes descargar el modelo de la lengua que vas a utilizar. \n",
    "\n",
    "Para descargar el modelo del español, por ejemplo, escribe en tu terminal lo siguiente: \n",
    "\n",
    "`python -m spacy download es`\n"
   ]
  },
  {
   "cell_type": "code",
   "execution_count": 45,
   "metadata": {
    "ExecuteTime": {
     "end_time": "2021-04-13T12:51:49.442510Z",
     "start_time": "2021-04-13T12:51:49.078021Z"
    }
   },
   "outputs": [],
   "source": [
    "try:\n",
    "     # Crea un objeto de spacy tipo nlp, que tokeniza directamente\n",
    "    nlp = spacy.load('es_core_news_sm')\n",
    "except:\n",
    "    import sys\n",
    "    !{sys.executable} -m spacy download es_core_news_sm\n",
    "    nlp = spacy.load('es_core_news_sm')"
   ]
  },
  {
   "cell_type": "markdown",
   "metadata": {},
   "source": [
    "Si aplicamos el modelo de lenguaje `nlp` al texto, directamente lo tokeniza, pero además aplica PoS tagging y NER por defecto:"
   ]
  },
  {
   "cell_type": "code",
   "execution_count": 46,
   "metadata": {
    "ExecuteTime": {
     "end_time": "2021-04-13T12:51:49.461223Z",
     "start_time": "2021-04-13T12:51:49.444324Z"
    }
   },
   "outputs": [
    {
     "data": {
      "text/plain": [
       "['El',\n",
       " 'producto',\n",
       " 'cuesta',\n",
       " '3€.',\n",
       " 'Este',\n",
       " 'procedimiento',\n",
       " 'es',\n",
       " 'conocido',\n",
       " 'como',\n",
       " 'tokenización',\n",
       " '.',\n",
       " 'Vamos',\n",
       " 'a',\n",
       " 'implementar',\n",
       " 'esto',\n",
       " 'en',\n",
       " 'Python',\n",
       " '.',\n",
       " 'Lo',\n",
       " 'ha',\n",
       " 'hecho',\n",
       " 'la',\n",
       " 'empresa',\n",
       " 'TEST',\n",
       " 'S.A.']"
      ]
     },
     "execution_count": 46,
     "metadata": {},
     "output_type": "execute_result"
    }
   ],
   "source": [
    "doc = nlp(texto) \n",
    "tokens = [t.text for t in doc] # Crea una lista con las palabras del texto\n",
    "tokens"
   ]
  },
  {
   "cell_type": "markdown",
   "metadata": {},
   "source": [
    "Si lo **único que queremos es tokenizar, es mucho más eficiente** decirle a spacy que sólo haga eso, o crear un tokenizador a partir de `nlp`. Se puede hacer de muchas formas:"
   ]
  },
  {
   "cell_type": "code",
   "execution_count": 47,
   "metadata": {
    "ExecuteTime": {
     "end_time": "2021-04-13T12:51:49.465943Z",
     "start_time": "2021-04-13T12:51:49.463029Z"
    }
   },
   "outputs": [
    {
     "name": "stdout",
     "output_type": "stream",
     "text": [
      "['El', 'producto', 'cuesta', '3€.', 'Este', 'procedimiento', 'es', 'conocido', 'como', 'tokenización', '.', 'Vamos', 'a', 'implementar', 'esto', 'en', 'Python', '.', 'Lo', 'ha', 'hecho', 'la', 'empresa', 'TEST', 'S.A.']\n"
     ]
    }
   ],
   "source": [
    "tokenizer = nlp.tokenizer\n",
    "tokens = [t.text for t in tokenizer(texto)] # Crea una lista con las palabras del texto\n",
    "print(tokens)"
   ]
  },
  {
   "cell_type": "code",
   "execution_count": 48,
   "metadata": {
    "ExecuteTime": {
     "end_time": "2021-04-13T12:51:49.470861Z",
     "start_time": "2021-04-13T12:51:49.467777Z"
    }
   },
   "outputs": [
    {
     "name": "stdout",
     "output_type": "stream",
     "text": [
      "['El', 'producto', 'cuesta', '3€.', 'Este', 'procedimiento', 'es', 'conocido', 'como', 'tokenización', '.', 'Vamos', 'a', 'implementar', 'esto', 'en', 'Python', '.', 'Lo', 'ha', 'hecho', 'la', 'empresa', 'TEST', 'S.A.']\n"
     ]
    }
   ],
   "source": [
    "with nlp.disable_pipes(nlp.pipe_names): # desactivamos todo\n",
    "    doc = nlp(texto)\n",
    "print([tok.text for tok in doc])"
   ]
  },
  {
   "cell_type": "code",
   "execution_count": 49,
   "metadata": {
    "ExecuteTime": {
     "end_time": "2021-04-13T12:51:49.476478Z",
     "start_time": "2021-04-13T12:51:49.472909Z"
    }
   },
   "outputs": [
    {
     "name": "stdout",
     "output_type": "stream",
     "text": [
      "['El', 'producto', 'cuesta', '3€.', 'Este', 'procedimiento', 'es', 'conocido', 'como', 'tokenización', '.', 'Vamos', 'a', 'implementar', 'esto', 'en', 'Python', '.', 'Lo', 'ha', 'hecho', 'la', 'empresa', 'TEST', 'S.A.']\n"
     ]
    }
   ],
   "source": [
    "doc = list(nlp.pipe([texto],disable=nlp.pipe_names))[0]\n",
    "print([tok.text for tok in doc])"
   ]
  },
  {
   "cell_type": "markdown",
   "metadata": {},
   "source": [
    "\n",
    "### Stop words\n",
    "\n",
    "Son palabras excesivamente comunes que no añaden significado a un texto, debido al gran tamaño de los vocabularios y por ende, de los vectores que codificaban texto (*sparsity*), se eliminaban directamente. La eliminación de las conocidas como **stop words** no es obligatoria, y su utilización ha disminuido recientemente. Queda muy bien explicado en el siguiente fragmento de [Intro to Information Retrieval](https://nlp.stanford.edu/IR-book/html/htmledition/dropping-common-terms-stop-words-1.html):\n",
    "\n",
    "\n",
    "*Some extremely common words which would appear to be of little value in helping select documents matching a user need are excluded from the vocabulary entirely. These words are called stop words.*\n",
    "\n",
    "*The general trend in IR systems over time has been from standard use of quite large stop lists (200-300 terms) to very small stop lists (7-12 terms) to no stop list whatsoever. Web search engines generally do not use stop lists.*\n",
    "\n",
    "Las listas de *stop words* no son únicas, y diferentes librerías tienen listas distintas, como veremos a continuación. Además, lo que es y no es una stop word **depende del problema**, ya que una misma palabra puede tener importancia en un contexto, pero no en otro.\n",
    "\n",
    "Además de las stop words, también es común eliminar la **puntuación** y/o **símbolos** (@,$,€,#) que creemos que no nos van a aportar significado."
   ]
  },
  {
   "cell_type": "markdown",
   "metadata": {},
   "source": [
    "`sklearn` también tiene su lista de stop words en inglés:"
   ]
  },
  {
   "cell_type": "code",
   "execution_count": 50,
   "metadata": {
    "ExecuteTime": {
     "end_time": "2021-04-13T12:51:49.481530Z",
     "start_time": "2021-04-13T12:51:49.478455Z"
    }
   },
   "outputs": [
    {
     "name": "stdout",
     "output_type": "stream",
     "text": [
      "['a', 'about', 'above', 'across', 'after', 'afterwards', 'again', 'against', 'all', 'almost', 'alone', 'along', 'already', 'also', 'although', 'always', 'am', 'among', 'amongst', 'amoungst']\n"
     ]
    }
   ],
   "source": [
    "sk_stopwords = sklearn.feature_extraction.text.ENGLISH_STOP_WORDS\n",
    "print(sorted(list(sk_stopwords))[:20])"
   ]
  },
  {
   "cell_type": "markdown",
   "metadata": {},
   "source": [
    "Vamos ahora a las librerías especializadas en NLP, como `nltk`:"
   ]
  },
  {
   "cell_type": "code",
   "execution_count": 51,
   "metadata": {
    "ExecuteTime": {
     "end_time": "2021-04-13T12:51:49.487927Z",
     "start_time": "2021-04-13T12:51:49.483343Z"
    }
   },
   "outputs": [
    {
     "name": "stdout",
     "output_type": "stream",
     "text": [
      "['a', 'about', 'above', 'after', 'again', 'against', 'ain', 'all', 'am', 'an', 'and', 'any', 'are', 'aren', \"aren't\", 'as', 'at', 'be', 'because', 'been']\n"
     ]
    }
   ],
   "source": [
    "from nltk.corpus import stopwords as nltk_stopwords\n",
    "print(sorted(nltk_stopwords.words('english'))[:20])"
   ]
  },
  {
   "cell_type": "markdown",
   "metadata": {},
   "source": [
    "`nltk` tiene listas de stop words en varios idiomas:"
   ]
  },
  {
   "cell_type": "code",
   "execution_count": 52,
   "metadata": {
    "ExecuteTime": {
     "end_time": "2021-04-13T12:51:49.493034Z",
     "start_time": "2021-04-13T12:51:49.489508Z"
    }
   },
   "outputs": [
    {
     "name": "stdout",
     "output_type": "stream",
     "text": [
      "['a', 'al', 'algo', 'algunas', 'algunos', 'ante', 'antes', 'como', 'con', 'contra', 'cual', 'cuando', 'de', 'del', 'desde', 'donde', 'durante', 'e', 'el', 'ella']\n"
     ]
    }
   ],
   "source": [
    "stopwords_sp_nltk = sorted(nltk_stopwords.words('spanish'))\n",
    "print(stopwords_sp_nltk[:20])"
   ]
  },
  {
   "cell_type": "markdown",
   "metadata": {},
   "source": [
    "Podemos hacer lo mismo con `spacy`:"
   ]
  },
  {
   "cell_type": "code",
   "execution_count": 53,
   "metadata": {
    "ExecuteTime": {
     "end_time": "2021-04-13T12:51:49.497436Z",
     "start_time": "2021-04-13T12:51:49.494783Z"
    }
   },
   "outputs": [
    {
     "name": "stdout",
     "output_type": "stream",
     "text": [
      "['actualmente', 'acuerdo', 'adelante', 'ademas', 'además', 'adrede', 'afirmó', 'agregó', 'ahi', 'ahora', 'ahí', 'al', 'algo', 'alguna', 'algunas', 'alguno', 'algunos', 'algún', 'alli', 'allí']\n"
     ]
    }
   ],
   "source": [
    "print(sorted(spacy.lang.es.stop_words.STOP_WORDS)[:20])"
   ]
  },
  {
   "cell_type": "markdown",
   "metadata": {},
   "source": [
    "**Ejercicio:** \n",
    "\n",
    "Comprueba si palabras como `['nada','no','mal','bien','bueno','ninguno']` son *stop words*. ¿Tiene esto sentido?"
   ]
  },
  {
   "cell_type": "code",
   "execution_count": null,
   "metadata": {},
   "outputs": [],
   "source": [
    "\n",
    "\n",
    "\n",
    "\n",
    "\n",
    "\n",
    "\n",
    "\n",
    "\n",
    "\n",
    "\n",
    "\n",
    "\n",
    "\n",
    "\n",
    "\n",
    "\n"
   ]
  },
  {
   "cell_type": "code",
   "execution_count": 54,
   "metadata": {
    "ExecuteTime": {
     "end_time": "2021-04-13T12:51:49.503400Z",
     "start_time": "2021-04-13T12:51:49.499348Z"
    }
   },
   "outputs": [
    {
     "name": "stdout",
     "output_type": "stream",
     "text": [
      "'nada' is stop word in nltk: True\n",
      "'nada' is stop word in spacy: True\n",
      "'no' is stop word in nltk: True\n",
      "'no' is stop word in spacy: True\n",
      "'mal' is stop word in nltk: False\n",
      "'mal' is stop word in spacy: True\n",
      "'bien' is stop word in nltk: False\n",
      "'bien' is stop word in spacy: True\n",
      "'bueno' is stop word in nltk: False\n",
      "'bueno' is stop word in spacy: True\n",
      "'ninguno' is stop word in nltk: False\n",
      "'ninguno' is stop word in spacy: True\n"
     ]
    }
   ],
   "source": [
    "stopwords_sp = sorted(spacy.lang.es.stop_words.STOP_WORDS)\n",
    "for word in ['nada','no','mal','bien','bueno','ninguno']:\n",
    "    for lib, sw in zip(['nltk','spacy'],[stopwords_sp_nltk, stopwords_sp]):\n",
    "        print(f\"'{word}' is stop word in {lib}: {word in sw}\")"
   ]
  },
  {
   "cell_type": "markdown",
   "metadata": {},
   "source": [
    "**Ejercicio:** Calcula los tokens que estén en la lista de **stop words** de `spacy`, pero no en la de `nltk`. También la longitud de cada conjunto. Por ejemplo, para el idioma español."
   ]
  },
  {
   "cell_type": "code",
   "execution_count": 61,
   "metadata": {},
   "outputs": [
    {
     "data": {
      "text/plain": [
       "313"
      ]
     },
     "execution_count": 61,
     "metadata": {},
     "output_type": "execute_result"
    }
   ],
   "source": [
    "len(stopwords_sp_nltk)"
   ]
  },
  {
   "cell_type": "code",
   "execution_count": 62,
   "metadata": {},
   "outputs": [
    {
     "data": {
      "text/plain": [
       "551"
      ]
     },
     "execution_count": 62,
     "metadata": {},
     "output_type": "execute_result"
    }
   ],
   "source": [
    "len(stopwords_sp)"
   ]
  },
  {
   "cell_type": "code",
   "execution_count": 68,
   "metadata": {},
   "outputs": [],
   "source": [
    "def common_elements(a, b):\n",
    "    a_set = set(a)\n",
    "    b_set = set(b)\n",
    "  \n",
    "    if (a_set & b_set):\n",
    "        print(a_set & b_set)\n",
    "    else:\n",
    "        print(\"No common elements\") "
   ]
  },
  {
   "cell_type": "code",
   "execution_count": 69,
   "metadata": {},
   "outputs": [
    {
     "name": "stdout",
     "output_type": "stream",
     "text": [
      "{'sin', 'he', 'vuestra', 'qué', 'al', 'cual', 'antes', 'tenga', 'durante', 'soy', 'estos', 'ese', 'nosotras', 'estará', 'algunas', 'será', 'tendrán', 'ellos', 'ante', 'tuvo', 'estaba', 'estamos', 'otras', 'míos', 'sea', 'una', 'sería', 'suyo', 'como', 'ha', 'el', 'mi', 'estados', 'mía', 'había', 'esos', 'lo', 'fueron', 'somos', 'se', 'hasta', 'era', 'eras', 'esa', 'sus', 'sois', 'ellas', 'sí', 'él', 'entre', 'nuestra', 'de', 'está', 'les', 'estar', 'mucho', 'para', 'este', 'están', 'tus', 'nosotros', 'son', 'le', 'tuyo', 'serán', 'todos', 'sean', 'esas', 'nuestros', 'hubo', 'otros', 'haya', 'por', 'fue', 'otra', 'ya', 'ti', 'tiene', 'tienen', 'habrá', 'la', 'habían', 'algunos', 'poco', 'suyas', 'desde', 'más', 'vosotras', 'estoy', 'hemos', 'tenemos', 'que', 'tú', 'me', 'tengo', 'ni', 'estas', 'os', 'mí', 'del', 'estado', 'un', 'cuando', 'vuestras', 'sobre', 'fuera', 'los', 'yo', 'eres', 'unos', 'tu', 'esta', 'mío', 'fui', 'algo', 'tendrá', 'tuyas', 'uno', 'esto', 'contra', 'nuestro', 'mis', 'donde', 'quien', 'tenía', 'tuyos', 'ella', 'porque', 'todo', 'es', 'tanto', 'las', 'otro', 'eso', 'también', 'pero', 'vuestro', 'quienes', 'en', 'fuimos', 'nada', 'muy', 'tuya', 'vuestros', 'estaban', 'nos', 'hay', 'mías', 'muchos', 'con', 'eran', 'tenido', 'no', 'suya', 'te', 'estuvo', 'vosotros', 'nuestras', 'han', 'su'}\n"
     ]
    }
   ],
   "source": [
    "list1 = stopwords_sp_nltk\n",
    "list2 = stopwords_sp\n",
    "\n",
    "#list(set(list1).intersection(list2))\n",
    "\n",
    "common_elements(list1,list2)"
   ]
  },
  {
   "cell_type": "markdown",
   "metadata": {},
   "source": [
    "**Ejercicio:** ¿En qué tareas la eliminación de *stop words* no es viable?"
   ]
  },
  {
   "cell_type": "code",
   "execution_count": null,
   "metadata": {},
   "outputs": [],
   "source": [
    "\n",
    "\n",
    "\n",
    "\n",
    "\n",
    "\n",
    "\n",
    "\n",
    "\n",
    "\n",
    "\n",
    "\n",
    "\n",
    "\n",
    "\n",
    "\n",
    "\n",
    "\n"
   ]
  },
  {
   "cell_type": "markdown",
   "metadata": {},
   "source": [
    "Algunas tareas donde no es aplicable porque se pierde información esencial serían:\n",
    "\n",
    "* Traducción automática\n",
    "* Modelado del lenguage (Language Modeling)\n",
    "* Resumen automático de textos\n",
    "* Sistemas conversacionales o de Pregunta Respuesta"
   ]
  },
  {
   "cell_type": "markdown",
   "metadata": {},
   "source": [
    "### Stemming y Lemmatization"
   ]
  },
  {
   "cell_type": "markdown",
   "metadata": {},
   "source": [
    "En general, podemos observar que hay palabras diferentes que representan significados parecidos. En español, por ejemplo, sabemos que *canto, cantas, canta, cantamos, cantáis, cantan* son distintas formas (conjugaciones) de un mismo verbo (*cantar*). Y que *niña, niño, niñita, niños, niñotes, y otras más*, son distintas formas del vocablo *niño*. Así que sería genial poder obviar las diferencias y juntar todas estas variantes en un mismo token.\n",
    "Stemming y Lemmatization son dos transformaciones parecidas, que nos devuelven el lema o raiz de la palabra.\n",
    "\n",
    "* **Lematización**: relaciona una palabra flexionada o derivada con su forma **canónica o lema**. Y un lema no es otra cosa que la **forma que tienen las palabras cuando las buscas en el diccionario**. La lematización tiene dos costes. Primero, es un proceso que consume recursos (sobre todo tiempo). Segundo, suele ser probabilística, así que en algunos casos obtendremos resultados inesperados.\n",
    "\n",
    "\n",
    "* **Radicalización** o **stemming**: procedimiento de convertir palabras en raíces. Estas raíces son la parte invariable de palabras relacionadas sobre todo por su forma. De cierta manera se parece a la lematización, pero los resultados (las raíces) no tienen por qué ser palabras de un idioma. Por ejemplo, el algoritmo de stemming puede decidir que la raíz de *amamos* no es *am-* sino *amam-*. El stemming es mucho más rápido, ya que es un procedimiento heurístico que recorta el final de las palabras.\n",
    "\n",
    "\"Stemming is the poor-man’s lemmatization.\" (Noah Smith, 2011)\n",
    "\n",
    "**Es importante notar que ambos procesos dependen altamente del idioma.**"
   ]
  },
  {
   "cell_type": "markdown",
   "metadata": {},
   "source": [
    "Para lematizar es importante la etiqueta *Part of Speech* (POS), es decir, si la palabra es un sustantivo, verbo, etc. En el caso de `nltk`, hay que indicar en cada caso esta etiqueta:"
   ]
  },
  {
   "cell_type": "code",
   "execution_count": 70,
   "metadata": {
    "ExecuteTime": {
     "end_time": "2021-04-13T12:51:50.670088Z",
     "start_time": "2021-04-13T12:51:49.505043Z"
    }
   },
   "outputs": [],
   "source": [
    "# descargamos el lemmatizer wordnet en caso de que sea necesario\n",
    "try:\n",
    "    wnl = nltk.stem.WordNetLemmatizer()\n",
    "    wnl.lemmatize(\"test\", pos='n')\n",
    "except LookupError:\n",
    "    nltk.download('wordnet')"
   ]
  },
  {
   "cell_type": "code",
   "execution_count": 71,
   "metadata": {
    "ExecuteTime": {
     "end_time": "2021-04-13T12:51:50.674435Z",
     "start_time": "2021-04-13T12:51:50.671788Z"
    }
   },
   "outputs": [],
   "source": [
    "word_list = ['feet', 'foot', 'foots', 'footing']"
   ]
  },
  {
   "cell_type": "code",
   "execution_count": 72,
   "metadata": {
    "ExecuteTime": {
     "end_time": "2021-04-13T12:51:50.680405Z",
     "start_time": "2021-04-13T12:51:50.676317Z"
    }
   },
   "outputs": [
    {
     "data": {
      "text/plain": [
       "['foot', 'foot', 'foot', 'footing']"
      ]
     },
     "execution_count": 72,
     "metadata": {},
     "output_type": "execute_result"
    }
   ],
   "source": [
    "wnl = nltk.stem.WordNetLemmatizer()\n",
    "[wnl.lemmatize(word, pos='n') for word in word_list]"
   ]
  },
  {
   "cell_type": "markdown",
   "metadata": {},
   "source": [
    "Si queremos un lematizador en español, tenemos que ir a `spacy`, que además de manera automática aplica un **PoS-tagger** y hace muy sencillo obtener el *lema*:"
   ]
  },
  {
   "cell_type": "code",
   "execution_count": 73,
   "metadata": {
    "ExecuteTime": {
     "end_time": "2021-04-13T12:51:50.975335Z",
     "start_time": "2021-04-13T12:51:50.681898Z"
    }
   },
   "outputs": [],
   "source": [
    "nlp = spacy.load('es_core_news_sm')"
   ]
  },
  {
   "cell_type": "code",
   "execution_count": 92,
   "metadata": {
    "ExecuteTime": {
     "end_time": "2021-04-13T12:51:50.991288Z",
     "start_time": "2021-04-13T12:51:50.976910Z"
    }
   },
   "outputs": [
    {
     "name": "stdout",
     "output_type": "stream",
     "text": [
      "El -> el\n",
      "producto -> producto\n",
      "cuesta -> costar\n",
      "3€. -> 3€.\n",
      "Este -> este\n",
      "procedimiento -> procedimiento\n",
      "es -> ser\n",
      "conocido -> conocer\n",
      "como -> como\n",
      "tokenización -> tokenización\n",
      ". -> .\n",
      "Vamos -> ir\n",
      "a -> a\n",
      "implementar -> implementar\n",
      "esto -> este\n",
      "en -> en\n",
      "Python -> python\n",
      ". -> .\n",
      "Lo -> él\n",
      "ha -> haber\n",
      "hecho -> hacer\n",
      "la -> el\n",
      "empresa -> empresa\n",
      "TEST -> test\n",
      "S.A. -> s.a.\n"
     ]
    },
    {
     "data": {
      "text/plain": [
       "El producto cuesta 3€. Este procedimiento es conocido como tokenización. Vamos a implementar esto en Python. Lo ha hecho la empresa TEST S.A. "
      ]
     },
     "execution_count": 92,
     "metadata": {},
     "output_type": "execute_result"
    }
   ],
   "source": [
    "doc = nlp(texto)\n",
    "lemmas = [tok.lemma_.lower() for tok in doc]\n",
    "for tok in doc:\n",
    "    print(tok.text, '->', tok.lemma_.lower())\n"
   ]
  },
  {
   "cell_type": "markdown",
   "metadata": {},
   "source": [
    "Aunque te parezca sorprendente, `spacy` no contiene ninguna función para stemming, ya que se basa únicamente en la lematización. Por lo tanto, en esta sección, utilizaremos únicamente `NLTK`.\n",
    "\n",
    "\n",
    "Hay dos tipos de stemmers en NLTK: [Porter Stemmer](https://tartarus.org/martin/PorterStemmer/) and [Snowball stemmers](https://tartarus.org/martin/PorterStemmer/). Cada uno de ellos se ha implementado siguiendo algoritmos distintos. Snowball stemmer es una versión ligeramente mejorada del Porter stemmer y generalmente se prefiere sobre este último, además, **sólo Snowball stemmer funciona para idiomas distintos al inglés**."
   ]
  },
  {
   "cell_type": "code",
   "execution_count": 24,
   "metadata": {
    "ExecuteTime": {
     "end_time": "2021-04-13T12:51:50.997748Z",
     "start_time": "2021-04-13T12:51:50.993182Z"
    }
   },
   "outputs": [
    {
     "name": "stdout",
     "output_type": "stream",
     "text": [
      "El -> el\n",
      "producto -> product\n",
      "cuesta -> cuest\n",
      "3€. -> 3€.\n",
      "Este -> este\n",
      "procedimiento -> proced\n",
      "es -> es\n",
      "conocido -> conoc\n",
      "como -> com\n",
      "tokenización. -> tokenizacion.\n",
      "Vamos -> vam\n",
      "a -> a\n",
      "implementar -> implement\n",
      "esto -> esto\n",
      "en -> en\n",
      "Python. -> python.\n",
      "Lo -> lo\n",
      "ha -> ha\n",
      "hecho -> hech\n",
      "la -> la\n",
      "empresa -> empres\n",
      "TEST -> test\n",
      "S.A. -> s.a.\n"
     ]
    }
   ],
   "source": [
    "sp_snowball = nltk.SnowballStemmer('spanish')\n",
    "tokens = texto.split()  # crear una lista de tokens\n",
    "stems = [sp_snowball.stem(token) for token in tokens]\n",
    "for w, s in zip(tokens, stems):\n",
    "    print(w, '->', s)"
   ]
  },
  {
   "cell_type": "markdown",
   "metadata": {},
   "source": [
    "**Ejercio:** Prueba a lematizar y radicalizar las siguientes palabras:\n",
    "\n",
    "* Inglés: fly, flies, flying\n",
    "* Español: universo, universidad, universal"
   ]
  },
  {
   "cell_type": "code",
   "execution_count": 82,
   "metadata": {},
   "outputs": [
    {
     "data": {
      "text/plain": [
       "['fly', 'fly', 'flying']"
      ]
     },
     "execution_count": 82,
     "metadata": {},
     "output_type": "execute_result"
    }
   ],
   "source": [
    "en_list = ['fly','flies','flying']\n",
    "lem_en = [wnl.lemmatize(word, pos='n') for word in en_list]\n",
    "lem_en"
   ]
  },
  {
   "cell_type": "code",
   "execution_count": 102,
   "metadata": {},
   "outputs": [
    {
     "name": "stdout",
     "output_type": "stream",
     "text": [
      "fly -> fli\n",
      "flies -> fli\n",
      "flying -> fli\n"
     ]
    }
   ],
   "source": [
    "sp_snowball = nltk.SnowballStemmer('english')\n",
    "stems = [sp_snowball.stem(token) for token in en_list]\n",
    "for w, s in zip(en_list, stems):\n",
    "    print(w, '->', s)"
   ]
  },
  {
   "cell_type": "code",
   "execution_count": 103,
   "metadata": {},
   "outputs": [
    {
     "name": "stdout",
     "output_type": "stream",
     "text": [
      "universo -> universir\n",
      "universidad -> universidad\n",
      "universal -> universal\n"
     ]
    }
   ],
   "source": [
    "sp_text= 'universo universidad universal'\n",
    "doc = nlp(sp_text)\n",
    "lemmas = [tok.lemma_.lower() for tok in doc]\n",
    "for tok in doc:\n",
    "    print(tok.text, '->', tok.lemma_.lower())"
   ]
  },
  {
   "cell_type": "code",
   "execution_count": 104,
   "metadata": {},
   "outputs": [
    {
     "name": "stdout",
     "output_type": "stream",
     "text": [
      "universo -> univers\n",
      "universidad -> univers\n",
      "universal -> universal\n"
     ]
    }
   ],
   "source": [
    "sp_snowball = nltk.SnowballStemmer('spanish')\n",
    "tokens = sp_text.split()  # crear una lista de tokens\n",
    "stems = [sp_snowball.stem(token) for token in tokens]\n",
    "for w, s in zip(tokens, stems):\n",
    "    print(w, '->', s)"
   ]
  },
  {
   "cell_type": "markdown",
   "metadata": {},
   "source": [
    "### spaCy vs NLTK\n",
    "\n",
    "La librería spaCy es una de las más populares en NLP junto con NLTK. La diferencia básica entre las dos es el hecho de que **NLTK contiene una amplia variedad de algoritmos** para resolver un problema, mientras que **spaCy contiene solo uno, el mejor**.\n",
    "\n",
    "NLTK se lanzó en 2001, mientras que spaCy es relativamente nuevo y se desarrolló en 2015. En este curso sobre NLP, trataremos principalmente de spaCy, debido a que en general es **state of the art**. Sin embargo, también usaremos NLTK cuando sea más fácil realizar una tarea que con spaCy.\n",
    "\n",
    "**Si puedes hacerlo en spaCy, mejor usar spacy.** Además, la documentación de spaCy es mucho más intuitiva."
   ]
  },
  {
   "cell_type": "markdown",
   "metadata": {},
   "source": [
    "### ¿Cuándo usar estos métodos?"
   ]
  },
  {
   "cell_type": "markdown",
   "metadata": {},
   "source": [
    "Estas técnicas fueron consideradas técnicas estándar durante mucho tiempo, pero a menudo pueden **dañar** el rendimiento **si se utiliza deep learning**. El stemming, la lematización y la eliminación *stop words* implican una pérdida de información en muchos casos.\n",
    "\n",
    "Sin embargo, aún pueden ser útiles cuando se trabaja con modelos más simples. A grandes rasgos, estamos simplificando los datos, lo que es una técnica de **regularización**, es decir, evitamos el **overfitting** a features que sólo nos generan ruido. \n",
    "\n",
    "Como siempre en el Machine Learning, no es fácil situar la línea entre el ruido y la señal. Sólo la experiencia, y el sobre todo tiempo para validar entre distintas opciones deben ser la guía que nos indique qué usar en el modelo final.\n",
    "\n",
    "\n",
    "<img src=\"resources/skomoroch.png\" alt=\"\" style=\"width: 65%\"/>"
   ]
  },
  {
   "cell_type": "markdown",
   "metadata": {},
   "source": [
    "## Vectorizando texto\n",
    "\n",
    "Hasta ahora hemos estudiado formas de reducir la complejidad del texto, todas ellas ayudándonos a reducir el tamaño del vocabulario (conjunto de palabras/tokens únicos) de nuestros modelos. Los algoritmos de **Machine Learning** trabajan con datos numéricos, no pueden usar el texto directamente. Hay muchas formas de convertir el texto en vectores numéricos (**feature engineering**), y vamos a explorar las dos formas más básicas.\n",
    "\n",
    "\n",
    "### Bag of words\n",
    "\n",
    "Para crear la representación de *bag of words*, cada token es una dimensión en un espacio de dimensión el tamaño del vocabulario $V$. Para construir el vector de una frase, será la suma de los vectores de cada token, es decir, convertimos cada frase en un vector que cuenta el número de ocurrencias de cada token. Hacemos la distinción entre palabra y token porque **se pueden usar como tokens n-gramas de palabras**, lo que aumenta la complejidad del modelo, pero permite captar correlaciones en el orden de las palabras.\n",
    "\n",
    "\n",
    "Se siguien los pasos:\n",
    "1. Encuentra los **V** tokens mas comunes del corpus de entrenamiento y se les asigna un índice, este es nuestro **vocabulario**. Creamos un diccionario para convertir de tokens a índices y viceversa.\n",
    "2. Para cada frase en el corpus, creamos un vector de dimensión **V** y lo inicializamos con ceros.\n",
    "3. Iteramos sobre los tokens de cada frase, y si el token está en el diccionario, incrementamos en 1 el índice correspondiente del vector.\n",
    "\n",
    "Veamos el siguiente ejemplo con **V=4**, cuyo vocabulario es:\n",
    "\n",
    "    ['hi', 'you', 'me', 'are']\n",
    "\n",
    "Les asignamos un índice: \n",
    "\n",
    "    {'hi': 0, 'you': 1, 'me': 2, 'are': 3}\n",
    "\n",
    "Y si tenemos la siguiente frase:\n",
    "\n",
    "    'hi, how are you? are you ok?'\n",
    "\n",
    "que hemos preprocesado a la siguiente lista de tokens:\n",
    "\n",
    "    ['hi', 'how', 'are', 'you', 'are', 'you', 'ok']\n",
    "\n",
    "Inicializamos el vector:\n",
    "\n",
    "    [0, 0, 0, 0]\n",
    "    \n",
    "Iteramos sobre las palabras, teniendo en cuenta sólo aquellas en nuestro vocabulario:\n",
    "\n",
    "    'hi':  [1, 0, 0, 0]\n",
    "    'how': [1, 0, 0, 0] # word 'how' is not in our dictionary\n",
    "    'are': [1, 0, 0, 1]\n",
    "    'you': [1, 1, 0, 1]\n",
    "    'are': [1, 1, 0, 2]\n",
    "    'you': [1, 2, 0, 2]\n",
    "    'ok':  [1, 2, 0, 2] # word 'ok' is not in our dictionary\n",
    "\n",
    "El vector resultante es:\n",
    "\n",
    "    [1, 2, 0, 2]\n",
    "    \n",
    "En el [s1_challenge](./s1_challenge.ipynb) construiremos este vectorizador a mano, pero viene implementado en sklearn en la función [CountVectorizer](https://scikit-learn.org/stable/modules/generated/sklearn.feature_extraction.text.CountVectorizer.html)."
   ]
  },
  {
   "cell_type": "markdown",
   "metadata": {},
   "source": [
    "**Ejercicio:** Usando el vocabulario del ejemplo anterior, cuál sería el vector *bag of words* de la frase con tokens\n",
    "\n",
    "`['hi', 'i', 'am', 'david,', 'and', 'you?', 'are', 'you', 'ok?']`"
   ]
  },
  {
   "cell_type": "markdown",
   "metadata": {},
   "source": [
    "**Ejercicio:** La variable `quijote` contiene el texto completo del Quijote:\n",
    "\n",
    "* ¿De qué tamaño serán los vectores *bag of words* sin utilizar ninguna de las técnicas de reducción anteriores? Tokeniza con `str.split()` y con el tokenizador de una de las librerías.\n",
    "* ¿Por qué si tokenizamos con la librería cambia tanto el tamaño del vocabulario?\n",
    "* ¿Y si sólo trabajas con minúsculas?"
   ]
  },
  {
   "cell_type": "code",
   "execution_count": 25,
   "metadata": {
    "ExecuteTime": {
     "end_time": "2021-04-13T12:51:51.010098Z",
     "start_time": "2021-04-13T12:51:51.004520Z"
    }
   },
   "outputs": [],
   "source": [
    "with open('./resources/quijote_largo.txt', 'r', encoding='UTF-8') as f:\n",
    "    quijote = f.read()"
   ]
  },
  {
   "cell_type": "code",
   "execution_count": 119,
   "metadata": {
    "ExecuteTime": {
     "end_time": "2021-04-13T12:51:51.014938Z",
     "start_time": "2021-04-13T12:51:51.012836Z"
    }
   },
   "outputs": [
    {
     "data": {
      "text/plain": [
       "17339"
      ]
     },
     "execution_count": 119,
     "metadata": {},
     "output_type": "execute_result"
    }
   ],
   "source": [
    "## ESCRIBE AQUÍ LA SOLUCIÓN\n",
    "tokenizer = nltk.tokenize.NLTKWordTokenizer()\n",
    "bw = tokenizer.tokenize(quijote)\n",
    "len(set(bw))"
   ]
  },
  {
   "cell_type": "code",
   "execution_count": 123,
   "metadata": {},
   "outputs": [
    {
     "data": {
      "text/plain": [
       "['DON',\n",
       " 'QUIJOTE',\n",
       " 'DE',\n",
       " 'LA',\n",
       " 'MANCHA',\n",
       " 'Miguel',\n",
       " 'de',\n",
       " 'Cervantes',\n",
       " 'Saavedra',\n",
       " 'PRIMERA',\n",
       " 'PARTE',\n",
       " 'CAPÍTULO',\n",
       " '1',\n",
       " ':',\n",
       " 'Que']"
      ]
     },
     "execution_count": 123,
     "metadata": {},
     "output_type": "execute_result"
    }
   ],
   "source": [
    "bw[:15]"
   ]
  },
  {
   "cell_type": "code",
   "execution_count": 116,
   "metadata": {},
   "outputs": [
    {
     "data": {
      "text/plain": [
       "15804"
      ]
     },
     "execution_count": 116,
     "metadata": {},
     "output_type": "execute_result"
    }
   ],
   "source": [
    "tokenize = lambda x: nltk.tokenize.word_tokenize(x, language='spanish')\n",
    "len(set(tokenize(quijote)))"
   ]
  },
  {
   "cell_type": "code",
   "execution_count": 122,
   "metadata": {},
   "outputs": [
    {
     "data": {
      "text/plain": [
       "['DON',\n",
       " 'QUIJOTE',\n",
       " 'DE',\n",
       " 'LA',\n",
       " 'MANCHA',\n",
       " 'Miguel',\n",
       " 'de',\n",
       " 'Cervantes',\n",
       " 'Saavedra',\n",
       " 'PRIMERA',\n",
       " 'PARTE',\n",
       " 'CAPÍTULO',\n",
       " '1',\n",
       " ':',\n",
       " 'Que']"
      ]
     },
     "execution_count": 122,
     "metadata": {},
     "output_type": "execute_result"
    }
   ],
   "source": [
    "bw[:15]"
   ]
  },
  {
   "cell_type": "code",
   "execution_count": 27,
   "metadata": {
    "ExecuteTime": {
     "end_time": "2021-04-13T12:51:51.053322Z",
     "start_time": "2021-04-13T12:51:51.016511Z"
    }
   },
   "outputs": [
    {
     "data": {
      "text/plain": [
       "22938"
      ]
     },
     "execution_count": 27,
     "metadata": {},
     "output_type": "execute_result"
    }
   ],
   "source": [
    "# tamaño del vocabulario\n",
    "len(set(quijote.split()))"
   ]
  },
  {
   "cell_type": "code",
   "execution_count": 28,
   "metadata": {
    "ExecuteTime": {
     "end_time": "2021-04-13T12:51:51.100401Z",
     "start_time": "2021-04-13T12:51:51.055279Z"
    }
   },
   "outputs": [
    {
     "data": {
      "text/plain": [
       "22211"
      ]
     },
     "execution_count": 28,
     "metadata": {},
     "output_type": "execute_result"
    }
   ],
   "source": [
    "# esto con minusculas\n",
    "len(set(quijote.lower().split()))"
   ]
  },
  {
   "cell_type": "code",
   "execution_count": 29,
   "metadata": {
    "ExecuteTime": {
     "end_time": "2021-04-13T12:51:51.129178Z",
     "start_time": "2021-04-13T12:51:51.102307Z"
    }
   },
   "outputs": [
    {
     "data": {
      "text/plain": [
       "['DON',\n",
       " 'QUIJOTE',\n",
       " 'DE',\n",
       " 'LA',\n",
       " 'MANCHA',\n",
       " 'Miguel',\n",
       " 'de',\n",
       " 'Cervantes',\n",
       " 'Saavedra',\n",
       " 'PRIMERA',\n",
       " 'PARTE',\n",
       " 'CAPÍTULO',\n",
       " '1:',\n",
       " 'Que',\n",
       " 'trata',\n",
       " 'de',\n",
       " 'la',\n",
       " 'condición',\n",
       " 'y',\n",
       " 'ejercicio',\n",
       " 'del',\n",
       " 'famoso',\n",
       " 'hidalgo',\n",
       " 'D.',\n",
       " 'Quijote',\n",
       " 'de',\n",
       " 'la',\n",
       " 'Mancha',\n",
       " 'En',\n",
       " 'un',\n",
       " 'lugar',\n",
       " 'de',\n",
       " 'la',\n",
       " 'Mancha,',\n",
       " 'de',\n",
       " 'cuyo',\n",
       " 'nombre',\n",
       " 'no',\n",
       " 'quiero',\n",
       " 'acordarme,',\n",
       " 'no',\n",
       " 'ha',\n",
       " 'mucho',\n",
       " 'tiempo',\n",
       " 'que',\n",
       " 'vivía',\n",
       " 'un',\n",
       " 'hidalgo',\n",
       " 'de',\n",
       " 'los',\n",
       " 'de',\n",
       " 'lanza',\n",
       " 'en',\n",
       " 'astillero,',\n",
       " 'adarga',\n",
       " 'antigua,',\n",
       " 'rocín',\n",
       " 'flaco',\n",
       " 'y',\n",
       " 'galgo',\n",
       " 'corredor.',\n",
       " 'Una',\n",
       " 'olla',\n",
       " 'de',\n",
       " 'algo',\n",
       " 'más',\n",
       " 'vaca',\n",
       " 'que',\n",
       " 'carnero,',\n",
       " 'salpicón',\n",
       " 'las',\n",
       " 'más',\n",
       " 'noches,',\n",
       " 'duelos',\n",
       " 'y',\n",
       " 'quebrantos',\n",
       " 'los',\n",
       " 'sábados,',\n",
       " 'lentejas',\n",
       " 'los',\n",
       " 'viernes,',\n",
       " 'algún',\n",
       " 'palomino',\n",
       " 'de',\n",
       " 'añadidura',\n",
       " 'los',\n",
       " 'domingos,',\n",
       " 'consumían',\n",
       " 'las',\n",
       " 'tres',\n",
       " 'partes',\n",
       " 'de',\n",
       " 'su',\n",
       " 'hacienda.',\n",
       " 'El',\n",
       " 'resto',\n",
       " 'della',\n",
       " 'concluían',\n",
       " 'sayo',\n",
       " 'de',\n",
       " 'velarte,',\n",
       " 'calzas',\n",
       " 'de',\n",
       " 'velludo',\n",
       " 'para',\n",
       " 'las',\n",
       " 'fiestas',\n",
       " 'con',\n",
       " 'sus',\n",
       " 'pantuflos',\n",
       " 'de',\n",
       " 'lo',\n",
       " 'mismo,',\n",
       " 'los',\n",
       " 'días',\n",
       " 'de',\n",
       " 'entre',\n",
       " 'semana',\n",
       " 'se',\n",
       " 'honraba',\n",
       " 'con',\n",
       " 'su',\n",
       " 'vellori',\n",
       " 'de',\n",
       " 'lo',\n",
       " 'más',\n",
       " 'fino.',\n",
       " 'Tenía',\n",
       " 'en',\n",
       " 'su',\n",
       " 'casa',\n",
       " 'una',\n",
       " 'ama',\n",
       " 'que',\n",
       " 'pasaba',\n",
       " 'de',\n",
       " 'los',\n",
       " 'cuarenta,',\n",
       " 'y',\n",
       " 'una',\n",
       " 'sobrina',\n",
       " 'que',\n",
       " 'no',\n",
       " 'llegaba',\n",
       " 'a',\n",
       " 'los',\n",
       " 'veinte,',\n",
       " 'y',\n",
       " 'un',\n",
       " 'mozo',\n",
       " 'de',\n",
       " 'campo',\n",
       " 'y',\n",
       " 'plaza,',\n",
       " 'que',\n",
       " 'así',\n",
       " 'ensillaba',\n",
       " 'el',\n",
       " 'rocín',\n",
       " 'como',\n",
       " 'tomaba',\n",
       " 'la',\n",
       " 'podadera.',\n",
       " 'Frisaba',\n",
       " 'la',\n",
       " 'edad',\n",
       " 'de',\n",
       " 'nuestro',\n",
       " 'hidalgo',\n",
       " 'con',\n",
       " 'los',\n",
       " 'cincuenta',\n",
       " 'años,',\n",
       " 'era',\n",
       " 'de',\n",
       " 'complexión',\n",
       " 'recia,',\n",
       " 'seco',\n",
       " 'de',\n",
       " 'carnes,',\n",
       " 'enjuto',\n",
       " 'de',\n",
       " 'rostro;',\n",
       " 'gran',\n",
       " 'madrugador',\n",
       " 'y',\n",
       " 'amigo',\n",
       " 'de',\n",
       " 'la',\n",
       " 'caza.',\n",
       " 'Quieren',\n",
       " 'decir',\n",
       " 'que',\n",
       " 'tenía',\n",
       " 'el',\n",
       " 'sobrenombre',\n",
       " 'de',\n",
       " 'Quijada',\n",
       " 'o',\n",
       " 'Quesada']"
      ]
     },
     "execution_count": 29,
     "metadata": {},
     "output_type": "execute_result"
    }
   ],
   "source": [
    "quijote.split()[:200]"
   ]
  },
  {
   "cell_type": "code",
   "execution_count": 30,
   "metadata": {
    "ExecuteTime": {
     "end_time": "2021-04-13T12:51:51.942988Z",
     "start_time": "2021-04-13T12:51:51.131054Z"
    }
   },
   "outputs": [
    {
     "data": {
      "text/plain": [
       "['DON',\n",
       " 'QUIJOTE',\n",
       " 'DE',\n",
       " 'LA',\n",
       " 'MANCHA',\n",
       " 'Miguel',\n",
       " 'de',\n",
       " 'Cervantes',\n",
       " 'Saavedra',\n",
       " 'PRIMERA',\n",
       " 'PARTE',\n",
       " 'CAPÍTULO',\n",
       " '1',\n",
       " ':',\n",
       " 'Que',\n",
       " 'trata',\n",
       " 'de',\n",
       " 'la',\n",
       " 'condición',\n",
       " 'y',\n",
       " 'ejercicio',\n",
       " 'del',\n",
       " 'famoso',\n",
       " 'hidalgo',\n",
       " 'D.',\n",
       " 'Quijote',\n",
       " 'de',\n",
       " 'la',\n",
       " 'Mancha',\n",
       " 'En',\n",
       " 'un',\n",
       " 'lugar',\n",
       " 'de',\n",
       " 'la',\n",
       " 'Mancha',\n",
       " ',',\n",
       " 'de',\n",
       " 'cuyo',\n",
       " 'nombre',\n",
       " 'no',\n",
       " 'quiero',\n",
       " 'acordarme',\n",
       " ',',\n",
       " 'no',\n",
       " 'ha',\n",
       " 'mucho',\n",
       " 'tiempo',\n",
       " 'que',\n",
       " 'vivía',\n",
       " 'un',\n",
       " 'hidalgo',\n",
       " 'de',\n",
       " 'los',\n",
       " 'de',\n",
       " 'lanza',\n",
       " 'en',\n",
       " 'astillero',\n",
       " ',',\n",
       " 'adarga',\n",
       " 'antigua',\n",
       " ',',\n",
       " 'rocín',\n",
       " 'flaco',\n",
       " 'y',\n",
       " 'galgo',\n",
       " 'corredor',\n",
       " '.',\n",
       " 'Una',\n",
       " 'olla',\n",
       " 'de',\n",
       " 'algo',\n",
       " 'más',\n",
       " 'vaca',\n",
       " 'que',\n",
       " 'carnero',\n",
       " ',',\n",
       " 'salpicón',\n",
       " 'las',\n",
       " 'más',\n",
       " 'noches',\n",
       " ',',\n",
       " 'duelos',\n",
       " 'y',\n",
       " 'quebrantos',\n",
       " 'los',\n",
       " 'sábados',\n",
       " ',',\n",
       " 'lentejas',\n",
       " 'los',\n",
       " 'viernes',\n",
       " ',',\n",
       " 'algún',\n",
       " 'palomino',\n",
       " 'de',\n",
       " 'añadidura',\n",
       " 'los',\n",
       " 'domingos',\n",
       " ',',\n",
       " 'consumían',\n",
       " 'las',\n",
       " 'tres',\n",
       " 'partes',\n",
       " 'de',\n",
       " 'su',\n",
       " 'hacienda',\n",
       " '.',\n",
       " 'El',\n",
       " 'resto',\n",
       " 'della',\n",
       " 'concluían',\n",
       " 'sayo',\n",
       " 'de',\n",
       " 'velarte',\n",
       " ',',\n",
       " 'calzas',\n",
       " 'de',\n",
       " 'velludo',\n",
       " 'para',\n",
       " 'las',\n",
       " 'fiestas',\n",
       " 'con',\n",
       " 'sus',\n",
       " 'pantuflos',\n",
       " 'de',\n",
       " 'lo',\n",
       " 'mismo',\n",
       " ',',\n",
       " 'los',\n",
       " 'días',\n",
       " 'de',\n",
       " 'entre',\n",
       " 'semana',\n",
       " 'se',\n",
       " 'honraba',\n",
       " 'con',\n",
       " 'su',\n",
       " 'vellori',\n",
       " 'de',\n",
       " 'lo',\n",
       " 'más',\n",
       " 'fino',\n",
       " '.',\n",
       " 'Tenía',\n",
       " 'en',\n",
       " 'su',\n",
       " 'casa',\n",
       " 'una',\n",
       " 'ama',\n",
       " 'que',\n",
       " 'pasaba',\n",
       " 'de',\n",
       " 'los',\n",
       " 'cuarenta',\n",
       " ',',\n",
       " 'y',\n",
       " 'una',\n",
       " 'sobrina',\n",
       " 'que',\n",
       " 'no',\n",
       " 'llegaba',\n",
       " 'a',\n",
       " 'los',\n",
       " 'veinte',\n",
       " ',',\n",
       " 'y',\n",
       " 'un',\n",
       " 'mozo',\n",
       " 'de',\n",
       " 'campo',\n",
       " 'y',\n",
       " 'plaza',\n",
       " ',',\n",
       " 'que',\n",
       " 'así',\n",
       " 'ensillaba',\n",
       " 'el',\n",
       " 'rocín',\n",
       " 'como',\n",
       " 'tomaba',\n",
       " 'la',\n",
       " 'podadera',\n",
       " '.',\n",
       " 'Frisaba',\n",
       " 'la',\n",
       " 'edad',\n",
       " 'de',\n",
       " 'nuestro',\n",
       " 'hidalgo',\n",
       " 'con',\n",
       " 'los',\n",
       " 'cincuenta',\n",
       " 'años',\n",
       " ',',\n",
       " 'era',\n",
       " 'de',\n",
       " 'complexión',\n",
       " 'recia',\n",
       " ',',\n",
       " 'seco',\n",
       " 'de']"
      ]
     },
     "execution_count": 30,
     "metadata": {},
     "output_type": "execute_result"
    }
   ],
   "source": [
    "tokenize(quijote)[:200]"
   ]
  },
  {
   "cell_type": "code",
   "execution_count": 31,
   "metadata": {
    "ExecuteTime": {
     "end_time": "2021-04-13T12:51:52.744992Z",
     "start_time": "2021-04-13T12:51:51.944863Z"
    }
   },
   "outputs": [
    {
     "data": {
      "text/plain": [
       "15804"
      ]
     },
     "execution_count": 31,
     "metadata": {},
     "output_type": "execute_result"
    }
   ],
   "source": [
    "tokenize = lambda x: nltk.tokenize.word_tokenize(x, language='spanish')\n",
    "len(set(tokenize(quijote)))"
   ]
  },
  {
   "cell_type": "code",
   "execution_count": 32,
   "metadata": {
    "ExecuteTime": {
     "end_time": "2021-04-13T12:51:53.520982Z",
     "start_time": "2021-04-13T12:51:52.746914Z"
    }
   },
   "outputs": [
    {
     "data": {
      "text/plain": [
       "15087"
      ]
     },
     "execution_count": 32,
     "metadata": {},
     "output_type": "execute_result"
    }
   ],
   "source": [
    "len(set(tokenize(quijote.lower())))"
   ]
  },
  {
   "cell_type": "code",
   "execution_count": null,
   "metadata": {},
   "outputs": [],
   "source": [
    "\n",
    "\n",
    "\n",
    "\n",
    "\n",
    "\n",
    "\n",
    "\n",
    "\n",
    "\n",
    "\n",
    "\n",
    "\n",
    "\n",
    "\n",
    "\n",
    "\n",
    "\n",
    "\n",
    "\n"
   ]
  },
  {
   "cell_type": "code",
   "execution_count": 33,
   "metadata": {
    "ExecuteTime": {
     "end_time": "2021-04-13T12:51:53.554909Z",
     "start_time": "2021-04-13T12:51:53.522474Z"
    }
   },
   "outputs": [
    {
     "name": "stdout",
     "output_type": "stream",
     "text": [
      "Python split, V: 22938\n"
     ]
    }
   ],
   "source": [
    "print(f'Python split, V: {len(set(quijote.split()))}')"
   ]
  },
  {
   "cell_type": "code",
   "execution_count": 34,
   "metadata": {
    "ExecuteTime": {
     "end_time": "2021-04-13T12:51:54.340445Z",
     "start_time": "2021-04-13T12:51:53.556375Z"
    }
   },
   "outputs": [
    {
     "name": "stdout",
     "output_type": "stream",
     "text": [
      "NLTK word_tokenize, V: 15803\n"
     ]
    }
   ],
   "source": [
    "print(\n",
    "    f'NLTK word_tokenize, V: {len(set(nltk.tokenize.word_tokenize(quijote)))}')"
   ]
  },
  {
   "cell_type": "code",
   "execution_count": 35,
   "metadata": {
    "ExecuteTime": {
     "end_time": "2021-04-13T12:51:54.890844Z",
     "start_time": "2021-04-13T12:51:54.342587Z"
    }
   },
   "outputs": [
    {
     "name": "stdout",
     "output_type": "stream",
     "text": [
      "spacy tokenizer, V: 22940 \n"
     ]
    }
   ],
   "source": [
    "# Crea un Tokenizer de la nada, sólo teniendo en cuenta el vocabulario\n",
    "tokenizer_vocab = spacy.tokenizer.Tokenizer(nlp.vocab)\n",
    "print(\n",
    "    f'spacy tokenizer, V: { len({token.text for token in tokenizer_vocab(quijote)})} '\n",
    ")"
   ]
  },
  {
   "cell_type": "code",
   "execution_count": 36,
   "metadata": {
    "ExecuteTime": {
     "end_time": "2021-04-13T12:51:56.444478Z",
     "start_time": "2021-04-13T12:51:54.892517Z"
    }
   },
   "outputs": [
    {
     "name": "stdout",
     "output_type": "stream",
     "text": [
      "spacy tokenizer, V: 15615 \n"
     ]
    }
   ],
   "source": [
    "# Crea un Tokenizer con las opciones por defecto de un idioma\n",
    "# en este caso incluye el vocabulario, puntuación y excepciones\n",
    "tokenizer_complete = nlp.tokenizer\n",
    "print(\n",
    "    f'spacy tokenizer, V: { len({token.text for token in tokenizer_complete(quijote)})} '\n",
    ")"
   ]
  },
  {
   "cell_type": "code",
   "execution_count": 37,
   "metadata": {
    "ExecuteTime": {
     "end_time": "2021-04-13T12:51:58.694227Z",
     "start_time": "2021-04-13T12:51:56.446283Z"
    }
   },
   "outputs": [
    {
     "name": "stdout",
     "output_type": "stream",
     "text": [
      "Python split, V: 22211\n",
      "NLTK word_tokenize, V: 15087\n",
      "spacy tokenizer, V: 14876 \n"
     ]
    }
   ],
   "source": [
    "print(f'Python split, V: {len(set(quijote.lower().split()))}')\n",
    "print(\n",
    "    f'NLTK word_tokenize, V: {len(set(nltk.tokenize.word_tokenize(quijote.lower())))}'\n",
    ")\n",
    "print(\n",
    "    f'spacy tokenizer, V: {len({token.text for token in tokenizer_complete(quijote.lower())})} '\n",
    ")"
   ]
  },
  {
   "cell_type": "markdown",
   "metadata": {},
   "source": [
    "### tf-idf (term frequency - inverse document frequency)\n",
    "\n",
    "Una extensión sobre *bag of words* es la representación **tf-idf**. [Link](https://en.wikipedia.org/wiki/Tf%E2%80%93idf). En este caso, también se cuenta la ocurrencia de cada token, pero se pondera para penalizar palabras que aparecen en casi todos los textos (como las *stop words*), por lo que no ayudan a diferenciarlos. Es muy popular para tareas de **information retrieval**.\n",
    "\n",
    "Si utilizamos una representación *bag of words* para crear un modelo, esos términos muy frecuentes pueden ensombrecer otros tokens cuyas frecuencias son mucho menores, pero que contienen más información. Una posible solución a este problema es darle un peso distinto a cada una de las dimensiones del vector. El esquema de ponderado más común es:\n",
    "\n",
    "* term frequency: $$\n",
    "\\operatorname{tf}(t, d) = \\frac{|\\{t \\in d\\}| }{|d|} \\;,\n",
    "$$\n",
    "que es el porcentaje de veces que aparece el token $t$ en el documento $d$. Da la importancia que tiene un término en un documento concreto.\n",
    "* inverse document frequency: \n",
    "$$\n",
    "\\operatorname{idf}(t, D)=\\log \\frac{|D|}{1+|\\{d \\in D: t \\in d\\}|} \\;,\n",
    "$$\n",
    "donde $|D|$ es el número de documentos, y $|\\{d \\in D: t \\in d\\}|$ es el número de documentos en los que aparece el término $t$, el factor 1 se añade para que no se divida entre 0. Quiza importancia a términos que están presentes en muchos documentos.\n",
    "\n",
    "Luego, cada término es ponderado por el siguiente factor:\n",
    "$$\n",
    "\\operatorname{tfidf}(t, d, D) = \\operatorname{tf}(t, d)\\times \\operatorname{idf}(t, D) \\; .\n",
    "$$\n",
    "\n",
    "En el caso de `sklearn`, por defecto normaliza los vectores resultante según la norma euclídea o L2 ([Más información](https://scikit-learn.org/stable/modules/feature_extraction.html#tfidf-term-weighting)). La función que lo implementa es [TfidfVectorizer](https://scikit-learn.org/stable/modules/generated/sklearn.feature_extraction.text.TfidfVectorizer.html)."
   ]
  },
  {
   "cell_type": "markdown",
   "metadata": {},
   "source": [
    "**Ejercicio:**\n",
    "* ¿Qué distancia hay entre dos tokens en una representación *bag of words*? ¿Cambia esta distancia si los tokens tienen un significado más o menos cercano? ¿Cambia esto en la representación *tf-idf*?\n",
    "* ¿En una tarea de clasificación, si un término aparece en todos los casos de una clase, cómo afecta al su valor de $\\operatorname{tfidf}(t, d, D)$? ¿Es este término una feature importante para clasificar?\n",
    "* Una vez contruido un vocabulario, ¿qué pasará si en el conjunto de validación, test o en producción aparecen palabras nuevas?\n",
    "* ¿Cómo actúan las herramientas aprendidas ante las erratas? Analiza el caso de que existan erratas tanto durante el entrenamiento como en producción? Por ejemplo: 'ayuntamiento' vs 'ayuntameinto'.\n",
    "* En el lenguaje, el orden de los factores altera el producto. 'Juan mordió a el perro' vs 'El perro mordió a Juan'. 'Si no viene a comer lo dejamos', 'No viene a comer si lo dejamos'. ¿Cómo actúa *bag of words* y *tf-idf* ante este fenómeno?"
   ]
  },
  {
   "cell_type": "markdown",
   "metadata": {},
   "source": [
    "--> La distancia entre sus indices\n",
    "\n",
    "--> No cambia la distancia si los token tienen un significado mas cercano\n",
    "\n",
    "--> No cambia la distancia en la representacion tf-idf \n",
    "\n",
    "--> Si un termino aparece en todos los terminos de una clase, aumenta su importancia. Si es una feature importante para clasificar.\n",
    "\n",
    "--> Si aparecen palabras nuevas no tendra forma de aprenderlas.\n",
    "\n",
    "--> Aprenderan la errata y no la palabra correcta.\n",
    "\n",
    "--> En el caso de BoW el vector resultante sera similar para frases cuyo vocabulario sea el mismo.\n",
    "\n",
    "--> En el caso de TF-IDF, penalizara o premiara de la misma forma ambas frases."
   ]
  },
  {
   "cell_type": "code",
   "execution_count": 132,
   "metadata": {
    "ExecuteTime": {
     "end_time": "2021-04-13T12:51:58.698307Z",
     "start_time": "2021-04-13T12:51:58.695861Z"
    }
   },
   "outputs": [],
   "source": [
    "# Ejemplos de tokens en representación BoW\n",
    "\n",
    "t1 = [1,0,0,0]\n",
    "\n",
    "t2 = [0,1,0,0]\n",
    "\n",
    "t3 = [0,0,1,0]"
   ]
  }
 ],
 "metadata": {
  "jupytext": {
   "formats": "ipynb,md",
   "text_representation": {
    "extension": ".md",
    "format_name": "markdown",
    "format_version": "1.2",
    "jupytext_version": "1.7.1"
   }
  },
  "kernelspec": {
   "display_name": "Python 3",
   "language": "python",
   "name": "python3"
  },
  "language_info": {
   "codemirror_mode": {
    "name": "ipython",
    "version": 3
   },
   "file_extension": ".py",
   "mimetype": "text/x-python",
   "name": "python",
   "nbconvert_exporter": "python",
   "pygments_lexer": "ipython3",
   "version": "3.9.1"
  },
  "toc": {
   "base_numbering": 1,
   "nav_menu": {},
   "number_sections": true,
   "sideBar": true,
   "skip_h1_title": false,
   "title_cell": "Table of Contents",
   "title_sidebar": "Contents",
   "toc_cell": false,
   "toc_position": {},
   "toc_section_display": true,
   "toc_window_display": false
  }
 },
 "nbformat": 4,
 "nbformat_minor": 4
}
