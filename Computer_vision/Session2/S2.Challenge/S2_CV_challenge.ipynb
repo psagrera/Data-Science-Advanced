{
 "cells": [
  {
   "cell_type": "markdown",
   "metadata": {},
   "source": [
    "<img src=\"data:image/png;base64,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\" >\n",
    "<br/>\n",
    "<center style=\"color:#888\">Módulo Data Science Advanced<br/>Asignatura Computer Vision</center>\n",
    "<center style=\"color:#aaa; margin-top:10px;\">Prof. Óscar Picazo Montoya<br>oscarpm@faculty.mioti.es</center>\n",
    "\n",
    "\n",
    "# Challenge S2: Aprendiendo a ver en la oscuridad"
   ]
  },
  {
   "cell_type": "markdown",
   "metadata": {},
   "source": [
    "## Objetivos\n",
    "\n",
    "El objetivo de este challenge es procesar las imágenes que obtiene una camera de seguridad noctura. Aplicaremos las técnicas que conocemos de procesamiento de imagen para preprocesar las imagenes de entrada."
   ]
  },
  {
   "cell_type": "markdown",
   "metadata": {},
   "source": [
    "## Configuración del entorno"
   ]
  },
  {
   "cell_type": "code",
   "execution_count": 1,
   "metadata": {},
   "outputs": [],
   "source": [
    "%matplotlib inline\n",
    "\n",
    "import numpy as np\n",
    "import pandas as pd\n",
    "import matplotlib.pyplot as plt\n",
    "import imageio\n",
    "from skimage import data, io, filters\n",
    "from skimage.color import rgb2gray\n",
    "\n",
    "import warnings\n",
    "warnings.filterwarnings(\"ignore\")"
   ]
  },
  {
   "cell_type": "code",
   "execution_count": 2,
   "metadata": {},
   "outputs": [],
   "source": [
    "def plot_histogram(img):\n",
    "    from matplotlib import pyplot as plt\n",
    "    n_dimensiones = len(img.shape)\n",
    "    if n_dimensiones == 2: # Solo X,Y\n",
    "        img_int = 255 * img.flatten()    \n",
    "        plt.hist(img_int, bins = np.arange(256), color=\"darkgrey\")\n",
    "        plt.title(\"Gray scale histogram\") \n",
    "    elif n_dimensiones == 3: # X,Y y Canal\n",
    "        if img.shape[2] == 3: # R,G,B\n",
    "            img_r = img[:,:,0].flatten()        \n",
    "            img_g = img[:,:,1].flatten()\n",
    "            img_b = img[:,:,2].flatten()\n",
    "            \n",
    "            if img.dtype == np.dtype('uint8'):\n",
    "                plt.hist(img_r, bins = np.arange(256), color = \"red\") \n",
    "                plt.hist(img_g, bins = np.arange(256), color = \"green\")\n",
    "                plt.hist(img_b, bins = np.arange(256), color = \"blue\")\n",
    "            else:\n",
    "                plt.hist(img_r, bins = np.arange(1, step=1/255), color = \"red\") \n",
    "                plt.hist(img_g, bins = np.arange(1, step=1/255), color = \"green\")\n",
    "                plt.hist(img_b, bins = np.arange(1, step=1/255), color = \"blue\")\n",
    "\n",
    "            plt.title(\"Color histogram\") \n",
    "    plt.show()"
   ]
  },
  {
   "cell_type": "markdown",
   "metadata": {},
   "source": [
    "## Flujo de procesamiento\n",
    "\n",
    "### 1) En este primer paso carga la imagen (`\"img/1.jpg\"`) en memoria:"
   ]
  },
  {
   "cell_type": "code",
   "execution_count": null,
   "metadata": {},
   "outputs": [],
   "source": []
  },
  {
   "cell_type": "markdown",
   "metadata": {},
   "source": [
    "### 2) ¿Qué dimensiones tiene? ¿En qué espacio de color está?"
   ]
  },
  {
   "cell_type": "code",
   "execution_count": null,
   "metadata": {},
   "outputs": [],
   "source": []
  },
  {
   "cell_type": "markdown",
   "metadata": {},
   "source": [
    "### 3) Muestra la imagen en pantalla:"
   ]
  },
  {
   "cell_type": "code",
   "execution_count": null,
   "metadata": {},
   "outputs": [],
   "source": []
  },
  {
   "cell_type": "markdown",
   "metadata": {},
   "source": [
    "### 4) ¿Qué se ve en la imagen?"
   ]
  },
  {
   "cell_type": "code",
   "execution_count": null,
   "metadata": {},
   "outputs": [],
   "source": []
  },
  {
   "cell_type": "markdown",
   "metadata": {},
   "source": [
    "### 5) Dibuja el histograma y describe la imagen mediante el histograma."
   ]
  },
  {
   "cell_type": "code",
   "execution_count": null,
   "metadata": {},
   "outputs": [],
   "source": []
  },
  {
   "cell_type": "markdown",
   "metadata": {},
   "source": [
    "### 6) ¿Se te ocurre alguna manera de mejorar la imagen?"
   ]
  },
  {
   "cell_type": "code",
   "execution_count": null,
   "metadata": {},
   "outputs": [],
   "source": []
  },
  {
   "cell_type": "markdown",
   "metadata": {},
   "source": [
    "### 7) ¿Puedes describir el histograma de la imagen resultante?"
   ]
  },
  {
   "cell_type": "code",
   "execution_count": null,
   "metadata": {},
   "outputs": [],
   "source": []
  },
  {
   "cell_type": "markdown",
   "metadata": {},
   "source": [
    "### 8) Obten la imagen de bordes "
   ]
  },
  {
   "cell_type": "code",
   "execution_count": null,
   "metadata": {},
   "outputs": [],
   "source": []
  },
  {
   "cell_type": "markdown",
   "metadata": {},
   "source": [
    "### 9) ¿Se te ocurre alguna manera de mejorarlo?"
   ]
  },
  {
   "cell_type": "code",
   "execution_count": null,
   "metadata": {},
   "outputs": [],
   "source": []
  },
  {
   "cell_type": "markdown",
   "metadata": {},
   "source": [
    "### 10) ¿Podrías describir un pipeline típico de trabajo?. Con lo que ya sabes reordena los pasos anteriores y describe como obtendrías una buena imagen de bordes."
   ]
  },
  {
   "cell_type": "code",
   "execution_count": null,
   "metadata": {},
   "outputs": [],
   "source": []
  }
 ],
 "metadata": {
  "anaconda-cloud": {},
  "kernelspec": {
   "display_name": "Python 3",
   "language": "python",
   "name": "python3"
  },
  "language_info": {
   "codemirror_mode": {
    "name": "ipython",
    "version": 3
   },
   "file_extension": ".py",
   "mimetype": "text/x-python",
   "name": "python",
   "nbconvert_exporter": "python",
   "pygments_lexer": "ipython3",
   "version": "3.8.5"
  }
 },
 "nbformat": 4,
 "nbformat_minor": 2
}
