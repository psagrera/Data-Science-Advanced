{
 "cells": [
  {
   "cell_type": "markdown",
   "metadata": {},
   "source": [
    "<img src=\"mioti.png\" style=\"height: 100px\">\n",
    "<center style=\"color:#888\">Módulo Data Science in IoT<br/>Asignatura Deep Learning</center>\n",
    "\n",
    "# Challenge S5: Reconocimiento de objetos con CIFAR-10\n",
    "\n",
    "## Objetivos\n",
    "\n",
    "El objetivo de este challenge es profundizar en nuestro conocimiento de las redes neuronales convolucionales en Keras.\n",
    "\n",
    "Para ello, vamos a realizar las siguientes tareas:\n",
    "- Cargar y comprender el dataset CIFAR10\n",
    "- Crear y entrenar un modelo desde 0\n",
    "- Cargar y ajustar un modelo preentrenado\n",
    "- Obtener las curvas de entrenamiento de ambos modelos para comparar su aprendizaje.\n"
   ]
  },
  {
   "cell_type": "markdown",
   "metadata": {},
   "source": [
    "## Tareas\n",
    "\n",
    "\n",
    "### Configurando el entorno\n",
    "\n",
    "Como siempre, comenzamos importando los módulos y librerías que vamos a necesitar, además, vamos a fijar una semilla para que las inicializaciones aleatorias sean igual aunque lo ejecutemos varias veces, y así los experimentos siempre salgan igual y poder encontrar fallos más fácilmente.\n",
    "\n",
    "A continuación, podemos añadir todas las librerías que necesitemos:\n"
   ]
  },
  {
   "cell_type": "code",
   "execution_count": 1,
   "metadata": {
    "tags": []
   },
   "outputs": [],
   "source": [
    "############## Si al ejecutar el Kernel se bloquea, \n",
    "############## utiliza estas líneas para permitir la \n",
    "############## duplicación de librerías\n",
    "import os\n",
    "os.environ['KMP_DUPLICATE_LIB_OK']='True'\n",
    "##############\n",
    "\n",
    "# %tensorflow_version 2.x  # sólo es necesaria en colab\n",
    "import tensorflow as tf\n",
    "\n",
    "from tensorflow.keras.models import Sequential\n",
    "from tensorflow.keras.layers import Dense, Flatten, Conv2D, MaxPooling2D\n",
    "from tensorflow import keras\n",
    "\n",
    "import numpy as np\n",
    "np.random.seed(123)  # for reproducibility\n",
    "\n",
    "import matplotlib.pyplot as plt\n"
   ]
  },
  {
   "cell_type": "markdown",
   "metadata": {},
   "source": [
    "### Cargar y normalizar los datos de entrada: CIFAR-10\n",
    "\n",
    "Como hemos visto en el worksheet, podemos cargar los datos de la base de datos CIFAR-10 y normalizarlos al rango [0,1] para prepararlos para nuestra red.\n",
    "\n",
    "Recordad hacer una partición de datos de validación seleccionando 5.000 imágenes de entrenamiento.\n",
    "\n",
    "A continuación, incluya el código necesario:"
   ]
  },
  {
   "cell_type": "code",
   "execution_count": 8,
   "metadata": {
    "tags": []
   },
   "outputs": [],
   "source": [
    "# %tensorflow_version 2.x  # sólo es necesaria en colab\n",
    "import tensorflow as tf\n",
    "from tensorflow.keras import utils\n",
    "from tensorflow.keras.models import Sequential\n",
    "from tensorflow.keras.layers import Dense, Flatten, Conv2D, MaxPooling2D\n",
    "from tensorflow import keras\n",
    "from tensorflow.keras.datasets import cifar10\n",
    "\n",
    "# Loading the CIFAR-10 datasets\n",
    "(x_train, y_train), (x_test, y_test) = cifar10.load_data()\n",
    "\n",
    "X_valid = x_train[:5000]\n",
    "Y_valid = y_train[:5000]\n",
    "\n",
    "# One hot encoding\n",
    "y_train = utils.to_categorical(y_train, 10)\n",
    "y_test = utils.to_categorical(y_test,10)\n",
    "Y_valid = utils.to_categorical(Y_valid,10)\n",
    "\n",
    "x_train = x_train.astype('float32')\n",
    "x_test = x_test.astype('float32')\n",
    "X_valid = X_valid.astype('float32')\n",
    "\n",
    "\n",
    "# Normalizacion \n",
    "x_train  /= 255\n",
    "x_test /= 255\n",
    "X_valid /= 255\n",
    "\n",
    "\n",
    "x_train = x_train.reshape(x_train.shape[0], 32, 32, 3)\n",
    "X_valid = X_valid.reshape(X_valid.shape[0], 32, 32, 3)\n",
    "x_test = x_test.reshape(x_test.shape[0], 32, 32, 3)"
   ]
  },
  {
   "cell_type": "code",
   "execution_count": 3,
   "metadata": {},
   "outputs": [
    {
     "data": {
      "text/plain": [
       "((5000, 32, 32, 3), (50000, 32, 32, 3), (50000, 10), (10000, 10))"
      ]
     },
     "execution_count": 3,
     "metadata": {},
     "output_type": "execute_result"
    }
   ],
   "source": [
    "X_valid.shape,x_train.shape,y_train.shape,y_test.shape"
   ]
  },
  {
   "cell_type": "code",
   "execution_count": 9,
   "metadata": {},
   "outputs": [
    {
     "name": "stdout",
     "output_type": "stream",
     "text": [
      "50000\n"
     ]
    }
   ],
   "source": [
    "print(n_classes)"
   ]
  },
  {
   "cell_type": "markdown",
   "metadata": {},
   "source": [
    "### Modelo 1: entrenado desde 0\n",
    "\n",
    "#### Definición del modelo\n",
    "\n",
    "Para resolver este problema vamos a comenzar con una estructura un poco más profunda que las vistas hasta ahora. Debemos completar la celda a continuación para declarar el siguiente modelo:\n",
    "\n",
    "- Capa de entrada convolucional, 32 filtros de tamaño 3x3 con función de activación relu (recordar que en la capa de entrada hay que especificar el tamaño de entrada)\n",
    "- Capa convolucional, 32 filtros de tamaño 3x3, con función de activación relu\n",
    "- Capa dropout de probabilidad 25%\n",
    "- Capa Max Pooling de tamaño 2x2\n",
    "- Capa convolucional, 64 filtros de tamaño 3x3, con función de activación relu\n",
    "- Capa dropout de probabilidad 25%\n",
    "- Capa convolucional, 64 filtros de tamaño 3x3, con función de activación relu\n",
    "- Capa dropout de probabilidad 25%\n",
    "- Capa Max Pooling de tamaño 2x2\n",
    "- Capa flatten\n",
    "- Capa feed-forward (Dense en Keras) con 512 neuronas y función de activación relu\n",
    "- Capa dropout de probabilidad 40%\n",
    "- Capa de salida feed-forward (Dense en Keras) con función de activación softmax\n",
    "\n",
    "Para resolver este paso sería interesante fijarse en la documentación de keras https://keras.io/layers/core/ \n",
    "\n",
    "Además, se puede comprobar el modelo creado con la función \"summary\": model.summary()"
   ]
  },
  {
   "cell_type": "code",
   "execution_count": 5,
   "metadata": {},
   "outputs": [],
   "source": [
    "from tensorflow.keras.callbacks import ReduceLROnPlateau,EarlyStopping\n",
    "from tensorflow.keras.layers import Dropout\n",
    "reduce_lr = ReduceLROnPlateau(monitor='val_loss', factor=0.5,\n",
    "                              patience=2,verbose=1)\n",
    "\n",
    "early_stopping = EarlyStopping(\n",
    "                    monitor='val_loss',\n",
    "                    min_delta=0.001,\n",
    "                    patience = 3,\n",
    "                    verbose=2,\n",
    "                    restore_best_weights=True,\n",
    ")"
   ]
  },
  {
   "cell_type": "code",
   "execution_count": 16,
   "metadata": {},
   "outputs": [],
   "source": [
    "############## Si al ejecutar el Kernel se bloquea, \n",
    "############## utiliza estas líneas para permitir la \n",
    "############## duplicación de librerías\n",
    "import os\n",
    "os.environ['KMP_DUPLICATE_LIB_OK']='True'\n",
    "##############\n",
    "\n",
    "import matplotlib.pyplot as plt\n",
    "\n",
    "\n",
    "\n",
    "def plotCurves(history,epochs):\n",
    "\n",
    "    plt.figure(0)\n",
    "    plt.plot(history.history['accuracy'],'r')\n",
    "    plt.plot(history.history['val_accuracy'],'g')\n",
    "    plt.xticks(np.arange(0, epochs, 2.0))\n",
    "    plt.rcParams['figure.figsize'] = (8, 6)\n",
    "    plt.xlabel(\"Num of Epochs\")\n",
    "    plt.ylabel(\"Accuracy\")\n",
    "    plt.title(\"Training Accuracy vs Validation Accuracy\")\n",
    "    plt.legend(['train','validation'])\n",
    " \n",
    " \n",
    "    plt.figure(1)\n",
    "    plt.plot(history.history['loss'],'r')\n",
    "    plt.plot(history.history['val_loss'],'g')\n",
    "    plt.xticks(np.arange(0, epochs, 2.0))\n",
    "    plt.rcParams['figure.figsize'] = (8, 6)\n",
    "    plt.xlabel(\"Num of Epochs\")\n",
    "    plt.ylabel(\"Loss\")\n",
    "    plt.title(\"Training Loss vs Validation Loss\")\n",
    "    plt.legend(['train','validation'])\n",
    " \n",
    " \n",
    "    plt.show()\n",
    "    "
   ]
  },
  {
   "cell_type": "code",
   "execution_count": 14,
   "metadata": {
    "tags": []
   },
   "outputs": [],
   "source": [
    "model1 = Sequential()\n",
    "\n",
    "model1.add(Conv2D(32, kernel_size=(3,3), activation='relu', input_shape=(32,32,3)))\n",
    "model1.add(Conv2D(32, kernel_size=(3,3), activation='relu'))\n",
    "model1.add(Dropout(0.4))\n",
    "model1.add(MaxPooling2D(pool_size=(2,2), padding='same'))\n",
    "\n",
    "model1.add(Conv2D(64, kernel_size=(3,3), padding='same', activation='relu'))\n",
    "model1.add(Dropout(0.4))\n",
    "model1.add(Conv2D(64, kernel_size=(3,3), padding='same', activation='relu'))\n",
    "model1.add(Dropout(0.4))\n",
    "model1.add(MaxPooling2D(pool_size=(2,2), padding='same'))\n",
    "model1.add(Flatten())\n",
    "model1.add(Dense(512, activation='relu'))\n",
    "model1.add(Dropout(0.4))\n",
    "model1.add(Dense(10, activation='softmax'))\n"
   ]
  },
  {
   "cell_type": "markdown",
   "metadata": {},
   "source": [
    "#### Compilando y entrenando el modelo\n",
    "\n",
    "El siguiente paso que debemos hacer es compilar y entrenar el modelo.\n",
    "\n",
    "En esta ocasión vamos a utilizar la función de coste 'categorical_crossentropy' y el optimizador adam. Además añadiremos, como habitualmente, la métrica 'accuracy' para visualizarla.\n",
    "\n",
    "Recordad utilizar el conjunto de datos de validación que hemos separado del train al principio del challenge.\n",
    "\n",
    "Para entrenar el modelo, definimos el número de épocas (ejemplo, 100) y el tamaño del batch (ejemplo, 128). \n",
    "\n",
    "Si trabajamos con todo CIFAR-10 el entrenamiento va a ser muy lento, por lo que podemos diezmar los datos (usar 500 datos de train y 100 de test) y utilizar tan solo 10 épocas hasta estar 100% seguros de que todo está bien hecho. Una vez que la programación sea correcta ya podemos aumentar a todos los datos y correr la red. Una opción muy interesante es correr todo el entrenamiento en colab con GPU, lo que acelerará muchísimo el entrenamiento.\n",
    "\n",
    "Conviene guardar la salida de la función fit ('history'), para analizar posteriormente su rendimiento.\n",
    "\n",
    "Escribir el código necesario para hacer esto en la celda siguiente:"
   ]
  },
  {
   "cell_type": "code",
   "execution_count": null,
   "metadata": {
    "collapsed": true,
    "jupyter": {
     "outputs_hidden": true
    }
   },
   "outputs": [],
   "source": [
    "model1.summary()\n",
    "\n",
    "model1.compile(loss='categorical_crossentropy', optimizer='adam', \n",
    "              metrics=['accuracy'])\n",
    "\n",
    "history = model1.fit(x_train, y_train, batch_size=128, epochs=10, \n",
    "          verbose=1, validation_data=(X_valid, Y_valid),callbacks=early_stopping,use_multiprocessing=True)\n",
    "\n",
    "score = model1.evaluate(x_test, y_test, verbose=0)\n",
    "print(score)\n"
   ]
  },
  {
   "cell_type": "code",
   "execution_count": 17,
   "metadata": {},
   "outputs": [
    {
     "data": {
      "image/png": "[encoded data removed]",
      "text/plain": [
       "<Figure size 576x432 with 1 Axes>"
      ]
     },
     "metadata": {
      "needs_background": "light"
     },
     "output_type": "display_data"
    },
    {
     "data": {
      "image/png": "[encoded data removed]",
      "text/plain": [
       "<Figure size 576x432 with 1 Axes>"
      ]
     },
     "metadata": {
      "needs_background": "light"
     },
     "output_type": "display_data"
    }
   ],
   "source": [
    "plotCurves(history,5)"
   ]
  },
  {
   "cell_type": "markdown",
   "metadata": {},
   "source": [
    "### Modelo 2 (preentrenado)\n",
    "\n",
    "#### Definición del modelo\n",
    "\n",
    "El modelo será el siguiente:\n",
    "\n",
    "- Modelo preentrenado VGG16 (recordad no cargar la parte final, utilizar pesos de imagenet y congelar)\n",
    "- Capa feed-forward de tamaño 512\n",
    "- Capa dropout de probabilidad 40%\n",
    "- Capa de salida \n"
   ]
  },
  {
   "cell_type": "code",
   "execution_count": null,
   "metadata": {
    "collapsed": true,
    "jupyter": {
     "outputs_hidden": true
    }
   },
   "outputs": [],
   "source": []
  },
  {
   "cell_type": "markdown",
   "metadata": {},
   "source": [
    "#### Compilando y entrenando el modelo\n",
    "\n",
    "Repetir ahora los pasos de compilación y entrenamiento anteriores con el nuevo modelo. \n",
    "\n",
    "NOTA: Guardar el historial del entrenamiento en una variable 'history2' para evaluar su rendimiento y compararlo con el anterior."
   ]
  },
  {
   "cell_type": "code",
   "execution_count": null,
   "metadata": {
    "collapsed": true,
    "jupyter": {
     "outputs_hidden": true
    }
   },
   "outputs": [],
   "source": []
  },
  {
   "cell_type": "markdown",
   "metadata": {},
   "source": [
    "\n",
    "### Comparación de rendimientos\n",
    "\n",
    "#### Rendimiento modelo 1 (entrenado desde 0)\n",
    "\n",
    "Utilizando el material de la sesión anterior, a continuación, pinte las curvas de rendimiento (train y test) del modelo 1."
   ]
  },
  {
   "cell_type": "code",
   "execution_count": null,
   "metadata": {
    "collapsed": true,
    "jupyter": {
     "outputs_hidden": true
    }
   },
   "outputs": [],
   "source": []
  },
  {
   "cell_type": "markdown",
   "metadata": {},
   "source": [
    "¿Te parecen buenas curvas de aprendizaje?\n",
    "\n",
    "El efecto que se muestra, ¿tiene algún nombre? ¿A qué cosas suele deberse? En nuestro caso, ¿a qué se debe?"
   ]
  },
  {
   "cell_type": "code",
   "execution_count": null,
   "metadata": {
    "collapsed": true,
    "jupyter": {
     "outputs_hidden": true
    }
   },
   "outputs": [],
   "source": []
  },
  {
   "cell_type": "markdown",
   "metadata": {},
   "source": [
    "\n",
    "#### Rendimiento modelo 2 (preentrenamiento)\n",
    "\n",
    "Repita el análisis para el modelo 2."
   ]
  },
  {
   "cell_type": "code",
   "execution_count": null,
   "metadata": {
    "collapsed": true,
    "jupyter": {
     "outputs_hidden": true
    }
   },
   "outputs": [],
   "source": []
  },
  {
   "cell_type": "markdown",
   "metadata": {},
   "source": [
    "Analiza ahora las curvas para el segundo modelo. ¿Te parecen mejores las curvas ahora? "
   ]
  },
  {
   "cell_type": "code",
   "execution_count": null,
   "metadata": {
    "collapsed": true,
    "jupyter": {
     "outputs_hidden": true
    }
   },
   "outputs": [],
   "source": []
  },
  {
   "cell_type": "markdown",
   "metadata": {},
   "source": [
    "### Opcional: Criterio de parada\n",
    "\n",
    "En muchas ocasiones, en lugar de estimar el número máximo de iteraciones o épocas, lo que se hace es poner un criterio de parada, es decir, algún mecanismo de control que pare el entrenamiento cuando se cumplen ciertas condiciones en un subconjunto de los datos.\n",
    "\n",
    "Cuando queremos aplicar este tipo de técnicas, solemos separar el conjunto de datos de entrenamiento en 2 conjuntos, uno de \"train\", con el que entrenamos el modelo, y uno de validación, que utilizamos para tomar este tipo de decisiones.\n",
    "\n",
    "Investigar formas de implementar algún tipo de criterio de parada y ponerlo en funcionamiento con alguno de los modelos que acabamos de entrenar."
   ]
  },
  {
   "cell_type": "code",
   "execution_count": null,
   "metadata": {
    "collapsed": true,
    "jupyter": {
     "outputs_hidden": true
    }
   },
   "outputs": [],
   "source": []
  }
 ],
 "metadata": {
  "anaconda-cloud": {},
  "kernelspec": {
   "display_name": "Python 3",
   "language": "python",
   "name": "python3"
  },
  "language_info": {
   "codemirror_mode": {
    "name": "ipython",
    "version": 3
   },
   "file_extension": ".py",
   "mimetype": "text/x-python",
   "name": "python",
   "nbconvert_exporter": "python",
   "pygments_lexer": "ipython3",
   "version": "3.9.1"
  }
 },
 "nbformat": 4,
 "nbformat_minor": 4
}
