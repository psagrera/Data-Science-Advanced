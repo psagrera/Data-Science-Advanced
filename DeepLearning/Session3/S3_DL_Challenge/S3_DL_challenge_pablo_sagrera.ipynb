{
  "nbformat": 4,
  "nbformat_minor": 0,
  "metadata": {
    "anaconda-cloud": {},
    "kernelspec": {
      "display_name": "Python 3",
      "language": "python",
      "name": "python3"
    },
    "language_info": {
      "codemirror_mode": {
        "name": "ipython",
        "version": 3
      },
      "file_extension": ".py",
      "mimetype": "text/x-python",
      "name": "python",
      "nbconvert_exporter": "python",
      "pygments_lexer": "ipython3",
      "version": "3.9.1"
    },
    "colab": {
      "name": "S3_DL_challenge_pablo_sagrera.ipynb",
      "provenance": [],
      "include_colab_link": true
    },
    "accelerator": "GPU"
  },
  "cells": [
    {
      "cell_type": "markdown",
      "metadata": {
        "id": "view-in-github",
        "colab_type": "text"
      },
      "source": [
        "<a href=\"https://colab.research.google.com/github/psagrera/Data-Science-Advanced/blob/main/DeepLearning/Session3/S3_DL_Challenge/S3_DL_challenge_pablo_sagrera.ipynb\" target=\"_parent\"><img src=\"https://colab.research.google.com/assets/colab-badge.svg\" alt=\"Open In Colab\"/></a>"
      ]
    },
    {
      "cell_type": "markdown",
      "metadata": {
        "id": "yBeqkaRQd1c8"
      },
      "source": [
        "<img src=\"mioti.png\" style=\"height: 100px\">\n",
        "<center style=\"color:#888\">Módulo Data Science in IoT<br/>Asignatura Deep Learning</center>\n",
        "\n",
        "# Challenge S3: Redes Neuronales Profundas en Keras (DNNs)\n",
        "\n",
        "## Objetivos\n",
        "\n",
        "El objetivo de este challenge es optimizar una DNN capaz de distinguir entre imágenes de prendas de ropa de la base de datos Fasion MNIST.\n",
        "\n",
        "## Punto de partida\n",
        "\n",
        "El punto de partida se corresponde con el código que hemos visto en el worksheet:"
      ]
    },
    {
      "cell_type": "code",
      "metadata": {
        "colab": {
          "base_uri": "https://localhost:8080/",
          "height": 791
        },
        "id": "glHsHnYXd1dC",
        "outputId": "cfc2e0d9-2a67-444e-b826-47d04f2f25b9"
      },
      "source": [
        "%matplotlib inline\n",
        "#%tensorflow_version 2.x  # sólo necesaria si estamos en colab\n",
        "# TensorFlow and tf.keras\n",
        "import tensorflow as tf\n",
        "from tensorflow import keras\n",
        "\n",
        "# Otras librerías\n",
        "import numpy as np\n",
        "import matplotlib.pyplot as plt\n",
        "import pandas as pd\n",
        "# Importamos las capas y modelos que vamos a necesitar para este worksheet\n",
        "from tensorflow.keras.models import Sequential\n",
        "from tensorflow.keras.layers import Dense, Activation, Flatten\n",
        "from tensorflow.keras.callbacks import ReduceLROnPlateau\n",
        "\n",
        "# Import Fashion MNIST data\n",
        "fashion_mnist = keras.datasets.fashion_mnist.load_data()\n",
        "(train_images, train_labels), (test_images, test_labels) = fashion_mnist\n",
        "\n",
        "# Primeras 10000 imágenes, las utilizamos como validación\n",
        "X_valid = train_images[:10000]\n",
        "Y_valid = train_labels[:10000]\n",
        "\n",
        "X_train = train_images[10000:]\n",
        "Y_train = train_labels[10000:]\n",
        "\n",
        "X_test = test_images\n",
        "Y_test = test_labels\n",
        "\n",
        "X_train = X_train.reshape(X_train.shape[0], 28*28)\n",
        "X_valid = X_valid.reshape(X_valid.shape[0], 28*28)\n",
        "X_test = X_test.reshape(X_test.shape[0], 28*28)\n",
        "\n",
        "X_train = X_train.astype('float32')\n",
        "X_valid = X_valid.astype('float32')\n",
        "X_test = X_test.astype('float32')\n",
        "\n",
        "# Quitamos la normalizacion para ver el resultado sin normalizar\n",
        "#X_train = X_train / 255\n",
        "#X_valid = X_valid / 255\n",
        "#X_test = X_test / 255\n",
        "\n",
        "# Convert 1-dimensional class arrays to 10-dimensional class matrices\n",
        "Y_train = keras.utils.to_categorical(Y_train, 10)\n",
        "Y_valid = keras.utils.to_categorical(Y_valid, 10)\n",
        "Y_test = keras.utils.to_categorical(Y_test, 10)\n",
        "\n",
        "model = Sequential()\n",
        "model.add(Dense(512, activation='relu', input_shape=(28*28,)))\n",
        "model.add(Dense(512, activation='relu'))\n",
        "model.add(Dense(10, activation='softmax'))\n",
        "\n",
        "model.compile(loss='categorical_crossentropy',\n",
        "              optimizer='adam',\n",
        "              metrics=['accuracy'])\n",
        "\n",
        "history = model.fit(X_train, Y_train, \n",
        "          batch_size=128, epochs=10, verbose=1, validation_data=(X_valid, Y_valid))\n",
        "\n",
        "score = model.evaluate(X_test, Y_test, verbose=0)\n",
        "print(score)\n",
        "\n",
        "history_no_normal = pd.DataFrame(history.history)\n",
        "\n",
        "fig, (ax1, ax2) = plt.subplots(1, 2,figsize=(14,6))\n",
        "fig.suptitle('Loss and val loss without normalization')\n",
        "ax1.set_title(\"loss and val_loss \")\n",
        "ax1.plot(history_no_normal.loc[0:,['loss']],label='loss')\n",
        "ax1.plot(history_no_normal.loc[0:,['val_loss']],label='val_loss')\n",
        "ax1.legend(loc='upper right')\n",
        "\n",
        "ax2.set_title(\"accuracy and val_accuracy \")\n",
        "ax2.plot(history_no_normal.loc[0:,['accuracy']],label='accuracy')\n",
        "ax2.plot(history_no_normal.loc[0:,['val_accuracy']],label='val_accuracy')\n",
        "ax2.legend(loc='upper right')\n"
      ],
      "execution_count": 1,
      "outputs": [
        {
          "output_type": "stream",
          "text": [
            "Epoch 1/10\n",
            "391/391 [==============================] - 3s 4ms/step - loss: 20.4110 - accuracy: 0.6950 - val_loss: 0.8153 - val_accuracy: 0.7908\n",
            "Epoch 2/10\n",
            "391/391 [==============================] - 1s 3ms/step - loss: 0.6642 - accuracy: 0.8151 - val_loss: 0.5782 - val_accuracy: 0.8271\n",
            "Epoch 3/10\n",
            "391/391 [==============================] - 1s 3ms/step - loss: 0.5064 - accuracy: 0.8362 - val_loss: 0.5731 - val_accuracy: 0.8174\n",
            "Epoch 4/10\n",
            "391/391 [==============================] - 1s 3ms/step - loss: 0.4341 - accuracy: 0.8498 - val_loss: 0.5473 - val_accuracy: 0.8267\n",
            "Epoch 5/10\n",
            "391/391 [==============================] - 1s 3ms/step - loss: 0.4059 - accuracy: 0.8581 - val_loss: 0.4863 - val_accuracy: 0.8474\n",
            "Epoch 6/10\n",
            "391/391 [==============================] - 1s 3ms/step - loss: 0.3894 - accuracy: 0.8624 - val_loss: 0.4809 - val_accuracy: 0.8472\n",
            "Epoch 7/10\n",
            "391/391 [==============================] - 1s 3ms/step - loss: 0.3994 - accuracy: 0.8613 - val_loss: 0.5226 - val_accuracy: 0.8300\n",
            "Epoch 8/10\n",
            "391/391 [==============================] - 1s 3ms/step - loss: 0.3726 - accuracy: 0.8664 - val_loss: 0.5319 - val_accuracy: 0.8297\n",
            "Epoch 9/10\n",
            "391/391 [==============================] - 1s 3ms/step - loss: 0.3820 - accuracy: 0.8639 - val_loss: 0.5128 - val_accuracy: 0.8393\n",
            "Epoch 10/10\n",
            "391/391 [==============================] - 1s 3ms/step - loss: 0.3663 - accuracy: 0.8691 - val_loss: 0.4260 - val_accuracy: 0.8582\n",
            "[0.45383647084236145, 0.8493000268936157]\n"
          ],
          "name": "stdout"
        },
        {
          "output_type": "execute_result",
          "data": {
            "text/plain": [
              "<matplotlib.legend.Legend at 0x7fc65057b810>"
            ]
          },
          "metadata": {
            "tags": []
          },
          "execution_count": 1
        },
        {
          "output_type": "display_data",
          "data": {
            "image/png": "[encoded data removed]",
            "text/plain": [
              "<Figure size 1008x432 with 2 Axes>"
            ]
          },
          "metadata": {
            "tags": [],
            "needs_background": "light"
          }
        }
      ]
    },
    {
      "cell_type": "code",
      "metadata": {
        "colab": {
          "base_uri": "https://localhost:8080/"
        },
        "id": "E5KE6PS4d1dE",
        "outputId": "04e2ead1-41bc-4fc4-dfac-b48eb1b12407"
      },
      "source": [
        "model.summary()"
      ],
      "execution_count": 2,
      "outputs": [
        {
          "output_type": "stream",
          "text": [
            "Model: \"sequential\"\n",
            "_________________________________________________________________\n",
            "Layer (type)                 Output Shape              Param #   \n",
            "=================================================================\n",
            "dense (Dense)                (None, 512)               401920    \n",
            "_________________________________________________________________\n",
            "dense_1 (Dense)              (None, 512)               262656    \n",
            "_________________________________________________________________\n",
            "dense_2 (Dense)              (None, 10)                5130      \n",
            "=================================================================\n",
            "Total params: 669,706\n",
            "Trainable params: 669,706\n",
            "Non-trainable params: 0\n",
            "_________________________________________________________________\n"
          ],
          "name": "stdout"
        }
      ]
    },
    {
      "cell_type": "code",
      "metadata": {
        "colab": {
          "base_uri": "https://localhost:8080/",
          "height": 359
        },
        "id": "CWeLyN9RfZRx",
        "outputId": "120d47b1-8ec8-4453-c5dd-04d0c710e7f4"
      },
      "source": [
        "history_no_normal"
      ],
      "execution_count": 3,
      "outputs": [
        {
          "output_type": "execute_result",
          "data": {
            "text/html": [
              "<div>\n",
              "<style scoped>\n",
              "    .dataframe tbody tr th:only-of-type {\n",
              "        vertical-align: middle;\n",
              "    }\n",
              "\n",
              "    .dataframe tbody tr th {\n",
              "        vertical-align: top;\n",
              "    }\n",
              "\n",
              "    .dataframe thead th {\n",
              "        text-align: right;\n",
              "    }\n",
              "</style>\n",
              "<table border=\"1\" class=\"dataframe\">\n",
              "  <thead>\n",
              "    <tr style=\"text-align: right;\">\n",
              "      <th></th>\n",
              "      <th>loss</th>\n",
              "      <th>accuracy</th>\n",
              "      <th>val_loss</th>\n",
              "      <th>val_accuracy</th>\n",
              "    </tr>\n",
              "  </thead>\n",
              "  <tbody>\n",
              "    <tr>\n",
              "      <th>0</th>\n",
              "      <td>5.606455</td>\n",
              "      <td>0.76154</td>\n",
              "      <td>0.815312</td>\n",
              "      <td>0.7908</td>\n",
              "    </tr>\n",
              "    <tr>\n",
              "      <th>1</th>\n",
              "      <td>0.637789</td>\n",
              "      <td>0.81684</td>\n",
              "      <td>0.578222</td>\n",
              "      <td>0.8271</td>\n",
              "    </tr>\n",
              "    <tr>\n",
              "      <th>2</th>\n",
              "      <td>0.497610</td>\n",
              "      <td>0.83726</td>\n",
              "      <td>0.573069</td>\n",
              "      <td>0.8174</td>\n",
              "    </tr>\n",
              "    <tr>\n",
              "      <th>3</th>\n",
              "      <td>0.444894</td>\n",
              "      <td>0.84852</td>\n",
              "      <td>0.547334</td>\n",
              "      <td>0.8267</td>\n",
              "    </tr>\n",
              "    <tr>\n",
              "      <th>4</th>\n",
              "      <td>0.409526</td>\n",
              "      <td>0.85946</td>\n",
              "      <td>0.486337</td>\n",
              "      <td>0.8474</td>\n",
              "    </tr>\n",
              "    <tr>\n",
              "      <th>5</th>\n",
              "      <td>0.398731</td>\n",
              "      <td>0.86040</td>\n",
              "      <td>0.480949</td>\n",
              "      <td>0.8472</td>\n",
              "    </tr>\n",
              "    <tr>\n",
              "      <th>6</th>\n",
              "      <td>0.395400</td>\n",
              "      <td>0.86280</td>\n",
              "      <td>0.522618</td>\n",
              "      <td>0.8300</td>\n",
              "    </tr>\n",
              "    <tr>\n",
              "      <th>7</th>\n",
              "      <td>0.370655</td>\n",
              "      <td>0.86832</td>\n",
              "      <td>0.531899</td>\n",
              "      <td>0.8297</td>\n",
              "    </tr>\n",
              "    <tr>\n",
              "      <th>8</th>\n",
              "      <td>0.377073</td>\n",
              "      <td>0.86686</td>\n",
              "      <td>0.512838</td>\n",
              "      <td>0.8393</td>\n",
              "    </tr>\n",
              "    <tr>\n",
              "      <th>9</th>\n",
              "      <td>0.363320</td>\n",
              "      <td>0.86962</td>\n",
              "      <td>0.426007</td>\n",
              "      <td>0.8582</td>\n",
              "    </tr>\n",
              "  </tbody>\n",
              "</table>\n",
              "</div>"
            ],
            "text/plain": [
              "       loss  accuracy  val_loss  val_accuracy\n",
              "0  5.606455   0.76154  0.815312        0.7908\n",
              "1  0.637789   0.81684  0.578222        0.8271\n",
              "2  0.497610   0.83726  0.573069        0.8174\n",
              "3  0.444894   0.84852  0.547334        0.8267\n",
              "4  0.409526   0.85946  0.486337        0.8474\n",
              "5  0.398731   0.86040  0.480949        0.8472\n",
              "6  0.395400   0.86280  0.522618        0.8300\n",
              "7  0.370655   0.86832  0.531899        0.8297\n",
              "8  0.377073   0.86686  0.512838        0.8393\n",
              "9  0.363320   0.86962  0.426007        0.8582"
            ]
          },
          "metadata": {
            "tags": []
          },
          "execution_count": 3
        }
      ]
    },
    {
      "cell_type": "markdown",
      "metadata": {
        "id": "07s6HPLqd1dF"
      },
      "source": [
        "## Tareas\n",
        "\n",
        "Vamos a comenzar normalizando los datos de entrada según tres criterios: escalar los valores de entrada al rango 0-1, centrar a una media aproximada de 0 y transformar los datos de entrada aproximadamente a una distribución normal de media 0 y desviación unidad (N(0,1)).\n",
        "\n",
        "A continuación, cambiaremos el criterio de parada del entrenamiento del número máximo de iteraciones (épocas) a terminar el entrenamiento cuando se cumplan unas ciertas condiciones en un subconjunto de los datos u opcionalmente en un conjunto de validación (independiente del entrenamiento).\n",
        "\n",
        "### Normalización 1: escalado de los valores al rango (0, 1)\n",
        "\n",
        "A partir del código anterior, realizar las modificaciones necesarias para que los valores de las imágenes estén escalados al rango (0, 1)."
      ]
    },
    {
      "cell_type": "code",
      "metadata": {
        "tags": [],
        "id": "GLI3HswId1dF"
      },
      "source": [
        "from sklearn.preprocessing import MinMaxScaler,MaxAbsScaler\n",
        "\n",
        "scaler_min = MinMaxScaler()\n",
        "normalized_X_train = scaler_min.fit_transform(X_train)\n",
        "normalized_X_valid = scaler_min.fit_transform(X_valid)\n",
        "normalized_X_test = scaler_min.fit_transform(X_test)"
      ],
      "execution_count": 4,
      "outputs": []
    },
    {
      "cell_type": "code",
      "metadata": {
        "colab": {
          "base_uri": "https://localhost:8080/",
          "height": 791
        },
        "id": "LA4wvtkxd1dG",
        "outputId": "beb7bf77-920f-4234-88a3-13951d38165b"
      },
      "source": [
        "# Entrenamos el modelo con los datos normalizados en el rango (0,1)\n",
        "history_mm = model.fit(normalized_X_train, Y_train, \n",
        "          batch_size=128, epochs=10, verbose=1, validation_data=(normalized_X_valid, Y_valid))\n",
        "\n",
        "score = model.evaluate(normalized_X_test, Y_test, verbose=0)\n",
        "print(score)\n",
        "\n",
        "history_normal = pd.DataFrame(history_mm.history)\n",
        "\n",
        "fig, (ax1, ax2) = plt.subplots(1, 2,figsize=(14,6))\n",
        "fig.suptitle('Loss and accuracy with normalization')\n",
        "ax1.set_title(\"loss and val_loss \")\n",
        "ax1.plot(history_normal.loc[0:,['loss']],label='loss')\n",
        "ax1.plot(history_normal.loc[0:,['val_loss']],label='val_loss')\n",
        "ax1.legend(loc='upper right')\n",
        "\n",
        "\n",
        "ax2.set_title(\"accuracy and val_accuracy \")\n",
        "ax2.plot(history_normal.loc[0:,['accuracy']],label='accuracy')\n",
        "ax2.plot(history_normal.loc[0:,['val_accuracy']],label='val_accuracy')\n",
        "ax2.legend(loc='upper right')\n"
      ],
      "execution_count": 5,
      "outputs": [
        {
          "output_type": "stream",
          "text": [
            "Epoch 1/10\n",
            "391/391 [==============================] - 1s 4ms/step - loss: 0.7095 - accuracy: 0.7480 - val_loss: 0.4154 - val_accuracy: 0.8521\n",
            "Epoch 2/10\n",
            "391/391 [==============================] - 1s 4ms/step - loss: 0.3811 - accuracy: 0.8625 - val_loss: 0.3700 - val_accuracy: 0.8680\n",
            "Epoch 3/10\n",
            "391/391 [==============================] - 1s 4ms/step - loss: 0.3390 - accuracy: 0.8769 - val_loss: 0.3430 - val_accuracy: 0.8741\n",
            "Epoch 4/10\n",
            "391/391 [==============================] - 1s 4ms/step - loss: 0.3153 - accuracy: 0.8836 - val_loss: 0.3250 - val_accuracy: 0.8822\n",
            "Epoch 5/10\n",
            "391/391 [==============================] - 1s 4ms/step - loss: 0.2951 - accuracy: 0.8907 - val_loss: 0.3220 - val_accuracy: 0.8848\n",
            "Epoch 6/10\n",
            "391/391 [==============================] - 1s 3ms/step - loss: 0.2820 - accuracy: 0.8962 - val_loss: 0.3243 - val_accuracy: 0.8827\n",
            "Epoch 7/10\n",
            "391/391 [==============================] - 1s 4ms/step - loss: 0.2727 - accuracy: 0.8992 - val_loss: 0.3103 - val_accuracy: 0.8890\n",
            "Epoch 8/10\n",
            "391/391 [==============================] - 1s 4ms/step - loss: 0.2599 - accuracy: 0.9032 - val_loss: 0.3237 - val_accuracy: 0.8831\n",
            "Epoch 9/10\n",
            "391/391 [==============================] - 1s 4ms/step - loss: 0.2537 - accuracy: 0.9043 - val_loss: 0.3287 - val_accuracy: 0.8826\n",
            "Epoch 10/10\n",
            "391/391 [==============================] - 1s 3ms/step - loss: 0.2468 - accuracy: 0.9080 - val_loss: 0.3136 - val_accuracy: 0.8876\n",
            "[0.341675728559494, 0.8799999952316284]\n"
          ],
          "name": "stdout"
        },
        {
          "output_type": "execute_result",
          "data": {
            "text/plain": [
              "<matplotlib.legend.Legend at 0x7fc63aa7ae50>"
            ]
          },
          "metadata": {
            "tags": []
          },
          "execution_count": 5
        },
        {
          "output_type": "display_data",
          "data": {
            "image/png": "[encoded data removed]",
            "text/plain": [
              "<Figure size 1008x432 with 2 Axes>"
            ]
          },
          "metadata": {
            "tags": [],
            "needs_background": "light"
          }
        }
      ]
    },
    {
      "cell_type": "code",
      "metadata": {
        "colab": {
          "base_uri": "https://localhost:8080/",
          "height": 359
        },
        "id": "I7SDUIeCf1U4",
        "outputId": "101a8bc1-43fe-4964-9b58-e024e60877c5"
      },
      "source": [
        "history_normal"
      ],
      "execution_count": 6,
      "outputs": [
        {
          "output_type": "execute_result",
          "data": {
            "text/html": [
              "<div>\n",
              "<style scoped>\n",
              "    .dataframe tbody tr th:only-of-type {\n",
              "        vertical-align: middle;\n",
              "    }\n",
              "\n",
              "    .dataframe tbody tr th {\n",
              "        vertical-align: top;\n",
              "    }\n",
              "\n",
              "    .dataframe thead th {\n",
              "        text-align: right;\n",
              "    }\n",
              "</style>\n",
              "<table border=\"1\" class=\"dataframe\">\n",
              "  <thead>\n",
              "    <tr style=\"text-align: right;\">\n",
              "      <th></th>\n",
              "      <th>loss</th>\n",
              "      <th>accuracy</th>\n",
              "      <th>val_loss</th>\n",
              "      <th>val_accuracy</th>\n",
              "    </tr>\n",
              "  </thead>\n",
              "  <tbody>\n",
              "    <tr>\n",
              "      <th>0</th>\n",
              "      <td>0.709538</td>\n",
              "      <td>0.74796</td>\n",
              "      <td>0.415380</td>\n",
              "      <td>0.8521</td>\n",
              "    </tr>\n",
              "    <tr>\n",
              "      <th>1</th>\n",
              "      <td>0.381059</td>\n",
              "      <td>0.86246</td>\n",
              "      <td>0.369989</td>\n",
              "      <td>0.8680</td>\n",
              "    </tr>\n",
              "    <tr>\n",
              "      <th>2</th>\n",
              "      <td>0.339042</td>\n",
              "      <td>0.87692</td>\n",
              "      <td>0.343017</td>\n",
              "      <td>0.8741</td>\n",
              "    </tr>\n",
              "    <tr>\n",
              "      <th>3</th>\n",
              "      <td>0.315296</td>\n",
              "      <td>0.88360</td>\n",
              "      <td>0.325017</td>\n",
              "      <td>0.8822</td>\n",
              "    </tr>\n",
              "    <tr>\n",
              "      <th>4</th>\n",
              "      <td>0.295121</td>\n",
              "      <td>0.89074</td>\n",
              "      <td>0.322040</td>\n",
              "      <td>0.8848</td>\n",
              "    </tr>\n",
              "    <tr>\n",
              "      <th>5</th>\n",
              "      <td>0.282034</td>\n",
              "      <td>0.89622</td>\n",
              "      <td>0.324329</td>\n",
              "      <td>0.8827</td>\n",
              "    </tr>\n",
              "    <tr>\n",
              "      <th>6</th>\n",
              "      <td>0.272685</td>\n",
              "      <td>0.89918</td>\n",
              "      <td>0.310270</td>\n",
              "      <td>0.8890</td>\n",
              "    </tr>\n",
              "    <tr>\n",
              "      <th>7</th>\n",
              "      <td>0.259878</td>\n",
              "      <td>0.90318</td>\n",
              "      <td>0.323661</td>\n",
              "      <td>0.8831</td>\n",
              "    </tr>\n",
              "    <tr>\n",
              "      <th>8</th>\n",
              "      <td>0.253701</td>\n",
              "      <td>0.90434</td>\n",
              "      <td>0.328677</td>\n",
              "      <td>0.8826</td>\n",
              "    </tr>\n",
              "    <tr>\n",
              "      <th>9</th>\n",
              "      <td>0.246772</td>\n",
              "      <td>0.90800</td>\n",
              "      <td>0.313629</td>\n",
              "      <td>0.8876</td>\n",
              "    </tr>\n",
              "  </tbody>\n",
              "</table>\n",
              "</div>"
            ],
            "text/plain": [
              "       loss  accuracy  val_loss  val_accuracy\n",
              "0  0.709538   0.74796  0.415380        0.8521\n",
              "1  0.381059   0.86246  0.369989        0.8680\n",
              "2  0.339042   0.87692  0.343017        0.8741\n",
              "3  0.315296   0.88360  0.325017        0.8822\n",
              "4  0.295121   0.89074  0.322040        0.8848\n",
              "5  0.282034   0.89622  0.324329        0.8827\n",
              "6  0.272685   0.89918  0.310270        0.8890\n",
              "7  0.259878   0.90318  0.323661        0.8831\n",
              "8  0.253701   0.90434  0.328677        0.8826\n",
              "9  0.246772   0.90800  0.313629        0.8876"
            ]
          },
          "metadata": {
            "tags": []
          },
          "execution_count": 6
        }
      ]
    },
    {
      "cell_type": "markdown",
      "metadata": {
        "id": "mYTDAYVnd1dG"
      },
      "source": [
        "¿Ha mejorado el resultado? ¿Por qué?"
      ]
    },
    {
      "cell_type": "code",
      "metadata": {
        "id": "s878KDeEd1dH"
      },
      "source": [
        "# Ya vemos una mejora con respecto al experimento inicial sin normalizar. \n",
        "# El valor de perdida para el set de validacion es de ~0.42 (sin normalizar) versus ~0.30 (normalizado). Ademas del valor de accuracy que\n",
        "# es sensiblemente mejor con los datos normalizados.\n",
        "# En general, por lo que he podido leer es casi siempre una buena idea normalizar los datos,\n",
        "# la razón es que el SGD ajustara los pesos de la red en proporción a la magnitud de la activación que produzcan los datos.\n",
        "# Las features que tienden a producir activaciones de tamaños muy diferentes pueden dar lugar a un comportamiento de entrenamiento inestable"
      ],
      "execution_count": 7,
      "outputs": []
    },
    {
      "cell_type": "markdown",
      "metadata": {
        "id": "guGWOc1fd1dH"
      },
      "source": [
        "### Normalización 2: centrar a una media aproximada de 0 \n",
        "\n",
        "AYUDA: Para centrar los valores a una media aproximada de 0, puedes calcular la media total y restarsela a todos los datos. Recuerda que la información de los datos de evaluación (test) no se puede utilizar, pero deben llevar el mismo procesamiento que los datos con los que se entrena la red."
      ]
    },
    {
      "cell_type": "code",
      "metadata": {
        "id": "OLusv6jzd1dH"
      },
      "source": [
        "from sklearn.preprocessing import StandardScaler\n",
        "\n",
        "scaler_m0 = StandardScaler(with_std=False)\n",
        "scaler_X_train_m0 = scaler_m0.fit_transform(X_train)\n",
        "scaler_X_valid_m0 = scaler_m0.fit_transform(X_valid)\n",
        "scaler_X_test_m0 = scaler_m0.fit_transform(X_test)"
      ],
      "execution_count": 8,
      "outputs": []
    },
    {
      "cell_type": "code",
      "metadata": {
        "colab": {
          "base_uri": "https://localhost:8080/",
          "height": 791
        },
        "id": "QA48tDVwd1dI",
        "outputId": "828f482a-92a7-469f-fa08-85eca61f3511"
      },
      "source": [
        "history_m0 = model.fit(scaler_X_train_m0, Y_train, \n",
        "          batch_size=128, epochs=10, verbose=1, validation_data=(scaler_X_valid_m0, Y_valid))\n",
        "\n",
        "score = model.evaluate(scaler_X_test_m0, Y_test, verbose=0)\n",
        "print(score)\n",
        "\n",
        "history_mean0 = pd.DataFrame(history_m0.history)\n",
        "\n",
        "fig, (ax1, ax2) = plt.subplots(1, 2,figsize=(14,6))\n",
        "fig.suptitle('Loss and accuracy with normalization')\n",
        "ax1.set_title(\"loss and val_loss \")\n",
        "ax1.plot(history_mean0.loc[0:,['loss']],label='loss')\n",
        "ax1.plot(history_mean0.loc[0:,['val_loss']],label='val_loss')\n",
        "ax1.legend(loc='upper right')\n",
        "\n",
        "\n",
        "ax2.set_title(\"accuracy and val_accuracy \")\n",
        "ax2.plot(history_mean0.loc[0:,['accuracy']],label='accuracy')\n",
        "ax2.plot(history_mean0.loc[0:,['val_accuracy']],label='val_accuracy')\n",
        "ax2.legend(loc='upper right')"
      ],
      "execution_count": 9,
      "outputs": [
        {
          "output_type": "stream",
          "text": [
            "Epoch 1/10\n",
            "391/391 [==============================] - 2s 4ms/step - loss: 49.9249 - accuracy: 0.6976 - val_loss: 0.9976 - val_accuracy: 0.7452\n",
            "Epoch 2/10\n",
            "391/391 [==============================] - 1s 4ms/step - loss: 0.6938 - accuracy: 0.7763 - val_loss: 0.7764 - val_accuracy: 0.7968\n",
            "Epoch 3/10\n",
            "391/391 [==============================] - 1s 3ms/step - loss: 0.5459 - accuracy: 0.8143 - val_loss: 0.7214 - val_accuracy: 0.8168\n",
            "Epoch 4/10\n",
            "391/391 [==============================] - 1s 4ms/step - loss: 0.4873 - accuracy: 0.8306 - val_loss: 0.6304 - val_accuracy: 0.8269\n",
            "Epoch 5/10\n",
            "391/391 [==============================] - 1s 3ms/step - loss: 0.4428 - accuracy: 0.8421 - val_loss: 0.6190 - val_accuracy: 0.8350\n",
            "Epoch 6/10\n",
            "391/391 [==============================] - 1s 4ms/step - loss: 0.4204 - accuracy: 0.8486 - val_loss: 0.5923 - val_accuracy: 0.8418\n",
            "Epoch 7/10\n",
            "391/391 [==============================] - 1s 4ms/step - loss: 0.4137 - accuracy: 0.8575 - val_loss: 0.6039 - val_accuracy: 0.8426\n",
            "Epoch 8/10\n",
            "391/391 [==============================] - 1s 3ms/step - loss: 0.3866 - accuracy: 0.8642 - val_loss: 0.6082 - val_accuracy: 0.8566\n",
            "Epoch 9/10\n",
            "391/391 [==============================] - 1s 4ms/step - loss: 0.3717 - accuracy: 0.8707 - val_loss: 0.6230 - val_accuracy: 0.8480\n",
            "Epoch 10/10\n",
            "391/391 [==============================] - 1s 3ms/step - loss: 0.3614 - accuracy: 0.8732 - val_loss: 0.4811 - val_accuracy: 0.8555\n",
            "[0.5505216717720032, 0.8453999757766724]\n"
          ],
          "name": "stdout"
        },
        {
          "output_type": "execute_result",
          "data": {
            "text/plain": [
              "<matplotlib.legend.Legend at 0x7fc63a945a90>"
            ]
          },
          "metadata": {
            "tags": []
          },
          "execution_count": 9
        },
        {
          "output_type": "display_data",
          "data": {
            "image/png": "[encoded data removed]",
            "text/plain": [
              "<Figure size 1008x432 with 2 Axes>"
            ]
          },
          "metadata": {
            "tags": [],
            "needs_background": "light"
          }
        }
      ]
    },
    {
      "cell_type": "code",
      "metadata": {
        "colab": {
          "base_uri": "https://localhost:8080/",
          "height": 359
        },
        "id": "0Z06BC8df5-i",
        "outputId": "e23629d2-1e8a-4b99-b034-6988a9956c27"
      },
      "source": [
        "history_mean0"
      ],
      "execution_count": 10,
      "outputs": [
        {
          "output_type": "execute_result",
          "data": {
            "text/html": [
              "<div>\n",
              "<style scoped>\n",
              "    .dataframe tbody tr th:only-of-type {\n",
              "        vertical-align: middle;\n",
              "    }\n",
              "\n",
              "    .dataframe tbody tr th {\n",
              "        vertical-align: top;\n",
              "    }\n",
              "\n",
              "    .dataframe thead th {\n",
              "        text-align: right;\n",
              "    }\n",
              "</style>\n",
              "<table border=\"1\" class=\"dataframe\">\n",
              "  <thead>\n",
              "    <tr style=\"text-align: right;\">\n",
              "      <th></th>\n",
              "      <th>loss</th>\n",
              "      <th>accuracy</th>\n",
              "      <th>val_loss</th>\n",
              "      <th>val_accuracy</th>\n",
              "    </tr>\n",
              "  </thead>\n",
              "  <tbody>\n",
              "    <tr>\n",
              "      <th>0</th>\n",
              "      <td>49.924938</td>\n",
              "      <td>0.69758</td>\n",
              "      <td>0.997563</td>\n",
              "      <td>0.7452</td>\n",
              "    </tr>\n",
              "    <tr>\n",
              "      <th>1</th>\n",
              "      <td>0.693787</td>\n",
              "      <td>0.77632</td>\n",
              "      <td>0.776398</td>\n",
              "      <td>0.7968</td>\n",
              "    </tr>\n",
              "    <tr>\n",
              "      <th>2</th>\n",
              "      <td>0.545917</td>\n",
              "      <td>0.81432</td>\n",
              "      <td>0.721440</td>\n",
              "      <td>0.8168</td>\n",
              "    </tr>\n",
              "    <tr>\n",
              "      <th>3</th>\n",
              "      <td>0.487332</td>\n",
              "      <td>0.83060</td>\n",
              "      <td>0.630424</td>\n",
              "      <td>0.8269</td>\n",
              "    </tr>\n",
              "    <tr>\n",
              "      <th>4</th>\n",
              "      <td>0.442764</td>\n",
              "      <td>0.84214</td>\n",
              "      <td>0.618990</td>\n",
              "      <td>0.8350</td>\n",
              "    </tr>\n",
              "    <tr>\n",
              "      <th>5</th>\n",
              "      <td>0.420427</td>\n",
              "      <td>0.84860</td>\n",
              "      <td>0.592329</td>\n",
              "      <td>0.8418</td>\n",
              "    </tr>\n",
              "    <tr>\n",
              "      <th>6</th>\n",
              "      <td>0.413674</td>\n",
              "      <td>0.85746</td>\n",
              "      <td>0.603902</td>\n",
              "      <td>0.8426</td>\n",
              "    </tr>\n",
              "    <tr>\n",
              "      <th>7</th>\n",
              "      <td>0.386595</td>\n",
              "      <td>0.86424</td>\n",
              "      <td>0.608216</td>\n",
              "      <td>0.8566</td>\n",
              "    </tr>\n",
              "    <tr>\n",
              "      <th>8</th>\n",
              "      <td>0.371722</td>\n",
              "      <td>0.87070</td>\n",
              "      <td>0.623049</td>\n",
              "      <td>0.8480</td>\n",
              "    </tr>\n",
              "    <tr>\n",
              "      <th>9</th>\n",
              "      <td>0.361375</td>\n",
              "      <td>0.87320</td>\n",
              "      <td>0.481138</td>\n",
              "      <td>0.8555</td>\n",
              "    </tr>\n",
              "  </tbody>\n",
              "</table>\n",
              "</div>"
            ],
            "text/plain": [
              "        loss  accuracy  val_loss  val_accuracy\n",
              "0  49.924938   0.69758  0.997563        0.7452\n",
              "1   0.693787   0.77632  0.776398        0.7968\n",
              "2   0.545917   0.81432  0.721440        0.8168\n",
              "3   0.487332   0.83060  0.630424        0.8269\n",
              "4   0.442764   0.84214  0.618990        0.8350\n",
              "5   0.420427   0.84860  0.592329        0.8418\n",
              "6   0.413674   0.85746  0.603902        0.8426\n",
              "7   0.386595   0.86424  0.608216        0.8566\n",
              "8   0.371722   0.87070  0.623049        0.8480\n",
              "9   0.361375   0.87320  0.481138        0.8555"
            ]
          },
          "metadata": {
            "tags": []
          },
          "execution_count": 10
        }
      ]
    },
    {
      "cell_type": "markdown",
      "metadata": {
        "id": "KZYfXzrWd1dI"
      },
      "source": [
        "### Normalización 3: distribución normal de media 0 y desviación stándard 1 (estandarización N(0,1))\n",
        "\n",
        "AYUDA: Para estandarizar los valores a una distribución aproximadamente normal N(0, 1), puedes calcular la media y la desviación total y aplicar la normalización: x\\_norm = (x - media)/desviacion. \n",
        "\n",
        "Recuerda que la información de los datos de evaluación (test) no se puede utilizar, pero deben llevar el mismo procesamiento que los datos con los que se entrena la red.\n"
      ]
    },
    {
      "cell_type": "code",
      "metadata": {
        "tags": [],
        "id": "bG1RWVAgd1dI"
      },
      "source": [
        "############## Si al ejecutar el Kernel se bloquea, \n",
        "############## utiliza estas líneas para permitir la \n",
        "############## duplicación de librerías\n",
        "import os\n",
        "os.environ['KMP_DUPLICATE_LIB_OK']='True'\n",
        "##############\n",
        "from sklearn.preprocessing import StandardScaler\n",
        "\n",
        "scaler_std = StandardScaler()\n",
        "scaler_X_train = scaler_std.fit_transform(X_train)\n",
        "scaler_X_valid = scaler_std.fit_transform(X_valid)\n",
        "scaler_X_test = scaler_std.fit_transform(X_test)"
      ],
      "execution_count": 11,
      "outputs": []
    },
    {
      "cell_type": "code",
      "metadata": {
        "colab": {
          "base_uri": "https://localhost:8080/",
          "height": 791
        },
        "id": "tv4TIM7Ad1dJ",
        "outputId": "855c27d8-4014-4047-8f81-9f46aa224f28"
      },
      "source": [
        "history_standard = model.fit(scaler_X_train, Y_train, \n",
        "          batch_size=128, epochs=10, verbose=1, validation_data=(scaler_X_valid, Y_valid))\n",
        "\n",
        "score = model.evaluate(scaler_X_test, Y_test, verbose=0)\n",
        "print(score)\n",
        "\n",
        "history_std = pd.DataFrame(history_standard.history)\n",
        "\n",
        "fig, (ax1, ax2) = plt.subplots(1, 2,figsize=(14,6))\n",
        "fig.suptitle('Loss and accuracy with standarization')\n",
        "ax1.plot(history_std.loc[0:,['loss']],label='loss')\n",
        "ax1.plot(history_std.loc[0:,['val_loss']],label='val_loss')\n",
        "ax1.legend(loc='upper right')\n",
        "\n",
        "\n",
        "ax2.set_title(\"accuracy and val_accuracy \")\n",
        "ax2.plot(history_std.loc[0:,['accuracy']],label='accuracy')\n",
        "ax2.plot(history_std.loc[0:,['val_accuracy']],label='val_accuracy')\n",
        "ax2.legend(loc='upper right')\n",
        "\n"
      ],
      "execution_count": 12,
      "outputs": [
        {
          "output_type": "stream",
          "text": [
            "Epoch 1/10\n",
            "391/391 [==============================] - 1s 4ms/step - loss: 0.7596 - accuracy: 0.7468 - val_loss: 0.4954 - val_accuracy: 0.8265\n",
            "Epoch 2/10\n",
            "391/391 [==============================] - 1s 4ms/step - loss: 0.4081 - accuracy: 0.8534 - val_loss: 0.3954 - val_accuracy: 0.8594\n",
            "Epoch 3/10\n",
            "391/391 [==============================] - 1s 4ms/step - loss: 0.3489 - accuracy: 0.8735 - val_loss: 0.3720 - val_accuracy: 0.8673\n",
            "Epoch 4/10\n",
            "391/391 [==============================] - 1s 4ms/step - loss: 0.3228 - accuracy: 0.8810 - val_loss: 0.3554 - val_accuracy: 0.8729\n",
            "Epoch 5/10\n",
            "391/391 [==============================] - 1s 4ms/step - loss: 0.3041 - accuracy: 0.8875 - val_loss: 0.3501 - val_accuracy: 0.8736\n",
            "Epoch 6/10\n",
            "391/391 [==============================] - 1s 4ms/step - loss: 0.2871 - accuracy: 0.8941 - val_loss: 0.3464 - val_accuracy: 0.8764\n",
            "Epoch 7/10\n",
            "391/391 [==============================] - 1s 4ms/step - loss: 0.2738 - accuracy: 0.8983 - val_loss: 0.3381 - val_accuracy: 0.8789\n",
            "Epoch 8/10\n",
            "391/391 [==============================] - 1s 4ms/step - loss: 0.2618 - accuracy: 0.9025 - val_loss: 0.3411 - val_accuracy: 0.8772\n",
            "Epoch 9/10\n",
            "391/391 [==============================] - 1s 4ms/step - loss: 0.2490 - accuracy: 0.9071 - val_loss: 0.3316 - val_accuracy: 0.8842\n",
            "Epoch 10/10\n",
            "391/391 [==============================] - 1s 4ms/step - loss: 0.2382 - accuracy: 0.9114 - val_loss: 0.3530 - val_accuracy: 0.8777\n",
            "[0.37799105048179626, 0.869700014591217]\n"
          ],
          "name": "stdout"
        },
        {
          "output_type": "execute_result",
          "data": {
            "text/plain": [
              "<matplotlib.legend.Legend at 0x7fc63a83b810>"
            ]
          },
          "metadata": {
            "tags": []
          },
          "execution_count": 12
        },
        {
          "output_type": "display_data",
          "data": {
            "image/png": "[encoded data removed]",
            "text/plain": [
              "<Figure size 1008x432 with 2 Axes>"
            ]
          },
          "metadata": {
            "tags": [],
            "needs_background": "light"
          }
        }
      ]
    },
    {
      "cell_type": "code",
      "metadata": {
        "colab": {
          "base_uri": "https://localhost:8080/",
          "height": 359
        },
        "id": "EKfNFxFfgBts",
        "outputId": "f09648c4-c334-4703-dbeb-2b6137a135c2"
      },
      "source": [
        "history_std"
      ],
      "execution_count": 13,
      "outputs": [
        {
          "output_type": "execute_result",
          "data": {
            "text/html": [
              "<div>\n",
              "<style scoped>\n",
              "    .dataframe tbody tr th:only-of-type {\n",
              "        vertical-align: middle;\n",
              "    }\n",
              "\n",
              "    .dataframe tbody tr th {\n",
              "        vertical-align: top;\n",
              "    }\n",
              "\n",
              "    .dataframe thead th {\n",
              "        text-align: right;\n",
              "    }\n",
              "</style>\n",
              "<table border=\"1\" class=\"dataframe\">\n",
              "  <thead>\n",
              "    <tr style=\"text-align: right;\">\n",
              "      <th></th>\n",
              "      <th>loss</th>\n",
              "      <th>accuracy</th>\n",
              "      <th>val_loss</th>\n",
              "      <th>val_accuracy</th>\n",
              "    </tr>\n",
              "  </thead>\n",
              "  <tbody>\n",
              "    <tr>\n",
              "      <th>0</th>\n",
              "      <td>0.759603</td>\n",
              "      <td>0.74680</td>\n",
              "      <td>0.495428</td>\n",
              "      <td>0.8265</td>\n",
              "    </tr>\n",
              "    <tr>\n",
              "      <th>1</th>\n",
              "      <td>0.408089</td>\n",
              "      <td>0.85342</td>\n",
              "      <td>0.395419</td>\n",
              "      <td>0.8594</td>\n",
              "    </tr>\n",
              "    <tr>\n",
              "      <th>2</th>\n",
              "      <td>0.348931</td>\n",
              "      <td>0.87346</td>\n",
              "      <td>0.371978</td>\n",
              "      <td>0.8673</td>\n",
              "    </tr>\n",
              "    <tr>\n",
              "      <th>3</th>\n",
              "      <td>0.322756</td>\n",
              "      <td>0.88098</td>\n",
              "      <td>0.355430</td>\n",
              "      <td>0.8729</td>\n",
              "    </tr>\n",
              "    <tr>\n",
              "      <th>4</th>\n",
              "      <td>0.304060</td>\n",
              "      <td>0.88752</td>\n",
              "      <td>0.350133</td>\n",
              "      <td>0.8736</td>\n",
              "    </tr>\n",
              "    <tr>\n",
              "      <th>5</th>\n",
              "      <td>0.287093</td>\n",
              "      <td>0.89410</td>\n",
              "      <td>0.346365</td>\n",
              "      <td>0.8764</td>\n",
              "    </tr>\n",
              "    <tr>\n",
              "      <th>6</th>\n",
              "      <td>0.273815</td>\n",
              "      <td>0.89834</td>\n",
              "      <td>0.338076</td>\n",
              "      <td>0.8789</td>\n",
              "    </tr>\n",
              "    <tr>\n",
              "      <th>7</th>\n",
              "      <td>0.261776</td>\n",
              "      <td>0.90252</td>\n",
              "      <td>0.341108</td>\n",
              "      <td>0.8772</td>\n",
              "    </tr>\n",
              "    <tr>\n",
              "      <th>8</th>\n",
              "      <td>0.248971</td>\n",
              "      <td>0.90706</td>\n",
              "      <td>0.331580</td>\n",
              "      <td>0.8842</td>\n",
              "    </tr>\n",
              "    <tr>\n",
              "      <th>9</th>\n",
              "      <td>0.238246</td>\n",
              "      <td>0.91140</td>\n",
              "      <td>0.352989</td>\n",
              "      <td>0.8777</td>\n",
              "    </tr>\n",
              "  </tbody>\n",
              "</table>\n",
              "</div>"
            ],
            "text/plain": [
              "       loss  accuracy  val_loss  val_accuracy\n",
              "0  0.759603   0.74680  0.495428        0.8265\n",
              "1  0.408089   0.85342  0.395419        0.8594\n",
              "2  0.348931   0.87346  0.371978        0.8673\n",
              "3  0.322756   0.88098  0.355430        0.8729\n",
              "4  0.304060   0.88752  0.350133        0.8736\n",
              "5  0.287093   0.89410  0.346365        0.8764\n",
              "6  0.273815   0.89834  0.338076        0.8789\n",
              "7  0.261776   0.90252  0.341108        0.8772\n",
              "8  0.248971   0.90706  0.331580        0.8842\n",
              "9  0.238246   0.91140  0.352989        0.8777"
            ]
          },
          "metadata": {
            "tags": []
          },
          "execution_count": 13
        }
      ]
    },
    {
      "cell_type": "markdown",
      "metadata": {
        "id": "VqFK4v7ud1dJ"
      },
      "source": [
        "¿Ha mejorado el resultado con estas normalizaciones? ¿Por qué? ¿Con cuál se obtiene el mejor resultado?"
      ]
    },
    {
      "cell_type": "code",
      "metadata": {
        "id": "wqFx_cKhd1dJ"
      },
      "source": [
        "# En general normalizar ha mejorado los resultados comparado con los datos sin normalizar a exepcion de centrar valores a una media cercana a 0.\n",
        "# A tenor de los resultados y fijandonos en la metrica de la funcion de perdida en el set de validacion, la normalizacion (0,1)\n",
        "# ha obtenido los mejores resultados."
      ],
      "execution_count": 14,
      "outputs": []
    },
    {
      "cell_type": "markdown",
      "metadata": {
        "id": "npAvLEY2d1dK"
      },
      "source": [
        "### Ajuste de la tasa de aprendizaje para optimizar el rendimiento de la red\n",
        "\n",
        "Muchas veces, cuando la función de coste llega a una zona cerca del mínimo, la tasa de aprendizaje es muy grande para acercarse lo más posible a ese mínimo. Por eso, una de las formas de modificar ese valor durante el entrenamiento es llegar a un punto donde no vemos mejora en rendimiento en nuestro conjunto de validación, y empezar a reducir a la mitad el valor de nuestra tasa de aprendizaje. \n",
        "\n",
        "Para ello, podemos utilizar uno de los Callbacks de Keras llamado: ReduceLROnPlateau. Puedes encontrar la información sobre él en el siguiente enlace: https://keras.io/callbacks/#reducelronplateau\n",
        "\n",
        "Es posible que tengas que aumentar las iteraciones máximas para llegar a un caso en el que lleguemos a aplicar este callback, o ver mejor su influencia.\n",
        "\n",
        "Puedes empezar con el código anterior, con una paciencia de 2 iteraciones y una reducción del 50% del valor de la tasa de aprendizaje."
      ]
    },
    {
      "cell_type": "code",
      "metadata": {
        "tags": [],
        "colab": {
          "base_uri": "https://localhost:8080/",
          "height": 1000
        },
        "id": "ZxXApiShd1dK",
        "outputId": "be35365d-0a44-48bd-d7b4-83474f4bec6d"
      },
      "source": [
        "from tensorflow.keras.callbacks import ReduceLROnPlateau,EarlyStopping\n",
        "\n",
        "reduce_lr = ReduceLROnPlateau(monitor='val_loss', factor=0.5,\n",
        "                              patience=2,verbose=1)\n",
        "\n",
        "early_stopping = EarlyStopping(\n",
        "                    monitor='val_loss',\n",
        "                    min_delta=0.001,\n",
        "                    patience = 3,\n",
        "                    verbose=2,\n",
        "                    restore_best_weights=True,\n",
        ")\n",
        "\n",
        "# En este modelo final usamos los datos de entrada normalizados con standard Scaler.\n",
        "# Se agregan capas de dropout (a modo de experimento) a fin de evitar el overfitting. Durante el entrenamiento, la red puede aprender\n",
        "# patrones ficticios o espureos. Para reconocer esos patrones, la red suele basarse en combinaciones muy especificas de pesos(una especie\n",
        "# de conspiracion de pesos). Quitando alguno de esos pesos deshacemos la \"conspiracion\". Esa es un poco la idea de dropout. \n",
        "# Aleatoriamente remover un % de de esos pesos (neuronas) con el fin de que sea mucho mas dificil que la red aprenda esos \n",
        "# patrones ficticios / espurios.\n",
        "\n",
        "# En general, es una buena idea normalizar los datos,\n",
        "# la razón es que el SGD desplazará los pesos de la red en proporción a la magnitud de la activación que produzcan los datos.\n",
        "# Las features que tienden a producir activaciones de tamaños muy diferentes pueden dar lugar a un comportamiento de entrenamiento inestable.\n",
        "# Por lo tanto es bueno normalizar los datos antes de meterlos en la red y ademas existe la opcion de normalizarlos dentro de la red,\n",
        "# mediante el uso de BatchNormalization (tambien se ha probado a modo de experimento)\n",
        "# https://keras.io/api/layers/normalization_layers/batch_normalization/\n",
        "\n",
        "model_final = Sequential()\n",
        "model_final.add(Dense(512, activation='relu', input_shape=(28*28,)))\n",
        "#model_final.add(BatchNormalization())\n",
        "#model.add(Dropout(0.4))\n",
        "model_final.add(Dense(512, activation='relu'))\n",
        "model_final.add(Dense(512, activation='relu'))\n",
        "#model_final.add(BatchNormalization())\n",
        "#model.add(Dropout(0.4))\n",
        "model_final.add(Dense(10, activation='softmax'))\n",
        "\n",
        "model_final.compile(loss='categorical_crossentropy',\n",
        "              optimizer='adam',\n",
        "              metrics=['accuracy'])\n",
        "\n",
        "final_model = model_final.fit(normalized_X_train, Y_train, \n",
        "          batch_size=128, epochs=30, verbose=1, validation_data=(normalized_X_valid, Y_valid),callbacks=[reduce_lr,early_stopping])\n",
        "\n",
        "weights = model_final.get_weights()\n",
        "score = model_final.evaluate(normalized_X_test, Y_test, verbose=1)\n",
        "print(score)\n",
        "#print(weights)\n",
        "history_final = pd.DataFrame(final_model.history)\n",
        "\n",
        "fig, (ax1, ax2) = plt.subplots(1, 2,figsize=(14,6))\n",
        "fig.suptitle('Loss and accuracy with standarization')\n",
        "ax1.plot(history_final.loc[0:,['loss']],label='loss')\n",
        "ax1.plot(history_final.loc[0:,['val_loss']],label='val_loss')\n",
        "ax1.legend(loc='upper right')\n",
        "\n",
        "\n",
        "ax2.set_title(\"accuracy and val_accuracy \")\n",
        "ax2.plot(history_final.loc[0:,['accuracy']],label='accuracy')\n",
        "ax2.plot(history_final.loc[0:,['val_accuracy']],label='val_accuracy')\n",
        "ax2.legend(loc='upper right')\n"
      ],
      "execution_count": 15,
      "outputs": [
        {
          "output_type": "stream",
          "text": [
            "Epoch 1/30\n",
            "391/391 [==============================] - 2s 4ms/step - loss: 0.6544 - accuracy: 0.7669 - val_loss: 0.4043 - val_accuracy: 0.8558\n",
            "Epoch 2/30\n",
            "391/391 [==============================] - 1s 4ms/step - loss: 0.3650 - accuracy: 0.8636 - val_loss: 0.3463 - val_accuracy: 0.8699\n",
            "Epoch 3/30\n",
            "391/391 [==============================] - 1s 4ms/step - loss: 0.3278 - accuracy: 0.8789 - val_loss: 0.3412 - val_accuracy: 0.8726\n",
            "Epoch 4/30\n",
            "391/391 [==============================] - 1s 4ms/step - loss: 0.3023 - accuracy: 0.8875 - val_loss: 0.3377 - val_accuracy: 0.8786\n",
            "Epoch 5/30\n",
            "391/391 [==============================] - 1s 4ms/step - loss: 0.2802 - accuracy: 0.8963 - val_loss: 0.3231 - val_accuracy: 0.8805\n",
            "Epoch 6/30\n",
            "391/391 [==============================] - 1s 4ms/step - loss: 0.2572 - accuracy: 0.9044 - val_loss: 0.3088 - val_accuracy: 0.8840\n",
            "Epoch 7/30\n",
            "391/391 [==============================] - 1s 4ms/step - loss: 0.2510 - accuracy: 0.9071 - val_loss: 0.3003 - val_accuracy: 0.8928\n",
            "Epoch 8/30\n",
            "391/391 [==============================] - 1s 4ms/step - loss: 0.2340 - accuracy: 0.9112 - val_loss: 0.3157 - val_accuracy: 0.8865\n",
            "Epoch 9/30\n",
            "391/391 [==============================] - 1s 4ms/step - loss: 0.2257 - accuracy: 0.9131 - val_loss: 0.3017 - val_accuracy: 0.8975\n",
            "\n",
            "Epoch 00009: ReduceLROnPlateau reducing learning rate to 0.0005000000237487257.\n",
            "Epoch 10/30\n",
            "391/391 [==============================] - 1s 4ms/step - loss: 0.1922 - accuracy: 0.9264 - val_loss: 0.2927 - val_accuracy: 0.9018\n",
            "Epoch 11/30\n",
            "391/391 [==============================] - 1s 4ms/step - loss: 0.1757 - accuracy: 0.9327 - val_loss: 0.3207 - val_accuracy: 0.8931\n",
            "Epoch 12/30\n",
            "391/391 [==============================] - 2s 4ms/step - loss: 0.1650 - accuracy: 0.9361 - val_loss: 0.3021 - val_accuracy: 0.9003\n",
            "\n",
            "Epoch 00012: ReduceLROnPlateau reducing learning rate to 0.0002500000118743628.\n",
            "Epoch 13/30\n",
            "391/391 [==============================] - 1s 4ms/step - loss: 0.1430 - accuracy: 0.9447 - val_loss: 0.3081 - val_accuracy: 0.9008\n",
            "Restoring model weights from the end of the best epoch.\n",
            "Epoch 00013: early stopping\n",
            "313/313 [==============================] - 1s 2ms/step - loss: 0.3306 - accuracy: 0.8906\n",
            "[0.3305899202823639, 0.8906000256538391]\n"
          ],
          "name": "stdout"
        },
        {
          "output_type": "execute_result",
          "data": {
            "text/plain": [
              "<matplotlib.legend.Legend at 0x7fc639e04bd0>"
            ]
          },
          "metadata": {
            "tags": []
          },
          "execution_count": 15
        },
        {
          "output_type": "display_data",
          "data": {
            "image/png": "[encoded data removed]",
            "text/plain": [
              "<Figure size 1008x432 with 2 Axes>"
            ]
          },
          "metadata": {
            "tags": [],
            "needs_background": "light"
          }
        }
      ]
    },
    {
      "cell_type": "code",
      "metadata": {
        "colab": {
          "base_uri": "https://localhost:8080/",
          "height": 282
        },
        "id": "ecv1BmG1d1dK",
        "outputId": "1a7ccb7d-0cb7-4cc3-d64f-a5af899c5572"
      },
      "source": [
        "# Visualizacion del lerning rate\n",
        "history_final['lr'].plot()"
      ],
      "execution_count": 16,
      "outputs": [
        {
          "output_type": "execute_result",
          "data": {
            "text/plain": [
              "<matplotlib.axes._subplots.AxesSubplot at 0x7fc6a00b2150>"
            ]
          },
          "metadata": {
            "tags": []
          },
          "execution_count": 16
        },
        {
          "output_type": "display_data",
          "data": {
            "image/png": "[encoded data removed]",
            "text/plain": [
              "<Figure size 432x288 with 1 Axes>"
            ]
          },
          "metadata": {
            "tags": [],
            "needs_background": "light"
          }
        }
      ]
    },
    {
      "cell_type": "code",
      "metadata": {
        "colab": {
          "base_uri": "https://localhost:8080/",
          "height": 452
        },
        "id": "4mp_PLDPd1dL",
        "outputId": "80abf15f-e935-41b3-cd6e-2c3656a35ad6"
      },
      "source": [
        "# En el epoch 9 obtenemos el mejor valor de la metrica que estamos trackeando ('val_loss') y con EarlyStopping restauraremos\n",
        "# los valores de los pesos en ese momento.\n",
        "history_final"
      ],
      "execution_count": 17,
      "outputs": [
        {
          "output_type": "execute_result",
          "data": {
            "text/html": [
              "<div>\n",
              "<style scoped>\n",
              "    .dataframe tbody tr th:only-of-type {\n",
              "        vertical-align: middle;\n",
              "    }\n",
              "\n",
              "    .dataframe tbody tr th {\n",
              "        vertical-align: top;\n",
              "    }\n",
              "\n",
              "    .dataframe thead th {\n",
              "        text-align: right;\n",
              "    }\n",
              "</style>\n",
              "<table border=\"1\" class=\"dataframe\">\n",
              "  <thead>\n",
              "    <tr style=\"text-align: right;\">\n",
              "      <th></th>\n",
              "      <th>loss</th>\n",
              "      <th>accuracy</th>\n",
              "      <th>val_loss</th>\n",
              "      <th>val_accuracy</th>\n",
              "      <th>lr</th>\n",
              "    </tr>\n",
              "  </thead>\n",
              "  <tbody>\n",
              "    <tr>\n",
              "      <th>0</th>\n",
              "      <td>0.496057</td>\n",
              "      <td>0.82178</td>\n",
              "      <td>0.404280</td>\n",
              "      <td>0.8558</td>\n",
              "      <td>0.00100</td>\n",
              "    </tr>\n",
              "    <tr>\n",
              "      <th>1</th>\n",
              "      <td>0.360745</td>\n",
              "      <td>0.86660</td>\n",
              "      <td>0.346318</td>\n",
              "      <td>0.8699</td>\n",
              "      <td>0.00100</td>\n",
              "    </tr>\n",
              "    <tr>\n",
              "      <th>2</th>\n",
              "      <td>0.325629</td>\n",
              "      <td>0.87934</td>\n",
              "      <td>0.341196</td>\n",
              "      <td>0.8726</td>\n",
              "      <td>0.00100</td>\n",
              "    </tr>\n",
              "    <tr>\n",
              "      <th>3</th>\n",
              "      <td>0.301430</td>\n",
              "      <td>0.88712</td>\n",
              "      <td>0.337653</td>\n",
              "      <td>0.8786</td>\n",
              "      <td>0.00100</td>\n",
              "    </tr>\n",
              "    <tr>\n",
              "      <th>4</th>\n",
              "      <td>0.279613</td>\n",
              "      <td>0.89524</td>\n",
              "      <td>0.323077</td>\n",
              "      <td>0.8805</td>\n",
              "      <td>0.00100</td>\n",
              "    </tr>\n",
              "    <tr>\n",
              "      <th>5</th>\n",
              "      <td>0.262177</td>\n",
              "      <td>0.90126</td>\n",
              "      <td>0.308776</td>\n",
              "      <td>0.8840</td>\n",
              "      <td>0.00100</td>\n",
              "    </tr>\n",
              "    <tr>\n",
              "      <th>6</th>\n",
              "      <td>0.248469</td>\n",
              "      <td>0.90760</td>\n",
              "      <td>0.300260</td>\n",
              "      <td>0.8928</td>\n",
              "      <td>0.00100</td>\n",
              "    </tr>\n",
              "    <tr>\n",
              "      <th>7</th>\n",
              "      <td>0.237444</td>\n",
              "      <td>0.90938</td>\n",
              "      <td>0.315675</td>\n",
              "      <td>0.8865</td>\n",
              "      <td>0.00100</td>\n",
              "    </tr>\n",
              "    <tr>\n",
              "      <th>8</th>\n",
              "      <td>0.229287</td>\n",
              "      <td>0.91292</td>\n",
              "      <td>0.301715</td>\n",
              "      <td>0.8975</td>\n",
              "      <td>0.00100</td>\n",
              "    </tr>\n",
              "    <tr>\n",
              "      <th>9</th>\n",
              "      <td>0.188795</td>\n",
              "      <td>0.92784</td>\n",
              "      <td>0.292654</td>\n",
              "      <td>0.9018</td>\n",
              "      <td>0.00050</td>\n",
              "    </tr>\n",
              "    <tr>\n",
              "      <th>10</th>\n",
              "      <td>0.175521</td>\n",
              "      <td>0.93198</td>\n",
              "      <td>0.320700</td>\n",
              "      <td>0.8931</td>\n",
              "      <td>0.00050</td>\n",
              "    </tr>\n",
              "    <tr>\n",
              "      <th>11</th>\n",
              "      <td>0.167017</td>\n",
              "      <td>0.93588</td>\n",
              "      <td>0.302074</td>\n",
              "      <td>0.9003</td>\n",
              "      <td>0.00050</td>\n",
              "    </tr>\n",
              "    <tr>\n",
              "      <th>12</th>\n",
              "      <td>0.139449</td>\n",
              "      <td>0.94630</td>\n",
              "      <td>0.308102</td>\n",
              "      <td>0.9008</td>\n",
              "      <td>0.00025</td>\n",
              "    </tr>\n",
              "  </tbody>\n",
              "</table>\n",
              "</div>"
            ],
            "text/plain": [
              "        loss  accuracy  val_loss  val_accuracy       lr\n",
              "0   0.496057   0.82178  0.404280        0.8558  0.00100\n",
              "1   0.360745   0.86660  0.346318        0.8699  0.00100\n",
              "2   0.325629   0.87934  0.341196        0.8726  0.00100\n",
              "3   0.301430   0.88712  0.337653        0.8786  0.00100\n",
              "4   0.279613   0.89524  0.323077        0.8805  0.00100\n",
              "5   0.262177   0.90126  0.308776        0.8840  0.00100\n",
              "6   0.248469   0.90760  0.300260        0.8928  0.00100\n",
              "7   0.237444   0.90938  0.315675        0.8865  0.00100\n",
              "8   0.229287   0.91292  0.301715        0.8975  0.00100\n",
              "9   0.188795   0.92784  0.292654        0.9018  0.00050\n",
              "10  0.175521   0.93198  0.320700        0.8931  0.00050\n",
              "11  0.167017   0.93588  0.302074        0.9003  0.00050\n",
              "12  0.139449   0.94630  0.308102        0.9008  0.00025"
            ]
          },
          "metadata": {
            "tags": []
          },
          "execution_count": 17
        }
      ]
    },
    {
      "cell_type": "code",
      "metadata": {
        "colab": {
          "base_uri": "https://localhost:8080/"
        },
        "id": "fq4uDF-md1dL",
        "outputId": "f69824ef-8816-4306-cff3-3f68f3e9575f"
      },
      "source": [
        "model_final.summary()"
      ],
      "execution_count": 18,
      "outputs": [
        {
          "output_type": "stream",
          "text": [
            "Model: \"sequential_1\"\n",
            "_________________________________________________________________\n",
            "Layer (type)                 Output Shape              Param #   \n",
            "=================================================================\n",
            "dense_3 (Dense)              (None, 512)               401920    \n",
            "_________________________________________________________________\n",
            "dense_4 (Dense)              (None, 512)               262656    \n",
            "_________________________________________________________________\n",
            "dense_5 (Dense)              (None, 512)               262656    \n",
            "_________________________________________________________________\n",
            "dense_6 (Dense)              (None, 10)                5130      \n",
            "=================================================================\n",
            "Total params: 932,362\n",
            "Trainable params: 932,362\n",
            "Non-trainable params: 0\n",
            "_________________________________________________________________\n"
          ],
          "name": "stdout"
        }
      ]
    },
    {
      "cell_type": "markdown",
      "metadata": {
        "id": "8-DQcd1Td1dL"
      },
      "source": [
        "¿Mejora ahora el resultado?"
      ]
    },
    {
      "cell_type": "code",
      "metadata": {
        "id": "wegy584Xd1dM"
      },
      "source": [
        "# Se puede ver el efecto de como al ir ajustando el lr , el val_loss en este caso va disminuyendo, con lo cual el resultado ha mejorado.\n",
        "# En mi caso he usado otro callback de StopEarly con restauracion de los mejores pesos conseguidos y un min_delta = 0.0001. "
      ],
      "execution_count": 19,
      "outputs": []
    },
    {
      "cell_type": "markdown",
      "metadata": {
        "id": "6P1VM57md1dM"
      },
      "source": [
        "\n"
      ]
    }
  ]
}