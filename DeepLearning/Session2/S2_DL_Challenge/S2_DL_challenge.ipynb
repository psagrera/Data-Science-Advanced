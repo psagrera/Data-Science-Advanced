{
  "nbformat": 4,
  "nbformat_minor": 0,
  "metadata": {
    "anaconda-cloud": {},
    "kernelspec": {
      "display_name": "Python 3",
      "language": "python",
      "name": "python3"
    },
    "language_info": {
      "codemirror_mode": {
        "name": "ipython",
        "version": 3
      },
      "file_extension": ".py",
      "mimetype": "text/x-python",
      "name": "python",
      "nbconvert_exporter": "python",
      "pygments_lexer": "ipython3",
      "version": "3.8.5"
    },
    "colab": {
      "name": "S2_DL_challenge.ipynb",
      "provenance": [],
      "collapsed_sections": [],
      "toc_visible": true,
      "include_colab_link": true
    },
    "accelerator": "GPU"
  },
  "cells": [
    {
      "cell_type": "markdown",
      "metadata": {
        "id": "view-in-github",
        "colab_type": "text"
      },
      "source": [
        "<a href=\"https://colab.research.google.com/github/psagrera/Data-Science-Advanced/blob/main/DeepLearning/Session2/S2_DL_Challenge/S2_DL_challenge.ipynb\" target=\"_parent\"><img src=\"https://colab.research.google.com/assets/colab-badge.svg\" alt=\"Open In Colab\"/></a>"
      ]
    },
    {
      "cell_type": "markdown",
      "metadata": {
        "id": "qOR6TOYqFSjp"
      },
      "source": [
        "<img src=\"mioti.png\" style=\"height: 100px\">\n",
        "<center style=\"color:#888\">Módulo Data Science in IoT<br/>Asignatura Deep Learning</center>\n",
        "\n",
        "# Challenge S2: Machine Learning Basics en TensorFlow\n",
        "\n",
        "## Objetivos\n",
        "\n",
        "El objetivo de este challenge es familiarizarnos con TensorFlow y con su funcionamiento básico enfrentandose a problemas de regresión y clasificación.\n",
        "\n",
        "\n",
        "## Regresión\n",
        "\n",
        "### Punto de partida\n",
        "\n",
        "El punto de partida se corresponde con el código que hemos visto en el worksheet:"
      ]
    },
    {
      "cell_type": "code",
      "metadata": {
        "colab": {
          "base_uri": "https://localhost:8080/"
        },
        "id": "jegmxSRuFSjv",
        "outputId": "fa221366-03bd-4e32-a7de-da4ab20fa77f"
      },
      "source": [
        "import os\n",
        "import sys\n",
        "\n",
        "import numpy as np\n",
        "import pandas as pd\n",
        "import matplotlib.pyplot as plt\n",
        "from IPython.display import clear_output\n",
        "from six.moves import urllib\n",
        "\n",
        "import tensorflow.compat.v2.feature_column as fc\n",
        "\n",
        "import tensorflow as tf\n",
        "\n",
        "# Cargamos el dataset\n",
        "dftrain = pd.read_csv('https://storage.googleapis.com/tf-datasets/titanic/train.csv')\n",
        "dfeval = pd.read_csv('https://storage.googleapis.com/tf-datasets/titanic/eval.csv')\n",
        "y_train = dftrain.pop('survived')\n",
        "y_eval = dfeval.pop('survived')\n",
        "\n",
        "# Creamos las estructuras que contienen las categorías\n",
        "CATEGORICAL_COLUMNS = ['sex', 'n_siblings_spouses', 'parch', 'class', 'deck',\n",
        "                       'embark_town', 'alone']\n",
        "NUMERIC_COLUMNS = ['age', 'fare']\n",
        "\n",
        "feature_columns = []\n",
        "for feature_name in CATEGORICAL_COLUMNS:\n",
        "  vocabulary = dftrain[feature_name].unique()  # lista de todos los valores únicos contenidos en una columna\n",
        "  feature_columns.append(tf.feature_column.categorical_column_with_vocabulary_list(feature_name, vocabulary))\n",
        "\n",
        "for feature_name in NUMERIC_COLUMNS:\n",
        "  feature_columns.append(tf.feature_column.numeric_column(feature_name, dtype=tf.float32))\n",
        "\n",
        "# Definimos nuestra función de input\n",
        "\n",
        "def make_input_fn(data_df, label_df, num_epochs=10, shuffle=True, batch_size=32):\n",
        "  def input_function():  # función interna, esto es lo que será devuelto\n",
        "    ds = tf.data.Dataset.from_tensor_slices((dict(data_df), label_df))  # crea un objeto tf.data.Dataset que contendrá datos y etiquetas \n",
        "    if shuffle:\n",
        "      ds = ds.shuffle(1000)  # con esta línea aleatorizamos la selección de elementos\n",
        "    ds = ds.batch(batch_size).repeat(num_epochs)  # divide el dataset en batches el número de veces especificado por num_epocs \n",
        "    return ds  # devuelve un batch del dataset\n",
        "  return input_function  # devuelve el objeto completo para ser utilizado.\n",
        "\n",
        "train_input_fn = make_input_fn(dftrain, y_train)  # así llamamos a la función que se nos devuelve para extraer el objeto dataset que inyectaremos en el modelo\n",
        "eval_input_fn = make_input_fn(dfeval, y_eval, num_epochs=1, shuffle=False)\n",
        "\n",
        "\n",
        "# Creamos el modelo\n",
        "linear_est = tf.estimator.LinearClassifier(feature_columns=feature_columns)\n",
        "\n",
        "# Lo entrenamos\n",
        "linear_est.train(train_input_fn)  # entrenamos el modelo\n",
        "result = linear_est.evaluate(eval_input_fn)  # obtenemos las estimaciones del conjunto de evaluación\n",
        "\n",
        "clear_output()  # limpiamos la consola\n",
        "print(result['accuracy'])  # la viariable result es un diccionario con los resultados de nuestro modelo"
      ],
      "execution_count": 9,
      "outputs": [
        {
          "output_type": "stream",
          "text": [
            "0.7651515\n"
          ],
          "name": "stdout"
        }
      ]
    },
    {
      "cell_type": "code",
      "metadata": {
        "colab": {
          "base_uri": "https://localhost:8080/"
        },
        "id": "MQtphIFaCQti",
        "outputId": "baba2735-a63e-4c19-ee2f-53ec3cad8fe5"
      },
      "source": [
        "y_train.value_counts()"
      ],
      "execution_count": 10,
      "outputs": [
        {
          "output_type": "execute_result",
          "data": {
            "text/plain": [
              "0    384\n",
              "1    243\n",
              "Name: survived, dtype: int64"
            ]
          },
          "metadata": {
            "tags": []
          },
          "execution_count": 10
        }
      ]
    },
    {
      "cell_type": "markdown",
      "metadata": {
        "id": "QZyQMXFxFSjx"
      },
      "source": [
        "## Tareas\n",
        "\n",
        "\n",
        "### Cambiando el histograma\n",
        "\n",
        "En el worksheet tenemos el ejemplo de un histograma con las posibilidades de supervivencia de cada individuo del conjunto de evaluación, representad a continuación el mismo histograma pero con el conjunto de entrenamiento.\n"
      ]
    },
    {
      "cell_type": "code",
      "metadata": {
        "colab": {
          "base_uri": "https://localhost:8080/",
          "height": 454
        },
        "id": "6ZOJen-nFSjy",
        "outputId": "dc41fb00-0394-4491-b7c9-8b0861d066ad"
      },
      "source": [
        "pred_dicts0 = list(linear_est.predict(train_input_fn)) \n",
        "\n",
        "probs0 = pd.Series([pred['probabilities'][0] for pred in pred_dicts0]) \n",
        "\n",
        "probs0.plot(kind='hist', bins=20, title='predicted probabilities')"
      ],
      "execution_count": 11,
      "outputs": [
        {
          "output_type": "stream",
          "text": [
            "INFO:tensorflow:Calling model_fn.\n"
          ],
          "name": "stdout"
        },
        {
          "output_type": "stream",
          "text": [
            "/usr/local/lib/python3.7/dist-packages/tensorflow/python/keras/engine/base_layer_v1.py:1727: UserWarning: `layer.add_variable` is deprecated and will be removed in a future version. Please use `layer.add_weight` method instead.\n",
            "  warnings.warn('`layer.add_variable` is deprecated and '\n"
          ],
          "name": "stderr"
        },
        {
          "output_type": "stream",
          "text": [
            "INFO:tensorflow:Done calling model_fn.\n",
            "INFO:tensorflow:Graph was finalized.\n",
            "INFO:tensorflow:Restoring parameters from /tmp/tmpbs_fi0ri/model.ckpt-200\n",
            "INFO:tensorflow:Running local_init_op.\n",
            "INFO:tensorflow:Done running local_init_op.\n"
          ],
          "name": "stdout"
        },
        {
          "output_type": "execute_result",
          "data": {
            "text/plain": [
              "<matplotlib.axes._subplots.AxesSubplot at 0x7f7c503b6e90>"
            ]
          },
          "metadata": {
            "tags": []
          },
          "execution_count": 11
        },
        {
          "output_type": "display_data",
          "data": {
            "image/png": "[encoded data removed]",
            "text/plain": [
              "<Figure size 432x288 with 1 Axes>"
            ]
          },
          "metadata": {
            "tags": [],
            "needs_background": "light"
          }
        }
      ]
    },
    {
      "cell_type": "markdown",
      "metadata": {
        "id": "aZLLJBvpFSjy"
      },
      "source": [
        "¿Y si lo que queremos es pintar el histograma de la mortalidad de cada individuo del conjunto de evaluación?\n",
        "\n",
        "Pista, mirad la estructura del diccionario que devuelve *linear_est.predict()*"
      ]
    },
    {
      "cell_type": "code",
      "metadata": {
        "colab": {
          "base_uri": "https://localhost:8080/",
          "height": 454
        },
        "id": "VBl5AyDnFSjy",
        "outputId": "597e484b-fa16-437f-ce60-d4a7f6731e93"
      },
      "source": [
        "pred_dicts1 = list(linear_est.predict(eval_input_fn)) \n",
        "\n",
        "probs1 = pd.Series([pred['probabilities'][1] for pred in pred_dicts1]) \n",
        "\n",
        "probs1.plot(kind='hist', bins=20, title='predicted probabilities')"
      ],
      "execution_count": 12,
      "outputs": [
        {
          "output_type": "stream",
          "text": [
            "INFO:tensorflow:Calling model_fn.\n"
          ],
          "name": "stdout"
        },
        {
          "output_type": "stream",
          "text": [
            "/usr/local/lib/python3.7/dist-packages/tensorflow/python/keras/engine/base_layer_v1.py:1727: UserWarning: `layer.add_variable` is deprecated and will be removed in a future version. Please use `layer.add_weight` method instead.\n",
            "  warnings.warn('`layer.add_variable` is deprecated and '\n"
          ],
          "name": "stderr"
        },
        {
          "output_type": "stream",
          "text": [
            "INFO:tensorflow:Done calling model_fn.\n",
            "INFO:tensorflow:Graph was finalized.\n",
            "INFO:tensorflow:Restoring parameters from /tmp/tmpbs_fi0ri/model.ckpt-200\n",
            "INFO:tensorflow:Running local_init_op.\n",
            "INFO:tensorflow:Done running local_init_op.\n"
          ],
          "name": "stdout"
        },
        {
          "output_type": "execute_result",
          "data": {
            "text/plain": [
              "<matplotlib.axes._subplots.AxesSubplot at 0x7f7c62003dd0>"
            ]
          },
          "metadata": {
            "tags": []
          },
          "execution_count": 12
        },
        {
          "output_type": "display_data",
          "data": {
            "image/png": "[encoded data removed]",
            "text/plain": [
              "<Figure size 432x288 with 1 Axes>"
            ]
          },
          "metadata": {
            "tags": [],
            "needs_background": "light"
          }
        }
      ]
    },
    {
      "cell_type": "markdown",
      "metadata": {
        "id": "vrZSrdUsFSjz"
      },
      "source": [
        "### Cambiando el conjunto de entrenamiento\n",
        "\n",
        "Sabemos que uno de los factores más importantes en el entrenamiento de redes neuronales es la cantidad y calidad del conjunto de entrenamiento. ¿Es igual de importante en regresión lineal?\n",
        "\n",
        "Vamos a ver cuál sería el porcentaje de acierto de nuestro modelo si entrenamos con la mitad del conjunto de entrenamiento:"
      ]
    },
    {
      "cell_type": "code",
      "metadata": {
        "id": "2H3Z2k5ZOzPp"
      },
      "source": [
        "# First approach , manually splitting the dataset to the half, selecting by position\n",
        "half_dataset_x1 = dftrain.iloc[0:314]\n",
        "half_dataset_y1 = y_train.iloc[0:314]\n"
      ],
      "execution_count": 13,
      "outputs": []
    },
    {
      "cell_type": "code",
      "metadata": {
        "colab": {
          "base_uri": "https://localhost:8080/"
        },
        "id": "oHplODtWO15r",
        "outputId": "a219836a-edf2-4fd6-b10a-6e944f0053ac"
      },
      "source": [
        "half_dataset_x1.info()\n"
      ],
      "execution_count": 14,
      "outputs": [
        {
          "output_type": "stream",
          "text": [
            "<class 'pandas.core.frame.DataFrame'>\n",
            "RangeIndex: 314 entries, 0 to 313\n",
            "Data columns (total 9 columns):\n",
            " #   Column              Non-Null Count  Dtype  \n",
            "---  ------              --------------  -----  \n",
            " 0   sex                 314 non-null    object \n",
            " 1   age                 314 non-null    float64\n",
            " 2   n_siblings_spouses  314 non-null    int64  \n",
            " 3   parch               314 non-null    int64  \n",
            " 4   fare                314 non-null    float64\n",
            " 5   class               314 non-null    object \n",
            " 6   deck                314 non-null    object \n",
            " 7   embark_town         314 non-null    object \n",
            " 8   alone               314 non-null    object \n",
            "dtypes: float64(2), int64(2), object(5)\n",
            "memory usage: 22.2+ KB\n"
          ],
          "name": "stdout"
        }
      ]
    },
    {
      "cell_type": "code",
      "metadata": {
        "colab": {
          "base_uri": "https://localhost:8080/"
        },
        "id": "MOt7zRiiO5QQ",
        "outputId": "000eaddb-ff9e-4de1-ead5-aee247b985cd"
      },
      "source": [
        "len(half_dataset_y1)"
      ],
      "execution_count": 15,
      "outputs": [
        {
          "output_type": "execute_result",
          "data": {
            "text/plain": [
              "314"
            ]
          },
          "metadata": {
            "tags": []
          },
          "execution_count": 15
        }
      ]
    },
    {
      "cell_type": "code",
      "metadata": {
        "id": "2vCNRAMSO7pM"
      },
      "source": [
        "# Second approach, using panda's sample function to split the dataset \n",
        "dftrain = pd.read_csv('https://storage.googleapis.com/tf-datasets/titanic/train.csv')\n",
        "\n",
        "half_dataset_x2 = dftrain.sample(frac=0.5,random_state=1)\n",
        "half_dataset_y2 = half_dataset_x2.pop('survived')"
      ],
      "execution_count": 16,
      "outputs": []
    },
    {
      "cell_type": "code",
      "metadata": {
        "colab": {
          "base_uri": "https://localhost:8080/"
        },
        "id": "P-R5tOoKPDWG",
        "outputId": "8bd00b27-2de4-443e-b3fe-220ee0ff45dc"
      },
      "source": [
        "half_dataset_x2.info()"
      ],
      "execution_count": 17,
      "outputs": [
        {
          "output_type": "stream",
          "text": [
            "<class 'pandas.core.frame.DataFrame'>\n",
            "Int64Index: 314 entries, 301 to 577\n",
            "Data columns (total 9 columns):\n",
            " #   Column              Non-Null Count  Dtype  \n",
            "---  ------              --------------  -----  \n",
            " 0   sex                 314 non-null    object \n",
            " 1   age                 314 non-null    float64\n",
            " 2   n_siblings_spouses  314 non-null    int64  \n",
            " 3   parch               314 non-null    int64  \n",
            " 4   fare                314 non-null    float64\n",
            " 5   class               314 non-null    object \n",
            " 6   deck                314 non-null    object \n",
            " 7   embark_town         314 non-null    object \n",
            " 8   alone               314 non-null    object \n",
            "dtypes: float64(2), int64(2), object(5)\n",
            "memory usage: 24.5+ KB\n"
          ],
          "name": "stdout"
        }
      ]
    },
    {
      "cell_type": "code",
      "metadata": {
        "colab": {
          "base_uri": "https://localhost:8080/"
        },
        "id": "BLt6XSycPF89",
        "outputId": "f0bc7ea4-7686-4f11-aac4-fc14c6c95d6d"
      },
      "source": [
        "len(half_dataset_y2)"
      ],
      "execution_count": 18,
      "outputs": [
        {
          "output_type": "execute_result",
          "data": {
            "text/plain": [
              "314"
            ]
          },
          "metadata": {
            "tags": []
          },
          "execution_count": 18
        }
      ]
    },
    {
      "cell_type": "code",
      "metadata": {
        "colab": {
          "base_uri": "https://localhost:8080/"
        },
        "id": "62OM9axOBvlX",
        "outputId": "16632ec7-0aaf-42c1-aff6-ad673facfbad"
      },
      "source": [
        "half_dataset_y2.value_counts()"
      ],
      "execution_count": 19,
      "outputs": [
        {
          "output_type": "execute_result",
          "data": {
            "text/plain": [
              "0    190\n",
              "1    124\n",
              "Name: survived, dtype: int64"
            ]
          },
          "metadata": {
            "tags": []
          },
          "execution_count": 19
        }
      ]
    },
    {
      "cell_type": "code",
      "metadata": {
        "colab": {
          "base_uri": "https://localhost:8080/"
        },
        "id": "DZjAFrewFSjz",
        "outputId": "4cf69874-d8f0-46a3-ed15-46226820c18b"
      },
      "source": [
        "# Accurary training with the half of the dataset (second approach)\n",
        "\n",
        "train_input_fn_half_x1 = make_input_fn(half_dataset_x1, half_dataset_y1)  # así llamamos a la función que se nos devuelve para extraer el objeto dataset que inyectaremos en el modelo\n",
        "eval_input_fn_half_x = make_input_fn(dfeval, y_eval, num_epochs=1, shuffle=False)\n",
        "\n",
        "# Creamos el modelo\n",
        "linear_est_half = tf.estimator.LinearClassifier(feature_columns=feature_columns)\n",
        "\n",
        "# Lo entrenamos\n",
        "linear_est_half.train(train_input_fn_half_x1)  # entrenamos el modelo\n",
        "result = linear_est_half.evaluate(eval_input_fn_half_x)  # obtenemos las estimaciones del conjunto de evaluación\n",
        "\n",
        "clear_output()  # limpiamos la consola\n",
        "print(result['accuracy'])  # la viariable result es un diccionario con los resultados de nuestro modelo"
      ],
      "execution_count": 20,
      "outputs": [
        {
          "output_type": "stream",
          "text": [
            "0.75\n"
          ],
          "name": "stdout"
        }
      ]
    },
    {
      "cell_type": "code",
      "metadata": {
        "colab": {
          "base_uri": "https://localhost:8080/",
          "height": 454
        },
        "id": "O3xkU_ThORHV",
        "outputId": "3d7d1d6a-ab6b-463b-eca5-34dc25929057"
      },
      "source": [
        "# Predicted probabilities - Class 0 \n",
        "pred_dicts_half0 = list(linear_est.predict(train_input_fn_half_x1)) \n",
        "\n",
        "probs_half0 = pd.Series([pred['probabilities'][0] for pred in pred_dicts_half0]) \n",
        "\n",
        "probs_half0.plot(kind='hist', bins=20, title='predicted probabilities')"
      ],
      "execution_count": 21,
      "outputs": [
        {
          "output_type": "stream",
          "text": [
            "INFO:tensorflow:Calling model_fn.\n"
          ],
          "name": "stdout"
        },
        {
          "output_type": "stream",
          "text": [
            "/usr/local/lib/python3.7/dist-packages/tensorflow/python/keras/engine/base_layer_v1.py:1727: UserWarning: `layer.add_variable` is deprecated and will be removed in a future version. Please use `layer.add_weight` method instead.\n",
            "  warnings.warn('`layer.add_variable` is deprecated and '\n"
          ],
          "name": "stderr"
        },
        {
          "output_type": "stream",
          "text": [
            "INFO:tensorflow:Done calling model_fn.\n",
            "INFO:tensorflow:Graph was finalized.\n",
            "INFO:tensorflow:Restoring parameters from /tmp/tmpbs_fi0ri/model.ckpt-200\n",
            "INFO:tensorflow:Running local_init_op.\n",
            "INFO:tensorflow:Done running local_init_op.\n"
          ],
          "name": "stdout"
        },
        {
          "output_type": "execute_result",
          "data": {
            "text/plain": [
              "<matplotlib.axes._subplots.AxesSubplot at 0x7f7c5021c490>"
            ]
          },
          "metadata": {
            "tags": []
          },
          "execution_count": 21
        },
        {
          "output_type": "display_data",
          "data": {
            "image/png": "[encoded data removed]",
            "text/plain": [
              "<Figure size 432x288 with 1 Axes>"
            ]
          },
          "metadata": {
            "tags": [],
            "needs_background": "light"
          }
        }
      ]
    },
    {
      "cell_type": "code",
      "metadata": {
        "colab": {
          "base_uri": "https://localhost:8080/",
          "height": 454
        },
        "id": "qS3jat3RPimE",
        "outputId": "21676e71-d1a7-4afe-f494-04da44078fcf"
      },
      "source": [
        "# Predicted probabilities - Class 1 \n",
        "pred_dicts_half1 = list(linear_est.predict(train_input_fn_half_x1)) \n",
        "\n",
        "probs_half1 = pd.Series([pred['probabilities'][1] for pred in pred_dicts_half1]) \n",
        "\n",
        "probs_half1.plot(kind='hist', bins=20, title='predicted probabilities')"
      ],
      "execution_count": 22,
      "outputs": [
        {
          "output_type": "stream",
          "text": [
            "INFO:tensorflow:Calling model_fn.\n"
          ],
          "name": "stdout"
        },
        {
          "output_type": "stream",
          "text": [
            "/usr/local/lib/python3.7/dist-packages/tensorflow/python/keras/engine/base_layer_v1.py:1727: UserWarning: `layer.add_variable` is deprecated and will be removed in a future version. Please use `layer.add_weight` method instead.\n",
            "  warnings.warn('`layer.add_variable` is deprecated and '\n"
          ],
          "name": "stderr"
        },
        {
          "output_type": "stream",
          "text": [
            "INFO:tensorflow:Done calling model_fn.\n",
            "INFO:tensorflow:Graph was finalized.\n",
            "INFO:tensorflow:Restoring parameters from /tmp/tmpbs_fi0ri/model.ckpt-200\n",
            "INFO:tensorflow:Running local_init_op.\n",
            "INFO:tensorflow:Done running local_init_op.\n"
          ],
          "name": "stdout"
        },
        {
          "output_type": "execute_result",
          "data": {
            "text/plain": [
              "<matplotlib.axes._subplots.AxesSubplot at 0x7f7c622bb9d0>"
            ]
          },
          "metadata": {
            "tags": []
          },
          "execution_count": 22
        },
        {
          "output_type": "display_data",
          "data": {
            "image/png": "[encoded data removed]",
            "text/plain": [
              "<Figure size 432x288 with 1 Axes>"
            ]
          },
          "metadata": {
            "tags": [],
            "needs_background": "light"
          }
        }
      ]
    },
    {
      "cell_type": "markdown",
      "metadata": {
        "id": "RWK3XWkMFSjz"
      },
      "source": [
        "Y si entrenamos con una décima parte de en nuestro ejemplo original?"
      ]
    },
    {
      "cell_type": "code",
      "metadata": {
        "id": "9Oz19nKKFSjz"
      },
      "source": [
        "# Second approach, using panda's sample function to split the dataset \n",
        "dftrain = pd.read_csv('https://storage.googleapis.com/tf-datasets/titanic/train.csv')\n",
        "\n",
        "dec_dataset_x2 = dftrain.sample(frac=0.1,random_state=1)\n",
        "dec_dataset_y2 = dec_dataset_x2.pop('survived')"
      ],
      "execution_count": 23,
      "outputs": []
    },
    {
      "cell_type": "code",
      "metadata": {
        "colab": {
          "base_uri": "https://localhost:8080/"
        },
        "id": "DphV5NvLSau2",
        "outputId": "d9eed9f9-2eea-464c-8e40-261ad84638b3"
      },
      "source": [
        "dec_dataset_x2.info()"
      ],
      "execution_count": 24,
      "outputs": [
        {
          "output_type": "stream",
          "text": [
            "<class 'pandas.core.frame.DataFrame'>\n",
            "Int64Index: 63 entries, 301 to 34\n",
            "Data columns (total 9 columns):\n",
            " #   Column              Non-Null Count  Dtype  \n",
            "---  ------              --------------  -----  \n",
            " 0   sex                 63 non-null     object \n",
            " 1   age                 63 non-null     float64\n",
            " 2   n_siblings_spouses  63 non-null     int64  \n",
            " 3   parch               63 non-null     int64  \n",
            " 4   fare                63 non-null     float64\n",
            " 5   class               63 non-null     object \n",
            " 6   deck                63 non-null     object \n",
            " 7   embark_town         63 non-null     object \n",
            " 8   alone               63 non-null     object \n",
            "dtypes: float64(2), int64(2), object(5)\n",
            "memory usage: 4.9+ KB\n"
          ],
          "name": "stdout"
        }
      ]
    },
    {
      "cell_type": "code",
      "metadata": {
        "colab": {
          "base_uri": "https://localhost:8080/"
        },
        "id": "nsE_qaDJSf4Q",
        "outputId": "48b1ce21-51f0-4fa3-d31a-e057d71af9f3"
      },
      "source": [
        "len(dec_dataset_y2)"
      ],
      "execution_count": 25,
      "outputs": [
        {
          "output_type": "execute_result",
          "data": {
            "text/plain": [
              "63"
            ]
          },
          "metadata": {
            "tags": []
          },
          "execution_count": 25
        }
      ]
    },
    {
      "cell_type": "code",
      "metadata": {
        "colab": {
          "base_uri": "https://localhost:8080/"
        },
        "id": "9uTBwBIvB6VD",
        "outputId": "ea31b174-b8d2-434f-934f-51d4749b148c"
      },
      "source": [
        "dec_dataset_y2.value_counts()"
      ],
      "execution_count": 26,
      "outputs": [
        {
          "output_type": "execute_result",
          "data": {
            "text/plain": [
              "0    36\n",
              "1    27\n",
              "Name: survived, dtype: int64"
            ]
          },
          "metadata": {
            "tags": []
          },
          "execution_count": 26
        }
      ]
    },
    {
      "cell_type": "code",
      "metadata": {
        "colab": {
          "base_uri": "https://localhost:8080/"
        },
        "id": "y6DeQ13EJt6L",
        "outputId": "8a66ad15-8433-470f-92e9-b40e54eebd79"
      },
      "source": [
        "# Accurary training with with one tenth of the dataset (second approach)\n",
        "\n",
        "train_input_fn_dec = make_input_fn(dec_dataset_x2,dec_dataset_y2 )  # así llamamos a la función que se nos devuelve para extraer el objeto dataset que inyectaremos en el modelo\n",
        "eval_input_fn_dec = make_input_fn(dfeval, y_eval, num_epochs=1, shuffle=False)\n",
        "\n",
        "\n",
        "# Creamos el modelo\n",
        "linear_est_dec = tf.estimator.LinearClassifier(feature_columns=feature_columns)\n",
        "\n",
        "# Lo entrenamos\n",
        "linear_est_dec.train(train_input_fn_dec)  # entrenamos el modelo\n",
        "result = linear_est_dec.evaluate(eval_input_fn_dec)  # obtenemos las estimaciones del conjunto de evaluación\n",
        "\n",
        "clear_output()  # limpiamos la consola\n",
        "print(result['accuracy']) "
      ],
      "execution_count": 27,
      "outputs": [
        {
          "output_type": "stream",
          "text": [
            "0.64772725\n"
          ],
          "name": "stdout"
        }
      ]
    },
    {
      "cell_type": "code",
      "metadata": {
        "colab": {
          "base_uri": "https://localhost:8080/",
          "height": 454
        },
        "id": "XEcwYqypKKvk",
        "outputId": "bceba39c-5cf2-4320-9e07-e019f731fb6a"
      },
      "source": [
        "# Predicted probabilities - Class 0\n",
        "pred_dicts_dec0 = list(linear_est_dec.predict(train_input_fn_dec)) \n",
        "\n",
        "probs_dec0 = pd.Series([pred['probabilities'][0] for pred in pred_dicts_dec0]) \n",
        "\n",
        "probs_dec0.plot(kind='hist', bins=20, title='predicted probabilities')"
      ],
      "execution_count": 28,
      "outputs": [
        {
          "output_type": "stream",
          "text": [
            "INFO:tensorflow:Calling model_fn.\n"
          ],
          "name": "stdout"
        },
        {
          "output_type": "stream",
          "text": [
            "/usr/local/lib/python3.7/dist-packages/tensorflow/python/keras/engine/base_layer_v1.py:1727: UserWarning: `layer.add_variable` is deprecated and will be removed in a future version. Please use `layer.add_weight` method instead.\n",
            "  warnings.warn('`layer.add_variable` is deprecated and '\n"
          ],
          "name": "stderr"
        },
        {
          "output_type": "stream",
          "text": [
            "INFO:tensorflow:Done calling model_fn.\n",
            "INFO:tensorflow:Graph was finalized.\n",
            "INFO:tensorflow:Restoring parameters from /tmp/tmp_71rdvxh/model.ckpt-20\n",
            "INFO:tensorflow:Running local_init_op.\n",
            "INFO:tensorflow:Done running local_init_op.\n"
          ],
          "name": "stdout"
        },
        {
          "output_type": "execute_result",
          "data": {
            "text/plain": [
              "<matplotlib.axes._subplots.AxesSubplot at 0x7f7ca1c9c1d0>"
            ]
          },
          "metadata": {
            "tags": []
          },
          "execution_count": 28
        },
        {
          "output_type": "display_data",
          "data": {
            "image/png": "[encoded data removed]",
            "text/plain": [
              "<Figure size 432x288 with 1 Axes>"
            ]
          },
          "metadata": {
            "tags": [],
            "needs_background": "light"
          }
        }
      ]
    },
    {
      "cell_type": "code",
      "metadata": {
        "colab": {
          "base_uri": "https://localhost:8080/",
          "height": 454
        },
        "id": "77WvM90erBiU",
        "outputId": "29aae2b3-40de-4b60-9ab3-c7903a9e8cec"
      },
      "source": [
        "# Predicted probabilities - Class 1\n",
        "pred_dicts_dec1 = list(linear_est_dec.predict(train_input_fn_dec)) \n",
        "\n",
        "probs_dec1 = pd.Series([pred['probabilities'][1] for pred in pred_dicts1]) \n",
        "\n",
        "probs_dec1.plot(kind='hist', bins=20, title='predicted probabilities')"
      ],
      "execution_count": 29,
      "outputs": [
        {
          "output_type": "stream",
          "text": [
            "INFO:tensorflow:Calling model_fn.\n"
          ],
          "name": "stdout"
        },
        {
          "output_type": "stream",
          "text": [
            "/usr/local/lib/python3.7/dist-packages/tensorflow/python/keras/engine/base_layer_v1.py:1727: UserWarning: `layer.add_variable` is deprecated and will be removed in a future version. Please use `layer.add_weight` method instead.\n",
            "  warnings.warn('`layer.add_variable` is deprecated and '\n"
          ],
          "name": "stderr"
        },
        {
          "output_type": "stream",
          "text": [
            "INFO:tensorflow:Done calling model_fn.\n",
            "INFO:tensorflow:Graph was finalized.\n",
            "INFO:tensorflow:Restoring parameters from /tmp/tmp_71rdvxh/model.ckpt-20\n",
            "INFO:tensorflow:Running local_init_op.\n",
            "INFO:tensorflow:Done running local_init_op.\n"
          ],
          "name": "stdout"
        },
        {
          "output_type": "execute_result",
          "data": {
            "text/plain": [
              "<matplotlib.axes._subplots.AxesSubplot at 0x7f7c5015d650>"
            ]
          },
          "metadata": {
            "tags": []
          },
          "execution_count": 29
        },
        {
          "output_type": "display_data",
          "data": {
            "image/png": "[encoded data removed]",
            "text/plain": [
              "<Figure size 432x288 with 1 Axes>"
            ]
          },
          "metadata": {
            "tags": [],
            "needs_background": "light"
          }
        }
      ]
    },
    {
      "cell_type": "code",
      "metadata": {
        "colab": {
          "base_uri": "https://localhost:8080/"
        },
        "id": "li4Or7o0dapM",
        "outputId": "7eaa1bb4-e7b2-42ec-dc98-02d0fbd85bef"
      },
      "source": [
        "df.info()"
      ],
      "execution_count": 32,
      "outputs": [
        {
          "output_type": "stream",
          "text": [
            "<class 'pandas.core.frame.DataFrame'>\n",
            "RangeIndex: 6270 entries, 0 to 6269\n",
            "Data columns (total 4 columns):\n",
            " #   Column   Non-Null Count  Dtype  \n",
            "---  ------   --------------  -----  \n",
            " 0   total    6270 non-null   float64\n",
            " 1   half     3140 non-null   float64\n",
            " 2   decimal  630 non-null    float64\n",
            " 3   class    6270 non-null   int64  \n",
            "dtypes: float64(3), int64(1)\n",
            "memory usage: 196.1 KB\n"
          ],
          "name": "stdout"
        }
      ]
    },
    {
      "cell_type": "markdown",
      "metadata": {
        "id": "L5Ra8ZffFSj0"
      },
      "source": [
        "Por último, vamos a mostrar también el accuracy que tenemos sobre el conjunto de datos de entrenamiento (podemos utilizar cualquiera de los modelos que acabamos de entrenar)\n"
      ]
    },
    {
      "cell_type": "markdown",
      "metadata": {
        "id": "VTGXGLmpFSj0"
      },
      "source": [
        "### Conclusiones:\n",
        " \n",
        "¿Hay mucha diferencia entre el entrenamiento original y el que hemos realizado con datos diezmados? ¿Por qué?"
      ]
    },
    {
      "cell_type": "code",
      "metadata": {
        "id": "mqh9huYYFSj0"
      },
      "source": [
        "# No existe mucha diferencia en cuanto al accuracy, al reducir el numero de datos \n",
        "# La complejidad del problema a resolver no es muy grande (probabilidad de supervencia , dos clases).\n",
        "# Parece que con pocas muestras de ambas clases (sin que haya mucho desbalanceo) , el accuracy es parecido, con lo que entiendo que para mejorar el modelo, habria que tocar\n",
        "# otros parametros principalmente, si bien , incrementar el numero de muestras ayudaria tambien.\n",
        "\n",
        "# RESUMEN\n",
        "# TODOS LOS DATOS de training-->  0.76\n",
        "# MITAD DE LOS DATOS de training -->  0.75\n",
        "# DECIMA PARTE DE LOS DATOS de training -->  0.71                                                     "
      ],
      "execution_count": 33,
      "outputs": []
    },
    {
      "cell_type": "markdown",
      "metadata": {
        "id": "OgToR_qDFSj0"
      },
      "source": [
        "## Regresión\n",
        "\n",
        "### Punto de partida\n",
        "\n",
        "El punto de partida se corresponde con el código que hemos visto en el worksheet:"
      ]
    },
    {
      "cell_type": "code",
      "metadata": {
        "colab": {
          "base_uri": "https://localhost:8080/"
        },
        "id": "vSflXZuOFSj1",
        "outputId": "1092ffce-d74b-466d-8f88-823fd767f80e"
      },
      "source": [
        "CSV_COLUMN_NAMES = ['SepalLength', 'SepalWidth', 'PetalLength', 'PetalWidth', 'Species']\n",
        "SPECIES = ['Setosa', 'Versicolor', 'Virginica']\n",
        "\n",
        "train_path = tf.keras.utils.get_file(\n",
        "    \"iris_training.csv\", \"https://storage.googleapis.com/download.tensorflow.org/data/iris_training.csv\")\n",
        "test_path = tf.keras.utils.get_file(\n",
        "    \"iris_test.csv\", \"https://storage.googleapis.com/download.tensorflow.org/data/iris_test.csv\")\n",
        "\n",
        "train = pd.read_csv(train_path, names=CSV_COLUMN_NAMES, header=0)\n",
        "test = pd.read_csv(test_path, names=CSV_COLUMN_NAMES, header=0)\n",
        "train_y = train.pop('Species')\n",
        "test_y = test.pop('Species')\n",
        "\n",
        "def input_fn(features, labels, training=True, batch_size=256):\n",
        "    # Convertimos los datos al tipo dataset.\n",
        "    dataset = tf.data.Dataset.from_tensor_slices((dict(features), labels))\n",
        "\n",
        "    # Aleatorizamos y seleccionamos los datos si estamos en modo train.\n",
        "    if training:\n",
        "        dataset = dataset.shuffle(1000).repeat()\n",
        "    \n",
        "    return dataset.batch(batch_size)\n",
        "\n",
        "# Feature columns describe cómo se utilizan las feature columns\n",
        "my_feature_columns = []\n",
        "for key in train.keys():\n",
        "    my_feature_columns.append(tf.feature_column.numeric_column(key=key))\n",
        "print(my_feature_columns)\n",
        "\n",
        "# Definimos una DNN con 2 capas ocultas con 30 y 10 nodos ocultos cada una.\n",
        "classifier = tf.estimator.DNNClassifier(\n",
        "    feature_columns=my_feature_columns,\n",
        "    # Dos capas ocultas de 30 y 10 nodos respectivamente\n",
        "    hidden_units=[10,10,10],\n",
        "    # El modelo debe poder distinguir entre 3 clases\n",
        "    n_classes=3)\n",
        "\n",
        "classifier.train(\n",
        "    input_fn=lambda: input_fn(train, train_y, training=True),\n",
        "    steps=5000)\n",
        "# Hemos definido lambda para evitar crear una función previamente (los detalles de implementación no son importantes ahora)\n",
        "\n",
        "\n",
        "eval_result = classifier.evaluate(\n",
        "    input_fn=lambda: input_fn(test, test_y, training=False))\n",
        "clear_output()\n",
        "print('\\nTest set accuracy: {accuracy:0.3f}\\n'.format(**eval_result))\n",
        "\n",
        "\n",
        "\n"
      ],
      "execution_count": 34,
      "outputs": [
        {
          "output_type": "stream",
          "text": [
            "\n",
            "Test set accuracy: 0.567\n",
            "\n"
          ],
          "name": "stdout"
        }
      ]
    },
    {
      "cell_type": "markdown",
      "metadata": {
        "id": "baneCPRcFSj1"
      },
      "source": [
        "### Ajustando los parámetros del entrenamiento\n",
        "\n",
        "Como sabemos, el número de capas y neuronas ocultas es un número arbitrario y necesitamos de muchos experimentos y test para poder determinar la mejor elección de estos valores.\n",
        "\n",
        "Vamos a probar en las siguientes celdas a probar las siguientes arquitecturas:\n",
        "\n",
        "- 1 capa oculta de 10 neuronas\n",
        "- 1 capa oculta de 50 neuronas\n",
        "- 2 capas ocultas de 30 y 10 neuronas respectivamente\n",
        "- 3 capas ocultas de 30, 20 y 10 neuronas respectivamente.\n",
        "- 5 capas ocultas de 30, 20, 10, 10 y 10 neuronas respectivamente.\n"
      ]
    },
    {
      "cell_type": "code",
      "metadata": {
        "colab": {
          "base_uri": "https://localhost:8080/"
        },
        "id": "XAH-dWumFSj2",
        "outputId": "bbe48cc8-5133-492a-afe8-032cda43412b"
      },
      "source": [
        "# 1 capa oculta de 10 neuronas\n",
        "classifier = tf.estimator.DNNClassifier(\n",
        "    feature_columns=my_feature_columns,\n",
        "    # Dos capas ocultas de 30 y 10 nodos respectivamente\n",
        "    hidden_units=[10],\n",
        "    # El modelo debe poder distinguir entre 3 clases\n",
        "    n_classes=3)\n",
        "\n",
        "classifier.train(\n",
        "    input_fn=lambda: input_fn(train, train_y, training=True),\n",
        "    steps=5000)\n",
        "# Hemos definido lambda para evitar crear una función previamente (los detalles de implementación no son importantes ahora)\n",
        "\n",
        "\n",
        "eval_result = classifier.evaluate(\n",
        "    input_fn=lambda: input_fn(test, test_y, training=False))\n",
        "clear_output()\n",
        "print('\\nTest set accuracy: {accuracy:0.3f}\\n'.format(**eval_result))\n"
      ],
      "execution_count": 35,
      "outputs": [
        {
          "output_type": "stream",
          "text": [
            "\n",
            "Test set accuracy: 0.533\n",
            "\n"
          ],
          "name": "stdout"
        }
      ]
    },
    {
      "cell_type": "code",
      "metadata": {
        "colab": {
          "base_uri": "https://localhost:8080/"
        },
        "id": "CdYOo-l0tpDm",
        "outputId": "a4c66df7-f673-44b4-e4bb-28e86cae1d87"
      },
      "source": [
        "eval_result"
      ],
      "execution_count": 36,
      "outputs": [
        {
          "output_type": "execute_result",
          "data": {
            "text/plain": [
              "{'accuracy': 0.53333336,\n",
              " 'average_loss': 0.85073507,\n",
              " 'global_step': 5000,\n",
              " 'loss': 0.85073507}"
            ]
          },
          "metadata": {
            "tags": []
          },
          "execution_count": 36
        }
      ]
    },
    {
      "cell_type": "code",
      "metadata": {
        "colab": {
          "base_uri": "https://localhost:8080/"
        },
        "id": "oXowv3RrFSj2",
        "outputId": "3366e0b0-36fd-4e38-9d75-9d5b485480af"
      },
      "source": [
        "# 1 capa oculta de 50 neuronas\n",
        "classifier = tf.estimator.DNNClassifier(\n",
        "    feature_columns=my_feature_columns,\n",
        "    # Dos capas ocultas de 30 y 10 nodos respectivamente\n",
        "    hidden_units=[50],\n",
        "    # El modelo debe poder distinguir entre 3 clases\n",
        "    n_classes=3)\n",
        "\n",
        "classifier.train(\n",
        "    input_fn=lambda: input_fn(train, train_y, training=True),\n",
        "    steps=5000)\n",
        "# Hemos definido lambda para evitar crear una función previamente (los detalles de implementación no son importantes ahora)\n",
        "\n",
        "\n",
        "eval_result = classifier.evaluate(\n",
        "    input_fn=lambda: input_fn(test, test_y, training=False))\n",
        "clear_output()\n",
        "print('\\nTest set accuracy: {accuracy:0.3f}\\n'.format(**eval_result))\n"
      ],
      "execution_count": 37,
      "outputs": [
        {
          "output_type": "stream",
          "text": [
            "\n",
            "Test set accuracy: 0.900\n",
            "\n"
          ],
          "name": "stdout"
        }
      ]
    },
    {
      "cell_type": "code",
      "metadata": {
        "colab": {
          "base_uri": "https://localhost:8080/"
        },
        "id": "QGpJDISQFSj2",
        "outputId": "38765216-381c-49a1-a287-b2c4b4cda5a2"
      },
      "source": [
        "# 2 capas ocultas de 30 y 10 neuronas respectivamente\n",
        "classifier = tf.estimator.DNNClassifier(\n",
        "    feature_columns=my_feature_columns,\n",
        "    # Dos capas ocultas de 30 y 10 nodos respectivamente\n",
        "    hidden_units=[30,10],\n",
        "    # El modelo debe poder distinguir entre 3 clases\n",
        "    n_classes=3)\n",
        "\n",
        "classifier.train(\n",
        "    input_fn=lambda: input_fn(train, train_y, training=True),\n",
        "    steps=5000)\n",
        "# Hemos definido lambda para evitar crear una función previamente (los detalles de implementación no son importantes ahora)\n",
        "\n",
        "\n",
        "eval_result = classifier.evaluate(\n",
        "    input_fn=lambda: input_fn(test, test_y, training=False))\n",
        "clear_output()\n",
        "print('\\nTest set accuracy: {accuracy:0.3f}\\n'.format(**eval_result))"
      ],
      "execution_count": 38,
      "outputs": [
        {
          "output_type": "stream",
          "text": [
            "\n",
            "Test set accuracy: 0.900\n",
            "\n"
          ],
          "name": "stdout"
        }
      ]
    },
    {
      "cell_type": "code",
      "metadata": {
        "colab": {
          "base_uri": "https://localhost:8080/"
        },
        "id": "kePeRKRUFSj2",
        "outputId": "4ba0fe21-0522-4c4b-fccd-11fd42936cfe"
      },
      "source": [
        "#3 capas ocultas de 30, 20 y 10 neuronas respectivamente.\n",
        "classifier = tf.estimator.DNNClassifier(\n",
        "    feature_columns=my_feature_columns,\n",
        "    # Dos capas ocultas de 30 y 10 nodos respectivamente\n",
        "    hidden_units=[30,20,10],\n",
        "    # El modelo debe poder distinguir entre 3 clases\n",
        "    n_classes=3)\n",
        "\n",
        "classifier.train(\n",
        "    input_fn=lambda: input_fn(train, train_y, training=True),\n",
        "    steps=5000)\n",
        "# Hemos definido lambda para evitar crear una función previamente (los detalles de implementación no son importantes ahora)\n",
        "\n",
        "\n",
        "eval_result = classifier.evaluate(\n",
        "    input_fn=lambda: input_fn(test, test_y, training=False))\n",
        "clear_output()\n",
        "print('\\nTest set accuracy: {accuracy:0.3f}\\n'.format(**eval_result))"
      ],
      "execution_count": 39,
      "outputs": [
        {
          "output_type": "stream",
          "text": [
            "\n",
            "Test set accuracy: 0.967\n",
            "\n"
          ],
          "name": "stdout"
        }
      ]
    },
    {
      "cell_type": "code",
      "metadata": {
        "colab": {
          "base_uri": "https://localhost:8080/"
        },
        "id": "wqezDp22FSj2",
        "outputId": "3bd1adc1-f6f9-4555-a50d-5f68e74b03db"
      },
      "source": [
        "#5 capas ocultas de 30, 20, 10, 10 y 10 neuronas respectivamente.\n",
        "classifier = tf.estimator.DNNClassifier(\n",
        "    feature_columns=my_feature_columns,\n",
        "    # Dos capas ocultas de 30 y 10 nodos respectivamente\n",
        "    hidden_units=[30,20,10,10,10],\n",
        "    # El modelo debe poder distinguir entre 3 clases\n",
        "    n_classes=3)\n",
        "\n",
        "classifier.train(\n",
        "    input_fn=lambda: input_fn(train, train_y, training=True),\n",
        "    steps=5000)\n",
        "# Hemos definido lambda para evitar crear una función previamente (los detalles de implementación no son importantes ahora)\n",
        "\n",
        "\n",
        "eval_result = classifier.evaluate(\n",
        "    input_fn=lambda: input_fn(test, test_y, training=False))\n",
        "clear_output()\n",
        "print('\\nTest set accuracy: {accuracy:0.3f}\\n'.format(**eval_result))"
      ],
      "execution_count": 40,
      "outputs": [
        {
          "output_type": "stream",
          "text": [
            "\n",
            "Test set accuracy: 0.967\n",
            "\n"
          ],
          "name": "stdout"
        }
      ]
    },
    {
      "cell_type": "markdown",
      "metadata": {
        "id": "D7x7VrbLFSj3"
      },
      "source": [
        "### Conclusiones\n",
        "\n",
        "¿Qué idea básica extraes de los experimentos?\n",
        "\n",
        "¿Mejora siempre la red al aumentar su tamaño y/o profundidad?\n"
      ]
    },
    {
      "cell_type": "code",
      "metadata": {
        "id": "0pFr9xj6FSj3"
      },
      "source": [
        "# Con una sola capa, si aumentamos ancho, mejora la red, en este caso con un valor de anchura de 70 neuronas alcazmos un accuracy de 0.9. \n",
        "# Si aumentamos profundidad y ancho de las primeras capas , mejora el accuracy de la red.\n",
        "# No siempre mejora la red al aumentar la profundidad. Una sola capa de 50 es mejor que tres de 10.\n",
        "# Siempre mejora al aumentar el ancho (hasta cierto punto). Parece que aumentando la anchura , se aprenden mejor las relaciones lineales\n",
        "# y que la profundidad funcionara mejor en relaciones no lineales.\n",
        "\n"
      ],
      "execution_count": 41,
      "outputs": []
    }
  ]
}