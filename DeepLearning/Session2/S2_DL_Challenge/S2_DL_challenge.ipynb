{
 "cells": [
  {
   "cell_type": "markdown",
   "metadata": {},
   "source": [
    "<img src=\"mioti.png\" style=\"height: 100px\">\n",
    "<center style=\"color:#888\">Módulo Data Science in IoT<br/>Asignatura Deep Learning</center>\n",
    "\n",
    "# Challenge S2: Machine Learning Basics en TensorFlow\n",
    "\n",
    "## Objetivos\n",
    "\n",
    "El objetivo de este challenge es familiarizarnos con TensorFlow y con su funcionamiento básico enfrentandose a problemas de regresión y clasificación.\n",
    "\n",
    "\n",
    "## Regresión\n",
    "\n",
    "### Punto de partida\n",
    "\n",
    "El punto de partida se corresponde con el código que hemos visto en el worksheet:"
   ]
  },
  {
   "cell_type": "code",
   "execution_count": 1,
   "metadata": {},
   "outputs": [
    {
     "name": "stdout",
     "output_type": "stream",
     "text": [
      "0.74242425\n"
     ]
    }
   ],
   "source": [
    "import os\n",
    "import sys\n",
    "\n",
    "import numpy as np\n",
    "import pandas as pd\n",
    "import matplotlib.pyplot as plt\n",
    "from IPython.display import clear_output\n",
    "from six.moves import urllib\n",
    "\n",
    "import tensorflow.compat.v2.feature_column as fc\n",
    "\n",
    "import tensorflow as tf\n",
    "\n",
    "# Cargamos el dataset\n",
    "dftrain = pd.read_csv('https://storage.googleapis.com/tf-datasets/titanic/train.csv')\n",
    "dfeval = pd.read_csv('https://storage.googleapis.com/tf-datasets/titanic/eval.csv')\n",
    "y_train = dftrain.pop('survived')\n",
    "y_eval = dfeval.pop('survived')\n",
    "\n",
    "# Creamos las estructuras que contienen las categorías\n",
    "CATEGORICAL_COLUMNS = ['sex', 'n_siblings_spouses', 'parch', 'class', 'deck',\n",
    "                       'embark_town', 'alone']\n",
    "NUMERIC_COLUMNS = ['age', 'fare']\n",
    "\n",
    "feature_columns = []\n",
    "for feature_name in CATEGORICAL_COLUMNS:\n",
    "  vocabulary = dftrain[feature_name].unique()  # lista de todos los valores únicos contenidos en una columna\n",
    "  feature_columns.append(tf.feature_column.categorical_column_with_vocabulary_list(feature_name, vocabulary))\n",
    "\n",
    "for feature_name in NUMERIC_COLUMNS:\n",
    "  feature_columns.append(tf.feature_column.numeric_column(feature_name, dtype=tf.float32))\n",
    "\n",
    "# Definimos nuestra función de input\n",
    "\n",
    "def make_input_fn(data_df, label_df, num_epochs=10, shuffle=True, batch_size=32):\n",
    "  def input_function():  # función interna, esto es lo que será devuelto\n",
    "    ds = tf.data.Dataset.from_tensor_slices((dict(data_df), label_df))  # crea un objeto tf.data.Dataset que contendrá datos y etiquetas \n",
    "    if shuffle:\n",
    "      ds = ds.shuffle(1000)  # con esta línea aleatorizamos la selección de elementos\n",
    "    ds = ds.batch(batch_size).repeat(num_epochs)  # divide el dataset en batches el número de veces especificado por num_epocs \n",
    "    return ds  # devuelve un batch del dataset\n",
    "  return input_function  # devuelve el objeto completo para ser utilizado.\n",
    "\n",
    "train_input_fn = make_input_fn(dftrain, y_train)  # así llamamos a la función que se nos devuelve para extraer el objeto dataset que inyectaremos en el modelo\n",
    "eval_input_fn = make_input_fn(dfeval, y_eval, num_epochs=1, shuffle=False)\n",
    "\n",
    "\n",
    "# Creamos el modelo\n",
    "linear_est = tf.estimator.LinearClassifier(feature_columns=feature_columns)\n",
    "\n",
    "# Lo entrenamos\n",
    "linear_est.train(train_input_fn)  # entrenamos el modelo\n",
    "result = linear_est.evaluate(eval_input_fn)  # obtenemos las estimaciones del conjunto de evaluación\n",
    "\n",
    "clear_output()  # limpiamos la consola\n",
    "print(result['accuracy'])  # la viariable result es un diccionario con los resultados de nuestro modelo"
   ]
  },
  {
   "cell_type": "markdown",
   "metadata": {},
   "source": [
    "## Tareas\n",
    "\n",
    "\n",
    "### Cambiando el histograma\n",
    "\n",
    "En el worksheet tenemos el ejemplo de un histograma con las posibilidades de supervivencia de cada individuo del conjunto de evaluación, representad a continuación el mismo histograma pero con el conjunto de entrenamiento.\n"
   ]
  },
  {
   "cell_type": "code",
   "execution_count": 2,
   "metadata": {},
   "outputs": [
    {
     "name": "stdout",
     "output_type": "stream",
     "text": [
      "INFO:tensorflow:Calling model_fn.\n",
      "INFO:tensorflow:Done calling model_fn.\n",
      "INFO:tensorflow:Graph was finalized.\n",
      "INFO:tensorflow:Restoring parameters from /var/folders/01/4d70j3nn55z71b4011q5p56r0000gn/T/tmpfninx4qc/model.ckpt-200\n",
      "INFO:tensorflow:Running local_init_op.\n",
      "INFO:tensorflow:Done running local_init_op.\n"
     ]
    },
    {
     "data": {
      "text/plain": [
       "<AxesSubplot:title={'center':'predicted probabilities'}, ylabel='Frequency'>"
      ]
     },
     "execution_count": 2,
     "metadata": {},
     "output_type": "execute_result"
    },
    {
     "data": {
      "image/png": "[encoded data removed]",
      "text/plain": [
       "<Figure size 432x288 with 1 Axes>"
      ]
     },
     "metadata": {
      "needs_background": "light"
     },
     "output_type": "display_data"
    }
   ],
   "source": [
    "pred_dicts = list(linear_est.predict(train_input_fn)) \n",
    "\n",
    "probs = pd.Series([pred['probabilities'][1] for pred in pred_dicts]) \n",
    "\n",
    "probs.plot(kind='hist', bins=20, title='predicted probabilities')"
   ]
  },
  {
   "cell_type": "markdown",
   "metadata": {},
   "source": [
    "¿Y si lo que queremos es pintar el histograma de la mortalidad de cada individuo del conjunto de evaluación?\n",
    "\n",
    "Pista, mirad la estructura del diccionario que devuelve *linear_est.predict()*"
   ]
  },
  {
   "cell_type": "code",
   "execution_count": 3,
   "metadata": {},
   "outputs": [
    {
     "name": "stdout",
     "output_type": "stream",
     "text": [
      "INFO:tensorflow:Calling model_fn.\n",
      "INFO:tensorflow:Done calling model_fn.\n",
      "INFO:tensorflow:Graph was finalized.\n",
      "INFO:tensorflow:Restoring parameters from /var/folders/01/4d70j3nn55z71b4011q5p56r0000gn/T/tmpfninx4qc/model.ckpt-200\n",
      "INFO:tensorflow:Running local_init_op.\n",
      "INFO:tensorflow:Done running local_init_op.\n"
     ]
    },
    {
     "data": {
      "text/plain": [
       "<AxesSubplot:title={'center':'predicted probabilities'}, ylabel='Frequency'>"
      ]
     },
     "execution_count": 3,
     "metadata": {},
     "output_type": "execute_result"
    },
    {
     "data": {
      "image/png": "[encoded data removed]",
      "text/plain": [
       "<Figure size 432x288 with 1 Axes>"
      ]
     },
     "metadata": {
      "needs_background": "light"
     },
     "output_type": "display_data"
    }
   ],
   "source": [
    "pred_dicts = list(linear_est.predict(train_input_fn)) \n",
    "\n",
    "probs = pd.Series([pred['probabilities'][0] for pred in pred_dicts]) \n",
    "\n",
    "probs.plot(kind='hist', bins=20, title='predicted probabilities')"
   ]
  },
  {
   "cell_type": "markdown",
   "metadata": {},
   "source": [
    "### Cambiando el conjunto de entrenamiento\n",
    "\n",
    "Sabemos que uno de los factores más importantes en el entrenamiento de redes neuronales es la cantidad y calidad del conjunto de entrenamiento. ¿Es igual de importante en regresión lineal?\n",
    "\n",
    "Vamos a ver cuál sería el porcentaje de acierto de nuestro modelo si entrenamos con la mitad del conjunto de entrenamiento:"
   ]
  },
  {
   "cell_type": "code",
   "execution_count": 12,
   "metadata": {},
   "outputs": [],
   "source": [
    "df_train_mid = dftrain.iloc[0:313]\n"
   ]
  },
  {
   "cell_type": "markdown",
   "metadata": {},
   "source": [
    "Y si entrenamos con una décima parte de en nuestro ejemplo original?"
   ]
  },
  {
   "cell_type": "code",
   "execution_count": null,
   "metadata": {},
   "outputs": [],
   "source": []
  },
  {
   "cell_type": "markdown",
   "metadata": {},
   "source": [
    "Por último, vamos a mostrar también el accuracy que tenemos sobre el conjunto de datos de entrenamiento (podemos utilizar cualquiera de los modelos que acabamos de entrenar)\n"
   ]
  },
  {
   "cell_type": "code",
   "execution_count": null,
   "metadata": {},
   "outputs": [],
   "source": []
  },
  {
   "cell_type": "markdown",
   "metadata": {},
   "source": [
    "### Conclusiones:\n",
    " \n",
    "¿Hay mucha diferencia entre el entrenamiento original y el que hemos realizado con datos diezmados? ¿Por qué?"
   ]
  },
  {
   "cell_type": "code",
   "execution_count": null,
   "metadata": {},
   "outputs": [],
   "source": []
  },
  {
   "cell_type": "markdown",
   "metadata": {},
   "source": [
    "## Regresión\n",
    "\n",
    "### Punto de partida\n",
    "\n",
    "El punto de partida se corresponde con el código que hemos visto en el worksheet:"
   ]
  },
  {
   "cell_type": "code",
   "execution_count": 2,
   "metadata": {},
   "outputs": [
    {
     "name": "stdout",
     "output_type": "stream",
     "text": [
      "[NumericColumn(key='SepalLength', shape=(1,), default_value=None, dtype=tf.float32, normalizer_fn=None), NumericColumn(key='SepalWidth', shape=(1,), default_value=None, dtype=tf.float32, normalizer_fn=None), NumericColumn(key='PetalLength', shape=(1,), default_value=None, dtype=tf.float32, normalizer_fn=None), NumericColumn(key='PetalWidth', shape=(1,), default_value=None, dtype=tf.float32, normalizer_fn=None)]\n",
      "INFO:tensorflow:Using default config.\n",
      "WARNING:tensorflow:Using temporary folder as model directory: /var/folders/b0/rhdddf2s1bq1_qtznbxn4m_m0000gn/T/tmpvk8ezqos\n",
      "INFO:tensorflow:Using config: {'_model_dir': '/var/folders/b0/rhdddf2s1bq1_qtznbxn4m_m0000gn/T/tmpvk8ezqos', '_tf_random_seed': None, '_save_summary_steps': 100, '_save_checkpoints_steps': None, '_save_checkpoints_secs': 600, '_session_config': allow_soft_placement: true\n",
      "graph_options {\n",
      "  rewrite_options {\n",
      "    meta_optimizer_iterations: ONE\n",
      "  }\n",
      "}\n",
      ", '_keep_checkpoint_max': 5, '_keep_checkpoint_every_n_hours': 10000, '_log_step_count_steps': 100, '_train_distribute': None, '_device_fn': None, '_protocol': None, '_eval_distribute': None, '_experimental_distribute': None, '_experimental_max_worker_delay_secs': None, '_session_creation_timeout_secs': 7200, '_service': None, '_cluster_spec': <tensorflow.python.training.server_lib.ClusterSpec object at 0x64489f0f0>, '_task_type': 'worker', '_task_id': 0, '_global_id_in_cluster': 0, '_master': '', '_evaluation_master': '', '_is_chief': True, '_num_ps_replicas': 0, '_num_worker_replicas': 1}\n",
      "INFO:tensorflow:Calling model_fn.\n",
      "WARNING:tensorflow:Layer dnn is casting an input tensor from dtype float64 to the layer's dtype of float32, which is new behavior in TensorFlow 2.  The layer has dtype float32 because it's dtype defaults to floatx.\n",
      "\n",
      "If you intended to run this layer in float32, you can safely ignore this warning. If in doubt, this warning is likely only an issue if you are porting a TensorFlow 1.X model to TensorFlow 2.\n",
      "\n",
      "To change all layers to have dtype float64 by default, call `tf.keras.backend.set_floatx('float64')`. To change just this layer, pass dtype='float64' to the layer constructor. If you are the author of this layer, you can disable autocasting by passing autocast=False to the base Layer constructor.\n",
      "\n",
      "INFO:tensorflow:Done calling model_fn.\n",
      "INFO:tensorflow:Create CheckpointSaverHook.\n",
      "INFO:tensorflow:Graph was finalized.\n",
      "INFO:tensorflow:Running local_init_op.\n",
      "INFO:tensorflow:Done running local_init_op.\n",
      "INFO:tensorflow:Saving checkpoints for 0 into /var/folders/b0/rhdddf2s1bq1_qtznbxn4m_m0000gn/T/tmpvk8ezqos/model.ckpt.\n",
      "INFO:tensorflow:loss = 1.3312993, step = 0\n",
      "INFO:tensorflow:global_step/sec: 41.3032\n",
      "INFO:tensorflow:loss = 1.118422, step = 100 (2.422 sec)\n",
      "INFO:tensorflow:global_step/sec: 97.4585\n",
      "INFO:tensorflow:loss = 1.0808775, step = 200 (1.026 sec)\n",
      "INFO:tensorflow:global_step/sec: 76.7629\n",
      "INFO:tensorflow:loss = 1.0610334, step = 300 (1.304 sec)\n",
      "INFO:tensorflow:global_step/sec: 78.7092\n",
      "INFO:tensorflow:loss = 1.0230646, step = 400 (1.269 sec)\n",
      "INFO:tensorflow:global_step/sec: 77.2122\n",
      "INFO:tensorflow:loss = 1.011652, step = 500 (1.295 sec)\n",
      "INFO:tensorflow:global_step/sec: 79.6971\n",
      "INFO:tensorflow:loss = 1.0115023, step = 600 (1.256 sec)\n",
      "INFO:tensorflow:global_step/sec: 82.756\n",
      "INFO:tensorflow:loss = 1.001772, step = 700 (1.208 sec)\n",
      "INFO:tensorflow:global_step/sec: 56.1296\n",
      "INFO:tensorflow:loss = 0.9708898, step = 800 (1.781 sec)\n",
      "INFO:tensorflow:global_step/sec: 83.5607\n",
      "INFO:tensorflow:loss = 0.9835367, step = 900 (1.197 sec)\n",
      "INFO:tensorflow:global_step/sec: 55.5318\n",
      "INFO:tensorflow:loss = 0.96048653, step = 1000 (1.801 sec)\n",
      "INFO:tensorflow:global_step/sec: 51.3577\n",
      "INFO:tensorflow:loss = 0.9529151, step = 1100 (1.947 sec)\n",
      "INFO:tensorflow:global_step/sec: 70.3551\n",
      "INFO:tensorflow:loss = 0.92826736, step = 1200 (1.430 sec)\n",
      "INFO:tensorflow:global_step/sec: 86.5805\n",
      "INFO:tensorflow:loss = 0.9099195, step = 1300 (1.147 sec)\n",
      "INFO:tensorflow:global_step/sec: 81.3568\n",
      "INFO:tensorflow:loss = 0.90063566, step = 1400 (1.229 sec)\n",
      "INFO:tensorflow:global_step/sec: 63.6236\n",
      "INFO:tensorflow:loss = 0.88862383, step = 1500 (1.573 sec)\n",
      "INFO:tensorflow:global_step/sec: 50.0278\n",
      "INFO:tensorflow:loss = 0.8833565, step = 1600 (1.999 sec)\n",
      "INFO:tensorflow:global_step/sec: 74.213\n",
      "INFO:tensorflow:loss = 0.86316687, step = 1700 (1.346 sec)\n",
      "INFO:tensorflow:global_step/sec: 50.6338\n",
      "INFO:tensorflow:loss = 0.863212, step = 1800 (1.979 sec)\n",
      "INFO:tensorflow:global_step/sec: 42.4318\n",
      "INFO:tensorflow:loss = 0.8519839, step = 1900 (2.359 sec)\n",
      "INFO:tensorflow:global_step/sec: 65.8071\n",
      "INFO:tensorflow:loss = 0.8567067, step = 2000 (1.514 sec)\n",
      "INFO:tensorflow:global_step/sec: 63.6411\n",
      "INFO:tensorflow:loss = 0.8489684, step = 2100 (1.573 sec)\n",
      "INFO:tensorflow:global_step/sec: 71.4464\n",
      "INFO:tensorflow:loss = 0.8357596, step = 2200 (1.398 sec)\n",
      "INFO:tensorflow:global_step/sec: 78.1243\n",
      "INFO:tensorflow:loss = 0.83554333, step = 2300 (1.279 sec)\n",
      "INFO:tensorflow:global_step/sec: 72.2679\n",
      "INFO:tensorflow:loss = 0.84133667, step = 2400 (1.384 sec)\n",
      "INFO:tensorflow:global_step/sec: 77.5124\n",
      "INFO:tensorflow:loss = 0.8357502, step = 2500 (1.292 sec)\n",
      "INFO:tensorflow:global_step/sec: 41.3877\n",
      "INFO:tensorflow:loss = 0.8245449, step = 2600 (2.421 sec)\n",
      "INFO:tensorflow:global_step/sec: 54.064\n",
      "INFO:tensorflow:loss = 0.82645595, step = 2700 (1.844 sec)\n",
      "INFO:tensorflow:global_step/sec: 59.1987\n",
      "INFO:tensorflow:loss = 0.8162993, step = 2800 (1.689 sec)\n",
      "INFO:tensorflow:global_step/sec: 62.3015\n",
      "INFO:tensorflow:loss = 0.81931543, step = 2900 (1.605 sec)\n",
      "INFO:tensorflow:global_step/sec: 60.2223\n",
      "INFO:tensorflow:loss = 0.8081944, step = 3000 (1.660 sec)\n",
      "INFO:tensorflow:global_step/sec: 76.3723\n",
      "INFO:tensorflow:loss = 0.80436313, step = 3100 (1.311 sec)\n",
      "INFO:tensorflow:global_step/sec: 65.5385\n",
      "INFO:tensorflow:loss = 0.8093077, step = 3200 (1.525 sec)\n",
      "INFO:tensorflow:global_step/sec: 54.7419\n",
      "INFO:tensorflow:loss = 0.7938223, step = 3300 (1.827 sec)\n",
      "INFO:tensorflow:global_step/sec: 66.3437\n",
      "INFO:tensorflow:loss = 0.8089111, step = 3400 (1.507 sec)\n",
      "INFO:tensorflow:global_step/sec: 70.7627\n",
      "INFO:tensorflow:loss = 0.7944699, step = 3500 (1.412 sec)\n",
      "INFO:tensorflow:global_step/sec: 70.2447\n",
      "INFO:tensorflow:loss = 0.78730255, step = 3600 (1.424 sec)\n",
      "INFO:tensorflow:global_step/sec: 79.1582\n",
      "INFO:tensorflow:loss = 0.7772189, step = 3700 (1.263 sec)\n",
      "INFO:tensorflow:global_step/sec: 82.1597\n",
      "INFO:tensorflow:loss = 0.78385764, step = 3800 (1.217 sec)\n",
      "INFO:tensorflow:global_step/sec: 80.159\n",
      "INFO:tensorflow:loss = 0.7706754, step = 3900 (1.247 sec)\n",
      "INFO:tensorflow:global_step/sec: 66.3683\n",
      "INFO:tensorflow:loss = 0.7666889, step = 4000 (1.508 sec)\n",
      "INFO:tensorflow:global_step/sec: 71.2131\n",
      "INFO:tensorflow:loss = 0.7697723, step = 4100 (1.403 sec)\n",
      "INFO:tensorflow:global_step/sec: 65.4505\n",
      "INFO:tensorflow:loss = 0.769165, step = 4200 (1.528 sec)\n",
      "INFO:tensorflow:global_step/sec: 45.8624\n",
      "INFO:tensorflow:loss = 0.7883855, step = 4300 (2.182 sec)\n",
      "INFO:tensorflow:global_step/sec: 41.5834\n",
      "INFO:tensorflow:loss = 0.76210874, step = 4400 (2.403 sec)\n",
      "INFO:tensorflow:global_step/sec: 72.7942\n",
      "INFO:tensorflow:loss = 0.7513997, step = 4500 (1.375 sec)\n",
      "INFO:tensorflow:global_step/sec: 62.8493\n",
      "INFO:tensorflow:loss = 0.68086827, step = 4600 (1.590 sec)\n",
      "INFO:tensorflow:global_step/sec: 58.5909\n",
      "INFO:tensorflow:loss = 0.65148103, step = 4700 (1.707 sec)\n",
      "INFO:tensorflow:global_step/sec: 72.5575\n",
      "INFO:tensorflow:loss = 0.6309345, step = 4800 (1.378 sec)\n",
      "INFO:tensorflow:global_step/sec: 73.6509\n",
      "INFO:tensorflow:loss = 0.614754, step = 4900 (1.361 sec)\n",
      "INFO:tensorflow:Saving checkpoints for 5000 into /var/folders/b0/rhdddf2s1bq1_qtznbxn4m_m0000gn/T/tmpvk8ezqos/model.ckpt.\n",
      "INFO:tensorflow:Loss for final step: 0.6111568.\n",
      "INFO:tensorflow:Calling model_fn.\n",
      "WARNING:tensorflow:Layer dnn is casting an input tensor from dtype float64 to the layer's dtype of float32, which is new behavior in TensorFlow 2.  The layer has dtype float32 because it's dtype defaults to floatx.\n",
      "\n",
      "If you intended to run this layer in float32, you can safely ignore this warning. If in doubt, this warning is likely only an issue if you are porting a TensorFlow 1.X model to TensorFlow 2.\n",
      "\n",
      "To change all layers to have dtype float64 by default, call `tf.keras.backend.set_floatx('float64')`. To change just this layer, pass dtype='float64' to the layer constructor. If you are the author of this layer, you can disable autocasting by passing autocast=False to the base Layer constructor.\n",
      "\n",
      "INFO:tensorflow:Done calling model_fn.\n",
      "INFO:tensorflow:Starting evaluation at 2020-04-17T13:07:13Z\n",
      "INFO:tensorflow:Graph was finalized.\n",
      "INFO:tensorflow:Restoring parameters from /var/folders/b0/rhdddf2s1bq1_qtznbxn4m_m0000gn/T/tmpvk8ezqos/model.ckpt-5000\n",
      "INFO:tensorflow:Running local_init_op.\n",
      "INFO:tensorflow:Done running local_init_op.\n",
      "INFO:tensorflow:Finished evaluation at 2020-04-17-13:07:15\n",
      "INFO:tensorflow:Saving dict for global step 5000: accuracy = 0.76666665, average_loss = 0.6583955, global_step = 5000, loss = 0.6583955\n",
      "INFO:tensorflow:Saving 'checkpoint_path' summary for global step 5000: /var/folders/b0/rhdddf2s1bq1_qtznbxn4m_m0000gn/T/tmpvk8ezqos/model.ckpt-5000\n",
      "\n",
      "Test set accuracy: 0.767\n",
      "\n"
     ]
    }
   ],
   "source": [
    "CSV_COLUMN_NAMES = ['SepalLength', 'SepalWidth', 'PetalLength', 'PetalWidth', 'Species']\n",
    "SPECIES = ['Setosa', 'Versicolor', 'Virginica']\n",
    "\n",
    "train_path = tf.keras.utils.get_file(\n",
    "    \"iris_training.csv\", \"https://storage.googleapis.com/download.tensorflow.org/data/iris_training.csv\")\n",
    "test_path = tf.keras.utils.get_file(\n",
    "    \"iris_test.csv\", \"https://storage.googleapis.com/download.tensorflow.org/data/iris_test.csv\")\n",
    "\n",
    "train = pd.read_csv(train_path, names=CSV_COLUMN_NAMES, header=0)\n",
    "test = pd.read_csv(test_path, names=CSV_COLUMN_NAMES, header=0)\n",
    "train_y = train.pop('Species')\n",
    "test_y = test.pop('Species')\n",
    "\n",
    "def input_fn(features, labels, training=True, batch_size=256):\n",
    "    # Convertimos los datos al tipo dataset.\n",
    "    dataset = tf.data.Dataset.from_tensor_slices((dict(features), labels))\n",
    "\n",
    "    # Aleatorizamos y seleccionamos los datos si estamos en modo train.\n",
    "    if training:\n",
    "        dataset = dataset.shuffle(1000).repeat()\n",
    "    \n",
    "    return dataset.batch(batch_size)\n",
    "\n",
    "# Feature columns describe cómo se utilizan las feature columns\n",
    "my_feature_columns = []\n",
    "for key in train.keys():\n",
    "    my_feature_columns.append(tf.feature_column.numeric_column(key=key))\n",
    "print(my_feature_columns)\n",
    "\n",
    "# Definimos una DNN con 2 capas ocultas con 30 y 10 nodos ocultos cada una.\n",
    "classifier = tf.estimator.DNNClassifier(\n",
    "    feature_columns=my_feature_columns,\n",
    "    # Dos capas ocultas de 30 y 10 nodos respectivamente\n",
    "    hidden_units=[10,10,10],\n",
    "    # El modelo debe poder distinguir entre 3 clases\n",
    "    n_classes=3)\n",
    "\n",
    "classifier.train(\n",
    "    input_fn=lambda: input_fn(train, train_y, training=True),\n",
    "    steps=5000)\n",
    "# Hemos definido lambda para evitar crear una función previamente (los detalles de implementación no son importantes ahora)\n",
    "\n",
    "\n",
    "eval_result = classifier.evaluate(\n",
    "    input_fn=lambda: input_fn(test, test_y, training=False))\n",
    "\n",
    "print('\\nTest set accuracy: {accuracy:0.3f}\\n'.format(**eval_result))\n",
    "\n",
    "\n",
    "\n"
   ]
  },
  {
   "cell_type": "markdown",
   "metadata": {},
   "source": [
    "### Ajustando los parámetros del entrenamiento\n",
    "\n",
    "Como sabemos, el número de capas y neuronas ocultas es un número arbitrario y necesitamos de muchos experimentos y test para poder determinar la mejor elección de estos valores.\n",
    "\n",
    "Vamos a probar en las siguientes celdas a probar las siguientes arquitecturas:\n",
    "\n",
    "- 1 capa oculta de 10 neuronas\n",
    "- 1 capa oculta de 50 neuronas\n",
    "- 2 capas ocultas de 30 y 10 neuronas respectivamente\n",
    "- 3 capas ocultas de 30, 20 y 10 neuronas respectivamente.\n",
    "- 5 capas ocultas de 30, 20, 10, 10 y 10 neuronas respectivamente.\n"
   ]
  },
  {
   "cell_type": "code",
   "execution_count": null,
   "metadata": {},
   "outputs": [],
   "source": []
  },
  {
   "cell_type": "code",
   "execution_count": null,
   "metadata": {},
   "outputs": [],
   "source": []
  },
  {
   "cell_type": "code",
   "execution_count": null,
   "metadata": {},
   "outputs": [],
   "source": []
  },
  {
   "cell_type": "code",
   "execution_count": null,
   "metadata": {},
   "outputs": [],
   "source": []
  },
  {
   "cell_type": "code",
   "execution_count": null,
   "metadata": {},
   "outputs": [],
   "source": []
  },
  {
   "cell_type": "markdown",
   "metadata": {},
   "source": [
    "### Conclusiones\n",
    "\n",
    "¿Qué idea básica extraes de los experimentos?\n",
    "\n",
    "¿Mejora siempre la red al aumentar su tamaño y/o profundidad?\n"
   ]
  },
  {
   "cell_type": "code",
   "execution_count": null,
   "metadata": {},
   "outputs": [],
   "source": []
  }
 ],
 "metadata": {
  "anaconda-cloud": {},
  "kernelspec": {
   "display_name": "Python 3",
   "language": "python",
   "name": "python3"
  },
  "language_info": {
   "codemirror_mode": {
    "name": "ipython",
    "version": 3
   },
   "file_extension": ".py",
   "mimetype": "text/x-python",
   "name": "python",
   "nbconvert_exporter": "python",
   "pygments_lexer": "ipython3",
   "version": "3.8.5"
  }
 },
 "nbformat": 4,
 "nbformat_minor": 4
}
