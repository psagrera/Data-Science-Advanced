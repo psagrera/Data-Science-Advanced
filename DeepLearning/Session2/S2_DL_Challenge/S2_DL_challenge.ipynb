{
  "nbformat": 4,
  "nbformat_minor": 0,
  "metadata": {
    "anaconda-cloud": {},
    "kernelspec": {
      "display_name": "Python 3",
      "language": "python",
      "name": "python3"
    },
    "language_info": {
      "codemirror_mode": {
        "name": "ipython",
        "version": 3
      },
      "file_extension": ".py",
      "mimetype": "text/x-python",
      "name": "python",
      "nbconvert_exporter": "python",
      "pygments_lexer": "ipython3",
      "version": "3.8.5"
    },
    "colab": {
      "name": "S2_DL_challenge.ipynb",
      "provenance": [],
      "toc_visible": true,
      "include_colab_link": true
    },
    "accelerator": "GPU"
  },
  "cells": [
    {
      "cell_type": "markdown",
      "metadata": {
        "id": "view-in-github",
        "colab_type": "text"
      },
      "source": [
        "<a href=\"https://colab.research.google.com/github/psagrera/Data-Science-Advanced/blob/main/DeepLearning/Session2/S2_DL_Challenge/S2_DL_challenge.ipynb\" target=\"_parent\"><img src=\"https://colab.research.google.com/assets/colab-badge.svg\" alt=\"Open In Colab\"/></a>"
      ]
    },
    {
      "cell_type": "markdown",
      "metadata": {
        "id": "qOR6TOYqFSjp"
      },
      "source": [
        "<img src=\"mioti.png\" style=\"height: 100px\">\n",
        "<center style=\"color:#888\">Módulo Data Science in IoT<br/>Asignatura Deep Learning</center>\n",
        "\n",
        "# Challenge S2: Machine Learning Basics en TensorFlow\n",
        "\n",
        "## Objetivos\n",
        "\n",
        "El objetivo de este challenge es familiarizarnos con TensorFlow y con su funcionamiento básico enfrentandose a problemas de regresión y clasificación.\n",
        "\n",
        "\n",
        "## Regresión\n",
        "\n",
        "### Punto de partida\n",
        "\n",
        "El punto de partida se corresponde con el código que hemos visto en el worksheet:"
      ]
    },
    {
      "cell_type": "code",
      "metadata": {
        "colab": {
          "base_uri": "https://localhost:8080/"
        },
        "id": "jegmxSRuFSjv",
        "outputId": "14fe5791-2625-48b7-c890-dde85cbbff05"
      },
      "source": [
        "import os\n",
        "import sys\n",
        "\n",
        "import numpy as np\n",
        "import pandas as pd\n",
        "import matplotlib.pyplot as plt\n",
        "from IPython.display import clear_output\n",
        "from six.moves import urllib\n",
        "\n",
        "import tensorflow.compat.v2.feature_column as fc\n",
        "\n",
        "import tensorflow as tf\n",
        "\n",
        "# Cargamos el dataset\n",
        "dftrain = pd.read_csv('https://storage.googleapis.com/tf-datasets/titanic/train.csv')\n",
        "dfeval = pd.read_csv('https://storage.googleapis.com/tf-datasets/titanic/eval.csv')\n",
        "y_train = dftrain.pop('survived')\n",
        "y_eval = dfeval.pop('survived')\n",
        "\n",
        "# Creamos las estructuras que contienen las categorías\n",
        "CATEGORICAL_COLUMNS = ['sex', 'n_siblings_spouses', 'parch', 'class', 'deck',\n",
        "                       'embark_town', 'alone']\n",
        "NUMERIC_COLUMNS = ['age', 'fare']\n",
        "\n",
        "feature_columns = []\n",
        "for feature_name in CATEGORICAL_COLUMNS:\n",
        "  vocabulary = dftrain[feature_name].unique()  # lista de todos los valores únicos contenidos en una columna\n",
        "  feature_columns.append(tf.feature_column.categorical_column_with_vocabulary_list(feature_name, vocabulary))\n",
        "\n",
        "for feature_name in NUMERIC_COLUMNS:\n",
        "  feature_columns.append(tf.feature_column.numeric_column(feature_name, dtype=tf.float32))\n",
        "\n",
        "# Definimos nuestra función de input\n",
        "\n",
        "def make_input_fn(data_df, label_df, num_epochs=10, shuffle=True, batch_size=32):\n",
        "  def input_function():  # función interna, esto es lo que será devuelto\n",
        "    ds = tf.data.Dataset.from_tensor_slices((dict(data_df), label_df))  # crea un objeto tf.data.Dataset que contendrá datos y etiquetas \n",
        "    if shuffle:\n",
        "      ds = ds.shuffle(1000)  # con esta línea aleatorizamos la selección de elementos\n",
        "    ds = ds.batch(batch_size).repeat(num_epochs)  # divide el dataset en batches el número de veces especificado por num_epocs \n",
        "    return ds  # devuelve un batch del dataset\n",
        "  return input_function  # devuelve el objeto completo para ser utilizado.\n",
        "\n",
        "train_input_fn = make_input_fn(dftrain, y_train)  # así llamamos a la función que se nos devuelve para extraer el objeto dataset que inyectaremos en el modelo\n",
        "eval_input_fn = make_input_fn(dfeval, y_eval, num_epochs=1, shuffle=False)\n",
        "\n",
        "\n",
        "# Creamos el modelo\n",
        "linear_est = tf.estimator.LinearClassifier(feature_columns=feature_columns)\n",
        "\n",
        "# Lo entrenamos\n",
        "linear_est.train(train_input_fn)  # entrenamos el modelo\n",
        "result = linear_est.evaluate(eval_input_fn)  # obtenemos las estimaciones del conjunto de evaluación\n",
        "\n",
        "clear_output()  # limpiamos la consola\n",
        "print(result['accuracy'])  # la viariable result es un diccionario con los resultados de nuestro modelo"
      ],
      "execution_count": 328,
      "outputs": [
        {
          "output_type": "stream",
          "text": [
            "0.7651515\n"
          ],
          "name": "stdout"
        }
      ]
    },
    {
      "cell_type": "code",
      "metadata": {
        "colab": {
          "base_uri": "https://localhost:8080/"
        },
        "id": "MQtphIFaCQti",
        "outputId": "f4868613-44b8-4e84-dded-d8500b9078f1"
      },
      "source": [
        "y_train.value_counts()"
      ],
      "execution_count": 329,
      "outputs": [
        {
          "output_type": "execute_result",
          "data": {
            "text/plain": [
              "0    384\n",
              "1    243\n",
              "Name: survived, dtype: int64"
            ]
          },
          "metadata": {
            "tags": []
          },
          "execution_count": 329
        }
      ]
    },
    {
      "cell_type": "markdown",
      "metadata": {
        "id": "QZyQMXFxFSjx"
      },
      "source": [
        "## Tareas\n",
        "\n",
        "\n",
        "### Cambiando el histograma\n",
        "\n",
        "En el worksheet tenemos el ejemplo de un histograma con las posibilidades de supervivencia de cada individuo del conjunto de evaluación, representad a continuación el mismo histograma pero con el conjunto de entrenamiento.\n"
      ]
    },
    {
      "cell_type": "code",
      "metadata": {
        "colab": {
          "base_uri": "https://localhost:8080/",
          "height": 454
        },
        "id": "6ZOJen-nFSjy",
        "outputId": "04ef01de-1dd5-4f0d-b91d-271c3509b18f"
      },
      "source": [
        "pred_dicts = list(linear_est.predict(train_input_fn)) \n",
        "\n",
        "probs = pd.Series([pred['probabilities'][1] for pred in pred_dicts]) \n",
        "\n",
        "probs.plot(kind='hist', bins=20, title='predicted probabilities')"
      ],
      "execution_count": 330,
      "outputs": [
        {
          "output_type": "stream",
          "text": [
            "INFO:tensorflow:Calling model_fn.\n"
          ],
          "name": "stdout"
        },
        {
          "output_type": "stream",
          "text": [
            "/usr/local/lib/python3.7/dist-packages/tensorflow/python/keras/engine/base_layer_v1.py:1727: UserWarning: `layer.add_variable` is deprecated and will be removed in a future version. Please use `layer.add_weight` method instead.\n",
            "  warnings.warn('`layer.add_variable` is deprecated and '\n"
          ],
          "name": "stderr"
        },
        {
          "output_type": "stream",
          "text": [
            "INFO:tensorflow:Done calling model_fn.\n",
            "INFO:tensorflow:Graph was finalized.\n",
            "INFO:tensorflow:Restoring parameters from /tmp/tmpv5imgm8k/model.ckpt-200\n",
            "INFO:tensorflow:Running local_init_op.\n",
            "INFO:tensorflow:Done running local_init_op.\n"
          ],
          "name": "stdout"
        },
        {
          "output_type": "execute_result",
          "data": {
            "text/plain": [
              "<matplotlib.axes._subplots.AxesSubplot at 0x7f2810ec6550>"
            ]
          },
          "metadata": {
            "tags": []
          },
          "execution_count": 330
        },
        {
          "output_type": "display_data",
          "data": {
            "image/png": "[encoded data removed]",
            "text/plain": [
              "<Figure size 432x288 with 1 Axes>"
            ]
          },
          "metadata": {
            "tags": [],
            "needs_background": "light"
          }
        }
      ]
    },
    {
      "cell_type": "markdown",
      "metadata": {
        "id": "aZLLJBvpFSjy"
      },
      "source": [
        "¿Y si lo que queremos es pintar el histograma de la mortalidad de cada individuo del conjunto de evaluación?\n",
        "\n",
        "Pista, mirad la estructura del diccionario que devuelve *linear_est.predict()*"
      ]
    },
    {
      "cell_type": "code",
      "metadata": {
        "colab": {
          "base_uri": "https://localhost:8080/",
          "height": 454
        },
        "id": "VBl5AyDnFSjy",
        "outputId": "9cd0cc98-72af-4edc-d075-715bb319fe21"
      },
      "source": [
        "pred_dicts = list(linear_est.predict(train_input_fn)) \n",
        "\n",
        "probs = pd.Series([pred['probabilities'][0] for pred in pred_dicts]) \n",
        "\n",
        "probs.plot(kind='hist', bins=20, title='predicted probabilities')"
      ],
      "execution_count": 331,
      "outputs": [
        {
          "output_type": "stream",
          "text": [
            "INFO:tensorflow:Calling model_fn.\n"
          ],
          "name": "stdout"
        },
        {
          "output_type": "stream",
          "text": [
            "/usr/local/lib/python3.7/dist-packages/tensorflow/python/keras/engine/base_layer_v1.py:1727: UserWarning: `layer.add_variable` is deprecated and will be removed in a future version. Please use `layer.add_weight` method instead.\n",
            "  warnings.warn('`layer.add_variable` is deprecated and '\n"
          ],
          "name": "stderr"
        },
        {
          "output_type": "stream",
          "text": [
            "INFO:tensorflow:Done calling model_fn.\n",
            "INFO:tensorflow:Graph was finalized.\n",
            "INFO:tensorflow:Restoring parameters from /tmp/tmpv5imgm8k/model.ckpt-200\n",
            "INFO:tensorflow:Running local_init_op.\n",
            "INFO:tensorflow:Done running local_init_op.\n"
          ],
          "name": "stdout"
        },
        {
          "output_type": "execute_result",
          "data": {
            "text/plain": [
              "<matplotlib.axes._subplots.AxesSubplot at 0x7f27aa2afa90>"
            ]
          },
          "metadata": {
            "tags": []
          },
          "execution_count": 331
        },
        {
          "output_type": "display_data",
          "data": {
            "image/png": "[encoded data removed]",
            "text/plain": [
              "<Figure size 432x288 with 1 Axes>"
            ]
          },
          "metadata": {
            "tags": [],
            "needs_background": "light"
          }
        }
      ]
    },
    {
      "cell_type": "markdown",
      "metadata": {
        "id": "vrZSrdUsFSjz"
      },
      "source": [
        "### Cambiando el conjunto de entrenamiento\n",
        "\n",
        "Sabemos que uno de los factores más importantes en el entrenamiento de redes neuronales es la cantidad y calidad del conjunto de entrenamiento. ¿Es igual de importante en regresión lineal?\n",
        "\n",
        "Vamos a ver cuál sería el porcentaje de acierto de nuestro modelo si entrenamos con la mitad del conjunto de entrenamiento:"
      ]
    },
    {
      "cell_type": "code",
      "metadata": {
        "id": "2H3Z2k5ZOzPp"
      },
      "source": [
        "# First approach , manually splitting the dataset to the half, selecting by position\n",
        "half_dataset_x1 = dftrain.iloc[0:314]\n",
        "half_dataset_y1 = y_train.iloc[0:314]\n"
      ],
      "execution_count": 332,
      "outputs": []
    },
    {
      "cell_type": "code",
      "metadata": {
        "colab": {
          "base_uri": "https://localhost:8080/"
        },
        "id": "oHplODtWO15r",
        "outputId": "0211505d-7f2a-41ed-b54e-c731626da9d2"
      },
      "source": [
        "half_dataset_x1.info()\n"
      ],
      "execution_count": 333,
      "outputs": [
        {
          "output_type": "stream",
          "text": [
            "<class 'pandas.core.frame.DataFrame'>\n",
            "RangeIndex: 314 entries, 0 to 313\n",
            "Data columns (total 9 columns):\n",
            " #   Column              Non-Null Count  Dtype  \n",
            "---  ------              --------------  -----  \n",
            " 0   sex                 314 non-null    object \n",
            " 1   age                 314 non-null    float64\n",
            " 2   n_siblings_spouses  314 non-null    int64  \n",
            " 3   parch               314 non-null    int64  \n",
            " 4   fare                314 non-null    float64\n",
            " 5   class               314 non-null    object \n",
            " 6   deck                314 non-null    object \n",
            " 7   embark_town         314 non-null    object \n",
            " 8   alone               314 non-null    object \n",
            "dtypes: float64(2), int64(2), object(5)\n",
            "memory usage: 22.2+ KB\n"
          ],
          "name": "stdout"
        }
      ]
    },
    {
      "cell_type": "code",
      "metadata": {
        "colab": {
          "base_uri": "https://localhost:8080/"
        },
        "id": "MOt7zRiiO5QQ",
        "outputId": "4fedd1a3-acb8-4472-b178-8579d2c212be"
      },
      "source": [
        "len(half_dataset_y1)"
      ],
      "execution_count": 334,
      "outputs": [
        {
          "output_type": "execute_result",
          "data": {
            "text/plain": [
              "314"
            ]
          },
          "metadata": {
            "tags": []
          },
          "execution_count": 334
        }
      ]
    },
    {
      "cell_type": "code",
      "metadata": {
        "id": "2vCNRAMSO7pM"
      },
      "source": [
        "# Second approach, using panda's sample function to split the dataset \n",
        "dftrain = pd.read_csv('https://storage.googleapis.com/tf-datasets/titanic/train.csv')\n",
        "\n",
        "half_dataset_x2 = dftrain.sample(frac=0.5,random_state=1)\n",
        "half_dataset_y2 = half_dataset_x2.pop('survived')"
      ],
      "execution_count": 335,
      "outputs": []
    },
    {
      "cell_type": "code",
      "metadata": {
        "colab": {
          "base_uri": "https://localhost:8080/"
        },
        "id": "P-R5tOoKPDWG",
        "outputId": "70e68097-a7d1-4a9e-a3db-805797da7fb6"
      },
      "source": [
        "half_dataset_x2.info()"
      ],
      "execution_count": 336,
      "outputs": [
        {
          "output_type": "stream",
          "text": [
            "<class 'pandas.core.frame.DataFrame'>\n",
            "Int64Index: 314 entries, 301 to 577\n",
            "Data columns (total 9 columns):\n",
            " #   Column              Non-Null Count  Dtype  \n",
            "---  ------              --------------  -----  \n",
            " 0   sex                 314 non-null    object \n",
            " 1   age                 314 non-null    float64\n",
            " 2   n_siblings_spouses  314 non-null    int64  \n",
            " 3   parch               314 non-null    int64  \n",
            " 4   fare                314 non-null    float64\n",
            " 5   class               314 non-null    object \n",
            " 6   deck                314 non-null    object \n",
            " 7   embark_town         314 non-null    object \n",
            " 8   alone               314 non-null    object \n",
            "dtypes: float64(2), int64(2), object(5)\n",
            "memory usage: 24.5+ KB\n"
          ],
          "name": "stdout"
        }
      ]
    },
    {
      "cell_type": "code",
      "metadata": {
        "colab": {
          "base_uri": "https://localhost:8080/"
        },
        "id": "BLt6XSycPF89",
        "outputId": "061783d6-1e76-41a2-ab0f-b32d382cd5b1"
      },
      "source": [
        "len(half_dataset_y2)"
      ],
      "execution_count": 337,
      "outputs": [
        {
          "output_type": "execute_result",
          "data": {
            "text/plain": [
              "314"
            ]
          },
          "metadata": {
            "tags": []
          },
          "execution_count": 337
        }
      ]
    },
    {
      "cell_type": "code",
      "metadata": {
        "colab": {
          "base_uri": "https://localhost:8080/"
        },
        "id": "62OM9axOBvlX",
        "outputId": "d44ecc32-75f6-42e0-ce47-93fb1eb359c7"
      },
      "source": [
        "half_dataset_y2.value_counts()"
      ],
      "execution_count": 338,
      "outputs": [
        {
          "output_type": "execute_result",
          "data": {
            "text/plain": [
              "0    190\n",
              "1    124\n",
              "Name: survived, dtype: int64"
            ]
          },
          "metadata": {
            "tags": []
          },
          "execution_count": 338
        }
      ]
    },
    {
      "cell_type": "code",
      "metadata": {
        "colab": {
          "base_uri": "https://localhost:8080/"
        },
        "id": "DZjAFrewFSjz",
        "outputId": "75da74ea-ffdb-4d82-bae8-f1082469028e"
      },
      "source": [
        "# Accurary training with the half of the dataset (second approach)\n",
        "\n",
        "train_input_fn_half_x1 = make_input_fn(half_dataset_x1, half_dataset_y1)  # así llamamos a la función que se nos devuelve para extraer el objeto dataset que inyectaremos en el modelo\n",
        "eval_input_fn_half_x = make_input_fn(dfeval, y_eval, num_epochs=1, shuffle=False)\n",
        "\n",
        "# Creamos el modelo\n",
        "linear_est_half = tf.estimator.LinearClassifier(feature_columns=feature_columns)\n",
        "\n",
        "# Lo entrenamos\n",
        "linear_est_half.train(train_input_fn_half_x1)  # entrenamos el modelo\n",
        "result = linear_est_half.evaluate(eval_input_fn_half_x)  # obtenemos las estimaciones del conjunto de evaluación\n",
        "\n",
        "clear_output()  # limpiamos la consola\n",
        "print(result['accuracy'])  # la viariable result es un diccionario con los resultados de nuestro modelo"
      ],
      "execution_count": 339,
      "outputs": [
        {
          "output_type": "stream",
          "text": [
            "0.75\n"
          ],
          "name": "stdout"
        }
      ]
    },
    {
      "cell_type": "code",
      "metadata": {
        "colab": {
          "base_uri": "https://localhost:8080/",
          "height": 454
        },
        "id": "O3xkU_ThORHV",
        "outputId": "c647227e-2eba-4e5c-c1ad-5e37875b91ca"
      },
      "source": [
        "# Predicted probabilities - Class 0 \n",
        "pred_dicts = list(linear_est.predict(train_input_fn_half_x1)) \n",
        "\n",
        "probs = pd.Series([pred['probabilities'][0] for pred in pred_dicts]) \n",
        "\n",
        "probs.plot(kind='hist', bins=20, title='predicted probabilities')"
      ],
      "execution_count": 340,
      "outputs": [
        {
          "output_type": "stream",
          "text": [
            "INFO:tensorflow:Calling model_fn.\n"
          ],
          "name": "stdout"
        },
        {
          "output_type": "stream",
          "text": [
            "/usr/local/lib/python3.7/dist-packages/tensorflow/python/keras/engine/base_layer_v1.py:1727: UserWarning: `layer.add_variable` is deprecated and will be removed in a future version. Please use `layer.add_weight` method instead.\n",
            "  warnings.warn('`layer.add_variable` is deprecated and '\n"
          ],
          "name": "stderr"
        },
        {
          "output_type": "stream",
          "text": [
            "INFO:tensorflow:Done calling model_fn.\n",
            "INFO:tensorflow:Graph was finalized.\n",
            "INFO:tensorflow:Restoring parameters from /tmp/tmpv5imgm8k/model.ckpt-200\n",
            "INFO:tensorflow:Running local_init_op.\n",
            "INFO:tensorflow:Done running local_init_op.\n"
          ],
          "name": "stdout"
        },
        {
          "output_type": "execute_result",
          "data": {
            "text/plain": [
              "<matplotlib.axes._subplots.AxesSubplot at 0x7f27d9ec6590>"
            ]
          },
          "metadata": {
            "tags": []
          },
          "execution_count": 340
        },
        {
          "output_type": "display_data",
          "data": {
            "image/png": "[encoded data removed]",
            "text/plain": [
              "<Figure size 432x288 with 1 Axes>"
            ]
          },
          "metadata": {
            "tags": [],
            "needs_background": "light"
          }
        }
      ]
    },
    {
      "cell_type": "code",
      "metadata": {
        "colab": {
          "base_uri": "https://localhost:8080/",
          "height": 454
        },
        "id": "qS3jat3RPimE",
        "outputId": "f820c07b-d4b9-4186-d38f-85c9e383b49d"
      },
      "source": [
        "# Predicted probabilities - Class 1 \n",
        "pred_dicts = list(linear_est.predict(train_input_fn_half_x1)) \n",
        "\n",
        "probs = pd.Series([pred['probabilities'][1] for pred in pred_dicts]) \n",
        "\n",
        "probs.plot(kind='hist', bins=20, title='predicted probabilities')"
      ],
      "execution_count": 341,
      "outputs": [
        {
          "output_type": "stream",
          "text": [
            "INFO:tensorflow:Calling model_fn.\n"
          ],
          "name": "stdout"
        },
        {
          "output_type": "stream",
          "text": [
            "/usr/local/lib/python3.7/dist-packages/tensorflow/python/keras/engine/base_layer_v1.py:1727: UserWarning: `layer.add_variable` is deprecated and will be removed in a future version. Please use `layer.add_weight` method instead.\n",
            "  warnings.warn('`layer.add_variable` is deprecated and '\n"
          ],
          "name": "stderr"
        },
        {
          "output_type": "stream",
          "text": [
            "INFO:tensorflow:Done calling model_fn.\n",
            "INFO:tensorflow:Graph was finalized.\n",
            "INFO:tensorflow:Restoring parameters from /tmp/tmpv5imgm8k/model.ckpt-200\n",
            "INFO:tensorflow:Running local_init_op.\n",
            "INFO:tensorflow:Done running local_init_op.\n"
          ],
          "name": "stdout"
        },
        {
          "output_type": "execute_result",
          "data": {
            "text/plain": [
              "<matplotlib.axes._subplots.AxesSubplot at 0x7f27b36f32d0>"
            ]
          },
          "metadata": {
            "tags": []
          },
          "execution_count": 341
        },
        {
          "output_type": "display_data",
          "data": {
            "image/png": "[encoded data removed]",
            "text/plain": [
              "<Figure size 432x288 with 1 Axes>"
            ]
          },
          "metadata": {
            "tags": [],
            "needs_background": "light"
          }
        }
      ]
    },
    {
      "cell_type": "markdown",
      "metadata": {
        "id": "RWK3XWkMFSjz"
      },
      "source": [
        "Y si entrenamos con una décima parte de en nuestro ejemplo original?"
      ]
    },
    {
      "cell_type": "code",
      "metadata": {
        "id": "9Oz19nKKFSjz"
      },
      "source": [
        "# Second approach, using panda's sample function to split the dataset \n",
        "dftrain = pd.read_csv('https://storage.googleapis.com/tf-datasets/titanic/train.csv')\n",
        "\n",
        "dec_dataset_x2 = dftrain.sample(frac=0.1,random_state=1)\n",
        "dec_dataset_y2 = dec_dataset_x2.pop('survived')"
      ],
      "execution_count": 342,
      "outputs": []
    },
    {
      "cell_type": "code",
      "metadata": {
        "colab": {
          "base_uri": "https://localhost:8080/"
        },
        "id": "DphV5NvLSau2",
        "outputId": "f5d6ed5e-be5c-4d9b-d1cc-0732be3e6b14"
      },
      "source": [
        "dec_dataset_x2.info()"
      ],
      "execution_count": 343,
      "outputs": [
        {
          "output_type": "stream",
          "text": [
            "<class 'pandas.core.frame.DataFrame'>\n",
            "Int64Index: 63 entries, 301 to 34\n",
            "Data columns (total 9 columns):\n",
            " #   Column              Non-Null Count  Dtype  \n",
            "---  ------              --------------  -----  \n",
            " 0   sex                 63 non-null     object \n",
            " 1   age                 63 non-null     float64\n",
            " 2   n_siblings_spouses  63 non-null     int64  \n",
            " 3   parch               63 non-null     int64  \n",
            " 4   fare                63 non-null     float64\n",
            " 5   class               63 non-null     object \n",
            " 6   deck                63 non-null     object \n",
            " 7   embark_town         63 non-null     object \n",
            " 8   alone               63 non-null     object \n",
            "dtypes: float64(2), int64(2), object(5)\n",
            "memory usage: 4.9+ KB\n"
          ],
          "name": "stdout"
        }
      ]
    },
    {
      "cell_type": "code",
      "metadata": {
        "colab": {
          "base_uri": "https://localhost:8080/"
        },
        "id": "nsE_qaDJSf4Q",
        "outputId": "5db204b2-563d-4dec-be15-3cb9c260fd27"
      },
      "source": [
        "len(dec_dataset_y2)"
      ],
      "execution_count": 344,
      "outputs": [
        {
          "output_type": "execute_result",
          "data": {
            "text/plain": [
              "63"
            ]
          },
          "metadata": {
            "tags": []
          },
          "execution_count": 344
        }
      ]
    },
    {
      "cell_type": "code",
      "metadata": {
        "colab": {
          "base_uri": "https://localhost:8080/"
        },
        "id": "9uTBwBIvB6VD",
        "outputId": "efcf0891-7c2c-4f9d-b48b-b59de14daffc"
      },
      "source": [
        "dec_dataset_y2.value_counts()"
      ],
      "execution_count": 345,
      "outputs": [
        {
          "output_type": "execute_result",
          "data": {
            "text/plain": [
              "0    36\n",
              "1    27\n",
              "Name: survived, dtype: int64"
            ]
          },
          "metadata": {
            "tags": []
          },
          "execution_count": 345
        }
      ]
    },
    {
      "cell_type": "code",
      "metadata": {
        "colab": {
          "base_uri": "https://localhost:8080/"
        },
        "id": "y6DeQ13EJt6L",
        "outputId": "bcdabbfd-e601-488b-f9f6-b77d8df945d6"
      },
      "source": [
        "# Accurary training with with one tenth of the dataset (second approach)\n",
        "\n",
        "train_input_fn_dec = make_input_fn(dec_dataset_x2,dec_dataset_y2 )  # así llamamos a la función que se nos devuelve para extraer el objeto dataset que inyectaremos en el modelo\n",
        "eval_input_fn_dec = make_input_fn(dfeval, y_eval, num_epochs=1, shuffle=False)\n",
        "\n",
        "\n",
        "# Creamos el modelo\n",
        "linear_est_dec = tf.estimator.LinearClassifier(feature_columns=feature_columns)\n",
        "\n",
        "# Lo entrenamos\n",
        "linear_est_dec.train(train_input_fn_dec)  # entrenamos el modelo\n",
        "result = linear_est_dec.evaluate(eval_input_fn_dec)  # obtenemos las estimaciones del conjunto de evaluación\n",
        "\n",
        "clear_output()  # limpiamos la consola\n",
        "print(result['accuracy']) "
      ],
      "execution_count": 346,
      "outputs": [
        {
          "output_type": "stream",
          "text": [
            "0.7121212\n"
          ],
          "name": "stdout"
        }
      ]
    },
    {
      "cell_type": "code",
      "metadata": {
        "colab": {
          "base_uri": "https://localhost:8080/",
          "height": 454
        },
        "id": "XEcwYqypKKvk",
        "outputId": "6de16108-6b49-45a8-939d-7871d75657a8"
      },
      "source": [
        "# Predicted probabilities - Class 0\n",
        "pred_dicts = list(linear_est.predict(train_input_fn_dec)) \n",
        "\n",
        "probs = pd.Series([pred['probabilities'][0] for pred in pred_dicts]) \n",
        "\n",
        "probs.plot(kind='hist', bins=20, title='predicted probabilities')"
      ],
      "execution_count": 347,
      "outputs": [
        {
          "output_type": "stream",
          "text": [
            "INFO:tensorflow:Calling model_fn.\n"
          ],
          "name": "stdout"
        },
        {
          "output_type": "stream",
          "text": [
            "/usr/local/lib/python3.7/dist-packages/tensorflow/python/keras/engine/base_layer_v1.py:1727: UserWarning: `layer.add_variable` is deprecated and will be removed in a future version. Please use `layer.add_weight` method instead.\n",
            "  warnings.warn('`layer.add_variable` is deprecated and '\n"
          ],
          "name": "stderr"
        },
        {
          "output_type": "stream",
          "text": [
            "INFO:tensorflow:Done calling model_fn.\n",
            "INFO:tensorflow:Graph was finalized.\n",
            "INFO:tensorflow:Restoring parameters from /tmp/tmpv5imgm8k/model.ckpt-200\n",
            "INFO:tensorflow:Running local_init_op.\n",
            "INFO:tensorflow:Done running local_init_op.\n"
          ],
          "name": "stdout"
        },
        {
          "output_type": "execute_result",
          "data": {
            "text/plain": [
              "<matplotlib.axes._subplots.AxesSubplot at 0x7f27a0a35410>"
            ]
          },
          "metadata": {
            "tags": []
          },
          "execution_count": 347
        },
        {
          "output_type": "display_data",
          "data": {
            "image/png": "[encoded data removed]",
            "text/plain": [
              "<Figure size 432x288 with 1 Axes>"
            ]
          },
          "metadata": {
            "tags": [],
            "needs_background": "light"
          }
        }
      ]
    },
    {
      "cell_type": "code",
      "metadata": {
        "colab": {
          "base_uri": "https://localhost:8080/",
          "height": 454
        },
        "id": "77WvM90erBiU",
        "outputId": "5978614e-116d-4a26-a877-3fb564fbc28a"
      },
      "source": [
        "# Predicted probabilities - Class 0\n",
        "pred_dicts = list(linear_est.predict(train_input_fn_dec)) \n",
        "\n",
        "probs = pd.Series([pred['probabilities'][1] for pred in pred_dicts]) \n",
        "\n",
        "probs.plot(kind='hist', bins=20, title='predicted probabilities')"
      ],
      "execution_count": 348,
      "outputs": [
        {
          "output_type": "stream",
          "text": [
            "INFO:tensorflow:Calling model_fn.\n"
          ],
          "name": "stdout"
        },
        {
          "output_type": "stream",
          "text": [
            "/usr/local/lib/python3.7/dist-packages/tensorflow/python/keras/engine/base_layer_v1.py:1727: UserWarning: `layer.add_variable` is deprecated and will be removed in a future version. Please use `layer.add_weight` method instead.\n",
            "  warnings.warn('`layer.add_variable` is deprecated and '\n"
          ],
          "name": "stderr"
        },
        {
          "output_type": "stream",
          "text": [
            "INFO:tensorflow:Done calling model_fn.\n",
            "INFO:tensorflow:Graph was finalized.\n",
            "INFO:tensorflow:Restoring parameters from /tmp/tmpv5imgm8k/model.ckpt-200\n",
            "INFO:tensorflow:Running local_init_op.\n",
            "INFO:tensorflow:Done running local_init_op.\n"
          ],
          "name": "stdout"
        },
        {
          "output_type": "execute_result",
          "data": {
            "text/plain": [
              "<matplotlib.axes._subplots.AxesSubplot at 0x7f278d816610>"
            ]
          },
          "metadata": {
            "tags": []
          },
          "execution_count": 348
        },
        {
          "output_type": "display_data",
          "data": {
            "image/png": "[encoded data removed]",
            "text/plain": [
              "<Figure size 432x288 with 1 Axes>"
            ]
          },
          "metadata": {
            "tags": [],
            "needs_background": "light"
          }
        }
      ]
    },
    {
      "cell_type": "markdown",
      "metadata": {
        "id": "L5Ra8ZffFSj0"
      },
      "source": [
        "Por último, vamos a mostrar también el accuracy que tenemos sobre el conjunto de datos de entrenamiento (podemos utilizar cualquiera de los modelos que acabamos de entrenar)\n"
      ]
    },
    {
      "cell_type": "code",
      "metadata": {
        "id": "X20PfPdiFSj0"
      },
      "source": [
        ""
      ],
      "execution_count": 348,
      "outputs": []
    },
    {
      "cell_type": "markdown",
      "metadata": {
        "id": "VTGXGLmpFSj0"
      },
      "source": [
        "### Conclusiones:\n",
        " \n",
        "¿Hay mucha diferencia entre el entrenamiento original y el que hemos realizado con datos diezmados? ¿Por qué?"
      ]
    },
    {
      "cell_type": "code",
      "metadata": {
        "id": "mqh9huYYFSj0"
      },
      "source": [
        "# No existe mucha diferencia en cuanto al accuracy, al reducir el numero de datos \n",
        "# La complejidad del problema a resolver no es muy grande (probabilidad de supervencia , dos clases).\n",
        "# Parece que con pocas muestras de ambas clases (sin que haya mucho desbalanceo) , el accuracy es parecido, con lo que entiendo que para mejorar el modelo, habria que tocar\n",
        "# otros parametros principalmente, si bien , incrementar el numero de muestras ayudaria tambien.\n",
        "\n",
        "# RESUMEN\n",
        "# TODOS LOS DATOS de training-->  0.76\n",
        "# MITAD DE LOS DATOS de training -->  0.75\n",
        "# DECIMA PARTE DE LOS DATOS de training -->  0.71                                                     "
      ],
      "execution_count": 349,
      "outputs": []
    },
    {
      "cell_type": "markdown",
      "metadata": {
        "id": "OgToR_qDFSj0"
      },
      "source": [
        "## Regresión\n",
        "\n",
        "### Punto de partida\n",
        "\n",
        "El punto de partida se corresponde con el código que hemos visto en el worksheet:"
      ]
    },
    {
      "cell_type": "code",
      "metadata": {
        "colab": {
          "base_uri": "https://localhost:8080/"
        },
        "id": "vSflXZuOFSj1",
        "outputId": "db1976bc-c702-45c3-ba7a-3a6363b84adc"
      },
      "source": [
        "CSV_COLUMN_NAMES = ['SepalLength', 'SepalWidth', 'PetalLength', 'PetalWidth', 'Species']\n",
        "SPECIES = ['Setosa', 'Versicolor', 'Virginica']\n",
        "\n",
        "train_path = tf.keras.utils.get_file(\n",
        "    \"iris_training.csv\", \"https://storage.googleapis.com/download.tensorflow.org/data/iris_training.csv\")\n",
        "test_path = tf.keras.utils.get_file(\n",
        "    \"iris_test.csv\", \"https://storage.googleapis.com/download.tensorflow.org/data/iris_test.csv\")\n",
        "\n",
        "train = pd.read_csv(train_path, names=CSV_COLUMN_NAMES, header=0)\n",
        "test = pd.read_csv(test_path, names=CSV_COLUMN_NAMES, header=0)\n",
        "train_y = train.pop('Species')\n",
        "test_y = test.pop('Species')\n",
        "\n",
        "def input_fn(features, labels, training=True, batch_size=256):\n",
        "    # Convertimos los datos al tipo dataset.\n",
        "    dataset = tf.data.Dataset.from_tensor_slices((dict(features), labels))\n",
        "\n",
        "    # Aleatorizamos y seleccionamos los datos si estamos en modo train.\n",
        "    if training:\n",
        "        dataset = dataset.shuffle(1000).repeat()\n",
        "    \n",
        "    return dataset.batch(batch_size)\n",
        "\n",
        "# Feature columns describe cómo se utilizan las feature columns\n",
        "my_feature_columns = []\n",
        "for key in train.keys():\n",
        "    my_feature_columns.append(tf.feature_column.numeric_column(key=key))\n",
        "print(my_feature_columns)\n",
        "\n",
        "# Definimos una DNN con 2 capas ocultas con 30 y 10 nodos ocultos cada una.\n",
        "classifier = tf.estimator.DNNClassifier(\n",
        "    feature_columns=my_feature_columns,\n",
        "    # Dos capas ocultas de 30 y 10 nodos respectivamente\n",
        "    hidden_units=[10,10,10],\n",
        "    # El modelo debe poder distinguir entre 3 clases\n",
        "    n_classes=3)\n",
        "\n",
        "classifier.train(\n",
        "    input_fn=lambda: input_fn(train, train_y, training=True),\n",
        "    steps=5000)\n",
        "# Hemos definido lambda para evitar crear una función previamente (los detalles de implementación no son importantes ahora)\n",
        "\n",
        "\n",
        "eval_result = classifier.evaluate(\n",
        "    input_fn=lambda: input_fn(test, test_y, training=False))\n",
        "clear_output()\n",
        "print('\\nTest set accuracy: {accuracy:0.3f}\\n'.format(**eval_result))\n",
        "\n",
        "\n",
        "\n"
      ],
      "execution_count": 350,
      "outputs": [
        {
          "output_type": "stream",
          "text": [
            "\n",
            "Test set accuracy: 0.267\n",
            "\n"
          ],
          "name": "stdout"
        }
      ]
    },
    {
      "cell_type": "markdown",
      "metadata": {
        "id": "baneCPRcFSj1"
      },
      "source": [
        "### Ajustando los parámetros del entrenamiento\n",
        "\n",
        "Como sabemos, el número de capas y neuronas ocultas es un número arbitrario y necesitamos de muchos experimentos y test para poder determinar la mejor elección de estos valores.\n",
        "\n",
        "Vamos a probar en las siguientes celdas a probar las siguientes arquitecturas:\n",
        "\n",
        "- 1 capa oculta de 10 neuronas\n",
        "- 1 capa oculta de 50 neuronas\n",
        "- 2 capas ocultas de 30 y 10 neuronas respectivamente\n",
        "- 3 capas ocultas de 30, 20 y 10 neuronas respectivamente.\n",
        "- 5 capas ocultas de 30, 20, 10, 10 y 10 neuronas respectivamente.\n"
      ]
    },
    {
      "cell_type": "code",
      "metadata": {
        "colab": {
          "base_uri": "https://localhost:8080/"
        },
        "id": "XAH-dWumFSj2",
        "outputId": "423c8150-2d54-470f-e147-ba9139cb18d3"
      },
      "source": [
        "# 1 capa oculta de 10 neuronas\n",
        "classifier = tf.estimator.DNNClassifier(\n",
        "    feature_columns=my_feature_columns,\n",
        "    # Dos capas ocultas de 30 y 10 nodos respectivamente\n",
        "    hidden_units=[10],\n",
        "    # El modelo debe poder distinguir entre 3 clases\n",
        "    n_classes=3)\n",
        "\n",
        "classifier.train(\n",
        "    input_fn=lambda: input_fn(train, train_y, training=True),\n",
        "    steps=5000)\n",
        "# Hemos definido lambda para evitar crear una función previamente (los detalles de implementación no son importantes ahora)\n",
        "\n",
        "\n",
        "eval_result = classifier.evaluate(\n",
        "    input_fn=lambda: input_fn(test, test_y, training=False))\n",
        "clear_output()\n",
        "print('\\nTest set accuracy: {accuracy:0.3f}\\n'.format(**eval_result))\n"
      ],
      "execution_count": 351,
      "outputs": [
        {
          "output_type": "stream",
          "text": [
            "\n",
            "Test set accuracy: 0.600\n",
            "\n"
          ],
          "name": "stdout"
        }
      ]
    },
    {
      "cell_type": "code",
      "metadata": {
        "colab": {
          "base_uri": "https://localhost:8080/"
        },
        "id": "oXowv3RrFSj2",
        "outputId": "761447c3-f11a-4eeb-a69f-f197aefabcd5"
      },
      "source": [
        "# 1 capa oculta de 50 neuronas\n",
        "classifier = tf.estimator.DNNClassifier(\n",
        "    feature_columns=my_feature_columns,\n",
        "    # Dos capas ocultas de 30 y 10 nodos respectivamente\n",
        "    hidden_units=[50],\n",
        "    # El modelo debe poder distinguir entre 3 clases\n",
        "    n_classes=3)\n",
        "\n",
        "classifier.train(\n",
        "    input_fn=lambda: input_fn(train, train_y, training=True),\n",
        "    steps=5000)\n",
        "# Hemos definido lambda para evitar crear una función previamente (los detalles de implementación no son importantes ahora)\n",
        "\n",
        "\n",
        "eval_result = classifier.evaluate(\n",
        "    input_fn=lambda: input_fn(test, test_y, training=False))\n",
        "clear_output()\n",
        "print('\\nTest set accuracy: {accuracy:0.3f}\\n'.format(**eval_result))\n"
      ],
      "execution_count": 352,
      "outputs": [
        {
          "output_type": "stream",
          "text": [
            "\n",
            "Test set accuracy: 0.933\n",
            "\n"
          ],
          "name": "stdout"
        }
      ]
    },
    {
      "cell_type": "code",
      "metadata": {
        "colab": {
          "base_uri": "https://localhost:8080/"
        },
        "id": "QGpJDISQFSj2",
        "outputId": "b5125231-4d1d-4d3c-901c-c67830374eb9"
      },
      "source": [
        "# 2 capas ocultas de 30 y 10 neuronas respectivamente\n",
        "classifier = tf.estimator.DNNClassifier(\n",
        "    feature_columns=my_feature_columns,\n",
        "    # Dos capas ocultas de 30 y 10 nodos respectivamente\n",
        "    hidden_units=[30,10],\n",
        "    # El modelo debe poder distinguir entre 3 clases\n",
        "    n_classes=3)\n",
        "\n",
        "classifier.train(\n",
        "    input_fn=lambda: input_fn(train, train_y, training=True),\n",
        "    steps=5000)\n",
        "# Hemos definido lambda para evitar crear una función previamente (los detalles de implementación no son importantes ahora)\n",
        "\n",
        "\n",
        "eval_result = classifier.evaluate(\n",
        "    input_fn=lambda: input_fn(test, test_y, training=False))\n",
        "clear_output()\n",
        "print('\\nTest set accuracy: {accuracy:0.3f}\\n'.format(**eval_result))"
      ],
      "execution_count": 353,
      "outputs": [
        {
          "output_type": "stream",
          "text": [
            "\n",
            "Test set accuracy: 0.800\n",
            "\n"
          ],
          "name": "stdout"
        }
      ]
    },
    {
      "cell_type": "code",
      "metadata": {
        "colab": {
          "base_uri": "https://localhost:8080/"
        },
        "id": "kePeRKRUFSj2",
        "outputId": "1927a42f-539e-4794-c4bb-e0f101fba0b5"
      },
      "source": [
        "#3 capas ocultas de 30, 20 y 10 neuronas respectivamente.\n",
        "classifier = tf.estimator.DNNClassifier(\n",
        "    feature_columns=my_feature_columns,\n",
        "    # Dos capas ocultas de 30 y 10 nodos respectivamente\n",
        "    hidden_units=[30,20,10],\n",
        "    # El modelo debe poder distinguir entre 3 clases\n",
        "    n_classes=3)\n",
        "\n",
        "classifier.train(\n",
        "    input_fn=lambda: input_fn(train, train_y, training=True),\n",
        "    steps=5000)\n",
        "# Hemos definido lambda para evitar crear una función previamente (los detalles de implementación no son importantes ahora)\n",
        "\n",
        "\n",
        "eval_result = classifier.evaluate(\n",
        "    input_fn=lambda: input_fn(test, test_y, training=False))\n",
        "clear_output()\n",
        "print('\\nTest set accuracy: {accuracy:0.3f}\\n'.format(**eval_result))"
      ],
      "execution_count": 354,
      "outputs": [
        {
          "output_type": "stream",
          "text": [
            "\n",
            "Test set accuracy: 0.967\n",
            "\n"
          ],
          "name": "stdout"
        }
      ]
    },
    {
      "cell_type": "code",
      "metadata": {
        "colab": {
          "base_uri": "https://localhost:8080/"
        },
        "id": "wqezDp22FSj2",
        "outputId": "8e76f7f1-c202-4eb0-965a-8176b717c233"
      },
      "source": [
        "#5 capas ocultas de 30, 20, 10, 10 y 10 neuronas respectivamente.\n",
        "classifier = tf.estimator.DNNClassifier(\n",
        "    feature_columns=my_feature_columns,\n",
        "    # Dos capas ocultas de 30 y 10 nodos respectivamente\n",
        "    hidden_units=[30,20,10,10,10],\n",
        "    # El modelo debe poder distinguir entre 3 clases\n",
        "    n_classes=3)\n",
        "\n",
        "classifier.train(\n",
        "    input_fn=lambda: input_fn(train, train_y, training=True),\n",
        "    steps=5000)\n",
        "# Hemos definido lambda para evitar crear una función previamente (los detalles de implementación no son importantes ahora)\n",
        "\n",
        "\n",
        "eval_result = classifier.evaluate(\n",
        "    input_fn=lambda: input_fn(test, test_y, training=False))\n",
        "clear_output()\n",
        "print('\\nTest set accuracy: {accuracy:0.3f}\\n'.format(**eval_result))"
      ],
      "execution_count": 355,
      "outputs": [
        {
          "output_type": "stream",
          "text": [
            "\n",
            "Test set accuracy: 0.967\n",
            "\n"
          ],
          "name": "stdout"
        }
      ]
    },
    {
      "cell_type": "markdown",
      "metadata": {
        "id": "D7x7VrbLFSj3"
      },
      "source": [
        "### Conclusiones\n",
        "\n",
        "¿Qué idea básica extraes de los experimentos?\n",
        "\n",
        "¿Mejora siempre la red al aumentar su tamaño y/o profundidad?\n"
      ]
    },
    {
      "cell_type": "code",
      "metadata": {
        "id": "0pFr9xj6FSj3"
      },
      "source": [
        "# Con una sola capa, si aumentamos ancho, mejora la red, en este caso con un valor de anchura de 70 neuronas alcazmos un accuracy de 0.9. \n",
        "# Si aumentamos profundidad y ancho de las primeras capas , mejora el accuracy de la red.\n",
        "# No siempre mejora la red al aumentar la profundidad. Una sola capa de 50 es mejor que tres de 10.\n",
        "# Siempre mejora al aumentar el ancho (hasta cierto punto). Parece que aumentando la anchura , se aprenden mejor las relaciones lineales\n",
        "# y que la profundidad funcionara mejor en relaciones no lineales.\n",
        "\n"
      ],
      "execution_count": 356,
      "outputs": []
    }
  ]
}