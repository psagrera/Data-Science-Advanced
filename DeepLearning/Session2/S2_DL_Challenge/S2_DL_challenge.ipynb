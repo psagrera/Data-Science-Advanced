{
  "nbformat": 4,
  "nbformat_minor": 0,
  "metadata": {
    "anaconda-cloud": {},
    "kernelspec": {
      "display_name": "Python 3",
      "language": "python",
      "name": "python3"
    },
    "language_info": {
      "codemirror_mode": {
        "name": "ipython",
        "version": 3
      },
      "file_extension": ".py",
      "mimetype": "text/x-python",
      "name": "python",
      "nbconvert_exporter": "python",
      "pygments_lexer": "ipython3",
      "version": "3.8.5"
    },
    "colab": {
      "name": "S2_DL_challenge.ipynb",
      "provenance": [],
      "toc_visible": true,
      "include_colab_link": true
    },
    "accelerator": "GPU"
  },
  "cells": [
    {
      "cell_type": "markdown",
      "metadata": {
        "id": "view-in-github",
        "colab_type": "text"
      },
      "source": [
        "<a href=\"https://colab.research.google.com/github/psagrera/Data-Science-Advanced/blob/main/DeepLearning/Session2/S2_DL_Challenge/S2_DL_challenge.ipynb\" target=\"_parent\"><img src=\"https://colab.research.google.com/assets/colab-badge.svg\" alt=\"Open In Colab\"/></a>"
      ]
    },
    {
      "cell_type": "markdown",
      "metadata": {
        "id": "qOR6TOYqFSjp"
      },
      "source": [
        "<img src=\"mioti.png\" style=\"height: 100px\">\n",
        "<center style=\"color:#888\">Módulo Data Science in IoT<br/>Asignatura Deep Learning</center>\n",
        "\n",
        "# Challenge S2: Machine Learning Basics en TensorFlow\n",
        "\n",
        "## Objetivos\n",
        "\n",
        "El objetivo de este challenge es familiarizarnos con TensorFlow y con su funcionamiento básico enfrentandose a problemas de regresión y clasificación.\n",
        "\n",
        "\n",
        "## Regresión\n",
        "\n",
        "### Punto de partida\n",
        "\n",
        "El punto de partida se corresponde con el código que hemos visto en el worksheet:"
      ]
    },
    {
      "cell_type": "code",
      "metadata": {
        "colab": {
          "base_uri": "https://localhost:8080/"
        },
        "id": "jegmxSRuFSjv",
        "outputId": "ea33852b-6405-42b3-ff80-1ca2aefb3380"
      },
      "source": [
        "import os\n",
        "import sys\n",
        "\n",
        "import numpy as np\n",
        "import pandas as pd\n",
        "import matplotlib.pyplot as plt\n",
        "from IPython.display import clear_output\n",
        "from six.moves import urllib\n",
        "\n",
        "import tensorflow.compat.v2.feature_column as fc\n",
        "\n",
        "import tensorflow as tf\n",
        "\n",
        "# Cargamos el dataset\n",
        "dftrain = pd.read_csv('https://storage.googleapis.com/tf-datasets/titanic/train.csv')\n",
        "dfeval = pd.read_csv('https://storage.googleapis.com/tf-datasets/titanic/eval.csv')\n",
        "y_train = dftrain.pop('survived')\n",
        "y_eval = dfeval.pop('survived')\n",
        "\n",
        "# Creamos las estructuras que contienen las categorías\n",
        "CATEGORICAL_COLUMNS = ['sex', 'n_siblings_spouses', 'parch', 'class', 'deck',\n",
        "                       'embark_town', 'alone']\n",
        "NUMERIC_COLUMNS = ['age', 'fare']\n",
        "\n",
        "feature_columns = []\n",
        "for feature_name in CATEGORICAL_COLUMNS:\n",
        "  vocabulary = dftrain[feature_name].unique()  # lista de todos los valores únicos contenidos en una columna\n",
        "  feature_columns.append(tf.feature_column.categorical_column_with_vocabulary_list(feature_name, vocabulary))\n",
        "\n",
        "for feature_name in NUMERIC_COLUMNS:\n",
        "  feature_columns.append(tf.feature_column.numeric_column(feature_name, dtype=tf.float32))\n",
        "\n",
        "# Definimos nuestra función de input\n",
        "\n",
        "def make_input_fn(data_df, label_df, num_epochs=10, shuffle=True, batch_size=32):\n",
        "  def input_function():  # función interna, esto es lo que será devuelto\n",
        "    ds = tf.data.Dataset.from_tensor_slices((dict(data_df), label_df))  # crea un objeto tf.data.Dataset que contendrá datos y etiquetas \n",
        "    if shuffle:\n",
        "      ds = ds.shuffle(1000)  # con esta línea aleatorizamos la selección de elementos\n",
        "    ds = ds.batch(batch_size).repeat(num_epochs)  # divide el dataset en batches el número de veces especificado por num_epocs \n",
        "    return ds  # devuelve un batch del dataset\n",
        "  return input_function  # devuelve el objeto completo para ser utilizado.\n",
        "\n",
        "train_input_fn = make_input_fn(dftrain, y_train)  # así llamamos a la función que se nos devuelve para extraer el objeto dataset que inyectaremos en el modelo\n",
        "eval_input_fn = make_input_fn(dfeval, y_eval, num_epochs=1, shuffle=False)\n",
        "\n",
        "\n",
        "# Creamos el modelo\n",
        "linear_est = tf.estimator.LinearClassifier(feature_columns=feature_columns)\n",
        "\n",
        "# Lo entrenamos\n",
        "linear_est.train(train_input_fn)  # entrenamos el modelo\n",
        "result = linear_est.evaluate(eval_input_fn)  # obtenemos las estimaciones del conjunto de evaluación\n",
        "\n",
        "clear_output()  # limpiamos la consola\n",
        "print(result['accuracy'])  # la viariable result es un diccionario con los resultados de nuestro modelo"
      ],
      "execution_count": 268,
      "outputs": [
        {
          "output_type": "stream",
          "text": [
            "0.7348485\n"
          ],
          "name": "stdout"
        }
      ]
    },
    {
      "cell_type": "code",
      "metadata": {
        "id": "MQtphIFaCQti",
        "outputId": "0b3ca09d-daa9-4d35-c8cd-1d8da077afc5",
        "colab": {
          "base_uri": "https://localhost:8080/"
        }
      },
      "source": [
        "y_train.value_counts()"
      ],
      "execution_count": 298,
      "outputs": [
        {
          "output_type": "execute_result",
          "data": {
            "text/plain": [
              "0    384\n",
              "1    243\n",
              "Name: survived, dtype: int64"
            ]
          },
          "metadata": {
            "tags": []
          },
          "execution_count": 298
        }
      ]
    },
    {
      "cell_type": "markdown",
      "metadata": {
        "id": "QZyQMXFxFSjx"
      },
      "source": [
        "## Tareas\n",
        "\n",
        "\n",
        "### Cambiando el histograma\n",
        "\n",
        "En el worksheet tenemos el ejemplo de un histograma con las posibilidades de supervivencia de cada individuo del conjunto de evaluación, representad a continuación el mismo histograma pero con el conjunto de entrenamiento.\n"
      ]
    },
    {
      "cell_type": "code",
      "metadata": {
        "colab": {
          "base_uri": "https://localhost:8080/",
          "height": 454
        },
        "id": "6ZOJen-nFSjy",
        "outputId": "ce094bd1-cf5b-4365-afc0-52939fb9c17c"
      },
      "source": [
        "pred_dicts = list(linear_est.predict(train_input_fn)) \n",
        "\n",
        "probs = pd.Series([pred['probabilities'][1] for pred in pred_dicts]) \n",
        "\n",
        "probs.plot(kind='hist', bins=20, title='predicted probabilities')"
      ],
      "execution_count": 269,
      "outputs": [
        {
          "output_type": "stream",
          "text": [
            "INFO:tensorflow:Calling model_fn.\n"
          ],
          "name": "stdout"
        },
        {
          "output_type": "stream",
          "text": [
            "/usr/local/lib/python3.7/dist-packages/tensorflow/python/keras/engine/base_layer_v1.py:1727: UserWarning: `layer.add_variable` is deprecated and will be removed in a future version. Please use `layer.add_weight` method instead.\n",
            "  warnings.warn('`layer.add_variable` is deprecated and '\n"
          ],
          "name": "stderr"
        },
        {
          "output_type": "stream",
          "text": [
            "INFO:tensorflow:Done calling model_fn.\n",
            "INFO:tensorflow:Graph was finalized.\n",
            "INFO:tensorflow:Restoring parameters from /tmp/tmp7_56i6zm/model.ckpt-200\n",
            "INFO:tensorflow:Running local_init_op.\n",
            "INFO:tensorflow:Done running local_init_op.\n"
          ],
          "name": "stdout"
        },
        {
          "output_type": "execute_result",
          "data": {
            "text/plain": [
              "<matplotlib.axes._subplots.AxesSubplot at 0x7f27b2d4ea10>"
            ]
          },
          "metadata": {
            "tags": []
          },
          "execution_count": 269
        },
        {
          "output_type": "display_data",
          "data": {
            "image/png": "[encoded data removed]",
            "text/plain": [
              "<Figure size 432x288 with 1 Axes>"
            ]
          },
          "metadata": {
            "tags": [],
            "needs_background": "light"
          }
        }
      ]
    },
    {
      "cell_type": "markdown",
      "metadata": {
        "id": "aZLLJBvpFSjy"
      },
      "source": [
        "¿Y si lo que queremos es pintar el histograma de la mortalidad de cada individuo del conjunto de evaluación?\n",
        "\n",
        "Pista, mirad la estructura del diccionario que devuelve *linear_est.predict()*"
      ]
    },
    {
      "cell_type": "code",
      "metadata": {
        "colab": {
          "base_uri": "https://localhost:8080/",
          "height": 454
        },
        "id": "VBl5AyDnFSjy",
        "outputId": "8406956c-ca30-4f14-8a6b-7ea794933b4b"
      },
      "source": [
        "pred_dicts = list(linear_est.predict(train_input_fn)) \n",
        "\n",
        "probs = pd.Series([pred['probabilities'][0] for pred in pred_dicts]) \n",
        "\n",
        "probs.plot(kind='hist', bins=20, title='predicted probabilities')"
      ],
      "execution_count": 270,
      "outputs": [
        {
          "output_type": "stream",
          "text": [
            "INFO:tensorflow:Calling model_fn.\n"
          ],
          "name": "stdout"
        },
        {
          "output_type": "stream",
          "text": [
            "/usr/local/lib/python3.7/dist-packages/tensorflow/python/keras/engine/base_layer_v1.py:1727: UserWarning: `layer.add_variable` is deprecated and will be removed in a future version. Please use `layer.add_weight` method instead.\n",
            "  warnings.warn('`layer.add_variable` is deprecated and '\n"
          ],
          "name": "stderr"
        },
        {
          "output_type": "stream",
          "text": [
            "INFO:tensorflow:Done calling model_fn.\n",
            "INFO:tensorflow:Graph was finalized.\n",
            "INFO:tensorflow:Restoring parameters from /tmp/tmp7_56i6zm/model.ckpt-200\n",
            "INFO:tensorflow:Running local_init_op.\n",
            "INFO:tensorflow:Done running local_init_op.\n"
          ],
          "name": "stdout"
        },
        {
          "output_type": "execute_result",
          "data": {
            "text/plain": [
              "<matplotlib.axes._subplots.AxesSubplot at 0x7f27b2ba0310>"
            ]
          },
          "metadata": {
            "tags": []
          },
          "execution_count": 270
        },
        {
          "output_type": "display_data",
          "data": {
            "image/png": "[encoded data removed]",
            "text/plain": [
              "<Figure size 432x288 with 1 Axes>"
            ]
          },
          "metadata": {
            "tags": [],
            "needs_background": "light"
          }
        }
      ]
    },
    {
      "cell_type": "markdown",
      "metadata": {
        "id": "vrZSrdUsFSjz"
      },
      "source": [
        "### Cambiando el conjunto de entrenamiento\n",
        "\n",
        "Sabemos que uno de los factores más importantes en el entrenamiento de redes neuronales es la cantidad y calidad del conjunto de entrenamiento. ¿Es igual de importante en regresión lineal?\n",
        "\n",
        "Vamos a ver cuál sería el porcentaje de acierto de nuestro modelo si entrenamos con la mitad del conjunto de entrenamiento:"
      ]
    },
    {
      "cell_type": "code",
      "metadata": {
        "id": "2H3Z2k5ZOzPp"
      },
      "source": [
        "# First approach , manually splitting the dataset to the half, selecting by position\n",
        "half_dataset_x1 = dftrain.iloc[0:314]\n",
        "half_dataset_y1 = y_train.iloc[0:314]\n"
      ],
      "execution_count": 271,
      "outputs": []
    },
    {
      "cell_type": "code",
      "metadata": {
        "colab": {
          "base_uri": "https://localhost:8080/"
        },
        "id": "oHplODtWO15r",
        "outputId": "a750afd9-818b-487a-c06d-c5f9b27022eb"
      },
      "source": [
        "half_dataset_x1.info()\n"
      ],
      "execution_count": 272,
      "outputs": [
        {
          "output_type": "stream",
          "text": [
            "<class 'pandas.core.frame.DataFrame'>\n",
            "RangeIndex: 314 entries, 0 to 313\n",
            "Data columns (total 9 columns):\n",
            " #   Column              Non-Null Count  Dtype  \n",
            "---  ------              --------------  -----  \n",
            " 0   sex                 314 non-null    object \n",
            " 1   age                 314 non-null    float64\n",
            " 2   n_siblings_spouses  314 non-null    int64  \n",
            " 3   parch               314 non-null    int64  \n",
            " 4   fare                314 non-null    float64\n",
            " 5   class               314 non-null    object \n",
            " 6   deck                314 non-null    object \n",
            " 7   embark_town         314 non-null    object \n",
            " 8   alone               314 non-null    object \n",
            "dtypes: float64(2), int64(2), object(5)\n",
            "memory usage: 22.2+ KB\n"
          ],
          "name": "stdout"
        }
      ]
    },
    {
      "cell_type": "code",
      "metadata": {
        "colab": {
          "base_uri": "https://localhost:8080/"
        },
        "id": "MOt7zRiiO5QQ",
        "outputId": "3f29fb0c-9b1e-4d52-dba8-aa1129cccbac"
      },
      "source": [
        "len(half_dataset_y1)"
      ],
      "execution_count": 273,
      "outputs": [
        {
          "output_type": "execute_result",
          "data": {
            "text/plain": [
              "314"
            ]
          },
          "metadata": {
            "tags": []
          },
          "execution_count": 273
        }
      ]
    },
    {
      "cell_type": "code",
      "metadata": {
        "id": "2vCNRAMSO7pM"
      },
      "source": [
        "# Second approach, using panda's sample function to split the dataset \n",
        "dftrain = pd.read_csv('https://storage.googleapis.com/tf-datasets/titanic/train.csv')\n",
        "\n",
        "half_dataset_x2 = dftrain.sample(frac=0.5,random_state=1)\n",
        "half_dataset_y2 = half_dataset_x2.pop('survived')"
      ],
      "execution_count": 274,
      "outputs": []
    },
    {
      "cell_type": "code",
      "metadata": {
        "colab": {
          "base_uri": "https://localhost:8080/"
        },
        "id": "P-R5tOoKPDWG",
        "outputId": "22482b76-a13f-4bd6-9a39-6d6c3d12dd44"
      },
      "source": [
        "half_dataset_x2.info()"
      ],
      "execution_count": 275,
      "outputs": [
        {
          "output_type": "stream",
          "text": [
            "<class 'pandas.core.frame.DataFrame'>\n",
            "Int64Index: 314 entries, 301 to 577\n",
            "Data columns (total 9 columns):\n",
            " #   Column              Non-Null Count  Dtype  \n",
            "---  ------              --------------  -----  \n",
            " 0   sex                 314 non-null    object \n",
            " 1   age                 314 non-null    float64\n",
            " 2   n_siblings_spouses  314 non-null    int64  \n",
            " 3   parch               314 non-null    int64  \n",
            " 4   fare                314 non-null    float64\n",
            " 5   class               314 non-null    object \n",
            " 6   deck                314 non-null    object \n",
            " 7   embark_town         314 non-null    object \n",
            " 8   alone               314 non-null    object \n",
            "dtypes: float64(2), int64(2), object(5)\n",
            "memory usage: 24.5+ KB\n"
          ],
          "name": "stdout"
        }
      ]
    },
    {
      "cell_type": "code",
      "metadata": {
        "colab": {
          "base_uri": "https://localhost:8080/"
        },
        "id": "BLt6XSycPF89",
        "outputId": "93a19e1e-6ede-409d-d8c2-8f2674c25df6"
      },
      "source": [
        "len(half_dataset_y2)"
      ],
      "execution_count": 276,
      "outputs": [
        {
          "output_type": "execute_result",
          "data": {
            "text/plain": [
              "314"
            ]
          },
          "metadata": {
            "tags": []
          },
          "execution_count": 276
        }
      ]
    },
    {
      "cell_type": "code",
      "metadata": {
        "id": "62OM9axOBvlX",
        "outputId": "39d2528c-fa8a-4831-a548-333001a11340",
        "colab": {
          "base_uri": "https://localhost:8080/"
        }
      },
      "source": [
        "half_dataset_y2.value_counts()"
      ],
      "execution_count": 296,
      "outputs": [
        {
          "output_type": "execute_result",
          "data": {
            "text/plain": [
              "0    190\n",
              "1    124\n",
              "Name: survived, dtype: int64"
            ]
          },
          "metadata": {
            "tags": []
          },
          "execution_count": 296
        }
      ]
    },
    {
      "cell_type": "code",
      "metadata": {
        "colab": {
          "base_uri": "https://localhost:8080/"
        },
        "id": "DZjAFrewFSjz",
        "outputId": "0bdeb9f6-bf2c-47fa-833a-3b2faaf9dbfb"
      },
      "source": [
        "# Accurary training with the half of the dataset (second approach)\n",
        "\n",
        "train_input_fn_half_x1 = make_input_fn(half_dataset_x1, half_dataset_y1)  # así llamamos a la función que se nos devuelve para extraer el objeto dataset que inyectaremos en el modelo\n",
        "eval_input_fn_half_x = make_input_fn(dfeval, y_eval, num_epochs=1, shuffle=False)\n",
        "\n",
        "# Creamos el modelo\n",
        "linear_est_half = tf.estimator.LinearClassifier(feature_columns=feature_columns)\n",
        "\n",
        "# Lo entrenamos\n",
        "linear_est_half.train(train_input_fn_half_x1)  # entrenamos el modelo\n",
        "result = linear_est_half.evaluate(eval_input_fn_half_x)  # obtenemos las estimaciones del conjunto de evaluación\n",
        "\n",
        "clear_output()  # limpiamos la consola\n",
        "print(result['accuracy'])  # la viariable result es un diccionario con los resultados de nuestro modelo"
      ],
      "execution_count": 277,
      "outputs": [
        {
          "output_type": "stream",
          "text": [
            "0.7462121\n"
          ],
          "name": "stdout"
        }
      ]
    },
    {
      "cell_type": "code",
      "metadata": {
        "colab": {
          "base_uri": "https://localhost:8080/",
          "height": 454
        },
        "id": "O3xkU_ThORHV",
        "outputId": "d0f55c52-970f-47ae-9ae6-7b064574e2c0"
      },
      "source": [
        "# Predicted probabilities - Class 0 \n",
        "pred_dicts = list(linear_est.predict(train_input_fn_half_x1)) \n",
        "\n",
        "probs = pd.Series([pred['probabilities'][0] for pred in pred_dicts]) \n",
        "\n",
        "probs.plot(kind='hist', bins=20, title='predicted probabilities')"
      ],
      "execution_count": 278,
      "outputs": [
        {
          "output_type": "stream",
          "text": [
            "INFO:tensorflow:Calling model_fn.\n"
          ],
          "name": "stdout"
        },
        {
          "output_type": "stream",
          "text": [
            "/usr/local/lib/python3.7/dist-packages/tensorflow/python/keras/engine/base_layer_v1.py:1727: UserWarning: `layer.add_variable` is deprecated and will be removed in a future version. Please use `layer.add_weight` method instead.\n",
            "  warnings.warn('`layer.add_variable` is deprecated and '\n"
          ],
          "name": "stderr"
        },
        {
          "output_type": "stream",
          "text": [
            "INFO:tensorflow:Done calling model_fn.\n",
            "INFO:tensorflow:Graph was finalized.\n",
            "INFO:tensorflow:Restoring parameters from /tmp/tmp7_56i6zm/model.ckpt-200\n",
            "INFO:tensorflow:Running local_init_op.\n",
            "INFO:tensorflow:Done running local_init_op.\n"
          ],
          "name": "stdout"
        },
        {
          "output_type": "execute_result",
          "data": {
            "text/plain": [
              "<matplotlib.axes._subplots.AxesSubplot at 0x7f27e3467610>"
            ]
          },
          "metadata": {
            "tags": []
          },
          "execution_count": 278
        },
        {
          "output_type": "display_data",
          "data": {
            "image/png": "[encoded data removed]",
            "text/plain": [
              "<Figure size 432x288 with 1 Axes>"
            ]
          },
          "metadata": {
            "tags": [],
            "needs_background": "light"
          }
        }
      ]
    },
    {
      "cell_type": "code",
      "metadata": {
        "colab": {
          "base_uri": "https://localhost:8080/",
          "height": 454
        },
        "id": "qS3jat3RPimE",
        "outputId": "bbb6cb29-ba8d-4852-b14c-6601b20bf693"
      },
      "source": [
        "# Predicted probabilities - Class 1 \n",
        "pred_dicts = list(linear_est.predict(train_input_fn_half_x1)) \n",
        "\n",
        "probs = pd.Series([pred['probabilities'][1] for pred in pred_dicts]) \n",
        "\n",
        "probs.plot(kind='hist', bins=20, title='predicted probabilities')"
      ],
      "execution_count": 279,
      "outputs": [
        {
          "output_type": "stream",
          "text": [
            "INFO:tensorflow:Calling model_fn.\n"
          ],
          "name": "stdout"
        },
        {
          "output_type": "stream",
          "text": [
            "/usr/local/lib/python3.7/dist-packages/tensorflow/python/keras/engine/base_layer_v1.py:1727: UserWarning: `layer.add_variable` is deprecated and will be removed in a future version. Please use `layer.add_weight` method instead.\n",
            "  warnings.warn('`layer.add_variable` is deprecated and '\n"
          ],
          "name": "stderr"
        },
        {
          "output_type": "stream",
          "text": [
            "INFO:tensorflow:Done calling model_fn.\n",
            "INFO:tensorflow:Graph was finalized.\n",
            "INFO:tensorflow:Restoring parameters from /tmp/tmp7_56i6zm/model.ckpt-200\n",
            "INFO:tensorflow:Running local_init_op.\n",
            "INFO:tensorflow:Done running local_init_op.\n"
          ],
          "name": "stdout"
        },
        {
          "output_type": "execute_result",
          "data": {
            "text/plain": [
              "<matplotlib.axes._subplots.AxesSubplot at 0x7f27d8dc3f50>"
            ]
          },
          "metadata": {
            "tags": []
          },
          "execution_count": 279
        },
        {
          "output_type": "display_data",
          "data": {
            "image/png": "[encoded data removed]",
            "text/plain": [
              "<Figure size 432x288 with 1 Axes>"
            ]
          },
          "metadata": {
            "tags": [],
            "needs_background": "light"
          }
        }
      ]
    },
    {
      "cell_type": "code",
      "metadata": {
        "colab": {
          "base_uri": "https://localhost:8080/",
          "height": 454
        },
        "id": "DpeJNsa_OYm5",
        "outputId": "30ee1a47-f741-431a-d34a-937065d81a6e"
      },
      "source": [
        "pred_dicts = list(linear_est.predict(train_input_fn_half_x1)) \n",
        "\n",
        "probs = pd.Series([pred['probabilities'][1] for pred in pred_dicts]) \n",
        "\n",
        "probs.plot(kind='hist', bins=20, title='predicted probabilities')"
      ],
      "execution_count": 280,
      "outputs": [
        {
          "output_type": "stream",
          "text": [
            "INFO:tensorflow:Calling model_fn.\n"
          ],
          "name": "stdout"
        },
        {
          "output_type": "stream",
          "text": [
            "/usr/local/lib/python3.7/dist-packages/tensorflow/python/keras/engine/base_layer_v1.py:1727: UserWarning: `layer.add_variable` is deprecated and will be removed in a future version. Please use `layer.add_weight` method instead.\n",
            "  warnings.warn('`layer.add_variable` is deprecated and '\n"
          ],
          "name": "stderr"
        },
        {
          "output_type": "stream",
          "text": [
            "INFO:tensorflow:Done calling model_fn.\n",
            "INFO:tensorflow:Graph was finalized.\n",
            "INFO:tensorflow:Restoring parameters from /tmp/tmp7_56i6zm/model.ckpt-200\n",
            "INFO:tensorflow:Running local_init_op.\n",
            "INFO:tensorflow:Done running local_init_op.\n"
          ],
          "name": "stdout"
        },
        {
          "output_type": "execute_result",
          "data": {
            "text/plain": [
              "<matplotlib.axes._subplots.AxesSubplot at 0x7f2801918c50>"
            ]
          },
          "metadata": {
            "tags": []
          },
          "execution_count": 280
        },
        {
          "output_type": "display_data",
          "data": {
            "image/png": "[encoded data removed]",
            "text/plain": [
              "<Figure size 432x288 with 1 Axes>"
            ]
          },
          "metadata": {
            "tags": [],
            "needs_background": "light"
          }
        }
      ]
    },
    {
      "cell_type": "markdown",
      "metadata": {
        "id": "RWK3XWkMFSjz"
      },
      "source": [
        "Y si entrenamos con una décima parte de en nuestro ejemplo original?"
      ]
    },
    {
      "cell_type": "code",
      "metadata": {
        "id": "9Oz19nKKFSjz"
      },
      "source": [
        "# Second approach, using panda's sample function to split the dataset \n",
        "dftrain = pd.read_csv('https://storage.googleapis.com/tf-datasets/titanic/train.csv')\n",
        "\n",
        "dec_dataset_x2 = dftrain.sample(frac=0.1,random_state=1)\n",
        "dec_dataset_y2 = dec_dataset_x2.pop('survived')"
      ],
      "execution_count": 281,
      "outputs": []
    },
    {
      "cell_type": "code",
      "metadata": {
        "colab": {
          "base_uri": "https://localhost:8080/"
        },
        "id": "DphV5NvLSau2",
        "outputId": "4f83d579-9db2-497f-86fc-e341a58bc0cd"
      },
      "source": [
        "dec_dataset_x2.info()"
      ],
      "execution_count": 282,
      "outputs": [
        {
          "output_type": "stream",
          "text": [
            "<class 'pandas.core.frame.DataFrame'>\n",
            "Int64Index: 63 entries, 301 to 34\n",
            "Data columns (total 9 columns):\n",
            " #   Column              Non-Null Count  Dtype  \n",
            "---  ------              --------------  -----  \n",
            " 0   sex                 63 non-null     object \n",
            " 1   age                 63 non-null     float64\n",
            " 2   n_siblings_spouses  63 non-null     int64  \n",
            " 3   parch               63 non-null     int64  \n",
            " 4   fare                63 non-null     float64\n",
            " 5   class               63 non-null     object \n",
            " 6   deck                63 non-null     object \n",
            " 7   embark_town         63 non-null     object \n",
            " 8   alone               63 non-null     object \n",
            "dtypes: float64(2), int64(2), object(5)\n",
            "memory usage: 4.9+ KB\n"
          ],
          "name": "stdout"
        }
      ]
    },
    {
      "cell_type": "code",
      "metadata": {
        "colab": {
          "base_uri": "https://localhost:8080/"
        },
        "id": "nsE_qaDJSf4Q",
        "outputId": "e1121d33-7c91-4af7-a083-959b240df00c"
      },
      "source": [
        "len(dec_dataset_y2)"
      ],
      "execution_count": 283,
      "outputs": [
        {
          "output_type": "execute_result",
          "data": {
            "text/plain": [
              "63"
            ]
          },
          "metadata": {
            "tags": []
          },
          "execution_count": 283
        }
      ]
    },
    {
      "cell_type": "code",
      "metadata": {
        "id": "9uTBwBIvB6VD",
        "outputId": "22cbfa3a-4411-47ae-bcf4-d582b785dd19",
        "colab": {
          "base_uri": "https://localhost:8080/"
        }
      },
      "source": [
        "dec_dataset_y2.value_counts()"
      ],
      "execution_count": 297,
      "outputs": [
        {
          "output_type": "execute_result",
          "data": {
            "text/plain": [
              "0    36\n",
              "1    27\n",
              "Name: survived, dtype: int64"
            ]
          },
          "metadata": {
            "tags": []
          },
          "execution_count": 297
        }
      ]
    },
    {
      "cell_type": "code",
      "metadata": {
        "colab": {
          "base_uri": "https://localhost:8080/"
        },
        "id": "y6DeQ13EJt6L",
        "outputId": "5ff28126-ca57-42d3-cd6a-74084f6cac5f"
      },
      "source": [
        "train_input_fn_dec = make_input_fn(dec_dataset_x2,dec_dataset_y2 )  # así llamamos a la función que se nos devuelve para extraer el objeto dataset que inyectaremos en el modelo\n",
        "eval_input_fn_dec = make_input_fn(dfeval, y_eval, num_epochs=1, shuffle=False)\n",
        "\n",
        "\n",
        "# Creamos el modelo\n",
        "linear_est_dec = tf.estimator.LinearClassifier(feature_columns=feature_columns)\n",
        "\n",
        "# Lo entrenamos\n",
        "linear_est_dec.train(train_input_fn_dec)  # entrenamos el modelo\n",
        "result = linear_est_dec.evaluate(eval_input_fn_dec)  # obtenemos las estimaciones del conjunto de evaluación\n",
        "\n",
        "#clear_output()  # limpiamos la consola\n",
        "print(result['accuracy']) "
      ],
      "execution_count": 284,
      "outputs": [
        {
          "output_type": "stream",
          "text": [
            "INFO:tensorflow:Using default config.\n",
            "WARNING:tensorflow:Using temporary folder as model directory: /tmp/tmpzn65s3sf\n",
            "INFO:tensorflow:Using config: {'_model_dir': '/tmp/tmpzn65s3sf', '_tf_random_seed': None, '_save_summary_steps': 100, '_save_checkpoints_steps': None, '_save_checkpoints_secs': 600, '_session_config': allow_soft_placement: true\n",
            "graph_options {\n",
            "  rewrite_options {\n",
            "    meta_optimizer_iterations: ONE\n",
            "  }\n",
            "}\n",
            ", '_keep_checkpoint_max': 5, '_keep_checkpoint_every_n_hours': 10000, '_log_step_count_steps': 100, '_train_distribute': None, '_device_fn': None, '_protocol': None, '_eval_distribute': None, '_experimental_distribute': None, '_experimental_max_worker_delay_secs': None, '_session_creation_timeout_secs': 7200, '_checkpoint_save_graph_def': True, '_service': None, '_cluster_spec': ClusterSpec({}), '_task_type': 'worker', '_task_id': 0, '_global_id_in_cluster': 0, '_master': '', '_evaluation_master': '', '_is_chief': True, '_num_ps_replicas': 0, '_num_worker_replicas': 1}\n",
            "INFO:tensorflow:Calling model_fn.\n"
          ],
          "name": "stdout"
        },
        {
          "output_type": "stream",
          "text": [
            "/usr/local/lib/python3.7/dist-packages/tensorflow/python/keras/engine/base_layer_v1.py:1727: UserWarning: `layer.add_variable` is deprecated and will be removed in a future version. Please use `layer.add_weight` method instead.\n",
            "  warnings.warn('`layer.add_variable` is deprecated and '\n"
          ],
          "name": "stderr"
        },
        {
          "output_type": "stream",
          "text": [
            "INFO:tensorflow:Done calling model_fn.\n",
            "INFO:tensorflow:Create CheckpointSaverHook.\n",
            "INFO:tensorflow:Graph was finalized.\n",
            "INFO:tensorflow:Running local_init_op.\n",
            "INFO:tensorflow:Done running local_init_op.\n",
            "INFO:tensorflow:Calling checkpoint listeners before saving checkpoint 0...\n",
            "INFO:tensorflow:Saving checkpoints for 0 into /tmp/tmpzn65s3sf/model.ckpt.\n",
            "INFO:tensorflow:Calling checkpoint listeners after saving checkpoint 0...\n",
            "INFO:tensorflow:loss = 0.6931472, step = 0\n",
            "INFO:tensorflow:Calling checkpoint listeners before saving checkpoint 20...\n",
            "INFO:tensorflow:Saving checkpoints for 20 into /tmp/tmpzn65s3sf/model.ckpt.\n",
            "INFO:tensorflow:Calling checkpoint listeners after saving checkpoint 20...\n",
            "INFO:tensorflow:Loss for final step: 0.5391088.\n",
            "INFO:tensorflow:Calling model_fn.\n",
            "INFO:tensorflow:Done calling model_fn.\n",
            "INFO:tensorflow:Starting evaluation at 2021-04-16T09:14:41Z\n",
            "INFO:tensorflow:Graph was finalized.\n",
            "INFO:tensorflow:Restoring parameters from /tmp/tmpzn65s3sf/model.ckpt-20\n",
            "INFO:tensorflow:Running local_init_op.\n",
            "INFO:tensorflow:Done running local_init_op.\n",
            "INFO:tensorflow:Inference Time : 0.80280s\n",
            "INFO:tensorflow:Finished evaluation at 2021-04-16-09:14:42\n",
            "INFO:tensorflow:Saving dict for global step 20: accuracy = 0.74242425, accuracy_baseline = 0.625, auc = 0.7775329, auc_precision_recall = 0.642246, average_loss = 0.547743, global_step = 20, label/mean = 0.375, loss = 0.5498234, precision = 0.6781609, prediction/mean = 0.4025186, recall = 0.5959596\n",
            "INFO:tensorflow:Saving 'checkpoint_path' summary for global step 20: /tmp/tmpzn65s3sf/model.ckpt-20\n",
            "0.74242425\n"
          ],
          "name": "stdout"
        }
      ]
    },
    {
      "cell_type": "code",
      "metadata": {
        "colab": {
          "base_uri": "https://localhost:8080/",
          "height": 454
        },
        "id": "XEcwYqypKKvk",
        "outputId": "46ee8e8a-d867-480d-e771-3381731de90a"
      },
      "source": [
        "pred_dicts = list(linear_est.predict(train_input_fn_dec)) \n",
        "\n",
        "probs = pd.Series([pred['probabilities'][0] for pred in pred_dicts]) \n",
        "\n",
        "probs.plot(kind='hist', bins=20, title='predicted probabilities')"
      ],
      "execution_count": 285,
      "outputs": [
        {
          "output_type": "stream",
          "text": [
            "INFO:tensorflow:Calling model_fn.\n"
          ],
          "name": "stdout"
        },
        {
          "output_type": "stream",
          "text": [
            "/usr/local/lib/python3.7/dist-packages/tensorflow/python/keras/engine/base_layer_v1.py:1727: UserWarning: `layer.add_variable` is deprecated and will be removed in a future version. Please use `layer.add_weight` method instead.\n",
            "  warnings.warn('`layer.add_variable` is deprecated and '\n"
          ],
          "name": "stderr"
        },
        {
          "output_type": "stream",
          "text": [
            "INFO:tensorflow:Done calling model_fn.\n",
            "INFO:tensorflow:Graph was finalized.\n",
            "INFO:tensorflow:Restoring parameters from /tmp/tmp7_56i6zm/model.ckpt-200\n",
            "INFO:tensorflow:Running local_init_op.\n",
            "INFO:tensorflow:Done running local_init_op.\n"
          ],
          "name": "stdout"
        },
        {
          "output_type": "execute_result",
          "data": {
            "text/plain": [
              "<matplotlib.axes._subplots.AxesSubplot at 0x7f27e37d7710>"
            ]
          },
          "metadata": {
            "tags": []
          },
          "execution_count": 285
        },
        {
          "output_type": "display_data",
          "data": {
            "image/png": "[encoded data removed]",
            "text/plain": [
              "<Figure size 432x288 with 1 Axes>"
            ]
          },
          "metadata": {
            "tags": [],
            "needs_background": "light"
          }
        }
      ]
    },
    {
      "cell_type": "code",
      "metadata": {
        "colab": {
          "base_uri": "https://localhost:8080/",
          "height": 454
        },
        "id": "77WvM90erBiU",
        "outputId": "57a09adb-4c6b-4801-b656-efbd47cd1144"
      },
      "source": [
        "pred_dicts = list(linear_est.predict(train_input_fn_dec)) \n",
        "\n",
        "probs = pd.Series([pred['probabilities'][1] for pred in pred_dicts]) \n",
        "\n",
        "probs.plot(kind='hist', bins=20, title='predicted probabilities')"
      ],
      "execution_count": 286,
      "outputs": [
        {
          "output_type": "stream",
          "text": [
            "INFO:tensorflow:Calling model_fn.\n"
          ],
          "name": "stdout"
        },
        {
          "output_type": "stream",
          "text": [
            "/usr/local/lib/python3.7/dist-packages/tensorflow/python/keras/engine/base_layer_v1.py:1727: UserWarning: `layer.add_variable` is deprecated and will be removed in a future version. Please use `layer.add_weight` method instead.\n",
            "  warnings.warn('`layer.add_variable` is deprecated and '\n"
          ],
          "name": "stderr"
        },
        {
          "output_type": "stream",
          "text": [
            "INFO:tensorflow:Done calling model_fn.\n",
            "INFO:tensorflow:Graph was finalized.\n",
            "INFO:tensorflow:Restoring parameters from /tmp/tmp7_56i6zm/model.ckpt-200\n",
            "INFO:tensorflow:Running local_init_op.\n",
            "INFO:tensorflow:Done running local_init_op.\n"
          ],
          "name": "stdout"
        },
        {
          "output_type": "execute_result",
          "data": {
            "text/plain": [
              "<matplotlib.axes._subplots.AxesSubplot at 0x7f2801787c50>"
            ]
          },
          "metadata": {
            "tags": []
          },
          "execution_count": 286
        },
        {
          "output_type": "display_data",
          "data": {
            "image/png": "[encoded data removed]",
            "text/plain": [
              "<Figure size 432x288 with 1 Axes>"
            ]
          },
          "metadata": {
            "tags": [],
            "needs_background": "light"
          }
        }
      ]
    },
    {
      "cell_type": "markdown",
      "metadata": {
        "id": "L5Ra8ZffFSj0"
      },
      "source": [
        "Por último, vamos a mostrar también el accuracy que tenemos sobre el conjunto de datos de entrenamiento (podemos utilizar cualquiera de los modelos que acabamos de entrenar)\n"
      ]
    },
    {
      "cell_type": "code",
      "metadata": {
        "id": "X20PfPdiFSj0"
      },
      "source": [
        ""
      ],
      "execution_count": 286,
      "outputs": []
    },
    {
      "cell_type": "markdown",
      "metadata": {
        "id": "VTGXGLmpFSj0"
      },
      "source": [
        "### Conclusiones:\n",
        " \n",
        "¿Hay mucha diferencia entre el entrenamiento original y el que hemos realizado con datos diezmados? ¿Por qué?"
      ]
    },
    {
      "cell_type": "code",
      "metadata": {
        "id": "mqh9huYYFSj0"
      },
      "source": [
        "# No existe mucha diferencia en cuanto al accuracy, al reducir el numero de datos \n",
        "# La complejidad del problema a resolver no es muy grande (probabilidad de supervencia , dos clases).\n",
        "# Parece que con pocas muestras de ambas clases (sin que haya mucho desbalanceo) , el accuracy es parecido, con lo que entiendo que para mejorar el modelo, habria que tocar\n",
        "# otros parametros principalmente, si bien , incrementar el numero de muestras ayudaria tambien.\n",
        "                                                                "
      ],
      "execution_count": 287,
      "outputs": []
    },
    {
      "cell_type": "markdown",
      "metadata": {
        "id": "OgToR_qDFSj0"
      },
      "source": [
        "## Regresión\n",
        "\n",
        "### Punto de partida\n",
        "\n",
        "El punto de partida se corresponde con el código que hemos visto en el worksheet:"
      ]
    },
    {
      "cell_type": "code",
      "metadata": {
        "colab": {
          "base_uri": "https://localhost:8080/"
        },
        "id": "vSflXZuOFSj1",
        "outputId": "4e5e5520-e26c-4051-d9d8-c972ac6a1f6b"
      },
      "source": [
        "CSV_COLUMN_NAMES = ['SepalLength', 'SepalWidth', 'PetalLength', 'PetalWidth', 'Species']\n",
        "SPECIES = ['Setosa', 'Versicolor', 'Virginica']\n",
        "\n",
        "train_path = tf.keras.utils.get_file(\n",
        "    \"iris_training.csv\", \"https://storage.googleapis.com/download.tensorflow.org/data/iris_training.csv\")\n",
        "test_path = tf.keras.utils.get_file(\n",
        "    \"iris_test.csv\", \"https://storage.googleapis.com/download.tensorflow.org/data/iris_test.csv\")\n",
        "\n",
        "train = pd.read_csv(train_path, names=CSV_COLUMN_NAMES, header=0)\n",
        "test = pd.read_csv(test_path, names=CSV_COLUMN_NAMES, header=0)\n",
        "train_y = train.pop('Species')\n",
        "test_y = test.pop('Species')\n",
        "\n",
        "def input_fn(features, labels, training=True, batch_size=256):\n",
        "    # Convertimos los datos al tipo dataset.\n",
        "    dataset = tf.data.Dataset.from_tensor_slices((dict(features), labels))\n",
        "\n",
        "    # Aleatorizamos y seleccionamos los datos si estamos en modo train.\n",
        "    if training:\n",
        "        dataset = dataset.shuffle(1000).repeat()\n",
        "    \n",
        "    return dataset.batch(batch_size)\n",
        "\n",
        "# Feature columns describe cómo se utilizan las feature columns\n",
        "my_feature_columns = []\n",
        "for key in train.keys():\n",
        "    my_feature_columns.append(tf.feature_column.numeric_column(key=key))\n",
        "print(my_feature_columns)\n",
        "\n",
        "# Definimos una DNN con 2 capas ocultas con 30 y 10 nodos ocultos cada una.\n",
        "classifier = tf.estimator.DNNClassifier(\n",
        "    feature_columns=my_feature_columns,\n",
        "    # Dos capas ocultas de 30 y 10 nodos respectivamente\n",
        "    hidden_units=[10,10,10],\n",
        "    # El modelo debe poder distinguir entre 3 clases\n",
        "    n_classes=3)\n",
        "\n",
        "classifier.train(\n",
        "    input_fn=lambda: input_fn(train, train_y, training=True),\n",
        "    steps=5000)\n",
        "# Hemos definido lambda para evitar crear una función previamente (los detalles de implementación no son importantes ahora)\n",
        "\n",
        "\n",
        "eval_result = classifier.evaluate(\n",
        "    input_fn=lambda: input_fn(test, test_y, training=False))\n",
        "clear_output()\n",
        "print('\\nTest set accuracy: {accuracy:0.3f}\\n'.format(**eval_result))\n",
        "\n",
        "\n",
        "\n"
      ],
      "execution_count": 288,
      "outputs": [
        {
          "output_type": "stream",
          "text": [
            "\n",
            "Test set accuracy: 0.700\n",
            "\n"
          ],
          "name": "stdout"
        }
      ]
    },
    {
      "cell_type": "markdown",
      "metadata": {
        "id": "baneCPRcFSj1"
      },
      "source": [
        "### Ajustando los parámetros del entrenamiento\n",
        "\n",
        "Como sabemos, el número de capas y neuronas ocultas es un número arbitrario y necesitamos de muchos experimentos y test para poder determinar la mejor elección de estos valores.\n",
        "\n",
        "Vamos a probar en las siguientes celdas a probar las siguientes arquitecturas:\n",
        "\n",
        "- 1 capa oculta de 10 neuronas\n",
        "- 1 capa oculta de 50 neuronas\n",
        "- 2 capas ocultas de 30 y 10 neuronas respectivamente\n",
        "- 3 capas ocultas de 30, 20 y 10 neuronas respectivamente.\n",
        "- 5 capas ocultas de 30, 20, 10, 10 y 10 neuronas respectivamente.\n"
      ]
    },
    {
      "cell_type": "code",
      "metadata": {
        "colab": {
          "base_uri": "https://localhost:8080/"
        },
        "id": "XAH-dWumFSj2",
        "outputId": "4b24cf4b-fd41-4dab-eb9d-4e8b0cd1b832"
      },
      "source": [
        "# 1 capa oculta de 10 neuronas\n",
        "classifier = tf.estimator.DNNClassifier(\n",
        "    feature_columns=my_feature_columns,\n",
        "    # Dos capas ocultas de 30 y 10 nodos respectivamente\n",
        "    hidden_units=[10],\n",
        "    # El modelo debe poder distinguir entre 3 clases\n",
        "    n_classes=3)\n",
        "\n",
        "classifier.train(\n",
        "    input_fn=lambda: input_fn(train, train_y, training=True),\n",
        "    steps=5000)\n",
        "# Hemos definido lambda para evitar crear una función previamente (los detalles de implementación no son importantes ahora)\n",
        "\n",
        "\n",
        "eval_result = classifier.evaluate(\n",
        "    input_fn=lambda: input_fn(test, test_y, training=False))\n",
        "clear_output()\n",
        "print('\\nTest set accuracy: {accuracy:0.3f}\\n'.format(**eval_result))\n"
      ],
      "execution_count": 289,
      "outputs": [
        {
          "output_type": "stream",
          "text": [
            "\n",
            "Test set accuracy: 0.267\n",
            "\n"
          ],
          "name": "stdout"
        }
      ]
    },
    {
      "cell_type": "code",
      "metadata": {
        "colab": {
          "base_uri": "https://localhost:8080/"
        },
        "id": "oXowv3RrFSj2",
        "outputId": "62e77ed2-cee4-4a8d-dd85-cdc08c2bd534"
      },
      "source": [
        "# 1 capa oculta de 50 neuronas\n",
        "classifier = tf.estimator.DNNClassifier(\n",
        "    feature_columns=my_feature_columns,\n",
        "    # Dos capas ocultas de 30 y 10 nodos respectivamente\n",
        "    hidden_units=[50],\n",
        "    # El modelo debe poder distinguir entre 3 clases\n",
        "    n_classes=3)\n",
        "\n",
        "classifier.train(\n",
        "    input_fn=lambda: input_fn(train, train_y, training=True),\n",
        "    steps=5000)\n",
        "# Hemos definido lambda para evitar crear una función previamente (los detalles de implementación no son importantes ahora)\n",
        "\n",
        "\n",
        "eval_result = classifier.evaluate(\n",
        "    input_fn=lambda: input_fn(test, test_y, training=False))\n",
        "clear_output()\n",
        "print('\\nTest set accuracy: {accuracy:0.3f}\\n'.format(**eval_result))\n"
      ],
      "execution_count": 290,
      "outputs": [
        {
          "output_type": "stream",
          "text": [
            "\n",
            "Test set accuracy: 0.800\n",
            "\n"
          ],
          "name": "stdout"
        }
      ]
    },
    {
      "cell_type": "code",
      "metadata": {
        "colab": {
          "base_uri": "https://localhost:8080/"
        },
        "id": "QGpJDISQFSj2",
        "outputId": "288fa734-fe61-4393-d6bf-bb7609891cb4"
      },
      "source": [
        "# 2 capas ocultas de 30 y 10 neuronas respectivamente\n",
        "classifier = tf.estimator.DNNClassifier(\n",
        "    feature_columns=my_feature_columns,\n",
        "    # Dos capas ocultas de 30 y 10 nodos respectivamente\n",
        "    hidden_units=[30,20],\n",
        "    # El modelo debe poder distinguir entre 3 clases\n",
        "    n_classes=3)\n",
        "\n",
        "classifier.train(\n",
        "    input_fn=lambda: input_fn(train, train_y, training=True),\n",
        "    steps=5000)\n",
        "# Hemos definido lambda para evitar crear una función previamente (los detalles de implementación no son importantes ahora)\n",
        "\n",
        "\n",
        "eval_result = classifier.evaluate(\n",
        "    input_fn=lambda: input_fn(test, test_y, training=False))\n",
        "clear_output()\n",
        "print('\\nTest set accuracy: {accuracy:0.3f}\\n'.format(**eval_result))"
      ],
      "execution_count": 291,
      "outputs": [
        {
          "output_type": "stream",
          "text": [
            "\n",
            "Test set accuracy: 0.933\n",
            "\n"
          ],
          "name": "stdout"
        }
      ]
    },
    {
      "cell_type": "code",
      "metadata": {
        "colab": {
          "base_uri": "https://localhost:8080/"
        },
        "id": "kePeRKRUFSj2",
        "outputId": "f0401cbb-71b5-4718-d2e0-665482cec2c6"
      },
      "source": [
        "#3 capas ocultas de 30, 20 y 10 neuronas respectivamente.\n",
        "classifier = tf.estimator.DNNClassifier(\n",
        "    feature_columns=my_feature_columns,\n",
        "    # Dos capas ocultas de 30 y 10 nodos respectivamente\n",
        "    hidden_units=[30,30,10],\n",
        "    # El modelo debe poder distinguir entre 3 clases\n",
        "    n_classes=3)\n",
        "\n",
        "classifier.train(\n",
        "    input_fn=lambda: input_fn(train, train_y, training=True),\n",
        "    steps=5000)\n",
        "# Hemos definido lambda para evitar crear una función previamente (los detalles de implementación no son importantes ahora)\n",
        "\n",
        "\n",
        "eval_result = classifier.evaluate(\n",
        "    input_fn=lambda: input_fn(test, test_y, training=False))\n",
        "clear_output()\n",
        "print('\\nTest set accuracy: {accuracy:0.3f}\\n'.format(**eval_result))"
      ],
      "execution_count": 292,
      "outputs": [
        {
          "output_type": "stream",
          "text": [
            "\n",
            "Test set accuracy: 0.967\n",
            "\n"
          ],
          "name": "stdout"
        }
      ]
    },
    {
      "cell_type": "code",
      "metadata": {
        "colab": {
          "base_uri": "https://localhost:8080/"
        },
        "id": "wqezDp22FSj2",
        "outputId": "91a2ad6f-1230-471b-d64d-19106dfe301f"
      },
      "source": [
        "#5 capas ocultas de 30, 20, 10, 10 y 10 neuronas respectivamente.\n",
        "classifier = tf.estimator.DNNClassifier(\n",
        "    feature_columns=my_feature_columns,\n",
        "    # Dos capas ocultas de 30 y 10 nodos respectivamente\n",
        "    hidden_units=[30,30,10,10,10],\n",
        "    # El modelo debe poder distinguir entre 3 clases\n",
        "    n_classes=3)\n",
        "\n",
        "classifier.train(\n",
        "    input_fn=lambda: input_fn(train, train_y, training=True),\n",
        "    steps=5000)\n",
        "# Hemos definido lambda para evitar crear una función previamente (los detalles de implementación no son importantes ahora)\n",
        "\n",
        "\n",
        "eval_result = classifier.evaluate(\n",
        "    input_fn=lambda: input_fn(test, test_y, training=False))\n",
        "clear_output()\n",
        "print('\\nTest set accuracy: {accuracy:0.3f}\\n'.format(**eval_result))"
      ],
      "execution_count": 293,
      "outputs": [
        {
          "output_type": "stream",
          "text": [
            "\n",
            "Test set accuracy: 0.967\n",
            "\n"
          ],
          "name": "stdout"
        }
      ]
    },
    {
      "cell_type": "markdown",
      "metadata": {
        "id": "D7x7VrbLFSj3"
      },
      "source": [
        "### Conclusiones\n",
        "\n",
        "¿Qué idea básica extraes de los experimentos?\n",
        "\n",
        "¿Mejora siempre la red al aumentar su tamaño y/o profundidad?\n"
      ]
    },
    {
      "cell_type": "code",
      "metadata": {
        "id": "0pFr9xj6FSj3"
      },
      "source": [
        "# Con una sola capa, si aumentamos ancho, mejora la red, en este caso con un valor de anchura de 70 neuronas alcazmos un accuracy de 0.9. \n",
        "# Si aumentamos profundidad y solo el ancho de la capa de entrada , pero por debajo de un valor que mejore el primer experimento, la red  .\n",
        "# Si aumentamos profundidad y ancho de las primeras capas , mejora el accuracy de la red.\n",
        "# No siempre mejora la red al aumentar la profundidad. Una sola capa de 50 es mejor que tres de 10.\n",
        "# Siempre mejora al aumentar el ancho (hasta cierto punto). Parece que aumentando la anchura , se aprenden mejor las relaciones lineales\n",
        "# y que la profundidad funcionara mejor en relaciones no lineales."
      ],
      "execution_count": 294,
      "outputs": []
    }
  ]
}