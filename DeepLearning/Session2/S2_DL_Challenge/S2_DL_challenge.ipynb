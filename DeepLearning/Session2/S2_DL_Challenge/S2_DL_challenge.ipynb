{
  "nbformat": 4,
  "nbformat_minor": 0,
  "metadata": {
    "anaconda-cloud": {},
    "kernelspec": {
      "display_name": "Python 3",
      "language": "python",
      "name": "python3"
    },
    "language_info": {
      "codemirror_mode": {
        "name": "ipython",
        "version": 3
      },
      "file_extension": ".py",
      "mimetype": "text/x-python",
      "name": "python",
      "nbconvert_exporter": "python",
      "pygments_lexer": "ipython3",
      "version": "3.8.5"
    },
    "colab": {
      "name": "S2_DL_challenge.ipynb",
      "provenance": [],
      "toc_visible": true,
      "include_colab_link": true
    },
    "accelerator": "GPU"
  },
  "cells": [
    {
      "cell_type": "markdown",
      "metadata": {
        "id": "view-in-github",
        "colab_type": "text"
      },
      "source": [
        "<a href=\"https://colab.research.google.com/github/psagrera/Data-Science-Advanced/blob/main/DeepLearning/Session2/S2_DL_Challenge/S2_DL_challenge.ipynb\" target=\"_parent\"><img src=\"https://colab.research.google.com/assets/colab-badge.svg\" alt=\"Open In Colab\"/></a>"
      ]
    },
    {
      "cell_type": "markdown",
      "metadata": {
        "id": "qOR6TOYqFSjp"
      },
      "source": [
        "<img src=\"mioti.png\" style=\"height: 100px\">\n",
        "<center style=\"color:#888\">Módulo Data Science in IoT<br/>Asignatura Deep Learning</center>\n",
        "\n",
        "# Challenge S2: Machine Learning Basics en TensorFlow\n",
        "\n",
        "## Objetivos\n",
        "\n",
        "El objetivo de este challenge es familiarizarnos con TensorFlow y con su funcionamiento básico enfrentandose a problemas de regresión y clasificación.\n",
        "\n",
        "\n",
        "## Regresión\n",
        "\n",
        "### Punto de partida\n",
        "\n",
        "El punto de partida se corresponde con el código que hemos visto en el worksheet:"
      ]
    },
    {
      "cell_type": "code",
      "metadata": {
        "colab": {
          "base_uri": "https://localhost:8080/"
        },
        "id": "jegmxSRuFSjv",
        "outputId": "9a5fbc1a-d3d4-4d9e-ba53-e9474fa99fb5"
      },
      "source": [
        "import os\n",
        "import sys\n",
        "\n",
        "import numpy as np\n",
        "import pandas as pd\n",
        "import matplotlib.pyplot as plt\n",
        "from IPython.display import clear_output\n",
        "from six.moves import urllib\n",
        "\n",
        "import tensorflow.compat.v2.feature_column as fc\n",
        "\n",
        "import tensorflow as tf\n",
        "\n",
        "# Cargamos el dataset\n",
        "dftrain = pd.read_csv('https://storage.googleapis.com/tf-datasets/titanic/train.csv')\n",
        "dfeval = pd.read_csv('https://storage.googleapis.com/tf-datasets/titanic/eval.csv')\n",
        "y_train = dftrain.pop('survived')\n",
        "y_eval = dfeval.pop('survived')\n",
        "\n",
        "# Creamos las estructuras que contienen las categorías\n",
        "CATEGORICAL_COLUMNS = ['sex', 'n_siblings_spouses', 'parch', 'class', 'deck',\n",
        "                       'embark_town', 'alone']\n",
        "NUMERIC_COLUMNS = ['age', 'fare']\n",
        "\n",
        "feature_columns = []\n",
        "for feature_name in CATEGORICAL_COLUMNS:\n",
        "  vocabulary = dftrain[feature_name].unique()  # lista de todos los valores únicos contenidos en una columna\n",
        "  feature_columns.append(tf.feature_column.categorical_column_with_vocabulary_list(feature_name, vocabulary))\n",
        "\n",
        "for feature_name in NUMERIC_COLUMNS:\n",
        "  feature_columns.append(tf.feature_column.numeric_column(feature_name, dtype=tf.float32))\n",
        "\n",
        "# Definimos nuestra función de input\n",
        "\n",
        "def make_input_fn(data_df, label_df, num_epochs=10, shuffle=True, batch_size=32):\n",
        "  def input_function():  # función interna, esto es lo que será devuelto\n",
        "    ds = tf.data.Dataset.from_tensor_slices((dict(data_df), label_df))  # crea un objeto tf.data.Dataset que contendrá datos y etiquetas \n",
        "    if shuffle:\n",
        "      ds = ds.shuffle(1000)  # con esta línea aleatorizamos la selección de elementos\n",
        "    ds = ds.batch(batch_size).repeat(num_epochs)  # divide el dataset en batches el número de veces especificado por num_epocs \n",
        "    return ds  # devuelve un batch del dataset\n",
        "  return input_function  # devuelve el objeto completo para ser utilizado.\n",
        "\n",
        "train_input_fn = make_input_fn(dftrain, y_train)  # así llamamos a la función que se nos devuelve para extraer el objeto dataset que inyectaremos en el modelo\n",
        "eval_input_fn = make_input_fn(dfeval, y_eval, num_epochs=1, shuffle=False)\n",
        "\n",
        "\n",
        "# Creamos el modelo\n",
        "linear_est = tf.estimator.LinearClassifier(feature_columns=feature_columns)\n",
        "\n",
        "# Lo entrenamos\n",
        "linear_est.train(train_input_fn)  # entrenamos el modelo\n",
        "result = linear_est.evaluate(eval_input_fn)  # obtenemos las estimaciones del conjunto de evaluación\n",
        "\n",
        "clear_output()  # limpiamos la consola\n",
        "print(result['accuracy'])  # la viariable result es un diccionario con los resultados de nuestro modelo"
      ],
      "execution_count": 187,
      "outputs": [
        {
          "output_type": "stream",
          "text": [
            "0.7310606\n"
          ],
          "name": "stdout"
        }
      ]
    },
    {
      "cell_type": "markdown",
      "metadata": {
        "id": "QZyQMXFxFSjx"
      },
      "source": [
        "## Tareas\n",
        "\n",
        "\n",
        "### Cambiando el histograma\n",
        "\n",
        "En el worksheet tenemos el ejemplo de un histograma con las posibilidades de supervivencia de cada individuo del conjunto de evaluación, representad a continuación el mismo histograma pero con el conjunto de entrenamiento.\n"
      ]
    },
    {
      "cell_type": "code",
      "metadata": {
        "colab": {
          "base_uri": "https://localhost:8080/",
          "height": 454
        },
        "id": "6ZOJen-nFSjy",
        "outputId": "8ba2175f-518b-444c-bc01-48900a2256f5"
      },
      "source": [
        "pred_dicts = list(linear_est.predict(train_input_fn)) \n",
        "\n",
        "probs = pd.Series([pred['probabilities'][1] for pred in pred_dicts]) \n",
        "\n",
        "probs.plot(kind='hist', bins=20, title='predicted probabilities')"
      ],
      "execution_count": 188,
      "outputs": [
        {
          "output_type": "stream",
          "text": [
            "INFO:tensorflow:Calling model_fn.\n"
          ],
          "name": "stdout"
        },
        {
          "output_type": "stream",
          "text": [
            "/usr/local/lib/python3.7/dist-packages/tensorflow/python/keras/engine/base_layer_v1.py:1727: UserWarning: `layer.add_variable` is deprecated and will be removed in a future version. Please use `layer.add_weight` method instead.\n",
            "  warnings.warn('`layer.add_variable` is deprecated and '\n"
          ],
          "name": "stderr"
        },
        {
          "output_type": "stream",
          "text": [
            "INFO:tensorflow:Done calling model_fn.\n",
            "INFO:tensorflow:Graph was finalized.\n",
            "INFO:tensorflow:Restoring parameters from /tmp/tmpt2ulr64j/model.ckpt-200\n",
            "INFO:tensorflow:Running local_init_op.\n",
            "INFO:tensorflow:Done running local_init_op.\n"
          ],
          "name": "stdout"
        },
        {
          "output_type": "execute_result",
          "data": {
            "text/plain": [
              "<matplotlib.axes._subplots.AxesSubplot at 0x7f27c770d410>"
            ]
          },
          "metadata": {
            "tags": []
          },
          "execution_count": 188
        },
        {
          "output_type": "display_data",
          "data": {
            "image/png": "[encoded data removed]",
            "text/plain": [
              "<Figure size 432x288 with 1 Axes>"
            ]
          },
          "metadata": {
            "tags": [],
            "needs_background": "light"
          }
        }
      ]
    },
    {
      "cell_type": "markdown",
      "metadata": {
        "id": "aZLLJBvpFSjy"
      },
      "source": [
        "¿Y si lo que queremos es pintar el histograma de la mortalidad de cada individuo del conjunto de evaluación?\n",
        "\n",
        "Pista, mirad la estructura del diccionario que devuelve *linear_est.predict()*"
      ]
    },
    {
      "cell_type": "code",
      "metadata": {
        "colab": {
          "base_uri": "https://localhost:8080/",
          "height": 454
        },
        "id": "VBl5AyDnFSjy",
        "outputId": "f1ef35d7-eff9-4f84-a6d2-170b27e5f09f"
      },
      "source": [
        "pred_dicts = list(linear_est.predict(train_input_fn)) \n",
        "\n",
        "probs = pd.Series([pred['probabilities'][0] for pred in pred_dicts]) \n",
        "\n",
        "probs.plot(kind='hist', bins=20, title='predicted probabilities')"
      ],
      "execution_count": 189,
      "outputs": [
        {
          "output_type": "stream",
          "text": [
            "INFO:tensorflow:Calling model_fn.\n"
          ],
          "name": "stdout"
        },
        {
          "output_type": "stream",
          "text": [
            "/usr/local/lib/python3.7/dist-packages/tensorflow/python/keras/engine/base_layer_v1.py:1727: UserWarning: `layer.add_variable` is deprecated and will be removed in a future version. Please use `layer.add_weight` method instead.\n",
            "  warnings.warn('`layer.add_variable` is deprecated and '\n"
          ],
          "name": "stderr"
        },
        {
          "output_type": "stream",
          "text": [
            "INFO:tensorflow:Done calling model_fn.\n",
            "INFO:tensorflow:Graph was finalized.\n",
            "INFO:tensorflow:Restoring parameters from /tmp/tmpt2ulr64j/model.ckpt-200\n",
            "INFO:tensorflow:Running local_init_op.\n",
            "INFO:tensorflow:Done running local_init_op.\n"
          ],
          "name": "stdout"
        },
        {
          "output_type": "execute_result",
          "data": {
            "text/plain": [
              "<matplotlib.axes._subplots.AxesSubplot at 0x7f280344efd0>"
            ]
          },
          "metadata": {
            "tags": []
          },
          "execution_count": 189
        },
        {
          "output_type": "display_data",
          "data": {
            "image/png": "[encoded data removed]",
            "text/plain": [
              "<Figure size 432x288 with 1 Axes>"
            ]
          },
          "metadata": {
            "tags": [],
            "needs_background": "light"
          }
        }
      ]
    },
    {
      "cell_type": "markdown",
      "metadata": {
        "id": "vrZSrdUsFSjz"
      },
      "source": [
        "### Cambiando el conjunto de entrenamiento\n",
        "\n",
        "Sabemos que uno de los factores más importantes en el entrenamiento de redes neuronales es la cantidad y calidad del conjunto de entrenamiento. ¿Es igual de importante en regresión lineal?\n",
        "\n",
        "Vamos a ver cuál sería el porcentaje de acierto de nuestro modelo si entrenamos con la mitad del conjunto de entrenamiento:"
      ]
    },
    {
      "cell_type": "code",
      "metadata": {
        "id": "2H3Z2k5ZOzPp"
      },
      "source": [
        "# First approach , manually splitting the dataset to the half, selecting by position\n",
        "half_dataset_x1 = dftrain.iloc[0:314]\n",
        "half_dataset_y1 = y_train.iloc[0:314]\n"
      ],
      "execution_count": 190,
      "outputs": []
    },
    {
      "cell_type": "code",
      "metadata": {
        "colab": {
          "base_uri": "https://localhost:8080/"
        },
        "id": "oHplODtWO15r",
        "outputId": "19be6d76-31e1-4b37-9906-cfa40c5b646c"
      },
      "source": [
        "half_dataset_x1.info()\n"
      ],
      "execution_count": 191,
      "outputs": [
        {
          "output_type": "stream",
          "text": [
            "<class 'pandas.core.frame.DataFrame'>\n",
            "RangeIndex: 314 entries, 0 to 313\n",
            "Data columns (total 9 columns):\n",
            " #   Column              Non-Null Count  Dtype  \n",
            "---  ------              --------------  -----  \n",
            " 0   sex                 314 non-null    object \n",
            " 1   age                 314 non-null    float64\n",
            " 2   n_siblings_spouses  314 non-null    int64  \n",
            " 3   parch               314 non-null    int64  \n",
            " 4   fare                314 non-null    float64\n",
            " 5   class               314 non-null    object \n",
            " 6   deck                314 non-null    object \n",
            " 7   embark_town         314 non-null    object \n",
            " 8   alone               314 non-null    object \n",
            "dtypes: float64(2), int64(2), object(5)\n",
            "memory usage: 22.2+ KB\n"
          ],
          "name": "stdout"
        }
      ]
    },
    {
      "cell_type": "code",
      "metadata": {
        "colab": {
          "base_uri": "https://localhost:8080/"
        },
        "id": "MOt7zRiiO5QQ",
        "outputId": "d51b86e5-7877-45d0-8404-e7b00fbd6f25"
      },
      "source": [
        "len(half_dataset_y1)"
      ],
      "execution_count": 192,
      "outputs": [
        {
          "output_type": "execute_result",
          "data": {
            "text/plain": [
              "314"
            ]
          },
          "metadata": {
            "tags": []
          },
          "execution_count": 192
        }
      ]
    },
    {
      "cell_type": "code",
      "metadata": {
        "id": "2vCNRAMSO7pM"
      },
      "source": [
        "# Second approach, using panda's sample function to split the dataset \n",
        "dftrain = pd.read_csv('https://storage.googleapis.com/tf-datasets/titanic/train.csv')\n",
        "\n",
        "half_dataset_x2 = dftrain.sample(frac=0.5,random_state=1)\n",
        "half_dataset_y2 = half_dataset_x2.pop('survived')"
      ],
      "execution_count": 193,
      "outputs": []
    },
    {
      "cell_type": "code",
      "metadata": {
        "colab": {
          "base_uri": "https://localhost:8080/"
        },
        "id": "P-R5tOoKPDWG",
        "outputId": "1f398c15-fb48-4b3e-d221-b6f2681b58d9"
      },
      "source": [
        "half_dataset_x2.info()"
      ],
      "execution_count": 194,
      "outputs": [
        {
          "output_type": "stream",
          "text": [
            "<class 'pandas.core.frame.DataFrame'>\n",
            "Int64Index: 314 entries, 301 to 577\n",
            "Data columns (total 9 columns):\n",
            " #   Column              Non-Null Count  Dtype  \n",
            "---  ------              --------------  -----  \n",
            " 0   sex                 314 non-null    object \n",
            " 1   age                 314 non-null    float64\n",
            " 2   n_siblings_spouses  314 non-null    int64  \n",
            " 3   parch               314 non-null    int64  \n",
            " 4   fare                314 non-null    float64\n",
            " 5   class               314 non-null    object \n",
            " 6   deck                314 non-null    object \n",
            " 7   embark_town         314 non-null    object \n",
            " 8   alone               314 non-null    object \n",
            "dtypes: float64(2), int64(2), object(5)\n",
            "memory usage: 24.5+ KB\n"
          ],
          "name": "stdout"
        }
      ]
    },
    {
      "cell_type": "code",
      "metadata": {
        "colab": {
          "base_uri": "https://localhost:8080/"
        },
        "id": "BLt6XSycPF89",
        "outputId": "0369c0c1-a7f7-4d1a-f62d-90a68532a9b3"
      },
      "source": [
        "len(half_dataset_y2)"
      ],
      "execution_count": 195,
      "outputs": [
        {
          "output_type": "execute_result",
          "data": {
            "text/plain": [
              "314"
            ]
          },
          "metadata": {
            "tags": []
          },
          "execution_count": 195
        }
      ]
    },
    {
      "cell_type": "code",
      "metadata": {
        "colab": {
          "base_uri": "https://localhost:8080/"
        },
        "id": "DZjAFrewFSjz",
        "outputId": "67ff589d-aa0a-4d62-8a05-c87d91f04247"
      },
      "source": [
        "# Accurary training with the half of the dataset (second approach)\n",
        "\n",
        "train_input_fn_half_x1 = make_input_fn(half_dataset_x1, half_dataset_y1)  # así llamamos a la función que se nos devuelve para extraer el objeto dataset que inyectaremos en el modelo\n",
        "eval_input_fn_half_x = make_input_fn(dfeval, y_eval, num_epochs=1, shuffle=False)\n",
        "\n",
        "# Creamos el modelo\n",
        "linear_est_half = tf.estimator.LinearClassifier(feature_columns=feature_columns)\n",
        "\n",
        "# Lo entrenamos\n",
        "linear_est_half.train(train_input_fn_half_x1)  # entrenamos el modelo\n",
        "result = linear_est_half.evaluate(eval_input_fn_half_x)  # obtenemos las estimaciones del conjunto de evaluación\n",
        "\n",
        "clear_output()  # limpiamos la consola\n",
        "print(result['accuracy'])  # la viariable result es un diccionario con los resultados de nuestro modelo"
      ],
      "execution_count": 196,
      "outputs": [
        {
          "output_type": "stream",
          "text": [
            "0.7462121\n"
          ],
          "name": "stdout"
        }
      ]
    },
    {
      "cell_type": "code",
      "metadata": {
        "colab": {
          "base_uri": "https://localhost:8080/",
          "height": 454
        },
        "id": "O3xkU_ThORHV",
        "outputId": "01d7a67a-070b-49a2-ab65-eb06769c2c34"
      },
      "source": [
        "# Predicted probabilities - Class 0 \n",
        "pred_dicts = list(linear_est.predict(train_input_fn_half_x1)) \n",
        "\n",
        "probs = pd.Series([pred['probabilities'][0] for pred in pred_dicts]) \n",
        "\n",
        "probs.plot(kind='hist', bins=20, title='predicted probabilities')"
      ],
      "execution_count": 197,
      "outputs": [
        {
          "output_type": "stream",
          "text": [
            "INFO:tensorflow:Calling model_fn.\n"
          ],
          "name": "stdout"
        },
        {
          "output_type": "stream",
          "text": [
            "/usr/local/lib/python3.7/dist-packages/tensorflow/python/keras/engine/base_layer_v1.py:1727: UserWarning: `layer.add_variable` is deprecated and will be removed in a future version. Please use `layer.add_weight` method instead.\n",
            "  warnings.warn('`layer.add_variable` is deprecated and '\n"
          ],
          "name": "stderr"
        },
        {
          "output_type": "stream",
          "text": [
            "INFO:tensorflow:Done calling model_fn.\n",
            "INFO:tensorflow:Graph was finalized.\n",
            "INFO:tensorflow:Restoring parameters from /tmp/tmpt2ulr64j/model.ckpt-200\n",
            "INFO:tensorflow:Running local_init_op.\n",
            "INFO:tensorflow:Done running local_init_op.\n"
          ],
          "name": "stdout"
        },
        {
          "output_type": "execute_result",
          "data": {
            "text/plain": [
              "<matplotlib.axes._subplots.AxesSubplot at 0x7f28032a1fd0>"
            ]
          },
          "metadata": {
            "tags": []
          },
          "execution_count": 197
        },
        {
          "output_type": "display_data",
          "data": {
            "image/png": "[encoded data removed]",
            "text/plain": [
              "<Figure size 432x288 with 1 Axes>"
            ]
          },
          "metadata": {
            "tags": [],
            "needs_background": "light"
          }
        }
      ]
    },
    {
      "cell_type": "code",
      "metadata": {
        "colab": {
          "base_uri": "https://localhost:8080/",
          "height": 454
        },
        "id": "qS3jat3RPimE",
        "outputId": "f18677d8-c333-4134-c0aa-98b7401612fe"
      },
      "source": [
        "# Predicted probabilities - Class 1 \n",
        "pred_dicts = list(linear_est.predict(train_input_fn_half_x1)) \n",
        "\n",
        "probs = pd.Series([pred['probabilities'][1] for pred in pred_dicts]) \n",
        "\n",
        "probs.plot(kind='hist', bins=20, title='predicted probabilities')"
      ],
      "execution_count": 198,
      "outputs": [
        {
          "output_type": "stream",
          "text": [
            "INFO:tensorflow:Calling model_fn.\n"
          ],
          "name": "stdout"
        },
        {
          "output_type": "stream",
          "text": [
            "/usr/local/lib/python3.7/dist-packages/tensorflow/python/keras/engine/base_layer_v1.py:1727: UserWarning: `layer.add_variable` is deprecated and will be removed in a future version. Please use `layer.add_weight` method instead.\n",
            "  warnings.warn('`layer.add_variable` is deprecated and '\n"
          ],
          "name": "stderr"
        },
        {
          "output_type": "stream",
          "text": [
            "INFO:tensorflow:Done calling model_fn.\n",
            "INFO:tensorflow:Graph was finalized.\n",
            "INFO:tensorflow:Restoring parameters from /tmp/tmpt2ulr64j/model.ckpt-200\n",
            "INFO:tensorflow:Running local_init_op.\n",
            "INFO:tensorflow:Done running local_init_op.\n"
          ],
          "name": "stdout"
        },
        {
          "output_type": "execute_result",
          "data": {
            "text/plain": [
              "<matplotlib.axes._subplots.AxesSubplot at 0x7f27c7671e10>"
            ]
          },
          "metadata": {
            "tags": []
          },
          "execution_count": 198
        },
        {
          "output_type": "display_data",
          "data": {
            "image/png": "[encoded data removed]",
            "text/plain": [
              "<Figure size 432x288 with 1 Axes>"
            ]
          },
          "metadata": {
            "tags": [],
            "needs_background": "light"
          }
        }
      ]
    },
    {
      "cell_type": "code",
      "metadata": {
        "colab": {
          "base_uri": "https://localhost:8080/",
          "height": 454
        },
        "id": "DpeJNsa_OYm5",
        "outputId": "d0c9e56c-ee4c-4bea-ad18-d926c678151d"
      },
      "source": [
        "pred_dicts = list(linear_est.predict(train_input_fn_half_x1)) \n",
        "\n",
        "probs = pd.Series([pred['probabilities'][1] for pred in pred_dicts]) \n",
        "\n",
        "probs.plot(kind='hist', bins=20, title='predicted probabilities')"
      ],
      "execution_count": 199,
      "outputs": [
        {
          "output_type": "stream",
          "text": [
            "INFO:tensorflow:Calling model_fn.\n"
          ],
          "name": "stdout"
        },
        {
          "output_type": "stream",
          "text": [
            "/usr/local/lib/python3.7/dist-packages/tensorflow/python/keras/engine/base_layer_v1.py:1727: UserWarning: `layer.add_variable` is deprecated and will be removed in a future version. Please use `layer.add_weight` method instead.\n",
            "  warnings.warn('`layer.add_variable` is deprecated and '\n"
          ],
          "name": "stderr"
        },
        {
          "output_type": "stream",
          "text": [
            "INFO:tensorflow:Done calling model_fn.\n",
            "INFO:tensorflow:Graph was finalized.\n",
            "INFO:tensorflow:Restoring parameters from /tmp/tmpt2ulr64j/model.ckpt-200\n",
            "INFO:tensorflow:Running local_init_op.\n",
            "INFO:tensorflow:Done running local_init_op.\n"
          ],
          "name": "stdout"
        },
        {
          "output_type": "execute_result",
          "data": {
            "text/plain": [
              "<matplotlib.axes._subplots.AxesSubplot at 0x7f27c77a5090>"
            ]
          },
          "metadata": {
            "tags": []
          },
          "execution_count": 199
        },
        {
          "output_type": "display_data",
          "data": {
            "image/png": "[encoded data removed]",
            "text/plain": [
              "<Figure size 432x288 with 1 Axes>"
            ]
          },
          "metadata": {
            "tags": [],
            "needs_background": "light"
          }
        }
      ]
    },
    {
      "cell_type": "markdown",
      "metadata": {
        "id": "RWK3XWkMFSjz"
      },
      "source": [
        "Y si entrenamos con una décima parte de en nuestro ejemplo original?"
      ]
    },
    {
      "cell_type": "code",
      "metadata": {
        "id": "9Oz19nKKFSjz"
      },
      "source": [
        "# Second approach, using panda's sample function to split the dataset \n",
        "dftrain = pd.read_csv('https://storage.googleapis.com/tf-datasets/titanic/train.csv')\n",
        "\n",
        "dec_dataset_x2 = dftrain.sample(frac=0.1,random_state=1)\n",
        "dec_dataset_y2 = dec_dataset_x2.pop('survived')"
      ],
      "execution_count": 200,
      "outputs": []
    },
    {
      "cell_type": "code",
      "metadata": {
        "colab": {
          "base_uri": "https://localhost:8080/"
        },
        "id": "DphV5NvLSau2",
        "outputId": "1324e2b0-a707-44d6-cb49-153554d8ea47"
      },
      "source": [
        "dec_dataset_x2.info()"
      ],
      "execution_count": 201,
      "outputs": [
        {
          "output_type": "stream",
          "text": [
            "<class 'pandas.core.frame.DataFrame'>\n",
            "Int64Index: 63 entries, 301 to 34\n",
            "Data columns (total 9 columns):\n",
            " #   Column              Non-Null Count  Dtype  \n",
            "---  ------              --------------  -----  \n",
            " 0   sex                 63 non-null     object \n",
            " 1   age                 63 non-null     float64\n",
            " 2   n_siblings_spouses  63 non-null     int64  \n",
            " 3   parch               63 non-null     int64  \n",
            " 4   fare                63 non-null     float64\n",
            " 5   class               63 non-null     object \n",
            " 6   deck                63 non-null     object \n",
            " 7   embark_town         63 non-null     object \n",
            " 8   alone               63 non-null     object \n",
            "dtypes: float64(2), int64(2), object(5)\n",
            "memory usage: 4.9+ KB\n"
          ],
          "name": "stdout"
        }
      ]
    },
    {
      "cell_type": "code",
      "metadata": {
        "colab": {
          "base_uri": "https://localhost:8080/"
        },
        "id": "nsE_qaDJSf4Q",
        "outputId": "c5581ee5-f53d-4c7d-9d3e-e3880bd3d91c"
      },
      "source": [
        "len(dec_dataset_y2)"
      ],
      "execution_count": 202,
      "outputs": [
        {
          "output_type": "execute_result",
          "data": {
            "text/plain": [
              "63"
            ]
          },
          "metadata": {
            "tags": []
          },
          "execution_count": 202
        }
      ]
    },
    {
      "cell_type": "code",
      "metadata": {
        "colab": {
          "base_uri": "https://localhost:8080/"
        },
        "id": "y6DeQ13EJt6L",
        "outputId": "c4f670cb-4347-46c1-def7-e466a7966c3f"
      },
      "source": [
        "train_input_fn_dec = make_input_fn(dec_dataset_x2,dec_dataset_y2 )  # así llamamos a la función que se nos devuelve para extraer el objeto dataset que inyectaremos en el modelo\n",
        "eval_input_fn_dec = make_input_fn(dfeval, y_eval, num_epochs=1, shuffle=False)\n",
        "\n",
        "\n",
        "# Creamos el modelo\n",
        "linear_est_dec = tf.estimator.LinearClassifier(feature_columns=feature_columns)\n",
        "\n",
        "# Lo entrenamos\n",
        "linear_est_dec.train(train_input_fn_dec)  # entrenamos el modelo\n",
        "result = linear_est_dec.evaluate(eval_input_fn_dec)  # obtenemos las estimaciones del conjunto de evaluación\n",
        "\n",
        "#clear_output()  # limpiamos la consola\n",
        "print(result['accuracy']) "
      ],
      "execution_count": 203,
      "outputs": [
        {
          "output_type": "stream",
          "text": [
            "INFO:tensorflow:Using default config.\n",
            "WARNING:tensorflow:Using temporary folder as model directory: /tmp/tmpmp6mf6tu\n",
            "INFO:tensorflow:Using config: {'_model_dir': '/tmp/tmpmp6mf6tu', '_tf_random_seed': None, '_save_summary_steps': 100, '_save_checkpoints_steps': None, '_save_checkpoints_secs': 600, '_session_config': allow_soft_placement: true\n",
            "graph_options {\n",
            "  rewrite_options {\n",
            "    meta_optimizer_iterations: ONE\n",
            "  }\n",
            "}\n",
            ", '_keep_checkpoint_max': 5, '_keep_checkpoint_every_n_hours': 10000, '_log_step_count_steps': 100, '_train_distribute': None, '_device_fn': None, '_protocol': None, '_eval_distribute': None, '_experimental_distribute': None, '_experimental_max_worker_delay_secs': None, '_session_creation_timeout_secs': 7200, '_checkpoint_save_graph_def': True, '_service': None, '_cluster_spec': ClusterSpec({}), '_task_type': 'worker', '_task_id': 0, '_global_id_in_cluster': 0, '_master': '', '_evaluation_master': '', '_is_chief': True, '_num_ps_replicas': 0, '_num_worker_replicas': 1}\n",
            "INFO:tensorflow:Calling model_fn.\n"
          ],
          "name": "stdout"
        },
        {
          "output_type": "stream",
          "text": [
            "/usr/local/lib/python3.7/dist-packages/tensorflow/python/keras/engine/base_layer_v1.py:1727: UserWarning: `layer.add_variable` is deprecated and will be removed in a future version. Please use `layer.add_weight` method instead.\n",
            "  warnings.warn('`layer.add_variable` is deprecated and '\n"
          ],
          "name": "stderr"
        },
        {
          "output_type": "stream",
          "text": [
            "INFO:tensorflow:Done calling model_fn.\n",
            "INFO:tensorflow:Create CheckpointSaverHook.\n",
            "INFO:tensorflow:Graph was finalized.\n",
            "INFO:tensorflow:Running local_init_op.\n",
            "INFO:tensorflow:Done running local_init_op.\n",
            "INFO:tensorflow:Calling checkpoint listeners before saving checkpoint 0...\n",
            "INFO:tensorflow:Saving checkpoints for 0 into /tmp/tmpmp6mf6tu/model.ckpt.\n",
            "INFO:tensorflow:Calling checkpoint listeners after saving checkpoint 0...\n",
            "INFO:tensorflow:loss = 0.6931472, step = 0\n",
            "INFO:tensorflow:Calling checkpoint listeners before saving checkpoint 20...\n",
            "INFO:tensorflow:Saving checkpoints for 20 into /tmp/tmpmp6mf6tu/model.ckpt.\n",
            "INFO:tensorflow:Calling checkpoint listeners after saving checkpoint 20...\n",
            "INFO:tensorflow:Loss for final step: 0.73823446.\n",
            "INFO:tensorflow:Calling model_fn.\n",
            "INFO:tensorflow:Done calling model_fn.\n",
            "INFO:tensorflow:Starting evaluation at 2021-04-16T08:55:44Z\n",
            "INFO:tensorflow:Graph was finalized.\n",
            "INFO:tensorflow:Restoring parameters from /tmp/tmpmp6mf6tu/model.ckpt-20\n",
            "INFO:tensorflow:Running local_init_op.\n",
            "INFO:tensorflow:Done running local_init_op.\n",
            "INFO:tensorflow:Inference Time : 0.75385s\n",
            "INFO:tensorflow:Finished evaluation at 2021-04-16-08:55:45\n",
            "INFO:tensorflow:Saving dict for global step 20: accuracy = 0.70075756, accuracy_baseline = 0.625, auc = 0.7607592, auc_precision_recall = 0.64190024, average_loss = 0.58475983, global_step = 20, label/mean = 0.375, loss = 0.5838462, precision = 0.67241377, prediction/mean = 0.30205572, recall = 0.3939394\n",
            "INFO:tensorflow:Saving 'checkpoint_path' summary for global step 20: /tmp/tmpmp6mf6tu/model.ckpt-20\n",
            "0.70075756\n"
          ],
          "name": "stdout"
        }
      ]
    },
    {
      "cell_type": "code",
      "metadata": {
        "colab": {
          "base_uri": "https://localhost:8080/",
          "height": 454
        },
        "id": "XEcwYqypKKvk",
        "outputId": "46d64e5f-ba31-4b7a-fcee-1bc0050c83e4"
      },
      "source": [
        "pred_dicts = list(linear_est.predict(train_input_fn_dec)) \n",
        "\n",
        "probs = pd.Series([pred['probabilities'][0] for pred in pred_dicts]) \n",
        "\n",
        "probs.plot(kind='hist', bins=20, title='predicted probabilities')"
      ],
      "execution_count": 204,
      "outputs": [
        {
          "output_type": "stream",
          "text": [
            "INFO:tensorflow:Calling model_fn.\n"
          ],
          "name": "stdout"
        },
        {
          "output_type": "stream",
          "text": [
            "/usr/local/lib/python3.7/dist-packages/tensorflow/python/keras/engine/base_layer_v1.py:1727: UserWarning: `layer.add_variable` is deprecated and will be removed in a future version. Please use `layer.add_weight` method instead.\n",
            "  warnings.warn('`layer.add_variable` is deprecated and '\n"
          ],
          "name": "stderr"
        },
        {
          "output_type": "stream",
          "text": [
            "INFO:tensorflow:Done calling model_fn.\n",
            "INFO:tensorflow:Graph was finalized.\n",
            "INFO:tensorflow:Restoring parameters from /tmp/tmpt2ulr64j/model.ckpt-200\n",
            "INFO:tensorflow:Running local_init_op.\n",
            "INFO:tensorflow:Done running local_init_op.\n"
          ],
          "name": "stdout"
        },
        {
          "output_type": "execute_result",
          "data": {
            "text/plain": [
              "<matplotlib.axes._subplots.AxesSubplot at 0x7f27e35fbbd0>"
            ]
          },
          "metadata": {
            "tags": []
          },
          "execution_count": 204
        },
        {
          "output_type": "display_data",
          "data": {
            "image/png": "[encoded data removed]",
            "text/plain": [
              "<Figure size 432x288 with 1 Axes>"
            ]
          },
          "metadata": {
            "tags": [],
            "needs_background": "light"
          }
        }
      ]
    },
    {
      "cell_type": "code",
      "metadata": {
        "colab": {
          "base_uri": "https://localhost:8080/",
          "height": 454
        },
        "id": "77WvM90erBiU",
        "outputId": "bccb9db3-e2cc-4182-da7a-3b1c34925adf"
      },
      "source": [
        "pred_dicts = list(linear_est.predict(train_input_fn_dec)) \n",
        "\n",
        "probs = pd.Series([pred['probabilities'][1] for pred in pred_dicts]) \n",
        "\n",
        "probs.plot(kind='hist', bins=20, title='predicted probabilities')"
      ],
      "execution_count": 205,
      "outputs": [
        {
          "output_type": "stream",
          "text": [
            "INFO:tensorflow:Calling model_fn.\n"
          ],
          "name": "stdout"
        },
        {
          "output_type": "stream",
          "text": [
            "/usr/local/lib/python3.7/dist-packages/tensorflow/python/keras/engine/base_layer_v1.py:1727: UserWarning: `layer.add_variable` is deprecated and will be removed in a future version. Please use `layer.add_weight` method instead.\n",
            "  warnings.warn('`layer.add_variable` is deprecated and '\n"
          ],
          "name": "stderr"
        },
        {
          "output_type": "stream",
          "text": [
            "INFO:tensorflow:Done calling model_fn.\n",
            "INFO:tensorflow:Graph was finalized.\n",
            "INFO:tensorflow:Restoring parameters from /tmp/tmpt2ulr64j/model.ckpt-200\n",
            "INFO:tensorflow:Running local_init_op.\n",
            "INFO:tensorflow:Done running local_init_op.\n"
          ],
          "name": "stdout"
        },
        {
          "output_type": "execute_result",
          "data": {
            "text/plain": [
              "<matplotlib.axes._subplots.AxesSubplot at 0x7f27d9e9cb10>"
            ]
          },
          "metadata": {
            "tags": []
          },
          "execution_count": 205
        },
        {
          "output_type": "display_data",
          "data": {
            "image/png": "[encoded data removed]",
            "text/plain": [
              "<Figure size 432x288 with 1 Axes>"
            ]
          },
          "metadata": {
            "tags": [],
            "needs_background": "light"
          }
        }
      ]
    },
    {
      "cell_type": "markdown",
      "metadata": {
        "id": "L5Ra8ZffFSj0"
      },
      "source": [
        "Por último, vamos a mostrar también el accuracy que tenemos sobre el conjunto de datos de entrenamiento (podemos utilizar cualquiera de los modelos que acabamos de entrenar)\n"
      ]
    },
    {
      "cell_type": "code",
      "metadata": {
        "id": "X20PfPdiFSj0"
      },
      "source": [
        ""
      ],
      "execution_count": 205,
      "outputs": []
    },
    {
      "cell_type": "markdown",
      "metadata": {
        "id": "VTGXGLmpFSj0"
      },
      "source": [
        "### Conclusiones:\n",
        " \n",
        "¿Hay mucha diferencia entre el entrenamiento original y el que hemos realizado con datos diezmados? ¿Por qué?"
      ]
    },
    {
      "cell_type": "code",
      "metadata": {
        "id": "mqh9huYYFSj0"
      },
      "source": [
        "\n",
        "\n",
        "                                                                "
      ],
      "execution_count": 206,
      "outputs": []
    },
    {
      "cell_type": "markdown",
      "metadata": {
        "id": "OgToR_qDFSj0"
      },
      "source": [
        "## Regresión\n",
        "\n",
        "### Punto de partida\n",
        "\n",
        "El punto de partida se corresponde con el código que hemos visto en el worksheet:"
      ]
    },
    {
      "cell_type": "code",
      "metadata": {
        "colab": {
          "base_uri": "https://localhost:8080/"
        },
        "id": "vSflXZuOFSj1",
        "outputId": "f78769ad-4890-404b-c3b7-6c7461538855"
      },
      "source": [
        "CSV_COLUMN_NAMES = ['SepalLength', 'SepalWidth', 'PetalLength', 'PetalWidth', 'Species']\n",
        "SPECIES = ['Setosa', 'Versicolor', 'Virginica']\n",
        "\n",
        "train_path = tf.keras.utils.get_file(\n",
        "    \"iris_training.csv\", \"https://storage.googleapis.com/download.tensorflow.org/data/iris_training.csv\")\n",
        "test_path = tf.keras.utils.get_file(\n",
        "    \"iris_test.csv\", \"https://storage.googleapis.com/download.tensorflow.org/data/iris_test.csv\")\n",
        "\n",
        "train = pd.read_csv(train_path, names=CSV_COLUMN_NAMES, header=0)\n",
        "test = pd.read_csv(test_path, names=CSV_COLUMN_NAMES, header=0)\n",
        "train_y = train.pop('Species')\n",
        "test_y = test.pop('Species')\n",
        "\n",
        "def input_fn(features, labels, training=True, batch_size=256):\n",
        "    # Convertimos los datos al tipo dataset.\n",
        "    dataset = tf.data.Dataset.from_tensor_slices((dict(features), labels))\n",
        "\n",
        "    # Aleatorizamos y seleccionamos los datos si estamos en modo train.\n",
        "    if training:\n",
        "        dataset = dataset.shuffle(1000).repeat()\n",
        "    \n",
        "    return dataset.batch(batch_size)\n",
        "\n",
        "# Feature columns describe cómo se utilizan las feature columns\n",
        "my_feature_columns = []\n",
        "for key in train.keys():\n",
        "    my_feature_columns.append(tf.feature_column.numeric_column(key=key))\n",
        "print(my_feature_columns)\n",
        "\n",
        "# Definimos una DNN con 2 capas ocultas con 30 y 10 nodos ocultos cada una.\n",
        "classifier = tf.estimator.DNNClassifier(\n",
        "    feature_columns=my_feature_columns,\n",
        "    # Dos capas ocultas de 30 y 10 nodos respectivamente\n",
        "    hidden_units=[10,10,10],\n",
        "    # El modelo debe poder distinguir entre 3 clases\n",
        "    n_classes=3)\n",
        "\n",
        "classifier.train(\n",
        "    input_fn=lambda: input_fn(train, train_y, training=True),\n",
        "    steps=5000)\n",
        "# Hemos definido lambda para evitar crear una función previamente (los detalles de implementación no son importantes ahora)\n",
        "\n",
        "\n",
        "eval_result = classifier.evaluate(\n",
        "    input_fn=lambda: input_fn(test, test_y, training=False))\n",
        "clear_output()\n",
        "print('\\nTest set accuracy: {accuracy:0.3f}\\n'.format(**eval_result))\n",
        "\n",
        "\n",
        "\n"
      ],
      "execution_count": 207,
      "outputs": [
        {
          "output_type": "stream",
          "text": [
            "\n",
            "Test set accuracy: 0.900\n",
            "\n"
          ],
          "name": "stdout"
        }
      ]
    },
    {
      "cell_type": "markdown",
      "metadata": {
        "id": "baneCPRcFSj1"
      },
      "source": [
        "### Ajustando los parámetros del entrenamiento\n",
        "\n",
        "Como sabemos, el número de capas y neuronas ocultas es un número arbitrario y necesitamos de muchos experimentos y test para poder determinar la mejor elección de estos valores.\n",
        "\n",
        "Vamos a probar en las siguientes celdas a probar las siguientes arquitecturas:\n",
        "\n",
        "- 1 capa oculta de 10 neuronas\n",
        "- 1 capa oculta de 50 neuronas\n",
        "- 2 capas ocultas de 30 y 10 neuronas respectivamente\n",
        "- 3 capas ocultas de 30, 20 y 10 neuronas respectivamente.\n",
        "- 5 capas ocultas de 30, 20, 10, 10 y 10 neuronas respectivamente.\n"
      ]
    },
    {
      "cell_type": "code",
      "metadata": {
        "colab": {
          "base_uri": "https://localhost:8080/"
        },
        "id": "XAH-dWumFSj2",
        "outputId": "e88e84a5-d5ae-4b04-c4a7-3b4eb5f33791"
      },
      "source": [
        "# 1 capa oculta de 10 neuronas\n",
        "classifier = tf.estimator.DNNClassifier(\n",
        "    feature_columns=my_feature_columns,\n",
        "    # Dos capas ocultas de 30 y 10 nodos respectivamente\n",
        "    hidden_units=[10],\n",
        "    # El modelo debe poder distinguir entre 3 clases\n",
        "    n_classes=3)\n",
        "\n",
        "classifier.train(\n",
        "    input_fn=lambda: input_fn(train, train_y, training=True),\n",
        "    steps=5000)\n",
        "# Hemos definido lambda para evitar crear una función previamente (los detalles de implementación no son importantes ahora)\n",
        "\n",
        "\n",
        "eval_result = classifier.evaluate(\n",
        "    input_fn=lambda: input_fn(test, test_y, training=False))\n",
        "clear_output()\n",
        "print('\\nTest set accuracy: {accuracy:0.3f}\\n'.format(**eval_result))\n"
      ],
      "execution_count": 208,
      "outputs": [
        {
          "output_type": "stream",
          "text": [
            "\n",
            "Test set accuracy: 0.800\n",
            "\n"
          ],
          "name": "stdout"
        }
      ]
    },
    {
      "cell_type": "code",
      "metadata": {
        "colab": {
          "base_uri": "https://localhost:8080/"
        },
        "id": "oXowv3RrFSj2",
        "outputId": "ddbd7fcb-3d4b-4dd8-87d7-8a31cf38d16d"
      },
      "source": [
        "# 1 capa oculta de 50 neuronas\n",
        "classifier = tf.estimator.DNNClassifier(\n",
        "    feature_columns=my_feature_columns,\n",
        "    # Dos capas ocultas de 30 y 10 nodos respectivamente\n",
        "    hidden_units=[50],\n",
        "    # El modelo debe poder distinguir entre 3 clases\n",
        "    n_classes=3)\n",
        "\n",
        "classifier.train(\n",
        "    input_fn=lambda: input_fn(train, train_y, training=True),\n",
        "    steps=5000)\n",
        "# Hemos definido lambda para evitar crear una función previamente (los detalles de implementación no son importantes ahora)\n",
        "\n",
        "\n",
        "eval_result = classifier.evaluate(\n",
        "    input_fn=lambda: input_fn(test, test_y, training=False))\n",
        "clear_output()\n",
        "print('\\nTest set accuracy: {accuracy:0.3f}\\n'.format(**eval_result))\n"
      ],
      "execution_count": 209,
      "outputs": [
        {
          "output_type": "stream",
          "text": [
            "\n",
            "Test set accuracy: 0.800\n",
            "\n"
          ],
          "name": "stdout"
        }
      ]
    },
    {
      "cell_type": "code",
      "metadata": {
        "colab": {
          "base_uri": "https://localhost:8080/"
        },
        "id": "QGpJDISQFSj2",
        "outputId": "bcdf2786-3b6b-4574-a963-d430913c98af"
      },
      "source": [
        "# 2 capas ocultas de 30 y 10 neuronas respectivamente\n",
        "classifier = tf.estimator.DNNClassifier(\n",
        "    feature_columns=my_feature_columns,\n",
        "    # Dos capas ocultas de 30 y 10 nodos respectivamente\n",
        "    hidden_units=[40,10],\n",
        "    # El modelo debe poder distinguir entre 3 clases\n",
        "    n_classes=3)\n",
        "\n",
        "classifier.train(\n",
        "    input_fn=lambda: input_fn(train, train_y, training=True),\n",
        "    steps=5000)\n",
        "# Hemos definido lambda para evitar crear una función previamente (los detalles de implementación no son importantes ahora)\n",
        "\n",
        "\n",
        "eval_result = classifier.evaluate(\n",
        "    input_fn=lambda: input_fn(test, test_y, training=False))\n",
        "clear_output()\n",
        "print('\\nTest set accuracy: {accuracy:0.3f}\\n'.format(**eval_result))"
      ],
      "execution_count": 210,
      "outputs": [
        {
          "output_type": "stream",
          "text": [
            "\n",
            "Test set accuracy: 0.967\n",
            "\n"
          ],
          "name": "stdout"
        }
      ]
    },
    {
      "cell_type": "code",
      "metadata": {
        "colab": {
          "base_uri": "https://localhost:8080/"
        },
        "id": "kePeRKRUFSj2",
        "outputId": "5c7e1563-b76d-43cc-f2e0-877bd1e96aae"
      },
      "source": [
        "#3 capas ocultas de 30, 20 y 10 neuronas respectivamente.\n",
        "classifier = tf.estimator.DNNClassifier(\n",
        "    feature_columns=my_feature_columns,\n",
        "    # Dos capas ocultas de 30 y 10 nodos respectivamente\n",
        "    hidden_units=[30,20,10],\n",
        "    # El modelo debe poder distinguir entre 3 clases\n",
        "    n_classes=3)\n",
        "\n",
        "classifier.train(\n",
        "    input_fn=lambda: input_fn(train, train_y, training=True),\n",
        "    steps=5000)\n",
        "# Hemos definido lambda para evitar crear una función previamente (los detalles de implementación no son importantes ahora)\n",
        "\n",
        "\n",
        "eval_result = classifier.evaluate(\n",
        "    input_fn=lambda: input_fn(test, test_y, training=False))\n",
        "clear_output()\n",
        "print('\\nTest set accuracy: {accuracy:0.3f}\\n'.format(**eval_result))"
      ],
      "execution_count": 211,
      "outputs": [
        {
          "output_type": "stream",
          "text": [
            "\n",
            "Test set accuracy: 0.967\n",
            "\n"
          ],
          "name": "stdout"
        }
      ]
    },
    {
      "cell_type": "code",
      "metadata": {
        "colab": {
          "base_uri": "https://localhost:8080/"
        },
        "id": "wqezDp22FSj2",
        "outputId": "248e0fc4-6fa9-457a-adb9-8a52c3310b79"
      },
      "source": [
        "#5 capas ocultas de 30, 20, 10, 10 y 10 neuronas respectivamente.\n",
        "classifier = tf.estimator.DNNClassifier(\n",
        "    feature_columns=my_feature_columns,\n",
        "    # Dos capas ocultas de 30 y 10 nodos respectivamente\n",
        "    hidden_units=[30,20,10,10,10],\n",
        "    # El modelo debe poder distinguir entre 3 clases\n",
        "    n_classes=3)\n",
        "\n",
        "classifier.train(\n",
        "    input_fn=lambda: input_fn(train, train_y, training=True),\n",
        "    steps=5000)\n",
        "# Hemos definido lambda para evitar crear una función previamente (los detalles de implementación no son importantes ahora)\n",
        "\n",
        "\n",
        "eval_result = classifier.evaluate(\n",
        "    input_fn=lambda: input_fn(test, test_y, training=False))\n",
        "clear_output()\n",
        "print('\\nTest set accuracy: {accuracy:0.3f}\\n'.format(**eval_result))"
      ],
      "execution_count": 212,
      "outputs": [
        {
          "output_type": "stream",
          "text": [
            "\n",
            "Test set accuracy: 0.733\n",
            "\n"
          ],
          "name": "stdout"
        }
      ]
    },
    {
      "cell_type": "markdown",
      "metadata": {
        "id": "D7x7VrbLFSj3"
      },
      "source": [
        "### Conclusiones\n",
        "\n",
        "¿Qué idea básica extraes de los experimentos?\n",
        "\n",
        "¿Mejora siempre la red al aumentar su tamaño y/o profundidad?\n"
      ]
    },
    {
      "cell_type": "code",
      "metadata": {
        "id": "0pFr9xj6FSj3"
      },
      "source": [
        "# Con una sola capa, si aumentamos ancho, mejora la red, en este caso con un valor de anchura de 70 neuronas alcazmos un accuracy de 0.9. \n",
        "# Si aumentamos profundidad y solo el ancho de la capa de entrada , pero por debajo de un valor que mejore el primer experimento, la red  .\n",
        "# Si aumentamos profundidad y ancho de las primeras capas , mejora el accuracy de la red.\n",
        "# No siempre mejora la red al aumentar la profundidad. Una sola capa de 50 es mejor que tres de 10.\n",
        "# Siempre mejora al aumentar el ancho (hasta cierto punto). Parece que aumentando la anchura , se aprenden mejor las relaciones lineales\n",
        "# y que la profundidad funcionara mejor en relaciones no lineales."
      ],
      "execution_count": 213,
      "outputs": []
    }
  ]
}