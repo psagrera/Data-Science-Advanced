{
 "cells": [
  {
   "cell_type": "markdown",
   "metadata": {},
   "source": [
    "<img src=\"mioti.png\" style=\"height: 100px\">\n",
    "<center style=\"color:#888\">Módulo Data Science in IoT<br/>Asignatura Deep Learning</center>\n",
    "\n",
    "# Worksheet S1: Introducción a TensorFlow 2.0"
   ]
  },
  {
   "cell_type": "markdown",
   "metadata": {},
   "source": [
    "## Objetivos\n",
    "\n",
    "El objetivo de este worksheet es comprender el funcionamiento básico de TensorFlow. TensorFlow es una libreria especializada en Machine Learning desarrollada por Google que se ha estandarizado tanto en el entorno empresarial como en el investigador. A lo largo de este worksheet vamos a asimilar los siguientes conceptos:\n",
    "- Instalación y configuración de TensorFlow\n",
    "- Representación de Tensores\n",
    "- Rango y forma de los Tensores\n",
    "- Tipos de Tensores en TensorFlow\n",
    "\n",
    "## Introducción\n",
    "\n",
    "TensorFlow es una librería muy completa que cubre todo el espectro de la inteligencia artificial, con especial énfasis en las redes neuronales. TensorFlow nace en 2015, y rápidamente se extiende en las universidades como la herramienta más potente para investigar redes neuronales profundas. Sin embargo, en las empresas, TensorFlow se combinaba con Keras, una librería de más alto nivel que simplificaba el desarrollo de proyectos basados en Deep Learning. En Septiembre de 2019, Google liberó TensorFlow 2.0, tras una modificación completa de la librería que combina lo mejor de TensorFlow y de Keras de forma nativa."
   ]
  },
  {
   "cell_type": "markdown",
   "metadata": {},
   "source": [
    "## Instalación de TensorFlow\n",
    "\n",
    "### Google Colab\n",
    "\n",
    "Para el desarrollo de nuestras prácticas utilizaremos Google Colab, ya que nos va a permitir desarrollar ejecutar nuestras redes en una máquina mucho más potente facilitando el aprendizaje. Google Colab ya tiene instalado TensorFlow por defecto en su entorno de desarrollo.\n",
    "\n",
    "### Instalación de TensorFlow en nuestra máquina local\n",
    "\n",
    "La forma más sencilla de instalar TensorFlow en nuestra máquina local es mediante la utilización de PIP."
   ]
  },
  {
   "cell_type": "code",
   "execution_count": 1,
   "metadata": {},
   "outputs": [],
   "source": [
    "# $ pip install tensorflow"
   ]
  },
  {
   "cell_type": "markdown",
   "metadata": {},
   "source": [
    "En caso de que tengamos un sistema con una GPU capaz de correr código CUDA instalaremos la siguiente versión:"
   ]
  },
  {
   "cell_type": "code",
   "execution_count": 2,
   "metadata": {},
   "outputs": [],
   "source": [
    "# $ pip install tensorflow-gpu"
   ]
  },
  {
   "cell_type": "markdown",
   "metadata": {},
   "source": [
    "Si utilizamos anaconda, para esta asignatura lo mejor será crear un nuevo environment e instalar:\n",
    "\n",
    "- Tensorflow version 2\n",
    "- Pandas\n",
    "- Matplotlib"
   ]
  },
  {
   "cell_type": "markdown",
   "metadata": {},
   "source": [
    "## Importing TensorFlow\n",
    "\n",
    "Lo primero que tenemos que hacer para trabajar con tensorflow es importarlo. Esto permitirá a nuestra terminal python acceder a todas las clases, métodos y símbolos de TensorFlow. Normalmente se importa con el sobrenombre tf para hacer las instrucciones más cortas, de la siguiente forma:"
   ]
  },
  {
   "cell_type": "code",
   "execution_count": 3,
   "metadata": {},
   "outputs": [],
   "source": [
    "# %tensorflow_version 2.x # esta linea no es necesaria si estás fuera de colab"
   ]
  },
  {
   "cell_type": "code",
   "execution_count": 4,
   "metadata": {},
   "outputs": [
    {
     "name": "stdout",
     "output_type": "stream",
     "text": [
      "2.0.0\n"
     ]
    }
   ],
   "source": [
    "import tensorflow as tf  # importamos tensorflow\n",
    "print(tf.__version__) # nos aseguramos de estar usando la segunda versión"
   ]
  },
  {
   "cell_type": "markdown",
   "metadata": {},
   "source": [
    "## Tensores\n",
    "\n",
    "El tensor es la unidad básica de datos en TensorFlow. Un tensor es una generalización de vectores o matrices para cualquier dimensionalidad. Es decir, un tensor es un array con n dimensiones. Los tensores son el objeto principal que se manipula y transmite a lo largo de un programa en tensorflow. Cada tensor, representa una operación o unos datos que en algún momento producirán un valor.\n",
    "\n",
    "El código en TensorFlow funciona construyendo un grafo de tensores se relacionan entre si formando nuestros modelos.\n",
    "\n",
    "Cada tensor tiene un \"data type\", como por ejemplo float32, int32 o string.\n",
    "\n",
    "Al igual que sucede con los vectores o las matrices, los tensores pueden ser objeto de operaciones como la suma, la resta, el producto, etc.\n",
    "\n",
    "A continuación vamos a ver cómo se representan y manipulan los tensores.\n",
    "\n",
    "### Definiendo Tensores\n",
    "\n",
    "Vamos a ver ejemplos de definición de distintos tensore.\n",
    "\n",
    "Símplemente tenemos que definir el valor del tensor y su tipo. Normalmente trabajaremos con tensores numéricos."
   ]
  },
  {
   "cell_type": "code",
   "execution_count": 5,
   "metadata": {},
   "outputs": [],
   "source": [
    "string = tf.Variable(\"tensor de tipo string\", tf.string) \n",
    "number = tf.Variable(254, tf.int16)\n",
    "floating = tf.Variable(3.657, tf.float64)\n",
    "t1 = 3"
   ]
  },
  {
   "cell_type": "markdown",
   "metadata": {},
   "source": [
    "### Rango de un Tensor\n",
    "\n",
    "El rango de un tensor es sú número de dimensiones. En inglés se define utilizando \"rank\" o \"degree\". Todos los tensores que hemos creado previamente son tensores de rango 0, es decir, escalares.\n",
    "\n",
    "Vamos a ver tensores de un rango superior:"
   ]
  },
  {
   "cell_type": "code",
   "execution_count": 6,
   "metadata": {
    "scrolled": true
   },
   "outputs": [],
   "source": [
    "rank1_tensor = tf.Variable([\"string1\"], tf.string) \n",
    "rank2_tensor = tf.Variable([[\"ok\", \"test\"], [\"yes\", \"test\"]], tf.string)\n",
    "t2 = [1., 2., 3.]\n",
    "t3 = [[1., 2., 3.], [4., 5., 6.]]"
   ]
  },
  {
   "cell_type": "markdown",
   "metadata": {},
   "source": [
    "Para determinar el rango de un tensor podemos utilizar la función tf.rank():"
   ]
  },
  {
   "cell_type": "code",
   "execution_count": 1,
   "metadata": {},
   "outputs": [
    {
     "ename": "NameError",
     "evalue": "name 'tf' is not defined",
     "output_type": "error",
     "traceback": [
      "\u001b[0;31m---------------------------------------------------------------------------\u001b[0m",
      "\u001b[0;31mNameError\u001b[0m                                 Traceback (most recent call last)",
      "\u001b[0;32m<ipython-input-1-14e5973e69ec>\u001b[0m in \u001b[0;36m<module>\u001b[0;34m\u001b[0m\n\u001b[0;32m----> 1\u001b[0;31m \u001b[0mprint\u001b[0m\u001b[0;34m(\u001b[0m\u001b[0mtf\u001b[0m\u001b[0;34m.\u001b[0m\u001b[0mrank\u001b[0m\u001b[0;34m(\u001b[0m\u001b[0mrank2_tensor\u001b[0m\u001b[0;34m)\u001b[0m\u001b[0;34m)\u001b[0m\u001b[0;34m\u001b[0m\u001b[0;34m\u001b[0m\u001b[0m\n\u001b[0m",
      "\u001b[0;31mNameError\u001b[0m: name 'tf' is not defined"
     ]
    }
   ],
   "source": [
    "print(tf.rank(rank2_tensor))"
   ]
  },
  {
   "cell_type": "markdown",
   "metadata": {},
   "source": [
    "### Shape de un tensor\n",
    "\n",
    "Los tensores, además de tener un rango, tienen también unas dimensiones, que podemos ver con la función tensor.shape"
   ]
  },
  {
   "cell_type": "code",
   "execution_count": 8,
   "metadata": {},
   "outputs": [
    {
     "data": {
      "text/plain": [
       "TensorShape([2, 2])"
      ]
     },
     "execution_count": 8,
     "metadata": {},
     "output_type": "execute_result"
    }
   ],
   "source": [
    "rank2_tensor.shape"
   ]
  },
  {
   "cell_type": "markdown",
   "metadata": {},
   "source": [
    "Los tensores pueden cambiar de dimensionalidad utilizando la función tf.reshape de forma similar a lo que hemos visto con el paquete numpy:"
   ]
  },
  {
   "cell_type": "code",
   "execution_count": 9,
   "metadata": {},
   "outputs": [],
   "source": [
    "tensor1 = tf.ones([1,2,3])  # tf.ones() crea un tensor de tamaño [1,2,3] lleno de unos\n",
    "tensor2 = tf.reshape(tensor1, [2,3,1])  # hace un reshape a [2,3,1]\n",
    "tensor3 = tf.reshape(tensor2, [3, -1])  # -1 es un comodín que deja espacio a tf para que calcule la dimensión por si mismo\n",
    "            "
   ]
  },
  {
   "cell_type": "markdown",
   "metadata": {},
   "source": [
    "El número de elementos al hacer un reshape tiene que ser el mismo que el original, de lo contrario fallará\n",
    "\n",
    "Vamos a ver cómo han quedado nuestros tensores"
   ]
  },
  {
   "cell_type": "code",
   "execution_count": 10,
   "metadata": {},
   "outputs": [
    {
     "name": "stdout",
     "output_type": "stream",
     "text": [
      "tf.Tensor(\n",
      "[[[1. 1. 1.]\n",
      "  [1. 1. 1.]]], shape=(1, 2, 3), dtype=float32)\n",
      "tf.Tensor(\n",
      "[[[1.]\n",
      "  [1.]\n",
      "  [1.]]\n",
      "\n",
      " [[1.]\n",
      "  [1.]\n",
      "  [1.]]], shape=(2, 3, 1), dtype=float32)\n",
      "tf.Tensor(\n",
      "[[1. 1.]\n",
      " [1. 1.]\n",
      " [1. 1.]], shape=(3, 2), dtype=float32)\n"
     ]
    }
   ],
   "source": [
    "print(tensor1)\n",
    "print(tensor2)\n",
    "print(tensor3)"
   ]
  },
  {
   "cell_type": "markdown",
   "metadata": {},
   "source": [
    "### Tipos de tensores en tensorflow\n",
    "\n",
    "Hay diferentes tipos de tensores, los siguientes son los más utilizados:\n",
    "\n",
    "- Variable\n",
    "Es el único tensor (de los que estamos viendo aquí) mutable, es decir, que puede cambiar su valor durante la ejecución. Por tanto, se utiliza este tipo de tensor cuando queremos almacenar datos que van a necesitar variar su valor durante la ejecución, como por ejemplo, los parámetros entrenables.\n",
    "\n",
    "- Constant\n",
    "En este tipo de tensor almacenaremos datos de tipo constante, es decir, valores que conocemos de antemano y que no cambiarán su valor durante la ejecución.\n",
    "\n",
    "- Placeholder\n",
    "Es el tipo de tensor en el que suelen almacenarse los datos de entrada o las etiquetas con las que vamos a entrenar o evaluar nuestros modelos. Definen un \"contenedor\" que rellenaremos justo antes de la ejecución con los datos que estemos utilizando en ese momento.\n",
    "\n",
    "- SparseTensor\n",
    "Es un tipo de tensor que se utiliza cuando tenemos matrices con muchos datos vacíos, ya que está diseñado para trabajar con este tipo de datos de forma eficiente.\n"
   ]
  },
  {
   "cell_type": "markdown",
   "metadata": {},
   "source": [
    "## Fuentes\n",
    "\n",
    "La mayoría de la información presentada aquí puede extenderse en el sitio oficial de TensorFlow:\n",
    "\n",
    "https://www.tensorflow.org/guide/tensor"
   ]
  }
 ],
 "metadata": {
  "anaconda-cloud": {},
  "kernelspec": {
   "display_name": "Python 3",
   "language": "python",
   "name": "python3"
  },
  "language_info": {
   "codemirror_mode": {
    "name": "ipython",
    "version": 3
   },
   "file_extension": ".py",
   "mimetype": "text/x-python",
   "name": "python",
   "nbconvert_exporter": "python",
   "pygments_lexer": "ipython3",
   "version": "3.6.10"
  }
 },
 "nbformat": 4,
 "nbformat_minor": 2
}
