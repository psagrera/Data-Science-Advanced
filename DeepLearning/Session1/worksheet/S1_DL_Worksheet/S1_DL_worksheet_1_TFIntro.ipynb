{
  "nbformat": 4,
  "nbformat_minor": 0,
  "metadata": {
    "anaconda-cloud": {},
    "kernelspec": {
      "display_name": "Python 3",
      "language": "python",
      "name": "python3"
    },
    "language_info": {
      "codemirror_mode": {
        "name": "ipython",
        "version": 3
      },
      "file_extension": ".py",
      "mimetype": "text/x-python",
      "name": "python",
      "nbconvert_exporter": "python",
      "pygments_lexer": "ipython3",
      "version": "3.8.5"
    },
    "colab": {
      "name": "S1_DL_worksheet_1_TFIntro.ipynb",
      "provenance": [],
      "toc_visible": true,
      "include_colab_link": true
    }
  },
  "cells": [
    {
      "cell_type": "markdown",
      "metadata": {
        "id": "view-in-github",
        "colab_type": "text"
      },
      "source": [
        "<a href=\"https://colab.research.google.com/github/psagrera/Data-Science-Advanced/blob/main/DeepLearning/Session1/worksheet/S1_DL_Worksheet/S1_DL_worksheet_1_TFIntro.ipynb\" target=\"_parent\"><img src=\"https://colab.research.google.com/assets/colab-badge.svg\" alt=\"Open In Colab\"/></a>"
      ]
    },
    {
      "cell_type": "code",
      "metadata": {
        "colab": {
          "base_uri": "https://localhost:8080/"
        },
        "id": "0JWE9M6_kSPP",
        "outputId": "7e4afe81-9585-4dd8-e3fc-7d13d1c36464"
      },
      "source": [
        "from google.colab import drive\n",
        "drive.mount('/content/drive')"
      ],
      "execution_count": 12,
      "outputs": [
        {
          "output_type": "stream",
          "text": [
            "Drive already mounted at /content/drive; to attempt to forcibly remount, call drive.mount(\"/content/drive\", force_remount=True).\n"
          ],
          "name": "stdout"
        }
      ]
    },
    {
      "cell_type": "markdown",
      "metadata": {
        "id": "Reav_PGBif1D"
      },
      "source": [
        "<img src=\"https://drive.google.com/uc?id=1zWG2FYCrmlZ8HmPjmgoIZikGW9MbrxMl\" style=\"height: 100px\">\n",
        "<center style=\"color:#888\">Módulo Data Science in IoT<br/>Asignatura Deep Learning</center>\n",
        "\n",
        "# Worksheet S1: Introducción a TensorFlow 2.0"
      ]
    },
    {
      "cell_type": "markdown",
      "metadata": {
        "id": "zCWjan_9if1J"
      },
      "source": [
        "## Objetivos\n",
        "\n",
        "El objetivo de este worksheet es comprender el funcionamiento básico de TensorFlow. TensorFlow es una libreria especializada en Machine Learning desarrollada por Google que se ha estandarizado tanto en el entorno empresarial como en el investigador. A lo largo de este worksheet vamos a asimilar los siguientes conceptos:\n",
        "- Instalación y configuración de TensorFlow\n",
        "- Representación de Tensores\n",
        "- Rango y forma de los Tensores\n",
        "- Tipos de Tensores en TensorFlow\n",
        "\n",
        "## Introducción\n",
        "\n",
        "TensorFlow es una librería muy completa que cubre todo el espectro de la inteligencia artificial, con especial énfasis en las redes neuronales. TensorFlow nace en 2015, y rápidamente se extiende en las universidades como la herramienta más potente para investigar redes neuronales profundas. Sin embargo, en las empresas, TensorFlow se combinaba con Keras, una librería de más alto nivel que simplificaba el desarrollo de proyectos basados en Deep Learning. En Septiembre de 2019, Google liberó TensorFlow 2.0, tras una modificación completa de la librería que combina lo mejor de TensorFlow y de Keras de forma nativa."
      ]
    },
    {
      "cell_type": "markdown",
      "metadata": {
        "id": "VGr3MWquif1K"
      },
      "source": [
        "## Instalación de TensorFlow\n",
        "\n",
        "### Google Colab\n",
        "\n",
        "Para el desarrollo de nuestras prácticas utilizaremos Google Colab, ya que nos va a permitir desarrollar ejecutar nuestras redes en una máquina mucho más potente facilitando el aprendizaje. Google Colab ya tiene instalado TensorFlow por defecto en su entorno de desarrollo.\n",
        "\n",
        "### Instalación de TensorFlow en nuestra máquina local\n",
        "\n",
        "La forma más sencilla de instalar TensorFlow en nuestra máquina local es mediante la utilización de PIP."
      ]
    },
    {
      "cell_type": "code",
      "metadata": {
        "id": "OtFWRHENif1K",
        "colab": {
          "base_uri": "https://localhost:8080/"
        },
        "outputId": "d47d2e52-3a1f-4595-8d62-ce2f09a99c2e"
      },
      "source": [
        "pip install tensorflow"
      ],
      "execution_count": 13,
      "outputs": [
        {
          "output_type": "stream",
          "text": [
            "Requirement already satisfied: tensorflow in /usr/local/lib/python3.7/dist-packages (2.4.1)\n",
            "Requirement already satisfied: astunparse~=1.6.3 in /usr/local/lib/python3.7/dist-packages (from tensorflow) (1.6.3)\n",
            "Requirement already satisfied: termcolor~=1.1.0 in /usr/local/lib/python3.7/dist-packages (from tensorflow) (1.1.0)\n",
            "Requirement already satisfied: gast==0.3.3 in /usr/local/lib/python3.7/dist-packages (from tensorflow) (0.3.3)\n",
            "Requirement already satisfied: absl-py~=0.10 in /usr/local/lib/python3.7/dist-packages (from tensorflow) (0.12.0)\n",
            "Requirement already satisfied: grpcio~=1.32.0 in /usr/local/lib/python3.7/dist-packages (from tensorflow) (1.32.0)\n",
            "Requirement already satisfied: google-pasta~=0.2 in /usr/local/lib/python3.7/dist-packages (from tensorflow) (0.2.0)\n",
            "Requirement already satisfied: protobuf>=3.9.2 in /usr/local/lib/python3.7/dist-packages (from tensorflow) (3.12.4)\n",
            "Requirement already satisfied: opt-einsum~=3.3.0 in /usr/local/lib/python3.7/dist-packages (from tensorflow) (3.3.0)\n",
            "Requirement already satisfied: six~=1.15.0 in /usr/local/lib/python3.7/dist-packages (from tensorflow) (1.15.0)\n",
            "Requirement already satisfied: wrapt~=1.12.1 in /usr/local/lib/python3.7/dist-packages (from tensorflow) (1.12.1)\n",
            "Requirement already satisfied: tensorboard~=2.4 in /usr/local/lib/python3.7/dist-packages (from tensorflow) (2.4.1)\n",
            "Requirement already satisfied: flatbuffers~=1.12.0 in /usr/local/lib/python3.7/dist-packages (from tensorflow) (1.12)\n",
            "Requirement already satisfied: numpy~=1.19.2 in /usr/local/lib/python3.7/dist-packages (from tensorflow) (1.19.5)\n",
            "Requirement already satisfied: keras-preprocessing~=1.1.2 in /usr/local/lib/python3.7/dist-packages (from tensorflow) (1.1.2)\n",
            "Requirement already satisfied: tensorflow-estimator<2.5.0,>=2.4.0 in /usr/local/lib/python3.7/dist-packages (from tensorflow) (2.4.0)\n",
            "Requirement already satisfied: h5py~=2.10.0 in /usr/local/lib/python3.7/dist-packages (from tensorflow) (2.10.0)\n",
            "Requirement already satisfied: typing-extensions~=3.7.4 in /usr/local/lib/python3.7/dist-packages (from tensorflow) (3.7.4.3)\n",
            "Requirement already satisfied: wheel~=0.35 in /usr/local/lib/python3.7/dist-packages (from tensorflow) (0.36.2)\n",
            "Requirement already satisfied: setuptools in /usr/local/lib/python3.7/dist-packages (from protobuf>=3.9.2->tensorflow) (54.2.0)\n",
            "Requirement already satisfied: google-auth<2,>=1.6.3 in /usr/local/lib/python3.7/dist-packages (from tensorboard~=2.4->tensorflow) (1.28.0)\n",
            "Requirement already satisfied: google-auth-oauthlib<0.5,>=0.4.1 in /usr/local/lib/python3.7/dist-packages (from tensorboard~=2.4->tensorflow) (0.4.3)\n",
            "Requirement already satisfied: requests<3,>=2.21.0 in /usr/local/lib/python3.7/dist-packages (from tensorboard~=2.4->tensorflow) (2.23.0)\n",
            "Requirement already satisfied: werkzeug>=0.11.15 in /usr/local/lib/python3.7/dist-packages (from tensorboard~=2.4->tensorflow) (1.0.1)\n",
            "Requirement already satisfied: markdown>=2.6.8 in /usr/local/lib/python3.7/dist-packages (from tensorboard~=2.4->tensorflow) (3.3.4)\n",
            "Requirement already satisfied: tensorboard-plugin-wit>=1.6.0 in /usr/local/lib/python3.7/dist-packages (from tensorboard~=2.4->tensorflow) (1.8.0)\n",
            "Requirement already satisfied: pyasn1-modules>=0.2.1 in /usr/local/lib/python3.7/dist-packages (from google-auth<2,>=1.6.3->tensorboard~=2.4->tensorflow) (0.2.8)\n",
            "Requirement already satisfied: cachetools<5.0,>=2.0.0 in /usr/local/lib/python3.7/dist-packages (from google-auth<2,>=1.6.3->tensorboard~=2.4->tensorflow) (4.2.1)\n",
            "Requirement already satisfied: rsa<5,>=3.1.4; python_version >= \"3.6\" in /usr/local/lib/python3.7/dist-packages (from google-auth<2,>=1.6.3->tensorboard~=2.4->tensorflow) (4.7.2)\n",
            "Requirement already satisfied: requests-oauthlib>=0.7.0 in /usr/local/lib/python3.7/dist-packages (from google-auth-oauthlib<0.5,>=0.4.1->tensorboard~=2.4->tensorflow) (1.3.0)\n",
            "Requirement already satisfied: chardet<4,>=3.0.2 in /usr/local/lib/python3.7/dist-packages (from requests<3,>=2.21.0->tensorboard~=2.4->tensorflow) (3.0.4)\n",
            "Requirement already satisfied: certifi>=2017.4.17 in /usr/local/lib/python3.7/dist-packages (from requests<3,>=2.21.0->tensorboard~=2.4->tensorflow) (2020.12.5)\n",
            "Requirement already satisfied: idna<3,>=2.5 in /usr/local/lib/python3.7/dist-packages (from requests<3,>=2.21.0->tensorboard~=2.4->tensorflow) (2.10)\n",
            "Requirement already satisfied: urllib3!=1.25.0,!=1.25.1,<1.26,>=1.21.1 in /usr/local/lib/python3.7/dist-packages (from requests<3,>=2.21.0->tensorboard~=2.4->tensorflow) (1.24.3)\n",
            "Requirement already satisfied: importlib-metadata; python_version < \"3.8\" in /usr/local/lib/python3.7/dist-packages (from markdown>=2.6.8->tensorboard~=2.4->tensorflow) (3.8.1)\n",
            "Requirement already satisfied: pyasn1<0.5.0,>=0.4.6 in /usr/local/lib/python3.7/dist-packages (from pyasn1-modules>=0.2.1->google-auth<2,>=1.6.3->tensorboard~=2.4->tensorflow) (0.4.8)\n",
            "Requirement already satisfied: oauthlib>=3.0.0 in /usr/local/lib/python3.7/dist-packages (from requests-oauthlib>=0.7.0->google-auth-oauthlib<0.5,>=0.4.1->tensorboard~=2.4->tensorflow) (3.1.0)\n",
            "Requirement already satisfied: zipp>=0.5 in /usr/local/lib/python3.7/dist-packages (from importlib-metadata; python_version < \"3.8\"->markdown>=2.6.8->tensorboard~=2.4->tensorflow) (3.4.1)\n"
          ],
          "name": "stdout"
        }
      ]
    },
    {
      "cell_type": "markdown",
      "metadata": {
        "id": "gyBntcWbif1L"
      },
      "source": [
        "En caso de que tengamos un sistema con una GPU capaz de correr código CUDA instalaremos la siguiente versión:"
      ]
    },
    {
      "cell_type": "code",
      "metadata": {
        "id": "0n3o2zduif1M"
      },
      "source": [
        "# $ pip install tensorflow-gpu"
      ],
      "execution_count": 14,
      "outputs": []
    },
    {
      "cell_type": "markdown",
      "metadata": {
        "id": "zkwfx85uif1M"
      },
      "source": [
        "Si utilizamos anaconda, para esta asignatura lo mejor será crear un nuevo environment e instalar:\n",
        "\n",
        "- Tensorflow version 2\n",
        "- Pandas\n",
        "- Matplotlib"
      ]
    },
    {
      "cell_type": "markdown",
      "metadata": {
        "id": "k8WOIchcif1M"
      },
      "source": [
        "## Importing TensorFlow\n",
        "\n",
        "Lo primero que tenemos que hacer para trabajar con tensorflow es importarlo. Esto permitirá a nuestra terminal python acceder a todas las clases, métodos y símbolos de TensorFlow. Normalmente se importa con el sobrenombre tf para hacer las instrucciones más cortas, de la siguiente forma:"
      ]
    },
    {
      "cell_type": "code",
      "metadata": {
        "id": "5rn8IjfFif1N"
      },
      "source": [
        "# %tensorflow_version 2.x # esta linea no es necesaria si estás fuera de colab"
      ],
      "execution_count": 15,
      "outputs": []
    },
    {
      "cell_type": "code",
      "metadata": {
        "id": "cMVuBN7Vif1N",
        "colab": {
          "base_uri": "https://localhost:8080/"
        },
        "outputId": "2c3f598a-3302-4ea3-bfe3-c881fb5f9b70"
      },
      "source": [
        "import tensorflow as tf  # importamos tensorflow\n",
        "print(tf.__version__) # nos aseguramos de estar usando la segunda versión"
      ],
      "execution_count": 16,
      "outputs": [
        {
          "output_type": "stream",
          "text": [
            "2.4.1\n"
          ],
          "name": "stdout"
        }
      ]
    },
    {
      "cell_type": "markdown",
      "metadata": {
        "id": "5iN482Ozif1N"
      },
      "source": [
        "## Tensores\n",
        "\n",
        "El tensor es la unidad básica de datos en TensorFlow. Un tensor es una generalización de vectores o matrices para cualquier dimensionalidad. Es decir, un tensor es un array con n dimensiones. Los tensores son el objeto principal que se manipula y transmite a lo largo de un programa en tensorflow. Cada tensor, representa una operación o unos datos que en algún momento producirán un valor.\n",
        "\n",
        "El código en TensorFlow funciona construyendo un grafo de tensores se relacionan entre si formando nuestros modelos.\n",
        "\n",
        "Cada tensor tiene un \"data type\", como por ejemplo float32, int32 o string.\n",
        "\n",
        "Al igual que sucede con los vectores o las matrices, los tensores pueden ser objeto de operaciones como la suma, la resta, el producto, etc.\n",
        "\n",
        "A continuación vamos a ver cómo se representan y manipulan los tensores.\n",
        "\n",
        "### Definiendo Tensores\n",
        "\n",
        "Vamos a ver ejemplos de definición de distintos tensore.\n",
        "\n",
        "Símplemente tenemos que definir el valor del tensor y su tipo. Normalmente trabajaremos con tensores numéricos."
      ]
    },
    {
      "cell_type": "code",
      "metadata": {
        "id": "M4mSrKb5if1O"
      },
      "source": [
        "string = tf.Variable(\"tensor de tipo string\", tf.string) \n",
        "number = tf.Variable(254, tf.int16)\n",
        "floating = tf.Variable(3.657, tf.float64)\n",
        "t1 = 3"
      ],
      "execution_count": 17,
      "outputs": []
    },
    {
      "cell_type": "markdown",
      "metadata": {
        "id": "IvKbZbu-if1O"
      },
      "source": [
        "### Rango de un Tensor\n",
        "\n",
        "El rango de un tensor es sú número de dimensiones. En inglés se define utilizando \"rank\" o \"degree\". Todos los tensores que hemos creado previamente son tensores de rango 0, es decir, escalares.\n",
        "\n",
        "Vamos a ver tensores de un rango superior:"
      ]
    },
    {
      "cell_type": "code",
      "metadata": {
        "scrolled": true,
        "id": "YggrXMyFif1O"
      },
      "source": [
        "rank1_tensor = tf.Variable([\"string1\"], tf.string) \n",
        "rank2_tensor = tf.Variable([[\"ok\", \"test\"], [\"yes\", \"test\"]], tf.string)\n",
        "t2 = [1., 2., 3.]\n",
        "t3 = [[1., 2., 3.], [4., 5., 6.]]"
      ],
      "execution_count": 18,
      "outputs": []
    },
    {
      "cell_type": "markdown",
      "metadata": {
        "id": "s6JXInmIif1P"
      },
      "source": [
        "Para determinar el rango de un tensor podemos utilizar la función tf.rank():"
      ]
    },
    {
      "cell_type": "code",
      "metadata": {
        "id": "nL-CobTGif1P",
        "colab": {
          "base_uri": "https://localhost:8080/"
        },
        "outputId": "65b1c2a4-ff6c-4bbc-bc3b-27e9eb69e136"
      },
      "source": [
        "print(tf.rank(rank2_tensor))"
      ],
      "execution_count": 19,
      "outputs": [
        {
          "output_type": "stream",
          "text": [
            "tf.Tensor(2, shape=(), dtype=int32)\n"
          ],
          "name": "stdout"
        }
      ]
    },
    {
      "cell_type": "markdown",
      "metadata": {
        "id": "8HAJZZuVif1P"
      },
      "source": [
        "### Shape de un tensor\n",
        "\n",
        "Los tensores, además de tener un rango, tienen también unas dimensiones, que podemos ver con la función tensor.shape"
      ]
    },
    {
      "cell_type": "code",
      "metadata": {
        "id": "0Yk5M8tGif1Q",
        "colab": {
          "base_uri": "https://localhost:8080/"
        },
        "outputId": "56524974-0ebb-4d1d-fad5-15ac30a07da8"
      },
      "source": [
        "rank2_tensor.shape"
      ],
      "execution_count": 20,
      "outputs": [
        {
          "output_type": "execute_result",
          "data": {
            "text/plain": [
              "TensorShape([2, 2])"
            ]
          },
          "metadata": {
            "tags": []
          },
          "execution_count": 20
        }
      ]
    },
    {
      "cell_type": "markdown",
      "metadata": {
        "id": "w-WDDl8gif1Q"
      },
      "source": [
        "Los tensores pueden cambiar de dimensionalidad utilizando la función tf.reshape de forma similar a lo que hemos visto con el paquete numpy:"
      ]
    },
    {
      "cell_type": "code",
      "metadata": {
        "id": "MUiEnaY0if1Q"
      },
      "source": [
        "tensor1 = tf.ones([1,2,3])  # tf.ones() crea un tensor de tamaño [1,2,3] lleno de unos\n",
        "tensor2 = tf.reshape(tensor1, [2,3,1])  # hace un reshape a [2,3,1]\n",
        "tensor3 = tf.reshape(tensor2, [3, -1])  # -1 es un comodín que deja espacio a tf para que calcule la dimensión por si mismo\n",
        "            "
      ],
      "execution_count": 21,
      "outputs": []
    },
    {
      "cell_type": "markdown",
      "metadata": {
        "id": "3ACEiPo0if1Q"
      },
      "source": [
        "El número de elementos al hacer un reshape tiene que ser el mismo que el original, de lo contrario fallará\n",
        "\n",
        "Vamos a ver cómo han quedado nuestros tensores"
      ]
    },
    {
      "cell_type": "code",
      "metadata": {
        "id": "k8lNP3O_if1Q",
        "colab": {
          "base_uri": "https://localhost:8080/"
        },
        "outputId": "0f153829-ebb3-4236-d2e6-153082089cd1"
      },
      "source": [
        "print(tensor1)\n",
        "print(tensor2)\n",
        "print(tensor3)"
      ],
      "execution_count": 22,
      "outputs": [
        {
          "output_type": "stream",
          "text": [
            "tf.Tensor(\n",
            "[[[1. 1. 1.]\n",
            "  [1. 1. 1.]]], shape=(1, 2, 3), dtype=float32)\n",
            "tf.Tensor(\n",
            "[[[1.]\n",
            "  [1.]\n",
            "  [1.]]\n",
            "\n",
            " [[1.]\n",
            "  [1.]\n",
            "  [1.]]], shape=(2, 3, 1), dtype=float32)\n",
            "tf.Tensor(\n",
            "[[1. 1.]\n",
            " [1. 1.]\n",
            " [1. 1.]], shape=(3, 2), dtype=float32)\n"
          ],
          "name": "stdout"
        }
      ]
    },
    {
      "cell_type": "markdown",
      "metadata": {
        "id": "Oq0iwR6cif1R"
      },
      "source": [
        "### Tipos de tensores en tensorflow\n",
        "\n",
        "Hay diferentes tipos de tensores, los siguientes son los más utilizados:\n",
        "\n",
        "- Variable\n",
        "Es el único tensor (de los que estamos viendo aquí) mutable, es decir, que puede cambiar su valor durante la ejecución. Por tanto, se utiliza este tipo de tensor cuando queremos almacenar datos que van a necesitar variar su valor durante la ejecución, como por ejemplo, los parámetros entrenables.\n",
        "\n",
        "- Constant\n",
        "En este tipo de tensor almacenaremos datos de tipo constante, es decir, valores que conocemos de antemano y que no cambiarán su valor durante la ejecución.\n",
        "\n",
        "- Placeholder\n",
        "Es el tipo de tensor en el que suelen almacenarse los datos de entrada o las etiquetas con las que vamos a entrenar o evaluar nuestros modelos. Definen un \"contenedor\" que rellenaremos justo antes de la ejecución con los datos que estemos utilizando en ese momento.\n",
        "\n",
        "- SparseTensor\n",
        "Es un tipo de tensor que se utiliza cuando tenemos matrices con muchos datos vacíos, ya que está diseñado para trabajar con este tipo de datos de forma eficiente.\n"
      ]
    },
    {
      "cell_type": "markdown",
      "metadata": {
        "id": "3HjDdtalif1R"
      },
      "source": [
        "## Fuentes\n",
        "\n",
        "La mayoría de la información presentada aquí puede extenderse en el sitio oficial de TensorFlow:\n",
        "\n",
        "https://www.tensorflow.org/guide/tensor"
      ]
    }
  ]
}